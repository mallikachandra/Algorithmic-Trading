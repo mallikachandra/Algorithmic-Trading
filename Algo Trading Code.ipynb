{
 "cells": [
  {
   "cell_type": "code",
   "execution_count": 1,
   "id": "67be150f",
   "metadata": {},
   "outputs": [],
   "source": [
    "import yfinance as yf\n",
    "import matplotlib.pyplot as plt\n",
    "import pandas as pd\n",
    "import numpy as np\n",
    "import datetime\n",
    "import io\n",
    "import datetime\n",
    "import matplotlib.lines as mlines\n",
    "from fredapi import Fred\n",
    "import statsmodels.formula.api as smf\n",
    "import datetime"
   ]
  },
  {
   "cell_type": "code",
   "execution_count": 185,
   "id": "62cbd584",
   "metadata": {},
   "outputs": [
    {
     "data": {
      "text/html": [
       "<div>\n",
       "<style scoped>\n",
       "    .dataframe tbody tr th:only-of-type {\n",
       "        vertical-align: middle;\n",
       "    }\n",
       "\n",
       "    .dataframe tbody tr th {\n",
       "        vertical-align: top;\n",
       "    }\n",
       "\n",
       "    .dataframe thead th {\n",
       "        text-align: right;\n",
       "    }\n",
       "</style>\n",
       "<table border=\"1\" class=\"dataframe\">\n",
       "  <thead>\n",
       "    <tr style=\"text-align: right;\">\n",
       "      <th></th>\n",
       "      <th>I_US</th>\n",
       "      <th>I_AU</th>\n",
       "      <th>AUD</th>\n",
       "    </tr>\n",
       "    <tr>\n",
       "      <th>Date</th>\n",
       "      <th></th>\n",
       "      <th></th>\n",
       "      <th></th>\n",
       "    </tr>\n",
       "  </thead>\n",
       "  <tbody>\n",
       "    <tr>\n",
       "      <th>1980-01-01</th>\n",
       "      <td>13.39</td>\n",
       "      <td>10.03</td>\n",
       "      <td>1.1067</td>\n",
       "    </tr>\n",
       "    <tr>\n",
       "      <th>1980-02-01</th>\n",
       "      <td>14.30</td>\n",
       "      <td>10.06</td>\n",
       "      <td>1.0970</td>\n",
       "    </tr>\n",
       "    <tr>\n",
       "      <th>1980-03-01</th>\n",
       "      <td>17.57</td>\n",
       "      <td>11.47</td>\n",
       "      <td>1.0818</td>\n",
       "    </tr>\n",
       "    <tr>\n",
       "      <th>1980-04-01</th>\n",
       "      <td>16.14</td>\n",
       "      <td>13.28</td>\n",
       "      <td>1.1150</td>\n",
       "    </tr>\n",
       "    <tr>\n",
       "      <th>1980-05-01</th>\n",
       "      <td>9.79</td>\n",
       "      <td>13.83</td>\n",
       "      <td>1.1428</td>\n",
       "    </tr>\n",
       "    <tr>\n",
       "      <th>...</th>\n",
       "      <td>...</td>\n",
       "      <td>...</td>\n",
       "      <td>...</td>\n",
       "    </tr>\n",
       "    <tr>\n",
       "      <th>2022-08-01</th>\n",
       "      <td>2.76</td>\n",
       "      <td>2.31</td>\n",
       "      <td>0.6866</td>\n",
       "    </tr>\n",
       "    <tr>\n",
       "      <th>2022-09-01</th>\n",
       "      <td>3.21</td>\n",
       "      <td>2.76</td>\n",
       "      <td>0.6437</td>\n",
       "    </tr>\n",
       "    <tr>\n",
       "      <th>2022-10-01</th>\n",
       "      <td>3.85</td>\n",
       "      <td>2.95</td>\n",
       "      <td>0.6394</td>\n",
       "    </tr>\n",
       "    <tr>\n",
       "      <th>2022-11-01</th>\n",
       "      <td>4.46</td>\n",
       "      <td>3.06</td>\n",
       "      <td>0.6717</td>\n",
       "    </tr>\n",
       "    <tr>\n",
       "      <th>2022-12-01</th>\n",
       "      <td>4.51</td>\n",
       "      <td>3.17</td>\n",
       "      <td>0.6805</td>\n",
       "    </tr>\n",
       "  </tbody>\n",
       "</table>\n",
       "<p>516 rows × 3 columns</p>\n",
       "</div>"
      ],
      "text/plain": [
       "             I_US   I_AU     AUD\n",
       "Date                            \n",
       "1980-01-01  13.39  10.03  1.1067\n",
       "1980-02-01  14.30  10.06  1.0970\n",
       "1980-03-01  17.57  11.47  1.0818\n",
       "1980-04-01  16.14  13.28  1.1150\n",
       "1980-05-01   9.79  13.83  1.1428\n",
       "...           ...    ...     ...\n",
       "2022-08-01   2.76   2.31  0.6866\n",
       "2022-09-01   3.21   2.76  0.6437\n",
       "2022-10-01   3.85   2.95  0.6394\n",
       "2022-11-01   4.46   3.06  0.6717\n",
       "2022-12-01   4.51   3.17  0.6805\n",
       "\n",
       "[516 rows x 3 columns]"
      ]
     },
     "execution_count": 185,
     "metadata": {},
     "output_type": "execute_result"
    }
   ],
   "source": [
    "interest = pd.read_csv('final.csv', index_col = 0, parse_dates = True)\n",
    "interest.columns = [\"I_US\", \"I_AU\", \"AUD\"]\n",
    "interest"
   ]
  },
  {
   "cell_type": "code",
   "execution_count": 3,
   "id": "ab743f0f",
   "metadata": {},
   "outputs": [
    {
     "data": {
      "text/plain": [
       "Text(0.5, 1.0, 'AU Interbank Rate')"
      ]
     },
     "execution_count": 3,
     "metadata": {},
     "output_type": "execute_result"
    },
    {
     "data": {
      "image/png": "[encoded data removed]",
      "text/plain": [
       "<Figure size 432x288 with 1 Axes>"
      ]
     },
     "metadata": {
      "needs_background": "light"
     },
     "output_type": "display_data"
    }
   ],
   "source": [
    "interest[\"I_AU\"].dropna().plot()\n",
    "plt.title(\"AU Interbank Rate\")"
   ]
  },
  {
   "cell_type": "code",
   "execution_count": 186,
   "id": "94f6ac03",
   "metadata": {},
   "outputs": [
    {
     "data": {
      "text/plain": [
       "<AxesSubplot:title={'center':'Interest Rate Differential With Scaling'}, xlabel='Date'>"
      ]
     },
     "execution_count": 186,
     "metadata": {},
     "output_type": "execute_result"
    },
    {
     "data": {
      "image/png": "[encoded data removed]",
      "text/plain": [
       "<Figure size 432x288 with 1 Axes>"
      ]
     },
     "metadata": {},
     "output_type": "display_data"
    }
   ],
   "source": [
    "# Implement min max scaling in a function\n",
    "def scale(x):\n",
    "    return (x-x.min())/(x.max()-x.min())\n",
    "\n",
    "# Apply Scaling\n",
    "interest[\"ir_diff\"] = scale(interest[\"I_US\"]) - scale(interest[\"I_AU\"])\n",
    "interest.dropna(inplace= True)\n",
    "\n",
    "plt.title(\"Interest Rate Differential With Scaling\")\n",
    "interest[\"ir_diff\"].plot()"
   ]
  },
  {
   "cell_type": "code",
   "execution_count": 5,
   "id": "357cc67d",
   "metadata": {},
   "outputs": [],
   "source": [
    "# specify candidate values for hyperparameters\n",
    "ks = np.linspace(.01, .99, 10)\n",
    "zs = np.linspace(.01, 3, 10)\n",
    "ws = np.arange(5, 30, 5)\n",
    "# hs =  np.arange(1,120, 32)\n",
    "# hs = np.array([1, 3, 6, 12, 24])\n",
    "hs = 6\n",
    "\n",
    "import itertools as it\n",
    "# build a grid with all possible hyperparameters\n",
    "grid = np.array(np.meshgrid(ks,zs, ws, hs)).T.reshape(-1,4)\n"
   ]
  },
  {
   "cell_type": "code",
   "execution_count": 187,
   "id": "f9b8638b",
   "metadata": {},
   "outputs": [],
   "source": [
    "interest[\"Returns\"] = np.log(interest[\"AUD\"]).diff()"
   ]
  },
  {
   "cell_type": "code",
   "execution_count": 7,
   "id": "b1a976b8",
   "metadata": {},
   "outputs": [
    {
     "name": "stderr",
     "output_type": "stream",
     "text": [
      "/var/folders/32/6tv1kbfx7jn9vst5h14cqq4r0000gn/T/ipykernel_83888/1344092893.py:33: FutureWarning: The frame.append method is deprecated and will be removed from pandas in a future version. Use pandas.concat instead.\n",
      "  storage = storage.append({\"k\":k, \"z\":z, \"w\":w, \"h\":h,\n"
     ]
    },
    {
     "name": "stdout",
     "output_type": "stream",
     "text": [
      "0\n"
     ]
    },
    {
     "name": "stderr",
     "output_type": "stream",
     "text": [
      "/var/folders/32/6tv1kbfx7jn9vst5h14cqq4r0000gn/T/ipykernel_83888/1344092893.py:33: FutureWarning: The frame.append method is deprecated and will be removed from pandas in a future version. Use pandas.concat instead.\n",
      "  storage = storage.append({\"k\":k, \"z\":z, \"w\":w, \"h\":h,\n"
     ]
    },
    {
     "name": "stdout",
     "output_type": "stream",
     "text": [
      "1\n"
     ]
    },
    {
     "name": "stderr",
     "output_type": "stream",
     "text": [
      "/var/folders/32/6tv1kbfx7jn9vst5h14cqq4r0000gn/T/ipykernel_83888/1344092893.py:33: FutureWarning: The frame.append method is deprecated and will be removed from pandas in a future version. Use pandas.concat instead.\n",
      "  storage = storage.append({\"k\":k, \"z\":z, \"w\":w, \"h\":h,\n"
     ]
    },
    {
     "name": "stdout",
     "output_type": "stream",
     "text": [
      "2\n"
     ]
    },
    {
     "name": "stderr",
     "output_type": "stream",
     "text": [
      "/var/folders/32/6tv1kbfx7jn9vst5h14cqq4r0000gn/T/ipykernel_83888/1344092893.py:33: FutureWarning: The frame.append method is deprecated and will be removed from pandas in a future version. Use pandas.concat instead.\n",
      "  storage = storage.append({\"k\":k, \"z\":z, \"w\":w, \"h\":h,\n"
     ]
    },
    {
     "name": "stdout",
     "output_type": "stream",
     "text": [
      "3\n"
     ]
    },
    {
     "name": "stderr",
     "output_type": "stream",
     "text": [
      "/var/folders/32/6tv1kbfx7jn9vst5h14cqq4r0000gn/T/ipykernel_83888/1344092893.py:33: FutureWarning: The frame.append method is deprecated and will be removed from pandas in a future version. Use pandas.concat instead.\n",
      "  storage = storage.append({\"k\":k, \"z\":z, \"w\":w, \"h\":h,\n"
     ]
    },
    {
     "name": "stdout",
     "output_type": "stream",
     "text": [
      "4\n"
     ]
    },
    {
     "name": "stderr",
     "output_type": "stream",
     "text": [
      "/var/folders/32/6tv1kbfx7jn9vst5h14cqq4r0000gn/T/ipykernel_83888/1344092893.py:33: FutureWarning: The frame.append method is deprecated and will be removed from pandas in a future version. Use pandas.concat instead.\n",
      "  storage = storage.append({\"k\":k, \"z\":z, \"w\":w, \"h\":h,\n"
     ]
    },
    {
     "name": "stdout",
     "output_type": "stream",
     "text": [
      "5\n"
     ]
    },
    {
     "name": "stderr",
     "output_type": "stream",
     "text": [
      "/var/folders/32/6tv1kbfx7jn9vst5h14cqq4r0000gn/T/ipykernel_83888/1344092893.py:33: FutureWarning: The frame.append method is deprecated and will be removed from pandas in a future version. Use pandas.concat instead.\n",
      "  storage = storage.append({\"k\":k, \"z\":z, \"w\":w, \"h\":h,\n"
     ]
    },
    {
     "name": "stdout",
     "output_type": "stream",
     "text": [
      "6\n"
     ]
    },
    {
     "name": "stderr",
     "output_type": "stream",
     "text": [
      "/var/folders/32/6tv1kbfx7jn9vst5h14cqq4r0000gn/T/ipykernel_83888/1344092893.py:33: FutureWarning: The frame.append method is deprecated and will be removed from pandas in a future version. Use pandas.concat instead.\n",
      "  storage = storage.append({\"k\":k, \"z\":z, \"w\":w, \"h\":h,\n"
     ]
    },
    {
     "name": "stdout",
     "output_type": "stream",
     "text": [
      "7\n"
     ]
    },
    {
     "name": "stderr",
     "output_type": "stream",
     "text": [
      "/var/folders/32/6tv1kbfx7jn9vst5h14cqq4r0000gn/T/ipykernel_83888/1344092893.py:33: FutureWarning: The frame.append method is deprecated and will be removed from pandas in a future version. Use pandas.concat instead.\n",
      "  storage = storage.append({\"k\":k, \"z\":z, \"w\":w, \"h\":h,\n"
     ]
    },
    {
     "name": "stdout",
     "output_type": "stream",
     "text": [
      "8\n"
     ]
    },
    {
     "name": "stderr",
     "output_type": "stream",
     "text": [
      "/var/folders/32/6tv1kbfx7jn9vst5h14cqq4r0000gn/T/ipykernel_83888/1344092893.py:33: FutureWarning: The frame.append method is deprecated and will be removed from pandas in a future version. Use pandas.concat instead.\n",
      "  storage = storage.append({\"k\":k, \"z\":z, \"w\":w, \"h\":h,\n"
     ]
    },
    {
     "name": "stdout",
     "output_type": "stream",
     "text": [
      "9\n"
     ]
    },
    {
     "name": "stderr",
     "output_type": "stream",
     "text": [
      "/var/folders/32/6tv1kbfx7jn9vst5h14cqq4r0000gn/T/ipykernel_83888/1344092893.py:33: FutureWarning: The frame.append method is deprecated and will be removed from pandas in a future version. Use pandas.concat instead.\n",
      "  storage = storage.append({\"k\":k, \"z\":z, \"w\":w, \"h\":h,\n"
     ]
    },
    {
     "name": "stdout",
     "output_type": "stream",
     "text": [
      "10\n"
     ]
    },
    {
     "name": "stderr",
     "output_type": "stream",
     "text": [
      "/var/folders/32/6tv1kbfx7jn9vst5h14cqq4r0000gn/T/ipykernel_83888/1344092893.py:33: FutureWarning: The frame.append method is deprecated and will be removed from pandas in a future version. Use pandas.concat instead.\n",
      "  storage = storage.append({\"k\":k, \"z\":z, \"w\":w, \"h\":h,\n"
     ]
    },
    {
     "name": "stdout",
     "output_type": "stream",
     "text": [
      "11\n"
     ]
    },
    {
     "name": "stderr",
     "output_type": "stream",
     "text": [
      "/var/folders/32/6tv1kbfx7jn9vst5h14cqq4r0000gn/T/ipykernel_83888/1344092893.py:33: FutureWarning: The frame.append method is deprecated and will be removed from pandas in a future version. Use pandas.concat instead.\n",
      "  storage = storage.append({\"k\":k, \"z\":z, \"w\":w, \"h\":h,\n"
     ]
    },
    {
     "name": "stdout",
     "output_type": "stream",
     "text": [
      "12\n"
     ]
    },
    {
     "name": "stderr",
     "output_type": "stream",
     "text": [
      "/var/folders/32/6tv1kbfx7jn9vst5h14cqq4r0000gn/T/ipykernel_83888/1344092893.py:33: FutureWarning: The frame.append method is deprecated and will be removed from pandas in a future version. Use pandas.concat instead.\n",
      "  storage = storage.append({\"k\":k, \"z\":z, \"w\":w, \"h\":h,\n"
     ]
    },
    {
     "name": "stdout",
     "output_type": "stream",
     "text": [
      "13\n"
     ]
    },
    {
     "name": "stderr",
     "output_type": "stream",
     "text": [
      "/var/folders/32/6tv1kbfx7jn9vst5h14cqq4r0000gn/T/ipykernel_83888/1344092893.py:33: FutureWarning: The frame.append method is deprecated and will be removed from pandas in a future version. Use pandas.concat instead.\n",
      "  storage = storage.append({\"k\":k, \"z\":z, \"w\":w, \"h\":h,\n"
     ]
    },
    {
     "name": "stdout",
     "output_type": "stream",
     "text": [
      "14\n"
     ]
    },
    {
     "name": "stderr",
     "output_type": "stream",
     "text": [
      "/var/folders/32/6tv1kbfx7jn9vst5h14cqq4r0000gn/T/ipykernel_83888/1344092893.py:33: FutureWarning: The frame.append method is deprecated and will be removed from pandas in a future version. Use pandas.concat instead.\n",
      "  storage = storage.append({\"k\":k, \"z\":z, \"w\":w, \"h\":h,\n"
     ]
    },
    {
     "name": "stdout",
     "output_type": "stream",
     "text": [
      "15\n"
     ]
    },
    {
     "name": "stderr",
     "output_type": "stream",
     "text": [
      "/var/folders/32/6tv1kbfx7jn9vst5h14cqq4r0000gn/T/ipykernel_83888/1344092893.py:33: FutureWarning: The frame.append method is deprecated and will be removed from pandas in a future version. Use pandas.concat instead.\n",
      "  storage = storage.append({\"k\":k, \"z\":z, \"w\":w, \"h\":h,\n"
     ]
    },
    {
     "name": "stdout",
     "output_type": "stream",
     "text": [
      "16\n"
     ]
    },
    {
     "name": "stderr",
     "output_type": "stream",
     "text": [
      "/var/folders/32/6tv1kbfx7jn9vst5h14cqq4r0000gn/T/ipykernel_83888/1344092893.py:33: FutureWarning: The frame.append method is deprecated and will be removed from pandas in a future version. Use pandas.concat instead.\n",
      "  storage = storage.append({\"k\":k, \"z\":z, \"w\":w, \"h\":h,\n"
     ]
    },
    {
     "name": "stdout",
     "output_type": "stream",
     "text": [
      "17\n"
     ]
    },
    {
     "name": "stderr",
     "output_type": "stream",
     "text": [
      "/var/folders/32/6tv1kbfx7jn9vst5h14cqq4r0000gn/T/ipykernel_83888/1344092893.py:33: FutureWarning: The frame.append method is deprecated and will be removed from pandas in a future version. Use pandas.concat instead.\n",
      "  storage = storage.append({\"k\":k, \"z\":z, \"w\":w, \"h\":h,\n"
     ]
    },
    {
     "name": "stdout",
     "output_type": "stream",
     "text": [
      "18\n"
     ]
    },
    {
     "name": "stderr",
     "output_type": "stream",
     "text": [
      "/var/folders/32/6tv1kbfx7jn9vst5h14cqq4r0000gn/T/ipykernel_83888/1344092893.py:33: FutureWarning: The frame.append method is deprecated and will be removed from pandas in a future version. Use pandas.concat instead.\n",
      "  storage = storage.append({\"k\":k, \"z\":z, \"w\":w, \"h\":h,\n"
     ]
    },
    {
     "name": "stdout",
     "output_type": "stream",
     "text": [
      "19\n"
     ]
    },
    {
     "name": "stderr",
     "output_type": "stream",
     "text": [
      "/var/folders/32/6tv1kbfx7jn9vst5h14cqq4r0000gn/T/ipykernel_83888/1344092893.py:33: FutureWarning: The frame.append method is deprecated and will be removed from pandas in a future version. Use pandas.concat instead.\n",
      "  storage = storage.append({\"k\":k, \"z\":z, \"w\":w, \"h\":h,\n"
     ]
    },
    {
     "name": "stdout",
     "output_type": "stream",
     "text": [
      "20\n"
     ]
    },
    {
     "name": "stderr",
     "output_type": "stream",
     "text": [
      "/var/folders/32/6tv1kbfx7jn9vst5h14cqq4r0000gn/T/ipykernel_83888/1344092893.py:33: FutureWarning: The frame.append method is deprecated and will be removed from pandas in a future version. Use pandas.concat instead.\n",
      "  storage = storage.append({\"k\":k, \"z\":z, \"w\":w, \"h\":h,\n"
     ]
    },
    {
     "name": "stdout",
     "output_type": "stream",
     "text": [
      "21\n"
     ]
    },
    {
     "name": "stderr",
     "output_type": "stream",
     "text": [
      "/var/folders/32/6tv1kbfx7jn9vst5h14cqq4r0000gn/T/ipykernel_83888/1344092893.py:33: FutureWarning: The frame.append method is deprecated and will be removed from pandas in a future version. Use pandas.concat instead.\n",
      "  storage = storage.append({\"k\":k, \"z\":z, \"w\":w, \"h\":h,\n"
     ]
    },
    {
     "name": "stdout",
     "output_type": "stream",
     "text": [
      "22\n"
     ]
    },
    {
     "name": "stderr",
     "output_type": "stream",
     "text": [
      "/var/folders/32/6tv1kbfx7jn9vst5h14cqq4r0000gn/T/ipykernel_83888/1344092893.py:33: FutureWarning: The frame.append method is deprecated and will be removed from pandas in a future version. Use pandas.concat instead.\n",
      "  storage = storage.append({\"k\":k, \"z\":z, \"w\":w, \"h\":h,\n"
     ]
    },
    {
     "name": "stdout",
     "output_type": "stream",
     "text": [
      "23\n"
     ]
    },
    {
     "name": "stderr",
     "output_type": "stream",
     "text": [
      "/var/folders/32/6tv1kbfx7jn9vst5h14cqq4r0000gn/T/ipykernel_83888/1344092893.py:33: FutureWarning: The frame.append method is deprecated and will be removed from pandas in a future version. Use pandas.concat instead.\n",
      "  storage = storage.append({\"k\":k, \"z\":z, \"w\":w, \"h\":h,\n"
     ]
    },
    {
     "name": "stdout",
     "output_type": "stream",
     "text": [
      "24\n"
     ]
    },
    {
     "name": "stderr",
     "output_type": "stream",
     "text": [
      "/var/folders/32/6tv1kbfx7jn9vst5h14cqq4r0000gn/T/ipykernel_83888/1344092893.py:33: FutureWarning: The frame.append method is deprecated and will be removed from pandas in a future version. Use pandas.concat instead.\n",
      "  storage = storage.append({\"k\":k, \"z\":z, \"w\":w, \"h\":h,\n"
     ]
    },
    {
     "name": "stdout",
     "output_type": "stream",
     "text": [
      "25\n"
     ]
    },
    {
     "name": "stderr",
     "output_type": "stream",
     "text": [
      "/var/folders/32/6tv1kbfx7jn9vst5h14cqq4r0000gn/T/ipykernel_83888/1344092893.py:33: FutureWarning: The frame.append method is deprecated and will be removed from pandas in a future version. Use pandas.concat instead.\n",
      "  storage = storage.append({\"k\":k, \"z\":z, \"w\":w, \"h\":h,\n"
     ]
    },
    {
     "name": "stdout",
     "output_type": "stream",
     "text": [
      "26\n"
     ]
    },
    {
     "name": "stderr",
     "output_type": "stream",
     "text": [
      "/var/folders/32/6tv1kbfx7jn9vst5h14cqq4r0000gn/T/ipykernel_83888/1344092893.py:33: FutureWarning: The frame.append method is deprecated and will be removed from pandas in a future version. Use pandas.concat instead.\n",
      "  storage = storage.append({\"k\":k, \"z\":z, \"w\":w, \"h\":h,\n"
     ]
    },
    {
     "name": "stdout",
     "output_type": "stream",
     "text": [
      "27\n"
     ]
    },
    {
     "name": "stderr",
     "output_type": "stream",
     "text": [
      "/var/folders/32/6tv1kbfx7jn9vst5h14cqq4r0000gn/T/ipykernel_83888/1344092893.py:33: FutureWarning: The frame.append method is deprecated and will be removed from pandas in a future version. Use pandas.concat instead.\n",
      "  storage = storage.append({\"k\":k, \"z\":z, \"w\":w, \"h\":h,\n"
     ]
    },
    {
     "name": "stdout",
     "output_type": "stream",
     "text": [
      "28\n"
     ]
    },
    {
     "name": "stderr",
     "output_type": "stream",
     "text": [
      "/var/folders/32/6tv1kbfx7jn9vst5h14cqq4r0000gn/T/ipykernel_83888/1344092893.py:33: FutureWarning: The frame.append method is deprecated and will be removed from pandas in a future version. Use pandas.concat instead.\n",
      "  storage = storage.append({\"k\":k, \"z\":z, \"w\":w, \"h\":h,\n"
     ]
    },
    {
     "name": "stdout",
     "output_type": "stream",
     "text": [
      "29\n"
     ]
    },
    {
     "name": "stderr",
     "output_type": "stream",
     "text": [
      "/var/folders/32/6tv1kbfx7jn9vst5h14cqq4r0000gn/T/ipykernel_83888/1344092893.py:33: FutureWarning: The frame.append method is deprecated and will be removed from pandas in a future version. Use pandas.concat instead.\n",
      "  storage = storage.append({\"k\":k, \"z\":z, \"w\":w, \"h\":h,\n"
     ]
    },
    {
     "name": "stdout",
     "output_type": "stream",
     "text": [
      "30\n"
     ]
    },
    {
     "name": "stderr",
     "output_type": "stream",
     "text": [
      "/var/folders/32/6tv1kbfx7jn9vst5h14cqq4r0000gn/T/ipykernel_83888/1344092893.py:33: FutureWarning: The frame.append method is deprecated and will be removed from pandas in a future version. Use pandas.concat instead.\n",
      "  storage = storage.append({\"k\":k, \"z\":z, \"w\":w, \"h\":h,\n"
     ]
    },
    {
     "name": "stdout",
     "output_type": "stream",
     "text": [
      "31\n"
     ]
    },
    {
     "name": "stderr",
     "output_type": "stream",
     "text": [
      "/var/folders/32/6tv1kbfx7jn9vst5h14cqq4r0000gn/T/ipykernel_83888/1344092893.py:33: FutureWarning: The frame.append method is deprecated and will be removed from pandas in a future version. Use pandas.concat instead.\n",
      "  storage = storage.append({\"k\":k, \"z\":z, \"w\":w, \"h\":h,\n"
     ]
    },
    {
     "name": "stdout",
     "output_type": "stream",
     "text": [
      "32\n"
     ]
    },
    {
     "name": "stderr",
     "output_type": "stream",
     "text": [
      "/var/folders/32/6tv1kbfx7jn9vst5h14cqq4r0000gn/T/ipykernel_83888/1344092893.py:33: FutureWarning: The frame.append method is deprecated and will be removed from pandas in a future version. Use pandas.concat instead.\n",
      "  storage = storage.append({\"k\":k, \"z\":z, \"w\":w, \"h\":h,\n"
     ]
    },
    {
     "name": "stdout",
     "output_type": "stream",
     "text": [
      "33\n"
     ]
    },
    {
     "name": "stderr",
     "output_type": "stream",
     "text": [
      "/var/folders/32/6tv1kbfx7jn9vst5h14cqq4r0000gn/T/ipykernel_83888/1344092893.py:33: FutureWarning: The frame.append method is deprecated and will be removed from pandas in a future version. Use pandas.concat instead.\n",
      "  storage = storage.append({\"k\":k, \"z\":z, \"w\":w, \"h\":h,\n"
     ]
    },
    {
     "name": "stdout",
     "output_type": "stream",
     "text": [
      "34\n"
     ]
    },
    {
     "name": "stderr",
     "output_type": "stream",
     "text": [
      "/var/folders/32/6tv1kbfx7jn9vst5h14cqq4r0000gn/T/ipykernel_83888/1344092893.py:33: FutureWarning: The frame.append method is deprecated and will be removed from pandas in a future version. Use pandas.concat instead.\n",
      "  storage = storage.append({\"k\":k, \"z\":z, \"w\":w, \"h\":h,\n"
     ]
    },
    {
     "name": "stdout",
     "output_type": "stream",
     "text": [
      "35\n"
     ]
    },
    {
     "name": "stderr",
     "output_type": "stream",
     "text": [
      "/var/folders/32/6tv1kbfx7jn9vst5h14cqq4r0000gn/T/ipykernel_83888/1344092893.py:33: FutureWarning: The frame.append method is deprecated and will be removed from pandas in a future version. Use pandas.concat instead.\n",
      "  storage = storage.append({\"k\":k, \"z\":z, \"w\":w, \"h\":h,\n"
     ]
    },
    {
     "name": "stdout",
     "output_type": "stream",
     "text": [
      "36\n"
     ]
    },
    {
     "name": "stderr",
     "output_type": "stream",
     "text": [
      "/var/folders/32/6tv1kbfx7jn9vst5h14cqq4r0000gn/T/ipykernel_83888/1344092893.py:33: FutureWarning: The frame.append method is deprecated and will be removed from pandas in a future version. Use pandas.concat instead.\n",
      "  storage = storage.append({\"k\":k, \"z\":z, \"w\":w, \"h\":h,\n"
     ]
    },
    {
     "name": "stdout",
     "output_type": "stream",
     "text": [
      "37\n"
     ]
    },
    {
     "name": "stderr",
     "output_type": "stream",
     "text": [
      "/var/folders/32/6tv1kbfx7jn9vst5h14cqq4r0000gn/T/ipykernel_83888/1344092893.py:33: FutureWarning: The frame.append method is deprecated and will be removed from pandas in a future version. Use pandas.concat instead.\n",
      "  storage = storage.append({\"k\":k, \"z\":z, \"w\":w, \"h\":h,\n"
     ]
    },
    {
     "name": "stdout",
     "output_type": "stream",
     "text": [
      "38\n"
     ]
    },
    {
     "name": "stderr",
     "output_type": "stream",
     "text": [
      "/var/folders/32/6tv1kbfx7jn9vst5h14cqq4r0000gn/T/ipykernel_83888/1344092893.py:33: FutureWarning: The frame.append method is deprecated and will be removed from pandas in a future version. Use pandas.concat instead.\n",
      "  storage = storage.append({\"k\":k, \"z\":z, \"w\":w, \"h\":h,\n"
     ]
    },
    {
     "name": "stdout",
     "output_type": "stream",
     "text": [
      "39\n"
     ]
    },
    {
     "name": "stderr",
     "output_type": "stream",
     "text": [
      "/var/folders/32/6tv1kbfx7jn9vst5h14cqq4r0000gn/T/ipykernel_83888/1344092893.py:33: FutureWarning: The frame.append method is deprecated and will be removed from pandas in a future version. Use pandas.concat instead.\n",
      "  storage = storage.append({\"k\":k, \"z\":z, \"w\":w, \"h\":h,\n"
     ]
    },
    {
     "name": "stdout",
     "output_type": "stream",
     "text": [
      "40\n"
     ]
    },
    {
     "name": "stderr",
     "output_type": "stream",
     "text": [
      "/var/folders/32/6tv1kbfx7jn9vst5h14cqq4r0000gn/T/ipykernel_83888/1344092893.py:33: FutureWarning: The frame.append method is deprecated and will be removed from pandas in a future version. Use pandas.concat instead.\n",
      "  storage = storage.append({\"k\":k, \"z\":z, \"w\":w, \"h\":h,\n"
     ]
    },
    {
     "name": "stdout",
     "output_type": "stream",
     "text": [
      "41\n"
     ]
    },
    {
     "name": "stderr",
     "output_type": "stream",
     "text": [
      "/var/folders/32/6tv1kbfx7jn9vst5h14cqq4r0000gn/T/ipykernel_83888/1344092893.py:33: FutureWarning: The frame.append method is deprecated and will be removed from pandas in a future version. Use pandas.concat instead.\n",
      "  storage = storage.append({\"k\":k, \"z\":z, \"w\":w, \"h\":h,\n"
     ]
    },
    {
     "name": "stdout",
     "output_type": "stream",
     "text": [
      "42\n"
     ]
    },
    {
     "name": "stderr",
     "output_type": "stream",
     "text": [
      "/var/folders/32/6tv1kbfx7jn9vst5h14cqq4r0000gn/T/ipykernel_83888/1344092893.py:33: FutureWarning: The frame.append method is deprecated and will be removed from pandas in a future version. Use pandas.concat instead.\n",
      "  storage = storage.append({\"k\":k, \"z\":z, \"w\":w, \"h\":h,\n"
     ]
    },
    {
     "name": "stdout",
     "output_type": "stream",
     "text": [
      "43\n"
     ]
    },
    {
     "name": "stderr",
     "output_type": "stream",
     "text": [
      "/var/folders/32/6tv1kbfx7jn9vst5h14cqq4r0000gn/T/ipykernel_83888/1344092893.py:33: FutureWarning: The frame.append method is deprecated and will be removed from pandas in a future version. Use pandas.concat instead.\n",
      "  storage = storage.append({\"k\":k, \"z\":z, \"w\":w, \"h\":h,\n"
     ]
    },
    {
     "name": "stdout",
     "output_type": "stream",
     "text": [
      "44\n"
     ]
    },
    {
     "name": "stderr",
     "output_type": "stream",
     "text": [
      "/var/folders/32/6tv1kbfx7jn9vst5h14cqq4r0000gn/T/ipykernel_83888/1344092893.py:33: FutureWarning: The frame.append method is deprecated and will be removed from pandas in a future version. Use pandas.concat instead.\n",
      "  storage = storage.append({\"k\":k, \"z\":z, \"w\":w, \"h\":h,\n"
     ]
    },
    {
     "name": "stdout",
     "output_type": "stream",
     "text": [
      "45\n"
     ]
    },
    {
     "name": "stderr",
     "output_type": "stream",
     "text": [
      "/var/folders/32/6tv1kbfx7jn9vst5h14cqq4r0000gn/T/ipykernel_83888/1344092893.py:33: FutureWarning: The frame.append method is deprecated and will be removed from pandas in a future version. Use pandas.concat instead.\n",
      "  storage = storage.append({\"k\":k, \"z\":z, \"w\":w, \"h\":h,\n"
     ]
    },
    {
     "name": "stdout",
     "output_type": "stream",
     "text": [
      "46\n"
     ]
    },
    {
     "name": "stderr",
     "output_type": "stream",
     "text": [
      "/var/folders/32/6tv1kbfx7jn9vst5h14cqq4r0000gn/T/ipykernel_83888/1344092893.py:33: FutureWarning: The frame.append method is deprecated and will be removed from pandas in a future version. Use pandas.concat instead.\n",
      "  storage = storage.append({\"k\":k, \"z\":z, \"w\":w, \"h\":h,\n"
     ]
    },
    {
     "name": "stdout",
     "output_type": "stream",
     "text": [
      "47\n"
     ]
    },
    {
     "name": "stderr",
     "output_type": "stream",
     "text": [
      "/var/folders/32/6tv1kbfx7jn9vst5h14cqq4r0000gn/T/ipykernel_83888/1344092893.py:33: FutureWarning: The frame.append method is deprecated and will be removed from pandas in a future version. Use pandas.concat instead.\n",
      "  storage = storage.append({\"k\":k, \"z\":z, \"w\":w, \"h\":h,\n"
     ]
    },
    {
     "name": "stdout",
     "output_type": "stream",
     "text": [
      "48\n"
     ]
    },
    {
     "name": "stderr",
     "output_type": "stream",
     "text": [
      "/var/folders/32/6tv1kbfx7jn9vst5h14cqq4r0000gn/T/ipykernel_83888/1344092893.py:33: FutureWarning: The frame.append method is deprecated and will be removed from pandas in a future version. Use pandas.concat instead.\n",
      "  storage = storage.append({\"k\":k, \"z\":z, \"w\":w, \"h\":h,\n"
     ]
    },
    {
     "name": "stdout",
     "output_type": "stream",
     "text": [
      "49\n"
     ]
    },
    {
     "name": "stderr",
     "output_type": "stream",
     "text": [
      "/var/folders/32/6tv1kbfx7jn9vst5h14cqq4r0000gn/T/ipykernel_83888/1344092893.py:33: FutureWarning: The frame.append method is deprecated and will be removed from pandas in a future version. Use pandas.concat instead.\n",
      "  storage = storage.append({\"k\":k, \"z\":z, \"w\":w, \"h\":h,\n"
     ]
    },
    {
     "name": "stdout",
     "output_type": "stream",
     "text": [
      "50\n"
     ]
    },
    {
     "name": "stderr",
     "output_type": "stream",
     "text": [
      "/var/folders/32/6tv1kbfx7jn9vst5h14cqq4r0000gn/T/ipykernel_83888/1344092893.py:33: FutureWarning: The frame.append method is deprecated and will be removed from pandas in a future version. Use pandas.concat instead.\n",
      "  storage = storage.append({\"k\":k, \"z\":z, \"w\":w, \"h\":h,\n"
     ]
    },
    {
     "name": "stdout",
     "output_type": "stream",
     "text": [
      "51\n"
     ]
    },
    {
     "name": "stderr",
     "output_type": "stream",
     "text": [
      "/var/folders/32/6tv1kbfx7jn9vst5h14cqq4r0000gn/T/ipykernel_83888/1344092893.py:33: FutureWarning: The frame.append method is deprecated and will be removed from pandas in a future version. Use pandas.concat instead.\n",
      "  storage = storage.append({\"k\":k, \"z\":z, \"w\":w, \"h\":h,\n"
     ]
    },
    {
     "name": "stdout",
     "output_type": "stream",
     "text": [
      "52\n"
     ]
    },
    {
     "name": "stderr",
     "output_type": "stream",
     "text": [
      "/var/folders/32/6tv1kbfx7jn9vst5h14cqq4r0000gn/T/ipykernel_83888/1344092893.py:33: FutureWarning: The frame.append method is deprecated and will be removed from pandas in a future version. Use pandas.concat instead.\n",
      "  storage = storage.append({\"k\":k, \"z\":z, \"w\":w, \"h\":h,\n"
     ]
    },
    {
     "name": "stdout",
     "output_type": "stream",
     "text": [
      "53\n"
     ]
    },
    {
     "name": "stderr",
     "output_type": "stream",
     "text": [
      "/var/folders/32/6tv1kbfx7jn9vst5h14cqq4r0000gn/T/ipykernel_83888/1344092893.py:33: FutureWarning: The frame.append method is deprecated and will be removed from pandas in a future version. Use pandas.concat instead.\n",
      "  storage = storage.append({\"k\":k, \"z\":z, \"w\":w, \"h\":h,\n"
     ]
    },
    {
     "name": "stdout",
     "output_type": "stream",
     "text": [
      "54\n"
     ]
    },
    {
     "name": "stderr",
     "output_type": "stream",
     "text": [
      "/var/folders/32/6tv1kbfx7jn9vst5h14cqq4r0000gn/T/ipykernel_83888/1344092893.py:33: FutureWarning: The frame.append method is deprecated and will be removed from pandas in a future version. Use pandas.concat instead.\n",
      "  storage = storage.append({\"k\":k, \"z\":z, \"w\":w, \"h\":h,\n"
     ]
    },
    {
     "name": "stdout",
     "output_type": "stream",
     "text": [
      "55\n"
     ]
    },
    {
     "name": "stderr",
     "output_type": "stream",
     "text": [
      "/var/folders/32/6tv1kbfx7jn9vst5h14cqq4r0000gn/T/ipykernel_83888/1344092893.py:33: FutureWarning: The frame.append method is deprecated and will be removed from pandas in a future version. Use pandas.concat instead.\n",
      "  storage = storage.append({\"k\":k, \"z\":z, \"w\":w, \"h\":h,\n"
     ]
    },
    {
     "name": "stdout",
     "output_type": "stream",
     "text": [
      "56\n"
     ]
    },
    {
     "name": "stderr",
     "output_type": "stream",
     "text": [
      "/var/folders/32/6tv1kbfx7jn9vst5h14cqq4r0000gn/T/ipykernel_83888/1344092893.py:33: FutureWarning: The frame.append method is deprecated and will be removed from pandas in a future version. Use pandas.concat instead.\n",
      "  storage = storage.append({\"k\":k, \"z\":z, \"w\":w, \"h\":h,\n"
     ]
    },
    {
     "name": "stdout",
     "output_type": "stream",
     "text": [
      "57\n"
     ]
    },
    {
     "name": "stderr",
     "output_type": "stream",
     "text": [
      "/var/folders/32/6tv1kbfx7jn9vst5h14cqq4r0000gn/T/ipykernel_83888/1344092893.py:33: FutureWarning: The frame.append method is deprecated and will be removed from pandas in a future version. Use pandas.concat instead.\n",
      "  storage = storage.append({\"k\":k, \"z\":z, \"w\":w, \"h\":h,\n"
     ]
    },
    {
     "name": "stdout",
     "output_type": "stream",
     "text": [
      "58\n"
     ]
    },
    {
     "name": "stderr",
     "output_type": "stream",
     "text": [
      "/var/folders/32/6tv1kbfx7jn9vst5h14cqq4r0000gn/T/ipykernel_83888/1344092893.py:33: FutureWarning: The frame.append method is deprecated and will be removed from pandas in a future version. Use pandas.concat instead.\n",
      "  storage = storage.append({\"k\":k, \"z\":z, \"w\":w, \"h\":h,\n"
     ]
    },
    {
     "name": "stdout",
     "output_type": "stream",
     "text": [
      "59\n"
     ]
    },
    {
     "name": "stderr",
     "output_type": "stream",
     "text": [
      "/var/folders/32/6tv1kbfx7jn9vst5h14cqq4r0000gn/T/ipykernel_83888/1344092893.py:33: FutureWarning: The frame.append method is deprecated and will be removed from pandas in a future version. Use pandas.concat instead.\n",
      "  storage = storage.append({\"k\":k, \"z\":z, \"w\":w, \"h\":h,\n"
     ]
    },
    {
     "name": "stdout",
     "output_type": "stream",
     "text": [
      "60\n"
     ]
    },
    {
     "name": "stderr",
     "output_type": "stream",
     "text": [
      "/var/folders/32/6tv1kbfx7jn9vst5h14cqq4r0000gn/T/ipykernel_83888/1344092893.py:33: FutureWarning: The frame.append method is deprecated and will be removed from pandas in a future version. Use pandas.concat instead.\n",
      "  storage = storage.append({\"k\":k, \"z\":z, \"w\":w, \"h\":h,\n"
     ]
    },
    {
     "name": "stdout",
     "output_type": "stream",
     "text": [
      "61\n"
     ]
    },
    {
     "name": "stderr",
     "output_type": "stream",
     "text": [
      "/var/folders/32/6tv1kbfx7jn9vst5h14cqq4r0000gn/T/ipykernel_83888/1344092893.py:33: FutureWarning: The frame.append method is deprecated and will be removed from pandas in a future version. Use pandas.concat instead.\n",
      "  storage = storage.append({\"k\":k, \"z\":z, \"w\":w, \"h\":h,\n"
     ]
    },
    {
     "name": "stdout",
     "output_type": "stream",
     "text": [
      "62\n"
     ]
    },
    {
     "name": "stderr",
     "output_type": "stream",
     "text": [
      "/var/folders/32/6tv1kbfx7jn9vst5h14cqq4r0000gn/T/ipykernel_83888/1344092893.py:33: FutureWarning: The frame.append method is deprecated and will be removed from pandas in a future version. Use pandas.concat instead.\n",
      "  storage = storage.append({\"k\":k, \"z\":z, \"w\":w, \"h\":h,\n"
     ]
    },
    {
     "name": "stdout",
     "output_type": "stream",
     "text": [
      "63\n"
     ]
    },
    {
     "name": "stderr",
     "output_type": "stream",
     "text": [
      "/var/folders/32/6tv1kbfx7jn9vst5h14cqq4r0000gn/T/ipykernel_83888/1344092893.py:33: FutureWarning: The frame.append method is deprecated and will be removed from pandas in a future version. Use pandas.concat instead.\n",
      "  storage = storage.append({\"k\":k, \"z\":z, \"w\":w, \"h\":h,\n"
     ]
    },
    {
     "name": "stdout",
     "output_type": "stream",
     "text": [
      "64\n"
     ]
    },
    {
     "name": "stderr",
     "output_type": "stream",
     "text": [
      "/var/folders/32/6tv1kbfx7jn9vst5h14cqq4r0000gn/T/ipykernel_83888/1344092893.py:33: FutureWarning: The frame.append method is deprecated and will be removed from pandas in a future version. Use pandas.concat instead.\n",
      "  storage = storage.append({\"k\":k, \"z\":z, \"w\":w, \"h\":h,\n"
     ]
    },
    {
     "name": "stdout",
     "output_type": "stream",
     "text": [
      "65\n"
     ]
    },
    {
     "name": "stderr",
     "output_type": "stream",
     "text": [
      "/var/folders/32/6tv1kbfx7jn9vst5h14cqq4r0000gn/T/ipykernel_83888/1344092893.py:33: FutureWarning: The frame.append method is deprecated and will be removed from pandas in a future version. Use pandas.concat instead.\n",
      "  storage = storage.append({\"k\":k, \"z\":z, \"w\":w, \"h\":h,\n"
     ]
    },
    {
     "name": "stdout",
     "output_type": "stream",
     "text": [
      "66\n"
     ]
    },
    {
     "name": "stderr",
     "output_type": "stream",
     "text": [
      "/var/folders/32/6tv1kbfx7jn9vst5h14cqq4r0000gn/T/ipykernel_83888/1344092893.py:33: FutureWarning: The frame.append method is deprecated and will be removed from pandas in a future version. Use pandas.concat instead.\n",
      "  storage = storage.append({\"k\":k, \"z\":z, \"w\":w, \"h\":h,\n"
     ]
    },
    {
     "name": "stdout",
     "output_type": "stream",
     "text": [
      "67\n"
     ]
    },
    {
     "name": "stderr",
     "output_type": "stream",
     "text": [
      "/var/folders/32/6tv1kbfx7jn9vst5h14cqq4r0000gn/T/ipykernel_83888/1344092893.py:33: FutureWarning: The frame.append method is deprecated and will be removed from pandas in a future version. Use pandas.concat instead.\n",
      "  storage = storage.append({\"k\":k, \"z\":z, \"w\":w, \"h\":h,\n"
     ]
    },
    {
     "name": "stdout",
     "output_type": "stream",
     "text": [
      "68\n"
     ]
    },
    {
     "name": "stderr",
     "output_type": "stream",
     "text": [
      "/var/folders/32/6tv1kbfx7jn9vst5h14cqq4r0000gn/T/ipykernel_83888/1344092893.py:33: FutureWarning: The frame.append method is deprecated and will be removed from pandas in a future version. Use pandas.concat instead.\n",
      "  storage = storage.append({\"k\":k, \"z\":z, \"w\":w, \"h\":h,\n"
     ]
    },
    {
     "name": "stdout",
     "output_type": "stream",
     "text": [
      "69\n"
     ]
    },
    {
     "name": "stderr",
     "output_type": "stream",
     "text": [
      "/var/folders/32/6tv1kbfx7jn9vst5h14cqq4r0000gn/T/ipykernel_83888/1344092893.py:33: FutureWarning: The frame.append method is deprecated and will be removed from pandas in a future version. Use pandas.concat instead.\n",
      "  storage = storage.append({\"k\":k, \"z\":z, \"w\":w, \"h\":h,\n"
     ]
    },
    {
     "name": "stdout",
     "output_type": "stream",
     "text": [
      "70\n"
     ]
    },
    {
     "name": "stderr",
     "output_type": "stream",
     "text": [
      "/var/folders/32/6tv1kbfx7jn9vst5h14cqq4r0000gn/T/ipykernel_83888/1344092893.py:33: FutureWarning: The frame.append method is deprecated and will be removed from pandas in a future version. Use pandas.concat instead.\n",
      "  storage = storage.append({\"k\":k, \"z\":z, \"w\":w, \"h\":h,\n"
     ]
    },
    {
     "name": "stdout",
     "output_type": "stream",
     "text": [
      "71\n"
     ]
    },
    {
     "name": "stderr",
     "output_type": "stream",
     "text": [
      "/var/folders/32/6tv1kbfx7jn9vst5h14cqq4r0000gn/T/ipykernel_83888/1344092893.py:33: FutureWarning: The frame.append method is deprecated and will be removed from pandas in a future version. Use pandas.concat instead.\n",
      "  storage = storage.append({\"k\":k, \"z\":z, \"w\":w, \"h\":h,\n"
     ]
    },
    {
     "name": "stdout",
     "output_type": "stream",
     "text": [
      "72\n"
     ]
    },
    {
     "name": "stderr",
     "output_type": "stream",
     "text": [
      "/var/folders/32/6tv1kbfx7jn9vst5h14cqq4r0000gn/T/ipykernel_83888/1344092893.py:33: FutureWarning: The frame.append method is deprecated and will be removed from pandas in a future version. Use pandas.concat instead.\n",
      "  storage = storage.append({\"k\":k, \"z\":z, \"w\":w, \"h\":h,\n"
     ]
    },
    {
     "name": "stdout",
     "output_type": "stream",
     "text": [
      "73\n"
     ]
    },
    {
     "name": "stderr",
     "output_type": "stream",
     "text": [
      "/var/folders/32/6tv1kbfx7jn9vst5h14cqq4r0000gn/T/ipykernel_83888/1344092893.py:33: FutureWarning: The frame.append method is deprecated and will be removed from pandas in a future version. Use pandas.concat instead.\n",
      "  storage = storage.append({\"k\":k, \"z\":z, \"w\":w, \"h\":h,\n"
     ]
    },
    {
     "name": "stdout",
     "output_type": "stream",
     "text": [
      "74\n"
     ]
    },
    {
     "name": "stderr",
     "output_type": "stream",
     "text": [
      "/var/folders/32/6tv1kbfx7jn9vst5h14cqq4r0000gn/T/ipykernel_83888/1344092893.py:33: FutureWarning: The frame.append method is deprecated and will be removed from pandas in a future version. Use pandas.concat instead.\n",
      "  storage = storage.append({\"k\":k, \"z\":z, \"w\":w, \"h\":h,\n"
     ]
    },
    {
     "name": "stdout",
     "output_type": "stream",
     "text": [
      "75\n"
     ]
    },
    {
     "name": "stderr",
     "output_type": "stream",
     "text": [
      "/var/folders/32/6tv1kbfx7jn9vst5h14cqq4r0000gn/T/ipykernel_83888/1344092893.py:33: FutureWarning: The frame.append method is deprecated and will be removed from pandas in a future version. Use pandas.concat instead.\n",
      "  storage = storage.append({\"k\":k, \"z\":z, \"w\":w, \"h\":h,\n"
     ]
    },
    {
     "name": "stdout",
     "output_type": "stream",
     "text": [
      "76\n"
     ]
    },
    {
     "name": "stderr",
     "output_type": "stream",
     "text": [
      "/var/folders/32/6tv1kbfx7jn9vst5h14cqq4r0000gn/T/ipykernel_83888/1344092893.py:33: FutureWarning: The frame.append method is deprecated and will be removed from pandas in a future version. Use pandas.concat instead.\n",
      "  storage = storage.append({\"k\":k, \"z\":z, \"w\":w, \"h\":h,\n"
     ]
    },
    {
     "name": "stdout",
     "output_type": "stream",
     "text": [
      "77\n"
     ]
    },
    {
     "name": "stderr",
     "output_type": "stream",
     "text": [
      "/var/folders/32/6tv1kbfx7jn9vst5h14cqq4r0000gn/T/ipykernel_83888/1344092893.py:33: FutureWarning: The frame.append method is deprecated and will be removed from pandas in a future version. Use pandas.concat instead.\n",
      "  storage = storage.append({\"k\":k, \"z\":z, \"w\":w, \"h\":h,\n"
     ]
    },
    {
     "name": "stdout",
     "output_type": "stream",
     "text": [
      "78\n"
     ]
    },
    {
     "name": "stderr",
     "output_type": "stream",
     "text": [
      "/var/folders/32/6tv1kbfx7jn9vst5h14cqq4r0000gn/T/ipykernel_83888/1344092893.py:33: FutureWarning: The frame.append method is deprecated and will be removed from pandas in a future version. Use pandas.concat instead.\n",
      "  storage = storage.append({\"k\":k, \"z\":z, \"w\":w, \"h\":h,\n"
     ]
    },
    {
     "name": "stdout",
     "output_type": "stream",
     "text": [
      "79\n"
     ]
    },
    {
     "name": "stderr",
     "output_type": "stream",
     "text": [
      "/var/folders/32/6tv1kbfx7jn9vst5h14cqq4r0000gn/T/ipykernel_83888/1344092893.py:33: FutureWarning: The frame.append method is deprecated and will be removed from pandas in a future version. Use pandas.concat instead.\n",
      "  storage = storage.append({\"k\":k, \"z\":z, \"w\":w, \"h\":h,\n"
     ]
    },
    {
     "name": "stdout",
     "output_type": "stream",
     "text": [
      "80\n"
     ]
    },
    {
     "name": "stderr",
     "output_type": "stream",
     "text": [
      "/var/folders/32/6tv1kbfx7jn9vst5h14cqq4r0000gn/T/ipykernel_83888/1344092893.py:33: FutureWarning: The frame.append method is deprecated and will be removed from pandas in a future version. Use pandas.concat instead.\n",
      "  storage = storage.append({\"k\":k, \"z\":z, \"w\":w, \"h\":h,\n"
     ]
    },
    {
     "name": "stdout",
     "output_type": "stream",
     "text": [
      "81\n"
     ]
    },
    {
     "name": "stderr",
     "output_type": "stream",
     "text": [
      "/var/folders/32/6tv1kbfx7jn9vst5h14cqq4r0000gn/T/ipykernel_83888/1344092893.py:33: FutureWarning: The frame.append method is deprecated and will be removed from pandas in a future version. Use pandas.concat instead.\n",
      "  storage = storage.append({\"k\":k, \"z\":z, \"w\":w, \"h\":h,\n"
     ]
    },
    {
     "name": "stdout",
     "output_type": "stream",
     "text": [
      "82\n"
     ]
    },
    {
     "name": "stderr",
     "output_type": "stream",
     "text": [
      "/var/folders/32/6tv1kbfx7jn9vst5h14cqq4r0000gn/T/ipykernel_83888/1344092893.py:33: FutureWarning: The frame.append method is deprecated and will be removed from pandas in a future version. Use pandas.concat instead.\n",
      "  storage = storage.append({\"k\":k, \"z\":z, \"w\":w, \"h\":h,\n"
     ]
    },
    {
     "name": "stdout",
     "output_type": "stream",
     "text": [
      "83\n"
     ]
    },
    {
     "name": "stderr",
     "output_type": "stream",
     "text": [
      "/var/folders/32/6tv1kbfx7jn9vst5h14cqq4r0000gn/T/ipykernel_83888/1344092893.py:33: FutureWarning: The frame.append method is deprecated and will be removed from pandas in a future version. Use pandas.concat instead.\n",
      "  storage = storage.append({\"k\":k, \"z\":z, \"w\":w, \"h\":h,\n"
     ]
    },
    {
     "name": "stdout",
     "output_type": "stream",
     "text": [
      "84\n"
     ]
    },
    {
     "name": "stderr",
     "output_type": "stream",
     "text": [
      "/var/folders/32/6tv1kbfx7jn9vst5h14cqq4r0000gn/T/ipykernel_83888/1344092893.py:33: FutureWarning: The frame.append method is deprecated and will be removed from pandas in a future version. Use pandas.concat instead.\n",
      "  storage = storage.append({\"k\":k, \"z\":z, \"w\":w, \"h\":h,\n"
     ]
    },
    {
     "name": "stdout",
     "output_type": "stream",
     "text": [
      "85\n"
     ]
    },
    {
     "name": "stderr",
     "output_type": "stream",
     "text": [
      "/var/folders/32/6tv1kbfx7jn9vst5h14cqq4r0000gn/T/ipykernel_83888/1344092893.py:33: FutureWarning: The frame.append method is deprecated and will be removed from pandas in a future version. Use pandas.concat instead.\n",
      "  storage = storage.append({\"k\":k, \"z\":z, \"w\":w, \"h\":h,\n"
     ]
    },
    {
     "name": "stdout",
     "output_type": "stream",
     "text": [
      "86\n"
     ]
    },
    {
     "name": "stderr",
     "output_type": "stream",
     "text": [
      "/var/folders/32/6tv1kbfx7jn9vst5h14cqq4r0000gn/T/ipykernel_83888/1344092893.py:33: FutureWarning: The frame.append method is deprecated and will be removed from pandas in a future version. Use pandas.concat instead.\n",
      "  storage = storage.append({\"k\":k, \"z\":z, \"w\":w, \"h\":h,\n"
     ]
    },
    {
     "name": "stdout",
     "output_type": "stream",
     "text": [
      "87\n"
     ]
    },
    {
     "name": "stderr",
     "output_type": "stream",
     "text": [
      "/var/folders/32/6tv1kbfx7jn9vst5h14cqq4r0000gn/T/ipykernel_83888/1344092893.py:33: FutureWarning: The frame.append method is deprecated and will be removed from pandas in a future version. Use pandas.concat instead.\n",
      "  storage = storage.append({\"k\":k, \"z\":z, \"w\":w, \"h\":h,\n"
     ]
    },
    {
     "name": "stdout",
     "output_type": "stream",
     "text": [
      "88\n"
     ]
    },
    {
     "name": "stderr",
     "output_type": "stream",
     "text": [
      "/var/folders/32/6tv1kbfx7jn9vst5h14cqq4r0000gn/T/ipykernel_83888/1344092893.py:33: FutureWarning: The frame.append method is deprecated and will be removed from pandas in a future version. Use pandas.concat instead.\n",
      "  storage = storage.append({\"k\":k, \"z\":z, \"w\":w, \"h\":h,\n"
     ]
    },
    {
     "name": "stdout",
     "output_type": "stream",
     "text": [
      "89\n"
     ]
    },
    {
     "name": "stderr",
     "output_type": "stream",
     "text": [
      "/var/folders/32/6tv1kbfx7jn9vst5h14cqq4r0000gn/T/ipykernel_83888/1344092893.py:33: FutureWarning: The frame.append method is deprecated and will be removed from pandas in a future version. Use pandas.concat instead.\n",
      "  storage = storage.append({\"k\":k, \"z\":z, \"w\":w, \"h\":h,\n"
     ]
    },
    {
     "name": "stdout",
     "output_type": "stream",
     "text": [
      "90\n"
     ]
    },
    {
     "name": "stderr",
     "output_type": "stream",
     "text": [
      "/var/folders/32/6tv1kbfx7jn9vst5h14cqq4r0000gn/T/ipykernel_83888/1344092893.py:33: FutureWarning: The frame.append method is deprecated and will be removed from pandas in a future version. Use pandas.concat instead.\n",
      "  storage = storage.append({\"k\":k, \"z\":z, \"w\":w, \"h\":h,\n"
     ]
    },
    {
     "name": "stdout",
     "output_type": "stream",
     "text": [
      "91\n"
     ]
    },
    {
     "name": "stderr",
     "output_type": "stream",
     "text": [
      "/var/folders/32/6tv1kbfx7jn9vst5h14cqq4r0000gn/T/ipykernel_83888/1344092893.py:33: FutureWarning: The frame.append method is deprecated and will be removed from pandas in a future version. Use pandas.concat instead.\n",
      "  storage = storage.append({\"k\":k, \"z\":z, \"w\":w, \"h\":h,\n"
     ]
    },
    {
     "name": "stdout",
     "output_type": "stream",
     "text": [
      "92\n"
     ]
    },
    {
     "name": "stderr",
     "output_type": "stream",
     "text": [
      "/var/folders/32/6tv1kbfx7jn9vst5h14cqq4r0000gn/T/ipykernel_83888/1344092893.py:33: FutureWarning: The frame.append method is deprecated and will be removed from pandas in a future version. Use pandas.concat instead.\n",
      "  storage = storage.append({\"k\":k, \"z\":z, \"w\":w, \"h\":h,\n"
     ]
    },
    {
     "name": "stdout",
     "output_type": "stream",
     "text": [
      "93\n"
     ]
    },
    {
     "name": "stderr",
     "output_type": "stream",
     "text": [
      "/var/folders/32/6tv1kbfx7jn9vst5h14cqq4r0000gn/T/ipykernel_83888/1344092893.py:33: FutureWarning: The frame.append method is deprecated and will be removed from pandas in a future version. Use pandas.concat instead.\n",
      "  storage = storage.append({\"k\":k, \"z\":z, \"w\":w, \"h\":h,\n"
     ]
    },
    {
     "name": "stdout",
     "output_type": "stream",
     "text": [
      "94\n"
     ]
    },
    {
     "name": "stderr",
     "output_type": "stream",
     "text": [
      "/var/folders/32/6tv1kbfx7jn9vst5h14cqq4r0000gn/T/ipykernel_83888/1344092893.py:33: FutureWarning: The frame.append method is deprecated and will be removed from pandas in a future version. Use pandas.concat instead.\n",
      "  storage = storage.append({\"k\":k, \"z\":z, \"w\":w, \"h\":h,\n"
     ]
    },
    {
     "name": "stdout",
     "output_type": "stream",
     "text": [
      "95\n"
     ]
    },
    {
     "name": "stderr",
     "output_type": "stream",
     "text": [
      "/var/folders/32/6tv1kbfx7jn9vst5h14cqq4r0000gn/T/ipykernel_83888/1344092893.py:33: FutureWarning: The frame.append method is deprecated and will be removed from pandas in a future version. Use pandas.concat instead.\n",
      "  storage = storage.append({\"k\":k, \"z\":z, \"w\":w, \"h\":h,\n"
     ]
    },
    {
     "name": "stdout",
     "output_type": "stream",
     "text": [
      "96\n"
     ]
    },
    {
     "name": "stderr",
     "output_type": "stream",
     "text": [
      "/var/folders/32/6tv1kbfx7jn9vst5h14cqq4r0000gn/T/ipykernel_83888/1344092893.py:33: FutureWarning: The frame.append method is deprecated and will be removed from pandas in a future version. Use pandas.concat instead.\n",
      "  storage = storage.append({\"k\":k, \"z\":z, \"w\":w, \"h\":h,\n"
     ]
    },
    {
     "name": "stdout",
     "output_type": "stream",
     "text": [
      "97\n"
     ]
    },
    {
     "name": "stderr",
     "output_type": "stream",
     "text": [
      "/var/folders/32/6tv1kbfx7jn9vst5h14cqq4r0000gn/T/ipykernel_83888/1344092893.py:33: FutureWarning: The frame.append method is deprecated and will be removed from pandas in a future version. Use pandas.concat instead.\n",
      "  storage = storage.append({\"k\":k, \"z\":z, \"w\":w, \"h\":h,\n"
     ]
    },
    {
     "name": "stdout",
     "output_type": "stream",
     "text": [
      "98\n"
     ]
    },
    {
     "name": "stderr",
     "output_type": "stream",
     "text": [
      "/var/folders/32/6tv1kbfx7jn9vst5h14cqq4r0000gn/T/ipykernel_83888/1344092893.py:33: FutureWarning: The frame.append method is deprecated and will be removed from pandas in a future version. Use pandas.concat instead.\n",
      "  storage = storage.append({\"k\":k, \"z\":z, \"w\":w, \"h\":h,\n"
     ]
    },
    {
     "name": "stdout",
     "output_type": "stream",
     "text": [
      "99\n"
     ]
    },
    {
     "name": "stderr",
     "output_type": "stream",
     "text": [
      "/var/folders/32/6tv1kbfx7jn9vst5h14cqq4r0000gn/T/ipykernel_83888/1344092893.py:33: FutureWarning: The frame.append method is deprecated and will be removed from pandas in a future version. Use pandas.concat instead.\n",
      "  storage = storage.append({\"k\":k, \"z\":z, \"w\":w, \"h\":h,\n"
     ]
    },
    {
     "name": "stdout",
     "output_type": "stream",
     "text": [
      "100\n"
     ]
    },
    {
     "name": "stderr",
     "output_type": "stream",
     "text": [
      "/var/folders/32/6tv1kbfx7jn9vst5h14cqq4r0000gn/T/ipykernel_83888/1344092893.py:33: FutureWarning: The frame.append method is deprecated and will be removed from pandas in a future version. Use pandas.concat instead.\n",
      "  storage = storage.append({\"k\":k, \"z\":z, \"w\":w, \"h\":h,\n"
     ]
    },
    {
     "name": "stdout",
     "output_type": "stream",
     "text": [
      "101\n"
     ]
    },
    {
     "name": "stderr",
     "output_type": "stream",
     "text": [
      "/var/folders/32/6tv1kbfx7jn9vst5h14cqq4r0000gn/T/ipykernel_83888/1344092893.py:33: FutureWarning: The frame.append method is deprecated and will be removed from pandas in a future version. Use pandas.concat instead.\n",
      "  storage = storage.append({\"k\":k, \"z\":z, \"w\":w, \"h\":h,\n"
     ]
    },
    {
     "name": "stdout",
     "output_type": "stream",
     "text": [
      "102\n"
     ]
    },
    {
     "name": "stderr",
     "output_type": "stream",
     "text": [
      "/var/folders/32/6tv1kbfx7jn9vst5h14cqq4r0000gn/T/ipykernel_83888/1344092893.py:33: FutureWarning: The frame.append method is deprecated and will be removed from pandas in a future version. Use pandas.concat instead.\n",
      "  storage = storage.append({\"k\":k, \"z\":z, \"w\":w, \"h\":h,\n"
     ]
    },
    {
     "name": "stdout",
     "output_type": "stream",
     "text": [
      "103\n"
     ]
    },
    {
     "name": "stderr",
     "output_type": "stream",
     "text": [
      "/var/folders/32/6tv1kbfx7jn9vst5h14cqq4r0000gn/T/ipykernel_83888/1344092893.py:33: FutureWarning: The frame.append method is deprecated and will be removed from pandas in a future version. Use pandas.concat instead.\n",
      "  storage = storage.append({\"k\":k, \"z\":z, \"w\":w, \"h\":h,\n"
     ]
    },
    {
     "name": "stdout",
     "output_type": "stream",
     "text": [
      "104\n"
     ]
    },
    {
     "name": "stderr",
     "output_type": "stream",
     "text": [
      "/var/folders/32/6tv1kbfx7jn9vst5h14cqq4r0000gn/T/ipykernel_83888/1344092893.py:33: FutureWarning: The frame.append method is deprecated and will be removed from pandas in a future version. Use pandas.concat instead.\n",
      "  storage = storage.append({\"k\":k, \"z\":z, \"w\":w, \"h\":h,\n"
     ]
    },
    {
     "name": "stdout",
     "output_type": "stream",
     "text": [
      "105\n"
     ]
    },
    {
     "name": "stderr",
     "output_type": "stream",
     "text": [
      "/var/folders/32/6tv1kbfx7jn9vst5h14cqq4r0000gn/T/ipykernel_83888/1344092893.py:33: FutureWarning: The frame.append method is deprecated and will be removed from pandas in a future version. Use pandas.concat instead.\n",
      "  storage = storage.append({\"k\":k, \"z\":z, \"w\":w, \"h\":h,\n"
     ]
    },
    {
     "name": "stdout",
     "output_type": "stream",
     "text": [
      "106\n"
     ]
    },
    {
     "name": "stderr",
     "output_type": "stream",
     "text": [
      "/var/folders/32/6tv1kbfx7jn9vst5h14cqq4r0000gn/T/ipykernel_83888/1344092893.py:33: FutureWarning: The frame.append method is deprecated and will be removed from pandas in a future version. Use pandas.concat instead.\n",
      "  storage = storage.append({\"k\":k, \"z\":z, \"w\":w, \"h\":h,\n"
     ]
    },
    {
     "name": "stdout",
     "output_type": "stream",
     "text": [
      "107\n"
     ]
    },
    {
     "name": "stderr",
     "output_type": "stream",
     "text": [
      "/var/folders/32/6tv1kbfx7jn9vst5h14cqq4r0000gn/T/ipykernel_83888/1344092893.py:33: FutureWarning: The frame.append method is deprecated and will be removed from pandas in a future version. Use pandas.concat instead.\n",
      "  storage = storage.append({\"k\":k, \"z\":z, \"w\":w, \"h\":h,\n"
     ]
    },
    {
     "name": "stdout",
     "output_type": "stream",
     "text": [
      "108\n"
     ]
    },
    {
     "name": "stderr",
     "output_type": "stream",
     "text": [
      "/var/folders/32/6tv1kbfx7jn9vst5h14cqq4r0000gn/T/ipykernel_83888/1344092893.py:33: FutureWarning: The frame.append method is deprecated and will be removed from pandas in a future version. Use pandas.concat instead.\n",
      "  storage = storage.append({\"k\":k, \"z\":z, \"w\":w, \"h\":h,\n"
     ]
    },
    {
     "name": "stdout",
     "output_type": "stream",
     "text": [
      "109\n"
     ]
    },
    {
     "name": "stderr",
     "output_type": "stream",
     "text": [
      "/var/folders/32/6tv1kbfx7jn9vst5h14cqq4r0000gn/T/ipykernel_83888/1344092893.py:33: FutureWarning: The frame.append method is deprecated and will be removed from pandas in a future version. Use pandas.concat instead.\n",
      "  storage = storage.append({\"k\":k, \"z\":z, \"w\":w, \"h\":h,\n"
     ]
    },
    {
     "name": "stdout",
     "output_type": "stream",
     "text": [
      "110\n"
     ]
    },
    {
     "name": "stderr",
     "output_type": "stream",
     "text": [
      "/var/folders/32/6tv1kbfx7jn9vst5h14cqq4r0000gn/T/ipykernel_83888/1344092893.py:33: FutureWarning: The frame.append method is deprecated and will be removed from pandas in a future version. Use pandas.concat instead.\n",
      "  storage = storage.append({\"k\":k, \"z\":z, \"w\":w, \"h\":h,\n"
     ]
    },
    {
     "name": "stdout",
     "output_type": "stream",
     "text": [
      "111\n"
     ]
    },
    {
     "name": "stderr",
     "output_type": "stream",
     "text": [
      "/var/folders/32/6tv1kbfx7jn9vst5h14cqq4r0000gn/T/ipykernel_83888/1344092893.py:33: FutureWarning: The frame.append method is deprecated and will be removed from pandas in a future version. Use pandas.concat instead.\n",
      "  storage = storage.append({\"k\":k, \"z\":z, \"w\":w, \"h\":h,\n"
     ]
    },
    {
     "name": "stdout",
     "output_type": "stream",
     "text": [
      "112\n"
     ]
    },
    {
     "name": "stderr",
     "output_type": "stream",
     "text": [
      "/var/folders/32/6tv1kbfx7jn9vst5h14cqq4r0000gn/T/ipykernel_83888/1344092893.py:33: FutureWarning: The frame.append method is deprecated and will be removed from pandas in a future version. Use pandas.concat instead.\n",
      "  storage = storage.append({\"k\":k, \"z\":z, \"w\":w, \"h\":h,\n"
     ]
    },
    {
     "name": "stdout",
     "output_type": "stream",
     "text": [
      "113\n"
     ]
    },
    {
     "name": "stderr",
     "output_type": "stream",
     "text": [
      "/var/folders/32/6tv1kbfx7jn9vst5h14cqq4r0000gn/T/ipykernel_83888/1344092893.py:33: FutureWarning: The frame.append method is deprecated and will be removed from pandas in a future version. Use pandas.concat instead.\n",
      "  storage = storage.append({\"k\":k, \"z\":z, \"w\":w, \"h\":h,\n"
     ]
    },
    {
     "name": "stdout",
     "output_type": "stream",
     "text": [
      "114\n"
     ]
    },
    {
     "name": "stderr",
     "output_type": "stream",
     "text": [
      "/var/folders/32/6tv1kbfx7jn9vst5h14cqq4r0000gn/T/ipykernel_83888/1344092893.py:33: FutureWarning: The frame.append method is deprecated and will be removed from pandas in a future version. Use pandas.concat instead.\n",
      "  storage = storage.append({\"k\":k, \"z\":z, \"w\":w, \"h\":h,\n"
     ]
    },
    {
     "name": "stdout",
     "output_type": "stream",
     "text": [
      "115\n"
     ]
    },
    {
     "name": "stderr",
     "output_type": "stream",
     "text": [
      "/var/folders/32/6tv1kbfx7jn9vst5h14cqq4r0000gn/T/ipykernel_83888/1344092893.py:33: FutureWarning: The frame.append method is deprecated and will be removed from pandas in a future version. Use pandas.concat instead.\n",
      "  storage = storage.append({\"k\":k, \"z\":z, \"w\":w, \"h\":h,\n"
     ]
    },
    {
     "name": "stdout",
     "output_type": "stream",
     "text": [
      "116\n"
     ]
    },
    {
     "name": "stderr",
     "output_type": "stream",
     "text": [
      "/var/folders/32/6tv1kbfx7jn9vst5h14cqq4r0000gn/T/ipykernel_83888/1344092893.py:33: FutureWarning: The frame.append method is deprecated and will be removed from pandas in a future version. Use pandas.concat instead.\n",
      "  storage = storage.append({\"k\":k, \"z\":z, \"w\":w, \"h\":h,\n"
     ]
    },
    {
     "name": "stdout",
     "output_type": "stream",
     "text": [
      "117\n"
     ]
    },
    {
     "name": "stderr",
     "output_type": "stream",
     "text": [
      "/var/folders/32/6tv1kbfx7jn9vst5h14cqq4r0000gn/T/ipykernel_83888/1344092893.py:33: FutureWarning: The frame.append method is deprecated and will be removed from pandas in a future version. Use pandas.concat instead.\n",
      "  storage = storage.append({\"k\":k, \"z\":z, \"w\":w, \"h\":h,\n"
     ]
    },
    {
     "name": "stdout",
     "output_type": "stream",
     "text": [
      "118\n"
     ]
    },
    {
     "name": "stderr",
     "output_type": "stream",
     "text": [
      "/var/folders/32/6tv1kbfx7jn9vst5h14cqq4r0000gn/T/ipykernel_83888/1344092893.py:33: FutureWarning: The frame.append method is deprecated and will be removed from pandas in a future version. Use pandas.concat instead.\n",
      "  storage = storage.append({\"k\":k, \"z\":z, \"w\":w, \"h\":h,\n"
     ]
    },
    {
     "name": "stdout",
     "output_type": "stream",
     "text": [
      "119\n"
     ]
    },
    {
     "name": "stderr",
     "output_type": "stream",
     "text": [
      "/var/folders/32/6tv1kbfx7jn9vst5h14cqq4r0000gn/T/ipykernel_83888/1344092893.py:33: FutureWarning: The frame.append method is deprecated and will be removed from pandas in a future version. Use pandas.concat instead.\n",
      "  storage = storage.append({\"k\":k, \"z\":z, \"w\":w, \"h\":h,\n"
     ]
    },
    {
     "name": "stdout",
     "output_type": "stream",
     "text": [
      "120\n"
     ]
    },
    {
     "name": "stderr",
     "output_type": "stream",
     "text": [
      "/var/folders/32/6tv1kbfx7jn9vst5h14cqq4r0000gn/T/ipykernel_83888/1344092893.py:33: FutureWarning: The frame.append method is deprecated and will be removed from pandas in a future version. Use pandas.concat instead.\n",
      "  storage = storage.append({\"k\":k, \"z\":z, \"w\":w, \"h\":h,\n"
     ]
    },
    {
     "name": "stdout",
     "output_type": "stream",
     "text": [
      "121\n"
     ]
    },
    {
     "name": "stderr",
     "output_type": "stream",
     "text": [
      "/var/folders/32/6tv1kbfx7jn9vst5h14cqq4r0000gn/T/ipykernel_83888/1344092893.py:33: FutureWarning: The frame.append method is deprecated and will be removed from pandas in a future version. Use pandas.concat instead.\n",
      "  storage = storage.append({\"k\":k, \"z\":z, \"w\":w, \"h\":h,\n"
     ]
    },
    {
     "name": "stdout",
     "output_type": "stream",
     "text": [
      "122\n"
     ]
    },
    {
     "name": "stderr",
     "output_type": "stream",
     "text": [
      "/var/folders/32/6tv1kbfx7jn9vst5h14cqq4r0000gn/T/ipykernel_83888/1344092893.py:33: FutureWarning: The frame.append method is deprecated and will be removed from pandas in a future version. Use pandas.concat instead.\n",
      "  storage = storage.append({\"k\":k, \"z\":z, \"w\":w, \"h\":h,\n"
     ]
    },
    {
     "name": "stdout",
     "output_type": "stream",
     "text": [
      "123\n"
     ]
    },
    {
     "name": "stderr",
     "output_type": "stream",
     "text": [
      "/var/folders/32/6tv1kbfx7jn9vst5h14cqq4r0000gn/T/ipykernel_83888/1344092893.py:33: FutureWarning: The frame.append method is deprecated and will be removed from pandas in a future version. Use pandas.concat instead.\n",
      "  storage = storage.append({\"k\":k, \"z\":z, \"w\":w, \"h\":h,\n"
     ]
    },
    {
     "name": "stdout",
     "output_type": "stream",
     "text": [
      "124\n"
     ]
    },
    {
     "name": "stderr",
     "output_type": "stream",
     "text": [
      "/var/folders/32/6tv1kbfx7jn9vst5h14cqq4r0000gn/T/ipykernel_83888/1344092893.py:33: FutureWarning: The frame.append method is deprecated and will be removed from pandas in a future version. Use pandas.concat instead.\n",
      "  storage = storage.append({\"k\":k, \"z\":z, \"w\":w, \"h\":h,\n"
     ]
    },
    {
     "name": "stdout",
     "output_type": "stream",
     "text": [
      "125\n"
     ]
    },
    {
     "name": "stderr",
     "output_type": "stream",
     "text": [
      "/var/folders/32/6tv1kbfx7jn9vst5h14cqq4r0000gn/T/ipykernel_83888/1344092893.py:33: FutureWarning: The frame.append method is deprecated and will be removed from pandas in a future version. Use pandas.concat instead.\n",
      "  storage = storage.append({\"k\":k, \"z\":z, \"w\":w, \"h\":h,\n"
     ]
    },
    {
     "name": "stdout",
     "output_type": "stream",
     "text": [
      "126\n"
     ]
    },
    {
     "name": "stderr",
     "output_type": "stream",
     "text": [
      "/var/folders/32/6tv1kbfx7jn9vst5h14cqq4r0000gn/T/ipykernel_83888/1344092893.py:33: FutureWarning: The frame.append method is deprecated and will be removed from pandas in a future version. Use pandas.concat instead.\n",
      "  storage = storage.append({\"k\":k, \"z\":z, \"w\":w, \"h\":h,\n"
     ]
    },
    {
     "name": "stdout",
     "output_type": "stream",
     "text": [
      "127\n"
     ]
    },
    {
     "name": "stderr",
     "output_type": "stream",
     "text": [
      "/var/folders/32/6tv1kbfx7jn9vst5h14cqq4r0000gn/T/ipykernel_83888/1344092893.py:33: FutureWarning: The frame.append method is deprecated and will be removed from pandas in a future version. Use pandas.concat instead.\n",
      "  storage = storage.append({\"k\":k, \"z\":z, \"w\":w, \"h\":h,\n"
     ]
    },
    {
     "name": "stdout",
     "output_type": "stream",
     "text": [
      "128\n"
     ]
    },
    {
     "name": "stderr",
     "output_type": "stream",
     "text": [
      "/var/folders/32/6tv1kbfx7jn9vst5h14cqq4r0000gn/T/ipykernel_83888/1344092893.py:33: FutureWarning: The frame.append method is deprecated and will be removed from pandas in a future version. Use pandas.concat instead.\n",
      "  storage = storage.append({\"k\":k, \"z\":z, \"w\":w, \"h\":h,\n"
     ]
    },
    {
     "name": "stdout",
     "output_type": "stream",
     "text": [
      "129\n"
     ]
    },
    {
     "name": "stderr",
     "output_type": "stream",
     "text": [
      "/var/folders/32/6tv1kbfx7jn9vst5h14cqq4r0000gn/T/ipykernel_83888/1344092893.py:33: FutureWarning: The frame.append method is deprecated and will be removed from pandas in a future version. Use pandas.concat instead.\n",
      "  storage = storage.append({\"k\":k, \"z\":z, \"w\":w, \"h\":h,\n"
     ]
    },
    {
     "name": "stdout",
     "output_type": "stream",
     "text": [
      "130\n"
     ]
    },
    {
     "name": "stderr",
     "output_type": "stream",
     "text": [
      "/var/folders/32/6tv1kbfx7jn9vst5h14cqq4r0000gn/T/ipykernel_83888/1344092893.py:33: FutureWarning: The frame.append method is deprecated and will be removed from pandas in a future version. Use pandas.concat instead.\n",
      "  storage = storage.append({\"k\":k, \"z\":z, \"w\":w, \"h\":h,\n"
     ]
    },
    {
     "name": "stdout",
     "output_type": "stream",
     "text": [
      "131\n"
     ]
    },
    {
     "name": "stderr",
     "output_type": "stream",
     "text": [
      "/var/folders/32/6tv1kbfx7jn9vst5h14cqq4r0000gn/T/ipykernel_83888/1344092893.py:33: FutureWarning: The frame.append method is deprecated and will be removed from pandas in a future version. Use pandas.concat instead.\n",
      "  storage = storage.append({\"k\":k, \"z\":z, \"w\":w, \"h\":h,\n"
     ]
    },
    {
     "name": "stdout",
     "output_type": "stream",
     "text": [
      "132\n"
     ]
    },
    {
     "name": "stderr",
     "output_type": "stream",
     "text": [
      "/var/folders/32/6tv1kbfx7jn9vst5h14cqq4r0000gn/T/ipykernel_83888/1344092893.py:33: FutureWarning: The frame.append method is deprecated and will be removed from pandas in a future version. Use pandas.concat instead.\n",
      "  storage = storage.append({\"k\":k, \"z\":z, \"w\":w, \"h\":h,\n"
     ]
    },
    {
     "name": "stdout",
     "output_type": "stream",
     "text": [
      "133\n"
     ]
    },
    {
     "name": "stderr",
     "output_type": "stream",
     "text": [
      "/var/folders/32/6tv1kbfx7jn9vst5h14cqq4r0000gn/T/ipykernel_83888/1344092893.py:33: FutureWarning: The frame.append method is deprecated and will be removed from pandas in a future version. Use pandas.concat instead.\n",
      "  storage = storage.append({\"k\":k, \"z\":z, \"w\":w, \"h\":h,\n"
     ]
    },
    {
     "name": "stdout",
     "output_type": "stream",
     "text": [
      "134\n"
     ]
    },
    {
     "name": "stderr",
     "output_type": "stream",
     "text": [
      "/var/folders/32/6tv1kbfx7jn9vst5h14cqq4r0000gn/T/ipykernel_83888/1344092893.py:33: FutureWarning: The frame.append method is deprecated and will be removed from pandas in a future version. Use pandas.concat instead.\n",
      "  storage = storage.append({\"k\":k, \"z\":z, \"w\":w, \"h\":h,\n"
     ]
    },
    {
     "name": "stdout",
     "output_type": "stream",
     "text": [
      "135\n"
     ]
    },
    {
     "name": "stderr",
     "output_type": "stream",
     "text": [
      "/var/folders/32/6tv1kbfx7jn9vst5h14cqq4r0000gn/T/ipykernel_83888/1344092893.py:33: FutureWarning: The frame.append method is deprecated and will be removed from pandas in a future version. Use pandas.concat instead.\n",
      "  storage = storage.append({\"k\":k, \"z\":z, \"w\":w, \"h\":h,\n"
     ]
    },
    {
     "name": "stdout",
     "output_type": "stream",
     "text": [
      "136\n"
     ]
    },
    {
     "name": "stderr",
     "output_type": "stream",
     "text": [
      "/var/folders/32/6tv1kbfx7jn9vst5h14cqq4r0000gn/T/ipykernel_83888/1344092893.py:33: FutureWarning: The frame.append method is deprecated and will be removed from pandas in a future version. Use pandas.concat instead.\n",
      "  storage = storage.append({\"k\":k, \"z\":z, \"w\":w, \"h\":h,\n"
     ]
    },
    {
     "name": "stdout",
     "output_type": "stream",
     "text": [
      "137\n"
     ]
    },
    {
     "name": "stderr",
     "output_type": "stream",
     "text": [
      "/var/folders/32/6tv1kbfx7jn9vst5h14cqq4r0000gn/T/ipykernel_83888/1344092893.py:33: FutureWarning: The frame.append method is deprecated and will be removed from pandas in a future version. Use pandas.concat instead.\n",
      "  storage = storage.append({\"k\":k, \"z\":z, \"w\":w, \"h\":h,\n"
     ]
    },
    {
     "name": "stdout",
     "output_type": "stream",
     "text": [
      "138\n"
     ]
    },
    {
     "name": "stderr",
     "output_type": "stream",
     "text": [
      "/var/folders/32/6tv1kbfx7jn9vst5h14cqq4r0000gn/T/ipykernel_83888/1344092893.py:33: FutureWarning: The frame.append method is deprecated and will be removed from pandas in a future version. Use pandas.concat instead.\n",
      "  storage = storage.append({\"k\":k, \"z\":z, \"w\":w, \"h\":h,\n"
     ]
    },
    {
     "name": "stdout",
     "output_type": "stream",
     "text": [
      "139\n"
     ]
    },
    {
     "name": "stderr",
     "output_type": "stream",
     "text": [
      "/var/folders/32/6tv1kbfx7jn9vst5h14cqq4r0000gn/T/ipykernel_83888/1344092893.py:33: FutureWarning: The frame.append method is deprecated and will be removed from pandas in a future version. Use pandas.concat instead.\n",
      "  storage = storage.append({\"k\":k, \"z\":z, \"w\":w, \"h\":h,\n"
     ]
    },
    {
     "name": "stdout",
     "output_type": "stream",
     "text": [
      "140\n"
     ]
    },
    {
     "name": "stderr",
     "output_type": "stream",
     "text": [
      "/var/folders/32/6tv1kbfx7jn9vst5h14cqq4r0000gn/T/ipykernel_83888/1344092893.py:33: FutureWarning: The frame.append method is deprecated and will be removed from pandas in a future version. Use pandas.concat instead.\n",
      "  storage = storage.append({\"k\":k, \"z\":z, \"w\":w, \"h\":h,\n"
     ]
    },
    {
     "name": "stdout",
     "output_type": "stream",
     "text": [
      "141\n"
     ]
    },
    {
     "name": "stderr",
     "output_type": "stream",
     "text": [
      "/var/folders/32/6tv1kbfx7jn9vst5h14cqq4r0000gn/T/ipykernel_83888/1344092893.py:33: FutureWarning: The frame.append method is deprecated and will be removed from pandas in a future version. Use pandas.concat instead.\n",
      "  storage = storage.append({\"k\":k, \"z\":z, \"w\":w, \"h\":h,\n"
     ]
    },
    {
     "name": "stdout",
     "output_type": "stream",
     "text": [
      "142\n"
     ]
    },
    {
     "name": "stderr",
     "output_type": "stream",
     "text": [
      "/var/folders/32/6tv1kbfx7jn9vst5h14cqq4r0000gn/T/ipykernel_83888/1344092893.py:33: FutureWarning: The frame.append method is deprecated and will be removed from pandas in a future version. Use pandas.concat instead.\n",
      "  storage = storage.append({\"k\":k, \"z\":z, \"w\":w, \"h\":h,\n"
     ]
    },
    {
     "name": "stdout",
     "output_type": "stream",
     "text": [
      "143\n"
     ]
    },
    {
     "name": "stderr",
     "output_type": "stream",
     "text": [
      "/var/folders/32/6tv1kbfx7jn9vst5h14cqq4r0000gn/T/ipykernel_83888/1344092893.py:33: FutureWarning: The frame.append method is deprecated and will be removed from pandas in a future version. Use pandas.concat instead.\n",
      "  storage = storage.append({\"k\":k, \"z\":z, \"w\":w, \"h\":h,\n"
     ]
    },
    {
     "name": "stdout",
     "output_type": "stream",
     "text": [
      "144\n"
     ]
    },
    {
     "name": "stderr",
     "output_type": "stream",
     "text": [
      "/var/folders/32/6tv1kbfx7jn9vst5h14cqq4r0000gn/T/ipykernel_83888/1344092893.py:33: FutureWarning: The frame.append method is deprecated and will be removed from pandas in a future version. Use pandas.concat instead.\n",
      "  storage = storage.append({\"k\":k, \"z\":z, \"w\":w, \"h\":h,\n"
     ]
    },
    {
     "name": "stdout",
     "output_type": "stream",
     "text": [
      "145\n"
     ]
    },
    {
     "name": "stderr",
     "output_type": "stream",
     "text": [
      "/var/folders/32/6tv1kbfx7jn9vst5h14cqq4r0000gn/T/ipykernel_83888/1344092893.py:33: FutureWarning: The frame.append method is deprecated and will be removed from pandas in a future version. Use pandas.concat instead.\n",
      "  storage = storage.append({\"k\":k, \"z\":z, \"w\":w, \"h\":h,\n"
     ]
    },
    {
     "name": "stdout",
     "output_type": "stream",
     "text": [
      "146\n"
     ]
    },
    {
     "name": "stderr",
     "output_type": "stream",
     "text": [
      "/var/folders/32/6tv1kbfx7jn9vst5h14cqq4r0000gn/T/ipykernel_83888/1344092893.py:33: FutureWarning: The frame.append method is deprecated and will be removed from pandas in a future version. Use pandas.concat instead.\n",
      "  storage = storage.append({\"k\":k, \"z\":z, \"w\":w, \"h\":h,\n"
     ]
    },
    {
     "name": "stdout",
     "output_type": "stream",
     "text": [
      "147\n"
     ]
    },
    {
     "name": "stderr",
     "output_type": "stream",
     "text": [
      "/var/folders/32/6tv1kbfx7jn9vst5h14cqq4r0000gn/T/ipykernel_83888/1344092893.py:33: FutureWarning: The frame.append method is deprecated and will be removed from pandas in a future version. Use pandas.concat instead.\n",
      "  storage = storage.append({\"k\":k, \"z\":z, \"w\":w, \"h\":h,\n"
     ]
    },
    {
     "name": "stdout",
     "output_type": "stream",
     "text": [
      "148\n"
     ]
    },
    {
     "name": "stderr",
     "output_type": "stream",
     "text": [
      "/var/folders/32/6tv1kbfx7jn9vst5h14cqq4r0000gn/T/ipykernel_83888/1344092893.py:33: FutureWarning: The frame.append method is deprecated and will be removed from pandas in a future version. Use pandas.concat instead.\n",
      "  storage = storage.append({\"k\":k, \"z\":z, \"w\":w, \"h\":h,\n"
     ]
    },
    {
     "name": "stdout",
     "output_type": "stream",
     "text": [
      "149\n"
     ]
    },
    {
     "name": "stderr",
     "output_type": "stream",
     "text": [
      "/var/folders/32/6tv1kbfx7jn9vst5h14cqq4r0000gn/T/ipykernel_83888/1344092893.py:33: FutureWarning: The frame.append method is deprecated and will be removed from pandas in a future version. Use pandas.concat instead.\n",
      "  storage = storage.append({\"k\":k, \"z\":z, \"w\":w, \"h\":h,\n"
     ]
    },
    {
     "name": "stdout",
     "output_type": "stream",
     "text": [
      "150\n"
     ]
    },
    {
     "name": "stderr",
     "output_type": "stream",
     "text": [
      "/var/folders/32/6tv1kbfx7jn9vst5h14cqq4r0000gn/T/ipykernel_83888/1344092893.py:33: FutureWarning: The frame.append method is deprecated and will be removed from pandas in a future version. Use pandas.concat instead.\n",
      "  storage = storage.append({\"k\":k, \"z\":z, \"w\":w, \"h\":h,\n"
     ]
    },
    {
     "name": "stdout",
     "output_type": "stream",
     "text": [
      "151\n"
     ]
    },
    {
     "name": "stderr",
     "output_type": "stream",
     "text": [
      "/var/folders/32/6tv1kbfx7jn9vst5h14cqq4r0000gn/T/ipykernel_83888/1344092893.py:33: FutureWarning: The frame.append method is deprecated and will be removed from pandas in a future version. Use pandas.concat instead.\n",
      "  storage = storage.append({\"k\":k, \"z\":z, \"w\":w, \"h\":h,\n"
     ]
    },
    {
     "name": "stdout",
     "output_type": "stream",
     "text": [
      "152\n"
     ]
    },
    {
     "name": "stderr",
     "output_type": "stream",
     "text": [
      "/var/folders/32/6tv1kbfx7jn9vst5h14cqq4r0000gn/T/ipykernel_83888/1344092893.py:33: FutureWarning: The frame.append method is deprecated and will be removed from pandas in a future version. Use pandas.concat instead.\n",
      "  storage = storage.append({\"k\":k, \"z\":z, \"w\":w, \"h\":h,\n"
     ]
    },
    {
     "name": "stdout",
     "output_type": "stream",
     "text": [
      "153\n"
     ]
    },
    {
     "name": "stderr",
     "output_type": "stream",
     "text": [
      "/var/folders/32/6tv1kbfx7jn9vst5h14cqq4r0000gn/T/ipykernel_83888/1344092893.py:33: FutureWarning: The frame.append method is deprecated and will be removed from pandas in a future version. Use pandas.concat instead.\n",
      "  storage = storage.append({\"k\":k, \"z\":z, \"w\":w, \"h\":h,\n"
     ]
    },
    {
     "name": "stdout",
     "output_type": "stream",
     "text": [
      "154\n"
     ]
    },
    {
     "name": "stderr",
     "output_type": "stream",
     "text": [
      "/var/folders/32/6tv1kbfx7jn9vst5h14cqq4r0000gn/T/ipykernel_83888/1344092893.py:33: FutureWarning: The frame.append method is deprecated and will be removed from pandas in a future version. Use pandas.concat instead.\n",
      "  storage = storage.append({\"k\":k, \"z\":z, \"w\":w, \"h\":h,\n"
     ]
    },
    {
     "name": "stdout",
     "output_type": "stream",
     "text": [
      "155\n"
     ]
    },
    {
     "name": "stderr",
     "output_type": "stream",
     "text": [
      "/var/folders/32/6tv1kbfx7jn9vst5h14cqq4r0000gn/T/ipykernel_83888/1344092893.py:33: FutureWarning: The frame.append method is deprecated and will be removed from pandas in a future version. Use pandas.concat instead.\n",
      "  storage = storage.append({\"k\":k, \"z\":z, \"w\":w, \"h\":h,\n"
     ]
    },
    {
     "name": "stdout",
     "output_type": "stream",
     "text": [
      "156\n"
     ]
    },
    {
     "name": "stderr",
     "output_type": "stream",
     "text": [
      "/var/folders/32/6tv1kbfx7jn9vst5h14cqq4r0000gn/T/ipykernel_83888/1344092893.py:33: FutureWarning: The frame.append method is deprecated and will be removed from pandas in a future version. Use pandas.concat instead.\n",
      "  storage = storage.append({\"k\":k, \"z\":z, \"w\":w, \"h\":h,\n"
     ]
    },
    {
     "name": "stdout",
     "output_type": "stream",
     "text": [
      "157\n"
     ]
    },
    {
     "name": "stderr",
     "output_type": "stream",
     "text": [
      "/var/folders/32/6tv1kbfx7jn9vst5h14cqq4r0000gn/T/ipykernel_83888/1344092893.py:33: FutureWarning: The frame.append method is deprecated and will be removed from pandas in a future version. Use pandas.concat instead.\n",
      "  storage = storage.append({\"k\":k, \"z\":z, \"w\":w, \"h\":h,\n"
     ]
    },
    {
     "name": "stdout",
     "output_type": "stream",
     "text": [
      "158\n"
     ]
    },
    {
     "name": "stderr",
     "output_type": "stream",
     "text": [
      "/var/folders/32/6tv1kbfx7jn9vst5h14cqq4r0000gn/T/ipykernel_83888/1344092893.py:33: FutureWarning: The frame.append method is deprecated and will be removed from pandas in a future version. Use pandas.concat instead.\n",
      "  storage = storage.append({\"k\":k, \"z\":z, \"w\":w, \"h\":h,\n"
     ]
    },
    {
     "name": "stdout",
     "output_type": "stream",
     "text": [
      "159\n"
     ]
    },
    {
     "name": "stderr",
     "output_type": "stream",
     "text": [
      "/var/folders/32/6tv1kbfx7jn9vst5h14cqq4r0000gn/T/ipykernel_83888/1344092893.py:33: FutureWarning: The frame.append method is deprecated and will be removed from pandas in a future version. Use pandas.concat instead.\n",
      "  storage = storage.append({\"k\":k, \"z\":z, \"w\":w, \"h\":h,\n"
     ]
    },
    {
     "name": "stdout",
     "output_type": "stream",
     "text": [
      "160\n"
     ]
    },
    {
     "name": "stderr",
     "output_type": "stream",
     "text": [
      "/var/folders/32/6tv1kbfx7jn9vst5h14cqq4r0000gn/T/ipykernel_83888/1344092893.py:33: FutureWarning: The frame.append method is deprecated and will be removed from pandas in a future version. Use pandas.concat instead.\n",
      "  storage = storage.append({\"k\":k, \"z\":z, \"w\":w, \"h\":h,\n"
     ]
    },
    {
     "name": "stdout",
     "output_type": "stream",
     "text": [
      "161\n"
     ]
    },
    {
     "name": "stderr",
     "output_type": "stream",
     "text": [
      "/var/folders/32/6tv1kbfx7jn9vst5h14cqq4r0000gn/T/ipykernel_83888/1344092893.py:33: FutureWarning: The frame.append method is deprecated and will be removed from pandas in a future version. Use pandas.concat instead.\n",
      "  storage = storage.append({\"k\":k, \"z\":z, \"w\":w, \"h\":h,\n"
     ]
    },
    {
     "name": "stdout",
     "output_type": "stream",
     "text": [
      "162\n"
     ]
    },
    {
     "name": "stderr",
     "output_type": "stream",
     "text": [
      "/var/folders/32/6tv1kbfx7jn9vst5h14cqq4r0000gn/T/ipykernel_83888/1344092893.py:33: FutureWarning: The frame.append method is deprecated and will be removed from pandas in a future version. Use pandas.concat instead.\n",
      "  storage = storage.append({\"k\":k, \"z\":z, \"w\":w, \"h\":h,\n"
     ]
    },
    {
     "name": "stdout",
     "output_type": "stream",
     "text": [
      "163\n"
     ]
    },
    {
     "name": "stderr",
     "output_type": "stream",
     "text": [
      "/var/folders/32/6tv1kbfx7jn9vst5h14cqq4r0000gn/T/ipykernel_83888/1344092893.py:33: FutureWarning: The frame.append method is deprecated and will be removed from pandas in a future version. Use pandas.concat instead.\n",
      "  storage = storage.append({\"k\":k, \"z\":z, \"w\":w, \"h\":h,\n"
     ]
    },
    {
     "name": "stdout",
     "output_type": "stream",
     "text": [
      "164\n"
     ]
    },
    {
     "name": "stderr",
     "output_type": "stream",
     "text": [
      "/var/folders/32/6tv1kbfx7jn9vst5h14cqq4r0000gn/T/ipykernel_83888/1344092893.py:33: FutureWarning: The frame.append method is deprecated and will be removed from pandas in a future version. Use pandas.concat instead.\n",
      "  storage = storage.append({\"k\":k, \"z\":z, \"w\":w, \"h\":h,\n"
     ]
    },
    {
     "name": "stdout",
     "output_type": "stream",
     "text": [
      "165\n"
     ]
    },
    {
     "name": "stderr",
     "output_type": "stream",
     "text": [
      "/var/folders/32/6tv1kbfx7jn9vst5h14cqq4r0000gn/T/ipykernel_83888/1344092893.py:33: FutureWarning: The frame.append method is deprecated and will be removed from pandas in a future version. Use pandas.concat instead.\n",
      "  storage = storage.append({\"k\":k, \"z\":z, \"w\":w, \"h\":h,\n"
     ]
    },
    {
     "name": "stdout",
     "output_type": "stream",
     "text": [
      "166\n"
     ]
    },
    {
     "name": "stderr",
     "output_type": "stream",
     "text": [
      "/var/folders/32/6tv1kbfx7jn9vst5h14cqq4r0000gn/T/ipykernel_83888/1344092893.py:33: FutureWarning: The frame.append method is deprecated and will be removed from pandas in a future version. Use pandas.concat instead.\n",
      "  storage = storage.append({\"k\":k, \"z\":z, \"w\":w, \"h\":h,\n"
     ]
    },
    {
     "name": "stdout",
     "output_type": "stream",
     "text": [
      "167\n"
     ]
    },
    {
     "name": "stderr",
     "output_type": "stream",
     "text": [
      "/var/folders/32/6tv1kbfx7jn9vst5h14cqq4r0000gn/T/ipykernel_83888/1344092893.py:33: FutureWarning: The frame.append method is deprecated and will be removed from pandas in a future version. Use pandas.concat instead.\n",
      "  storage = storage.append({\"k\":k, \"z\":z, \"w\":w, \"h\":h,\n"
     ]
    },
    {
     "name": "stdout",
     "output_type": "stream",
     "text": [
      "168\n"
     ]
    },
    {
     "name": "stderr",
     "output_type": "stream",
     "text": [
      "/var/folders/32/6tv1kbfx7jn9vst5h14cqq4r0000gn/T/ipykernel_83888/1344092893.py:33: FutureWarning: The frame.append method is deprecated and will be removed from pandas in a future version. Use pandas.concat instead.\n",
      "  storage = storage.append({\"k\":k, \"z\":z, \"w\":w, \"h\":h,\n"
     ]
    },
    {
     "name": "stdout",
     "output_type": "stream",
     "text": [
      "169\n"
     ]
    },
    {
     "name": "stderr",
     "output_type": "stream",
     "text": [
      "/var/folders/32/6tv1kbfx7jn9vst5h14cqq4r0000gn/T/ipykernel_83888/1344092893.py:33: FutureWarning: The frame.append method is deprecated and will be removed from pandas in a future version. Use pandas.concat instead.\n",
      "  storage = storage.append({\"k\":k, \"z\":z, \"w\":w, \"h\":h,\n"
     ]
    },
    {
     "name": "stdout",
     "output_type": "stream",
     "text": [
      "170\n"
     ]
    },
    {
     "name": "stderr",
     "output_type": "stream",
     "text": [
      "/var/folders/32/6tv1kbfx7jn9vst5h14cqq4r0000gn/T/ipykernel_83888/1344092893.py:33: FutureWarning: The frame.append method is deprecated and will be removed from pandas in a future version. Use pandas.concat instead.\n",
      "  storage = storage.append({\"k\":k, \"z\":z, \"w\":w, \"h\":h,\n"
     ]
    },
    {
     "name": "stdout",
     "output_type": "stream",
     "text": [
      "171\n"
     ]
    },
    {
     "name": "stderr",
     "output_type": "stream",
     "text": [
      "/var/folders/32/6tv1kbfx7jn9vst5h14cqq4r0000gn/T/ipykernel_83888/1344092893.py:33: FutureWarning: The frame.append method is deprecated and will be removed from pandas in a future version. Use pandas.concat instead.\n",
      "  storage = storage.append({\"k\":k, \"z\":z, \"w\":w, \"h\":h,\n"
     ]
    },
    {
     "name": "stdout",
     "output_type": "stream",
     "text": [
      "172\n"
     ]
    },
    {
     "name": "stderr",
     "output_type": "stream",
     "text": [
      "/var/folders/32/6tv1kbfx7jn9vst5h14cqq4r0000gn/T/ipykernel_83888/1344092893.py:33: FutureWarning: The frame.append method is deprecated and will be removed from pandas in a future version. Use pandas.concat instead.\n",
      "  storage = storage.append({\"k\":k, \"z\":z, \"w\":w, \"h\":h,\n"
     ]
    },
    {
     "name": "stdout",
     "output_type": "stream",
     "text": [
      "173\n"
     ]
    },
    {
     "name": "stderr",
     "output_type": "stream",
     "text": [
      "/var/folders/32/6tv1kbfx7jn9vst5h14cqq4r0000gn/T/ipykernel_83888/1344092893.py:33: FutureWarning: The frame.append method is deprecated and will be removed from pandas in a future version. Use pandas.concat instead.\n",
      "  storage = storage.append({\"k\":k, \"z\":z, \"w\":w, \"h\":h,\n"
     ]
    },
    {
     "name": "stdout",
     "output_type": "stream",
     "text": [
      "174\n"
     ]
    },
    {
     "name": "stderr",
     "output_type": "stream",
     "text": [
      "/var/folders/32/6tv1kbfx7jn9vst5h14cqq4r0000gn/T/ipykernel_83888/1344092893.py:33: FutureWarning: The frame.append method is deprecated and will be removed from pandas in a future version. Use pandas.concat instead.\n",
      "  storage = storage.append({\"k\":k, \"z\":z, \"w\":w, \"h\":h,\n"
     ]
    },
    {
     "name": "stdout",
     "output_type": "stream",
     "text": [
      "175\n"
     ]
    },
    {
     "name": "stderr",
     "output_type": "stream",
     "text": [
      "/var/folders/32/6tv1kbfx7jn9vst5h14cqq4r0000gn/T/ipykernel_83888/1344092893.py:33: FutureWarning: The frame.append method is deprecated and will be removed from pandas in a future version. Use pandas.concat instead.\n",
      "  storage = storage.append({\"k\":k, \"z\":z, \"w\":w, \"h\":h,\n"
     ]
    },
    {
     "name": "stdout",
     "output_type": "stream",
     "text": [
      "176\n"
     ]
    },
    {
     "name": "stderr",
     "output_type": "stream",
     "text": [
      "/var/folders/32/6tv1kbfx7jn9vst5h14cqq4r0000gn/T/ipykernel_83888/1344092893.py:33: FutureWarning: The frame.append method is deprecated and will be removed from pandas in a future version. Use pandas.concat instead.\n",
      "  storage = storage.append({\"k\":k, \"z\":z, \"w\":w, \"h\":h,\n"
     ]
    },
    {
     "name": "stdout",
     "output_type": "stream",
     "text": [
      "177\n"
     ]
    },
    {
     "name": "stderr",
     "output_type": "stream",
     "text": [
      "/var/folders/32/6tv1kbfx7jn9vst5h14cqq4r0000gn/T/ipykernel_83888/1344092893.py:33: FutureWarning: The frame.append method is deprecated and will be removed from pandas in a future version. Use pandas.concat instead.\n",
      "  storage = storage.append({\"k\":k, \"z\":z, \"w\":w, \"h\":h,\n"
     ]
    },
    {
     "name": "stdout",
     "output_type": "stream",
     "text": [
      "178\n"
     ]
    },
    {
     "name": "stderr",
     "output_type": "stream",
     "text": [
      "/var/folders/32/6tv1kbfx7jn9vst5h14cqq4r0000gn/T/ipykernel_83888/1344092893.py:33: FutureWarning: The frame.append method is deprecated and will be removed from pandas in a future version. Use pandas.concat instead.\n",
      "  storage = storage.append({\"k\":k, \"z\":z, \"w\":w, \"h\":h,\n"
     ]
    },
    {
     "name": "stdout",
     "output_type": "stream",
     "text": [
      "179\n"
     ]
    },
    {
     "name": "stderr",
     "output_type": "stream",
     "text": [
      "/var/folders/32/6tv1kbfx7jn9vst5h14cqq4r0000gn/T/ipykernel_83888/1344092893.py:33: FutureWarning: The frame.append method is deprecated and will be removed from pandas in a future version. Use pandas.concat instead.\n",
      "  storage = storage.append({\"k\":k, \"z\":z, \"w\":w, \"h\":h,\n"
     ]
    },
    {
     "name": "stdout",
     "output_type": "stream",
     "text": [
      "180\n"
     ]
    },
    {
     "name": "stderr",
     "output_type": "stream",
     "text": [
      "/var/folders/32/6tv1kbfx7jn9vst5h14cqq4r0000gn/T/ipykernel_83888/1344092893.py:33: FutureWarning: The frame.append method is deprecated and will be removed from pandas in a future version. Use pandas.concat instead.\n",
      "  storage = storage.append({\"k\":k, \"z\":z, \"w\":w, \"h\":h,\n"
     ]
    },
    {
     "name": "stdout",
     "output_type": "stream",
     "text": [
      "181\n"
     ]
    },
    {
     "name": "stderr",
     "output_type": "stream",
     "text": [
      "/var/folders/32/6tv1kbfx7jn9vst5h14cqq4r0000gn/T/ipykernel_83888/1344092893.py:33: FutureWarning: The frame.append method is deprecated and will be removed from pandas in a future version. Use pandas.concat instead.\n",
      "  storage = storage.append({\"k\":k, \"z\":z, \"w\":w, \"h\":h,\n"
     ]
    },
    {
     "name": "stdout",
     "output_type": "stream",
     "text": [
      "182\n"
     ]
    },
    {
     "name": "stderr",
     "output_type": "stream",
     "text": [
      "/var/folders/32/6tv1kbfx7jn9vst5h14cqq4r0000gn/T/ipykernel_83888/1344092893.py:33: FutureWarning: The frame.append method is deprecated and will be removed from pandas in a future version. Use pandas.concat instead.\n",
      "  storage = storage.append({\"k\":k, \"z\":z, \"w\":w, \"h\":h,\n"
     ]
    },
    {
     "name": "stdout",
     "output_type": "stream",
     "text": [
      "183\n"
     ]
    },
    {
     "name": "stderr",
     "output_type": "stream",
     "text": [
      "/var/folders/32/6tv1kbfx7jn9vst5h14cqq4r0000gn/T/ipykernel_83888/1344092893.py:33: FutureWarning: The frame.append method is deprecated and will be removed from pandas in a future version. Use pandas.concat instead.\n",
      "  storage = storage.append({\"k\":k, \"z\":z, \"w\":w, \"h\":h,\n"
     ]
    },
    {
     "name": "stdout",
     "output_type": "stream",
     "text": [
      "184\n"
     ]
    },
    {
     "name": "stderr",
     "output_type": "stream",
     "text": [
      "/var/folders/32/6tv1kbfx7jn9vst5h14cqq4r0000gn/T/ipykernel_83888/1344092893.py:33: FutureWarning: The frame.append method is deprecated and will be removed from pandas in a future version. Use pandas.concat instead.\n",
      "  storage = storage.append({\"k\":k, \"z\":z, \"w\":w, \"h\":h,\n"
     ]
    },
    {
     "name": "stdout",
     "output_type": "stream",
     "text": [
      "185\n"
     ]
    },
    {
     "name": "stderr",
     "output_type": "stream",
     "text": [
      "/var/folders/32/6tv1kbfx7jn9vst5h14cqq4r0000gn/T/ipykernel_83888/1344092893.py:33: FutureWarning: The frame.append method is deprecated and will be removed from pandas in a future version. Use pandas.concat instead.\n",
      "  storage = storage.append({\"k\":k, \"z\":z, \"w\":w, \"h\":h,\n"
     ]
    },
    {
     "name": "stdout",
     "output_type": "stream",
     "text": [
      "186\n"
     ]
    },
    {
     "name": "stderr",
     "output_type": "stream",
     "text": [
      "/var/folders/32/6tv1kbfx7jn9vst5h14cqq4r0000gn/T/ipykernel_83888/1344092893.py:33: FutureWarning: The frame.append method is deprecated and will be removed from pandas in a future version. Use pandas.concat instead.\n",
      "  storage = storage.append({\"k\":k, \"z\":z, \"w\":w, \"h\":h,\n"
     ]
    },
    {
     "name": "stdout",
     "output_type": "stream",
     "text": [
      "187\n"
     ]
    },
    {
     "name": "stderr",
     "output_type": "stream",
     "text": [
      "/var/folders/32/6tv1kbfx7jn9vst5h14cqq4r0000gn/T/ipykernel_83888/1344092893.py:33: FutureWarning: The frame.append method is deprecated and will be removed from pandas in a future version. Use pandas.concat instead.\n",
      "  storage = storage.append({\"k\":k, \"z\":z, \"w\":w, \"h\":h,\n"
     ]
    },
    {
     "name": "stdout",
     "output_type": "stream",
     "text": [
      "188\n"
     ]
    },
    {
     "name": "stderr",
     "output_type": "stream",
     "text": [
      "/var/folders/32/6tv1kbfx7jn9vst5h14cqq4r0000gn/T/ipykernel_83888/1344092893.py:33: FutureWarning: The frame.append method is deprecated and will be removed from pandas in a future version. Use pandas.concat instead.\n",
      "  storage = storage.append({\"k\":k, \"z\":z, \"w\":w, \"h\":h,\n"
     ]
    },
    {
     "name": "stdout",
     "output_type": "stream",
     "text": [
      "189\n"
     ]
    },
    {
     "name": "stderr",
     "output_type": "stream",
     "text": [
      "/var/folders/32/6tv1kbfx7jn9vst5h14cqq4r0000gn/T/ipykernel_83888/1344092893.py:33: FutureWarning: The frame.append method is deprecated and will be removed from pandas in a future version. Use pandas.concat instead.\n",
      "  storage = storage.append({\"k\":k, \"z\":z, \"w\":w, \"h\":h,\n"
     ]
    },
    {
     "name": "stdout",
     "output_type": "stream",
     "text": [
      "190\n"
     ]
    },
    {
     "name": "stderr",
     "output_type": "stream",
     "text": [
      "/var/folders/32/6tv1kbfx7jn9vst5h14cqq4r0000gn/T/ipykernel_83888/1344092893.py:33: FutureWarning: The frame.append method is deprecated and will be removed from pandas in a future version. Use pandas.concat instead.\n",
      "  storage = storage.append({\"k\":k, \"z\":z, \"w\":w, \"h\":h,\n"
     ]
    },
    {
     "name": "stdout",
     "output_type": "stream",
     "text": [
      "191\n"
     ]
    },
    {
     "name": "stderr",
     "output_type": "stream",
     "text": [
      "/var/folders/32/6tv1kbfx7jn9vst5h14cqq4r0000gn/T/ipykernel_83888/1344092893.py:33: FutureWarning: The frame.append method is deprecated and will be removed from pandas in a future version. Use pandas.concat instead.\n",
      "  storage = storage.append({\"k\":k, \"z\":z, \"w\":w, \"h\":h,\n"
     ]
    },
    {
     "name": "stdout",
     "output_type": "stream",
     "text": [
      "192\n"
     ]
    },
    {
     "name": "stderr",
     "output_type": "stream",
     "text": [
      "/var/folders/32/6tv1kbfx7jn9vst5h14cqq4r0000gn/T/ipykernel_83888/1344092893.py:33: FutureWarning: The frame.append method is deprecated and will be removed from pandas in a future version. Use pandas.concat instead.\n",
      "  storage = storage.append({\"k\":k, \"z\":z, \"w\":w, \"h\":h,\n"
     ]
    },
    {
     "name": "stdout",
     "output_type": "stream",
     "text": [
      "193\n"
     ]
    },
    {
     "name": "stderr",
     "output_type": "stream",
     "text": [
      "/var/folders/32/6tv1kbfx7jn9vst5h14cqq4r0000gn/T/ipykernel_83888/1344092893.py:33: FutureWarning: The frame.append method is deprecated and will be removed from pandas in a future version. Use pandas.concat instead.\n",
      "  storage = storage.append({\"k\":k, \"z\":z, \"w\":w, \"h\":h,\n"
     ]
    },
    {
     "name": "stdout",
     "output_type": "stream",
     "text": [
      "194\n"
     ]
    },
    {
     "name": "stderr",
     "output_type": "stream",
     "text": [
      "/var/folders/32/6tv1kbfx7jn9vst5h14cqq4r0000gn/T/ipykernel_83888/1344092893.py:33: FutureWarning: The frame.append method is deprecated and will be removed from pandas in a future version. Use pandas.concat instead.\n",
      "  storage = storage.append({\"k\":k, \"z\":z, \"w\":w, \"h\":h,\n"
     ]
    },
    {
     "name": "stdout",
     "output_type": "stream",
     "text": [
      "195\n"
     ]
    },
    {
     "name": "stderr",
     "output_type": "stream",
     "text": [
      "/var/folders/32/6tv1kbfx7jn9vst5h14cqq4r0000gn/T/ipykernel_83888/1344092893.py:33: FutureWarning: The frame.append method is deprecated and will be removed from pandas in a future version. Use pandas.concat instead.\n",
      "  storage = storage.append({\"k\":k, \"z\":z, \"w\":w, \"h\":h,\n"
     ]
    },
    {
     "name": "stdout",
     "output_type": "stream",
     "text": [
      "196\n"
     ]
    },
    {
     "name": "stderr",
     "output_type": "stream",
     "text": [
      "/var/folders/32/6tv1kbfx7jn9vst5h14cqq4r0000gn/T/ipykernel_83888/1344092893.py:33: FutureWarning: The frame.append method is deprecated and will be removed from pandas in a future version. Use pandas.concat instead.\n",
      "  storage = storage.append({\"k\":k, \"z\":z, \"w\":w, \"h\":h,\n"
     ]
    },
    {
     "name": "stdout",
     "output_type": "stream",
     "text": [
      "197\n"
     ]
    },
    {
     "name": "stderr",
     "output_type": "stream",
     "text": [
      "/var/folders/32/6tv1kbfx7jn9vst5h14cqq4r0000gn/T/ipykernel_83888/1344092893.py:33: FutureWarning: The frame.append method is deprecated and will be removed from pandas in a future version. Use pandas.concat instead.\n",
      "  storage = storage.append({\"k\":k, \"z\":z, \"w\":w, \"h\":h,\n"
     ]
    },
    {
     "name": "stdout",
     "output_type": "stream",
     "text": [
      "198\n"
     ]
    },
    {
     "name": "stderr",
     "output_type": "stream",
     "text": [
      "/var/folders/32/6tv1kbfx7jn9vst5h14cqq4r0000gn/T/ipykernel_83888/1344092893.py:33: FutureWarning: The frame.append method is deprecated and will be removed from pandas in a future version. Use pandas.concat instead.\n",
      "  storage = storage.append({\"k\":k, \"z\":z, \"w\":w, \"h\":h,\n"
     ]
    },
    {
     "name": "stdout",
     "output_type": "stream",
     "text": [
      "199\n"
     ]
    },
    {
     "name": "stderr",
     "output_type": "stream",
     "text": [
      "/var/folders/32/6tv1kbfx7jn9vst5h14cqq4r0000gn/T/ipykernel_83888/1344092893.py:33: FutureWarning: The frame.append method is deprecated and will be removed from pandas in a future version. Use pandas.concat instead.\n",
      "  storage = storage.append({\"k\":k, \"z\":z, \"w\":w, \"h\":h,\n"
     ]
    },
    {
     "name": "stdout",
     "output_type": "stream",
     "text": [
      "200\n"
     ]
    },
    {
     "name": "stderr",
     "output_type": "stream",
     "text": [
      "/var/folders/32/6tv1kbfx7jn9vst5h14cqq4r0000gn/T/ipykernel_83888/1344092893.py:33: FutureWarning: The frame.append method is deprecated and will be removed from pandas in a future version. Use pandas.concat instead.\n",
      "  storage = storage.append({\"k\":k, \"z\":z, \"w\":w, \"h\":h,\n"
     ]
    },
    {
     "name": "stdout",
     "output_type": "stream",
     "text": [
      "201\n"
     ]
    },
    {
     "name": "stderr",
     "output_type": "stream",
     "text": [
      "/var/folders/32/6tv1kbfx7jn9vst5h14cqq4r0000gn/T/ipykernel_83888/1344092893.py:33: FutureWarning: The frame.append method is deprecated and will be removed from pandas in a future version. Use pandas.concat instead.\n",
      "  storage = storage.append({\"k\":k, \"z\":z, \"w\":w, \"h\":h,\n"
     ]
    },
    {
     "name": "stdout",
     "output_type": "stream",
     "text": [
      "202\n"
     ]
    },
    {
     "name": "stderr",
     "output_type": "stream",
     "text": [
      "/var/folders/32/6tv1kbfx7jn9vst5h14cqq4r0000gn/T/ipykernel_83888/1344092893.py:33: FutureWarning: The frame.append method is deprecated and will be removed from pandas in a future version. Use pandas.concat instead.\n",
      "  storage = storage.append({\"k\":k, \"z\":z, \"w\":w, \"h\":h,\n"
     ]
    },
    {
     "name": "stdout",
     "output_type": "stream",
     "text": [
      "203\n"
     ]
    },
    {
     "name": "stderr",
     "output_type": "stream",
     "text": [
      "/var/folders/32/6tv1kbfx7jn9vst5h14cqq4r0000gn/T/ipykernel_83888/1344092893.py:33: FutureWarning: The frame.append method is deprecated and will be removed from pandas in a future version. Use pandas.concat instead.\n",
      "  storage = storage.append({\"k\":k, \"z\":z, \"w\":w, \"h\":h,\n"
     ]
    },
    {
     "name": "stdout",
     "output_type": "stream",
     "text": [
      "204\n"
     ]
    },
    {
     "name": "stderr",
     "output_type": "stream",
     "text": [
      "/var/folders/32/6tv1kbfx7jn9vst5h14cqq4r0000gn/T/ipykernel_83888/1344092893.py:33: FutureWarning: The frame.append method is deprecated and will be removed from pandas in a future version. Use pandas.concat instead.\n",
      "  storage = storage.append({\"k\":k, \"z\":z, \"w\":w, \"h\":h,\n"
     ]
    },
    {
     "name": "stdout",
     "output_type": "stream",
     "text": [
      "205\n"
     ]
    },
    {
     "name": "stderr",
     "output_type": "stream",
     "text": [
      "/var/folders/32/6tv1kbfx7jn9vst5h14cqq4r0000gn/T/ipykernel_83888/1344092893.py:33: FutureWarning: The frame.append method is deprecated and will be removed from pandas in a future version. Use pandas.concat instead.\n",
      "  storage = storage.append({\"k\":k, \"z\":z, \"w\":w, \"h\":h,\n"
     ]
    },
    {
     "name": "stdout",
     "output_type": "stream",
     "text": [
      "206\n"
     ]
    },
    {
     "name": "stderr",
     "output_type": "stream",
     "text": [
      "/var/folders/32/6tv1kbfx7jn9vst5h14cqq4r0000gn/T/ipykernel_83888/1344092893.py:33: FutureWarning: The frame.append method is deprecated and will be removed from pandas in a future version. Use pandas.concat instead.\n",
      "  storage = storage.append({\"k\":k, \"z\":z, \"w\":w, \"h\":h,\n"
     ]
    },
    {
     "name": "stdout",
     "output_type": "stream",
     "text": [
      "207\n"
     ]
    },
    {
     "name": "stderr",
     "output_type": "stream",
     "text": [
      "/var/folders/32/6tv1kbfx7jn9vst5h14cqq4r0000gn/T/ipykernel_83888/1344092893.py:33: FutureWarning: The frame.append method is deprecated and will be removed from pandas in a future version. Use pandas.concat instead.\n",
      "  storage = storage.append({\"k\":k, \"z\":z, \"w\":w, \"h\":h,\n"
     ]
    },
    {
     "name": "stdout",
     "output_type": "stream",
     "text": [
      "208\n"
     ]
    },
    {
     "name": "stderr",
     "output_type": "stream",
     "text": [
      "/var/folders/32/6tv1kbfx7jn9vst5h14cqq4r0000gn/T/ipykernel_83888/1344092893.py:33: FutureWarning: The frame.append method is deprecated and will be removed from pandas in a future version. Use pandas.concat instead.\n",
      "  storage = storage.append({\"k\":k, \"z\":z, \"w\":w, \"h\":h,\n"
     ]
    },
    {
     "name": "stdout",
     "output_type": "stream",
     "text": [
      "209\n"
     ]
    },
    {
     "name": "stderr",
     "output_type": "stream",
     "text": [
      "/var/folders/32/6tv1kbfx7jn9vst5h14cqq4r0000gn/T/ipykernel_83888/1344092893.py:33: FutureWarning: The frame.append method is deprecated and will be removed from pandas in a future version. Use pandas.concat instead.\n",
      "  storage = storage.append({\"k\":k, \"z\":z, \"w\":w, \"h\":h,\n"
     ]
    },
    {
     "name": "stdout",
     "output_type": "stream",
     "text": [
      "210\n"
     ]
    },
    {
     "name": "stderr",
     "output_type": "stream",
     "text": [
      "/var/folders/32/6tv1kbfx7jn9vst5h14cqq4r0000gn/T/ipykernel_83888/1344092893.py:33: FutureWarning: The frame.append method is deprecated and will be removed from pandas in a future version. Use pandas.concat instead.\n",
      "  storage = storage.append({\"k\":k, \"z\":z, \"w\":w, \"h\":h,\n"
     ]
    },
    {
     "name": "stdout",
     "output_type": "stream",
     "text": [
      "211\n"
     ]
    },
    {
     "name": "stderr",
     "output_type": "stream",
     "text": [
      "/var/folders/32/6tv1kbfx7jn9vst5h14cqq4r0000gn/T/ipykernel_83888/1344092893.py:33: FutureWarning: The frame.append method is deprecated and will be removed from pandas in a future version. Use pandas.concat instead.\n",
      "  storage = storage.append({\"k\":k, \"z\":z, \"w\":w, \"h\":h,\n"
     ]
    },
    {
     "name": "stdout",
     "output_type": "stream",
     "text": [
      "212\n"
     ]
    },
    {
     "name": "stderr",
     "output_type": "stream",
     "text": [
      "/var/folders/32/6tv1kbfx7jn9vst5h14cqq4r0000gn/T/ipykernel_83888/1344092893.py:33: FutureWarning: The frame.append method is deprecated and will be removed from pandas in a future version. Use pandas.concat instead.\n",
      "  storage = storage.append({\"k\":k, \"z\":z, \"w\":w, \"h\":h,\n"
     ]
    },
    {
     "name": "stdout",
     "output_type": "stream",
     "text": [
      "213\n"
     ]
    },
    {
     "name": "stderr",
     "output_type": "stream",
     "text": [
      "/var/folders/32/6tv1kbfx7jn9vst5h14cqq4r0000gn/T/ipykernel_83888/1344092893.py:33: FutureWarning: The frame.append method is deprecated and will be removed from pandas in a future version. Use pandas.concat instead.\n",
      "  storage = storage.append({\"k\":k, \"z\":z, \"w\":w, \"h\":h,\n"
     ]
    },
    {
     "name": "stdout",
     "output_type": "stream",
     "text": [
      "214\n"
     ]
    },
    {
     "name": "stderr",
     "output_type": "stream",
     "text": [
      "/var/folders/32/6tv1kbfx7jn9vst5h14cqq4r0000gn/T/ipykernel_83888/1344092893.py:33: FutureWarning: The frame.append method is deprecated and will be removed from pandas in a future version. Use pandas.concat instead.\n",
      "  storage = storage.append({\"k\":k, \"z\":z, \"w\":w, \"h\":h,\n"
     ]
    },
    {
     "name": "stdout",
     "output_type": "stream",
     "text": [
      "215\n"
     ]
    },
    {
     "name": "stderr",
     "output_type": "stream",
     "text": [
      "/var/folders/32/6tv1kbfx7jn9vst5h14cqq4r0000gn/T/ipykernel_83888/1344092893.py:33: FutureWarning: The frame.append method is deprecated and will be removed from pandas in a future version. Use pandas.concat instead.\n",
      "  storage = storage.append({\"k\":k, \"z\":z, \"w\":w, \"h\":h,\n"
     ]
    },
    {
     "name": "stdout",
     "output_type": "stream",
     "text": [
      "216\n"
     ]
    },
    {
     "name": "stderr",
     "output_type": "stream",
     "text": [
      "/var/folders/32/6tv1kbfx7jn9vst5h14cqq4r0000gn/T/ipykernel_83888/1344092893.py:33: FutureWarning: The frame.append method is deprecated and will be removed from pandas in a future version. Use pandas.concat instead.\n",
      "  storage = storage.append({\"k\":k, \"z\":z, \"w\":w, \"h\":h,\n"
     ]
    },
    {
     "name": "stdout",
     "output_type": "stream",
     "text": [
      "217\n"
     ]
    },
    {
     "name": "stderr",
     "output_type": "stream",
     "text": [
      "/var/folders/32/6tv1kbfx7jn9vst5h14cqq4r0000gn/T/ipykernel_83888/1344092893.py:33: FutureWarning: The frame.append method is deprecated and will be removed from pandas in a future version. Use pandas.concat instead.\n",
      "  storage = storage.append({\"k\":k, \"z\":z, \"w\":w, \"h\":h,\n"
     ]
    },
    {
     "name": "stdout",
     "output_type": "stream",
     "text": [
      "218\n"
     ]
    },
    {
     "name": "stderr",
     "output_type": "stream",
     "text": [
      "/var/folders/32/6tv1kbfx7jn9vst5h14cqq4r0000gn/T/ipykernel_83888/1344092893.py:33: FutureWarning: The frame.append method is deprecated and will be removed from pandas in a future version. Use pandas.concat instead.\n",
      "  storage = storage.append({\"k\":k, \"z\":z, \"w\":w, \"h\":h,\n"
     ]
    },
    {
     "name": "stdout",
     "output_type": "stream",
     "text": [
      "219\n"
     ]
    },
    {
     "name": "stderr",
     "output_type": "stream",
     "text": [
      "/var/folders/32/6tv1kbfx7jn9vst5h14cqq4r0000gn/T/ipykernel_83888/1344092893.py:33: FutureWarning: The frame.append method is deprecated and will be removed from pandas in a future version. Use pandas.concat instead.\n",
      "  storage = storage.append({\"k\":k, \"z\":z, \"w\":w, \"h\":h,\n"
     ]
    },
    {
     "name": "stdout",
     "output_type": "stream",
     "text": [
      "220\n"
     ]
    },
    {
     "name": "stderr",
     "output_type": "stream",
     "text": [
      "/var/folders/32/6tv1kbfx7jn9vst5h14cqq4r0000gn/T/ipykernel_83888/1344092893.py:33: FutureWarning: The frame.append method is deprecated and will be removed from pandas in a future version. Use pandas.concat instead.\n",
      "  storage = storage.append({\"k\":k, \"z\":z, \"w\":w, \"h\":h,\n"
     ]
    },
    {
     "name": "stdout",
     "output_type": "stream",
     "text": [
      "221\n"
     ]
    },
    {
     "name": "stderr",
     "output_type": "stream",
     "text": [
      "/var/folders/32/6tv1kbfx7jn9vst5h14cqq4r0000gn/T/ipykernel_83888/1344092893.py:33: FutureWarning: The frame.append method is deprecated and will be removed from pandas in a future version. Use pandas.concat instead.\n",
      "  storage = storage.append({\"k\":k, \"z\":z, \"w\":w, \"h\":h,\n"
     ]
    },
    {
     "name": "stdout",
     "output_type": "stream",
     "text": [
      "222\n"
     ]
    },
    {
     "name": "stderr",
     "output_type": "stream",
     "text": [
      "/var/folders/32/6tv1kbfx7jn9vst5h14cqq4r0000gn/T/ipykernel_83888/1344092893.py:33: FutureWarning: The frame.append method is deprecated and will be removed from pandas in a future version. Use pandas.concat instead.\n",
      "  storage = storage.append({\"k\":k, \"z\":z, \"w\":w, \"h\":h,\n"
     ]
    },
    {
     "name": "stdout",
     "output_type": "stream",
     "text": [
      "223\n"
     ]
    },
    {
     "name": "stderr",
     "output_type": "stream",
     "text": [
      "/var/folders/32/6tv1kbfx7jn9vst5h14cqq4r0000gn/T/ipykernel_83888/1344092893.py:33: FutureWarning: The frame.append method is deprecated and will be removed from pandas in a future version. Use pandas.concat instead.\n",
      "  storage = storage.append({\"k\":k, \"z\":z, \"w\":w, \"h\":h,\n"
     ]
    },
    {
     "name": "stdout",
     "output_type": "stream",
     "text": [
      "224\n"
     ]
    },
    {
     "name": "stderr",
     "output_type": "stream",
     "text": [
      "/var/folders/32/6tv1kbfx7jn9vst5h14cqq4r0000gn/T/ipykernel_83888/1344092893.py:33: FutureWarning: The frame.append method is deprecated and will be removed from pandas in a future version. Use pandas.concat instead.\n",
      "  storage = storage.append({\"k\":k, \"z\":z, \"w\":w, \"h\":h,\n"
     ]
    },
    {
     "name": "stdout",
     "output_type": "stream",
     "text": [
      "225\n"
     ]
    },
    {
     "name": "stderr",
     "output_type": "stream",
     "text": [
      "/var/folders/32/6tv1kbfx7jn9vst5h14cqq4r0000gn/T/ipykernel_83888/1344092893.py:33: FutureWarning: The frame.append method is deprecated and will be removed from pandas in a future version. Use pandas.concat instead.\n",
      "  storage = storage.append({\"k\":k, \"z\":z, \"w\":w, \"h\":h,\n"
     ]
    },
    {
     "name": "stdout",
     "output_type": "stream",
     "text": [
      "226\n"
     ]
    },
    {
     "name": "stderr",
     "output_type": "stream",
     "text": [
      "/var/folders/32/6tv1kbfx7jn9vst5h14cqq4r0000gn/T/ipykernel_83888/1344092893.py:33: FutureWarning: The frame.append method is deprecated and will be removed from pandas in a future version. Use pandas.concat instead.\n",
      "  storage = storage.append({\"k\":k, \"z\":z, \"w\":w, \"h\":h,\n"
     ]
    },
    {
     "name": "stdout",
     "output_type": "stream",
     "text": [
      "227\n"
     ]
    },
    {
     "name": "stderr",
     "output_type": "stream",
     "text": [
      "/var/folders/32/6tv1kbfx7jn9vst5h14cqq4r0000gn/T/ipykernel_83888/1344092893.py:33: FutureWarning: The frame.append method is deprecated and will be removed from pandas in a future version. Use pandas.concat instead.\n",
      "  storage = storage.append({\"k\":k, \"z\":z, \"w\":w, \"h\":h,\n"
     ]
    },
    {
     "name": "stdout",
     "output_type": "stream",
     "text": [
      "228\n"
     ]
    },
    {
     "name": "stderr",
     "output_type": "stream",
     "text": [
      "/var/folders/32/6tv1kbfx7jn9vst5h14cqq4r0000gn/T/ipykernel_83888/1344092893.py:33: FutureWarning: The frame.append method is deprecated and will be removed from pandas in a future version. Use pandas.concat instead.\n",
      "  storage = storage.append({\"k\":k, \"z\":z, \"w\":w, \"h\":h,\n"
     ]
    },
    {
     "name": "stdout",
     "output_type": "stream",
     "text": [
      "229\n"
     ]
    },
    {
     "name": "stderr",
     "output_type": "stream",
     "text": [
      "/var/folders/32/6tv1kbfx7jn9vst5h14cqq4r0000gn/T/ipykernel_83888/1344092893.py:33: FutureWarning: The frame.append method is deprecated and will be removed from pandas in a future version. Use pandas.concat instead.\n",
      "  storage = storage.append({\"k\":k, \"z\":z, \"w\":w, \"h\":h,\n"
     ]
    },
    {
     "name": "stdout",
     "output_type": "stream",
     "text": [
      "230\n"
     ]
    },
    {
     "name": "stderr",
     "output_type": "stream",
     "text": [
      "/var/folders/32/6tv1kbfx7jn9vst5h14cqq4r0000gn/T/ipykernel_83888/1344092893.py:33: FutureWarning: The frame.append method is deprecated and will be removed from pandas in a future version. Use pandas.concat instead.\n",
      "  storage = storage.append({\"k\":k, \"z\":z, \"w\":w, \"h\":h,\n"
     ]
    },
    {
     "name": "stdout",
     "output_type": "stream",
     "text": [
      "231\n"
     ]
    },
    {
     "name": "stderr",
     "output_type": "stream",
     "text": [
      "/var/folders/32/6tv1kbfx7jn9vst5h14cqq4r0000gn/T/ipykernel_83888/1344092893.py:33: FutureWarning: The frame.append method is deprecated and will be removed from pandas in a future version. Use pandas.concat instead.\n",
      "  storage = storage.append({\"k\":k, \"z\":z, \"w\":w, \"h\":h,\n"
     ]
    },
    {
     "name": "stdout",
     "output_type": "stream",
     "text": [
      "232\n"
     ]
    },
    {
     "name": "stderr",
     "output_type": "stream",
     "text": [
      "/var/folders/32/6tv1kbfx7jn9vst5h14cqq4r0000gn/T/ipykernel_83888/1344092893.py:33: FutureWarning: The frame.append method is deprecated and will be removed from pandas in a future version. Use pandas.concat instead.\n",
      "  storage = storage.append({\"k\":k, \"z\":z, \"w\":w, \"h\":h,\n"
     ]
    },
    {
     "name": "stdout",
     "output_type": "stream",
     "text": [
      "233\n"
     ]
    },
    {
     "name": "stderr",
     "output_type": "stream",
     "text": [
      "/var/folders/32/6tv1kbfx7jn9vst5h14cqq4r0000gn/T/ipykernel_83888/1344092893.py:33: FutureWarning: The frame.append method is deprecated and will be removed from pandas in a future version. Use pandas.concat instead.\n",
      "  storage = storage.append({\"k\":k, \"z\":z, \"w\":w, \"h\":h,\n"
     ]
    },
    {
     "name": "stdout",
     "output_type": "stream",
     "text": [
      "234\n"
     ]
    },
    {
     "name": "stderr",
     "output_type": "stream",
     "text": [
      "/var/folders/32/6tv1kbfx7jn9vst5h14cqq4r0000gn/T/ipykernel_83888/1344092893.py:33: FutureWarning: The frame.append method is deprecated and will be removed from pandas in a future version. Use pandas.concat instead.\n",
      "  storage = storage.append({\"k\":k, \"z\":z, \"w\":w, \"h\":h,\n"
     ]
    },
    {
     "name": "stdout",
     "output_type": "stream",
     "text": [
      "235\n"
     ]
    },
    {
     "name": "stderr",
     "output_type": "stream",
     "text": [
      "/var/folders/32/6tv1kbfx7jn9vst5h14cqq4r0000gn/T/ipykernel_83888/1344092893.py:33: FutureWarning: The frame.append method is deprecated and will be removed from pandas in a future version. Use pandas.concat instead.\n",
      "  storage = storage.append({\"k\":k, \"z\":z, \"w\":w, \"h\":h,\n"
     ]
    },
    {
     "name": "stdout",
     "output_type": "stream",
     "text": [
      "236\n"
     ]
    },
    {
     "name": "stderr",
     "output_type": "stream",
     "text": [
      "/var/folders/32/6tv1kbfx7jn9vst5h14cqq4r0000gn/T/ipykernel_83888/1344092893.py:33: FutureWarning: The frame.append method is deprecated and will be removed from pandas in a future version. Use pandas.concat instead.\n",
      "  storage = storage.append({\"k\":k, \"z\":z, \"w\":w, \"h\":h,\n"
     ]
    },
    {
     "name": "stdout",
     "output_type": "stream",
     "text": [
      "237\n"
     ]
    },
    {
     "name": "stderr",
     "output_type": "stream",
     "text": [
      "/var/folders/32/6tv1kbfx7jn9vst5h14cqq4r0000gn/T/ipykernel_83888/1344092893.py:33: FutureWarning: The frame.append method is deprecated and will be removed from pandas in a future version. Use pandas.concat instead.\n",
      "  storage = storage.append({\"k\":k, \"z\":z, \"w\":w, \"h\":h,\n"
     ]
    },
    {
     "name": "stdout",
     "output_type": "stream",
     "text": [
      "238\n"
     ]
    },
    {
     "name": "stderr",
     "output_type": "stream",
     "text": [
      "/var/folders/32/6tv1kbfx7jn9vst5h14cqq4r0000gn/T/ipykernel_83888/1344092893.py:33: FutureWarning: The frame.append method is deprecated and will be removed from pandas in a future version. Use pandas.concat instead.\n",
      "  storage = storage.append({\"k\":k, \"z\":z, \"w\":w, \"h\":h,\n"
     ]
    },
    {
     "name": "stdout",
     "output_type": "stream",
     "text": [
      "239\n"
     ]
    },
    {
     "name": "stderr",
     "output_type": "stream",
     "text": [
      "/var/folders/32/6tv1kbfx7jn9vst5h14cqq4r0000gn/T/ipykernel_83888/1344092893.py:33: FutureWarning: The frame.append method is deprecated and will be removed from pandas in a future version. Use pandas.concat instead.\n",
      "  storage = storage.append({\"k\":k, \"z\":z, \"w\":w, \"h\":h,\n"
     ]
    },
    {
     "name": "stdout",
     "output_type": "stream",
     "text": [
      "240\n"
     ]
    },
    {
     "name": "stderr",
     "output_type": "stream",
     "text": [
      "/var/folders/32/6tv1kbfx7jn9vst5h14cqq4r0000gn/T/ipykernel_83888/1344092893.py:33: FutureWarning: The frame.append method is deprecated and will be removed from pandas in a future version. Use pandas.concat instead.\n",
      "  storage = storage.append({\"k\":k, \"z\":z, \"w\":w, \"h\":h,\n"
     ]
    },
    {
     "name": "stdout",
     "output_type": "stream",
     "text": [
      "241\n"
     ]
    },
    {
     "name": "stderr",
     "output_type": "stream",
     "text": [
      "/var/folders/32/6tv1kbfx7jn9vst5h14cqq4r0000gn/T/ipykernel_83888/1344092893.py:33: FutureWarning: The frame.append method is deprecated and will be removed from pandas in a future version. Use pandas.concat instead.\n",
      "  storage = storage.append({\"k\":k, \"z\":z, \"w\":w, \"h\":h,\n"
     ]
    },
    {
     "name": "stdout",
     "output_type": "stream",
     "text": [
      "242\n"
     ]
    },
    {
     "name": "stderr",
     "output_type": "stream",
     "text": [
      "/var/folders/32/6tv1kbfx7jn9vst5h14cqq4r0000gn/T/ipykernel_83888/1344092893.py:33: FutureWarning: The frame.append method is deprecated and will be removed from pandas in a future version. Use pandas.concat instead.\n",
      "  storage = storage.append({\"k\":k, \"z\":z, \"w\":w, \"h\":h,\n"
     ]
    },
    {
     "name": "stdout",
     "output_type": "stream",
     "text": [
      "243\n"
     ]
    },
    {
     "name": "stderr",
     "output_type": "stream",
     "text": [
      "/var/folders/32/6tv1kbfx7jn9vst5h14cqq4r0000gn/T/ipykernel_83888/1344092893.py:33: FutureWarning: The frame.append method is deprecated and will be removed from pandas in a future version. Use pandas.concat instead.\n",
      "  storage = storage.append({\"k\":k, \"z\":z, \"w\":w, \"h\":h,\n"
     ]
    },
    {
     "name": "stdout",
     "output_type": "stream",
     "text": [
      "244\n"
     ]
    },
    {
     "name": "stderr",
     "output_type": "stream",
     "text": [
      "/var/folders/32/6tv1kbfx7jn9vst5h14cqq4r0000gn/T/ipykernel_83888/1344092893.py:33: FutureWarning: The frame.append method is deprecated and will be removed from pandas in a future version. Use pandas.concat instead.\n",
      "  storage = storage.append({\"k\":k, \"z\":z, \"w\":w, \"h\":h,\n"
     ]
    },
    {
     "name": "stdout",
     "output_type": "stream",
     "text": [
      "245\n"
     ]
    },
    {
     "name": "stderr",
     "output_type": "stream",
     "text": [
      "/var/folders/32/6tv1kbfx7jn9vst5h14cqq4r0000gn/T/ipykernel_83888/1344092893.py:33: FutureWarning: The frame.append method is deprecated and will be removed from pandas in a future version. Use pandas.concat instead.\n",
      "  storage = storage.append({\"k\":k, \"z\":z, \"w\":w, \"h\":h,\n"
     ]
    },
    {
     "name": "stdout",
     "output_type": "stream",
     "text": [
      "246\n"
     ]
    },
    {
     "name": "stderr",
     "output_type": "stream",
     "text": [
      "/var/folders/32/6tv1kbfx7jn9vst5h14cqq4r0000gn/T/ipykernel_83888/1344092893.py:33: FutureWarning: The frame.append method is deprecated and will be removed from pandas in a future version. Use pandas.concat instead.\n",
      "  storage = storage.append({\"k\":k, \"z\":z, \"w\":w, \"h\":h,\n"
     ]
    },
    {
     "name": "stdout",
     "output_type": "stream",
     "text": [
      "247\n"
     ]
    },
    {
     "name": "stderr",
     "output_type": "stream",
     "text": [
      "/var/folders/32/6tv1kbfx7jn9vst5h14cqq4r0000gn/T/ipykernel_83888/1344092893.py:33: FutureWarning: The frame.append method is deprecated and will be removed from pandas in a future version. Use pandas.concat instead.\n",
      "  storage = storage.append({\"k\":k, \"z\":z, \"w\":w, \"h\":h,\n"
     ]
    },
    {
     "name": "stdout",
     "output_type": "stream",
     "text": [
      "248\n"
     ]
    },
    {
     "name": "stderr",
     "output_type": "stream",
     "text": [
      "/var/folders/32/6tv1kbfx7jn9vst5h14cqq4r0000gn/T/ipykernel_83888/1344092893.py:33: FutureWarning: The frame.append method is deprecated and will be removed from pandas in a future version. Use pandas.concat instead.\n",
      "  storage = storage.append({\"k\":k, \"z\":z, \"w\":w, \"h\":h,\n"
     ]
    },
    {
     "name": "stdout",
     "output_type": "stream",
     "text": [
      "249\n"
     ]
    },
    {
     "name": "stderr",
     "output_type": "stream",
     "text": [
      "/var/folders/32/6tv1kbfx7jn9vst5h14cqq4r0000gn/T/ipykernel_83888/1344092893.py:33: FutureWarning: The frame.append method is deprecated and will be removed from pandas in a future version. Use pandas.concat instead.\n",
      "  storage = storage.append({\"k\":k, \"z\":z, \"w\":w, \"h\":h,\n"
     ]
    },
    {
     "name": "stdout",
     "output_type": "stream",
     "text": [
      "250\n"
     ]
    },
    {
     "name": "stderr",
     "output_type": "stream",
     "text": [
      "/var/folders/32/6tv1kbfx7jn9vst5h14cqq4r0000gn/T/ipykernel_83888/1344092893.py:33: FutureWarning: The frame.append method is deprecated and will be removed from pandas in a future version. Use pandas.concat instead.\n",
      "  storage = storage.append({\"k\":k, \"z\":z, \"w\":w, \"h\":h,\n"
     ]
    },
    {
     "name": "stdout",
     "output_type": "stream",
     "text": [
      "251\n"
     ]
    },
    {
     "name": "stderr",
     "output_type": "stream",
     "text": [
      "/var/folders/32/6tv1kbfx7jn9vst5h14cqq4r0000gn/T/ipykernel_83888/1344092893.py:33: FutureWarning: The frame.append method is deprecated and will be removed from pandas in a future version. Use pandas.concat instead.\n",
      "  storage = storage.append({\"k\":k, \"z\":z, \"w\":w, \"h\":h,\n"
     ]
    },
    {
     "name": "stdout",
     "output_type": "stream",
     "text": [
      "252\n"
     ]
    },
    {
     "name": "stderr",
     "output_type": "stream",
     "text": [
      "/var/folders/32/6tv1kbfx7jn9vst5h14cqq4r0000gn/T/ipykernel_83888/1344092893.py:33: FutureWarning: The frame.append method is deprecated and will be removed from pandas in a future version. Use pandas.concat instead.\n",
      "  storage = storage.append({\"k\":k, \"z\":z, \"w\":w, \"h\":h,\n"
     ]
    },
    {
     "name": "stdout",
     "output_type": "stream",
     "text": [
      "253\n"
     ]
    },
    {
     "name": "stderr",
     "output_type": "stream",
     "text": [
      "/var/folders/32/6tv1kbfx7jn9vst5h14cqq4r0000gn/T/ipykernel_83888/1344092893.py:33: FutureWarning: The frame.append method is deprecated and will be removed from pandas in a future version. Use pandas.concat instead.\n",
      "  storage = storage.append({\"k\":k, \"z\":z, \"w\":w, \"h\":h,\n"
     ]
    },
    {
     "name": "stdout",
     "output_type": "stream",
     "text": [
      "254\n"
     ]
    },
    {
     "name": "stderr",
     "output_type": "stream",
     "text": [
      "/var/folders/32/6tv1kbfx7jn9vst5h14cqq4r0000gn/T/ipykernel_83888/1344092893.py:33: FutureWarning: The frame.append method is deprecated and will be removed from pandas in a future version. Use pandas.concat instead.\n",
      "  storage = storage.append({\"k\":k, \"z\":z, \"w\":w, \"h\":h,\n"
     ]
    },
    {
     "name": "stdout",
     "output_type": "stream",
     "text": [
      "255\n"
     ]
    },
    {
     "name": "stderr",
     "output_type": "stream",
     "text": [
      "/var/folders/32/6tv1kbfx7jn9vst5h14cqq4r0000gn/T/ipykernel_83888/1344092893.py:33: FutureWarning: The frame.append method is deprecated and will be removed from pandas in a future version. Use pandas.concat instead.\n",
      "  storage = storage.append({\"k\":k, \"z\":z, \"w\":w, \"h\":h,\n"
     ]
    },
    {
     "name": "stdout",
     "output_type": "stream",
     "text": [
      "256\n"
     ]
    },
    {
     "name": "stderr",
     "output_type": "stream",
     "text": [
      "/var/folders/32/6tv1kbfx7jn9vst5h14cqq4r0000gn/T/ipykernel_83888/1344092893.py:33: FutureWarning: The frame.append method is deprecated and will be removed from pandas in a future version. Use pandas.concat instead.\n",
      "  storage = storage.append({\"k\":k, \"z\":z, \"w\":w, \"h\":h,\n"
     ]
    },
    {
     "name": "stdout",
     "output_type": "stream",
     "text": [
      "257\n"
     ]
    },
    {
     "name": "stderr",
     "output_type": "stream",
     "text": [
      "/var/folders/32/6tv1kbfx7jn9vst5h14cqq4r0000gn/T/ipykernel_83888/1344092893.py:33: FutureWarning: The frame.append method is deprecated and will be removed from pandas in a future version. Use pandas.concat instead.\n",
      "  storage = storage.append({\"k\":k, \"z\":z, \"w\":w, \"h\":h,\n"
     ]
    },
    {
     "name": "stdout",
     "output_type": "stream",
     "text": [
      "258\n"
     ]
    },
    {
     "name": "stderr",
     "output_type": "stream",
     "text": [
      "/var/folders/32/6tv1kbfx7jn9vst5h14cqq4r0000gn/T/ipykernel_83888/1344092893.py:33: FutureWarning: The frame.append method is deprecated and will be removed from pandas in a future version. Use pandas.concat instead.\n",
      "  storage = storage.append({\"k\":k, \"z\":z, \"w\":w, \"h\":h,\n"
     ]
    },
    {
     "name": "stdout",
     "output_type": "stream",
     "text": [
      "259\n"
     ]
    },
    {
     "name": "stderr",
     "output_type": "stream",
     "text": [
      "/var/folders/32/6tv1kbfx7jn9vst5h14cqq4r0000gn/T/ipykernel_83888/1344092893.py:33: FutureWarning: The frame.append method is deprecated and will be removed from pandas in a future version. Use pandas.concat instead.\n",
      "  storage = storage.append({\"k\":k, \"z\":z, \"w\":w, \"h\":h,\n"
     ]
    },
    {
     "name": "stdout",
     "output_type": "stream",
     "text": [
      "260\n"
     ]
    },
    {
     "name": "stderr",
     "output_type": "stream",
     "text": [
      "/var/folders/32/6tv1kbfx7jn9vst5h14cqq4r0000gn/T/ipykernel_83888/1344092893.py:33: FutureWarning: The frame.append method is deprecated and will be removed from pandas in a future version. Use pandas.concat instead.\n",
      "  storage = storage.append({\"k\":k, \"z\":z, \"w\":w, \"h\":h,\n"
     ]
    },
    {
     "name": "stdout",
     "output_type": "stream",
     "text": [
      "261\n"
     ]
    },
    {
     "name": "stderr",
     "output_type": "stream",
     "text": [
      "/var/folders/32/6tv1kbfx7jn9vst5h14cqq4r0000gn/T/ipykernel_83888/1344092893.py:33: FutureWarning: The frame.append method is deprecated and will be removed from pandas in a future version. Use pandas.concat instead.\n",
      "  storage = storage.append({\"k\":k, \"z\":z, \"w\":w, \"h\":h,\n"
     ]
    },
    {
     "name": "stdout",
     "output_type": "stream",
     "text": [
      "262\n"
     ]
    },
    {
     "name": "stderr",
     "output_type": "stream",
     "text": [
      "/var/folders/32/6tv1kbfx7jn9vst5h14cqq4r0000gn/T/ipykernel_83888/1344092893.py:33: FutureWarning: The frame.append method is deprecated and will be removed from pandas in a future version. Use pandas.concat instead.\n",
      "  storage = storage.append({\"k\":k, \"z\":z, \"w\":w, \"h\":h,\n"
     ]
    },
    {
     "name": "stdout",
     "output_type": "stream",
     "text": [
      "263\n"
     ]
    },
    {
     "name": "stderr",
     "output_type": "stream",
     "text": [
      "/var/folders/32/6tv1kbfx7jn9vst5h14cqq4r0000gn/T/ipykernel_83888/1344092893.py:33: FutureWarning: The frame.append method is deprecated and will be removed from pandas in a future version. Use pandas.concat instead.\n",
      "  storage = storage.append({\"k\":k, \"z\":z, \"w\":w, \"h\":h,\n"
     ]
    },
    {
     "name": "stdout",
     "output_type": "stream",
     "text": [
      "264\n"
     ]
    },
    {
     "name": "stderr",
     "output_type": "stream",
     "text": [
      "/var/folders/32/6tv1kbfx7jn9vst5h14cqq4r0000gn/T/ipykernel_83888/1344092893.py:33: FutureWarning: The frame.append method is deprecated and will be removed from pandas in a future version. Use pandas.concat instead.\n",
      "  storage = storage.append({\"k\":k, \"z\":z, \"w\":w, \"h\":h,\n"
     ]
    },
    {
     "name": "stdout",
     "output_type": "stream",
     "text": [
      "265\n"
     ]
    },
    {
     "name": "stderr",
     "output_type": "stream",
     "text": [
      "/var/folders/32/6tv1kbfx7jn9vst5h14cqq4r0000gn/T/ipykernel_83888/1344092893.py:33: FutureWarning: The frame.append method is deprecated and will be removed from pandas in a future version. Use pandas.concat instead.\n",
      "  storage = storage.append({\"k\":k, \"z\":z, \"w\":w, \"h\":h,\n"
     ]
    },
    {
     "name": "stdout",
     "output_type": "stream",
     "text": [
      "266\n"
     ]
    },
    {
     "name": "stderr",
     "output_type": "stream",
     "text": [
      "/var/folders/32/6tv1kbfx7jn9vst5h14cqq4r0000gn/T/ipykernel_83888/1344092893.py:33: FutureWarning: The frame.append method is deprecated and will be removed from pandas in a future version. Use pandas.concat instead.\n",
      "  storage = storage.append({\"k\":k, \"z\":z, \"w\":w, \"h\":h,\n"
     ]
    },
    {
     "name": "stdout",
     "output_type": "stream",
     "text": [
      "267\n"
     ]
    },
    {
     "name": "stderr",
     "output_type": "stream",
     "text": [
      "/var/folders/32/6tv1kbfx7jn9vst5h14cqq4r0000gn/T/ipykernel_83888/1344092893.py:33: FutureWarning: The frame.append method is deprecated and will be removed from pandas in a future version. Use pandas.concat instead.\n",
      "  storage = storage.append({\"k\":k, \"z\":z, \"w\":w, \"h\":h,\n"
     ]
    },
    {
     "name": "stdout",
     "output_type": "stream",
     "text": [
      "268\n"
     ]
    },
    {
     "name": "stderr",
     "output_type": "stream",
     "text": [
      "/var/folders/32/6tv1kbfx7jn9vst5h14cqq4r0000gn/T/ipykernel_83888/1344092893.py:33: FutureWarning: The frame.append method is deprecated and will be removed from pandas in a future version. Use pandas.concat instead.\n",
      "  storage = storage.append({\"k\":k, \"z\":z, \"w\":w, \"h\":h,\n"
     ]
    },
    {
     "name": "stdout",
     "output_type": "stream",
     "text": [
      "269\n"
     ]
    },
    {
     "name": "stderr",
     "output_type": "stream",
     "text": [
      "/var/folders/32/6tv1kbfx7jn9vst5h14cqq4r0000gn/T/ipykernel_83888/1344092893.py:33: FutureWarning: The frame.append method is deprecated and will be removed from pandas in a future version. Use pandas.concat instead.\n",
      "  storage = storage.append({\"k\":k, \"z\":z, \"w\":w, \"h\":h,\n"
     ]
    },
    {
     "name": "stdout",
     "output_type": "stream",
     "text": [
      "270\n"
     ]
    },
    {
     "name": "stderr",
     "output_type": "stream",
     "text": [
      "/var/folders/32/6tv1kbfx7jn9vst5h14cqq4r0000gn/T/ipykernel_83888/1344092893.py:33: FutureWarning: The frame.append method is deprecated and will be removed from pandas in a future version. Use pandas.concat instead.\n",
      "  storage = storage.append({\"k\":k, \"z\":z, \"w\":w, \"h\":h,\n"
     ]
    },
    {
     "name": "stdout",
     "output_type": "stream",
     "text": [
      "271\n"
     ]
    },
    {
     "name": "stderr",
     "output_type": "stream",
     "text": [
      "/var/folders/32/6tv1kbfx7jn9vst5h14cqq4r0000gn/T/ipykernel_83888/1344092893.py:33: FutureWarning: The frame.append method is deprecated and will be removed from pandas in a future version. Use pandas.concat instead.\n",
      "  storage = storage.append({\"k\":k, \"z\":z, \"w\":w, \"h\":h,\n"
     ]
    },
    {
     "name": "stdout",
     "output_type": "stream",
     "text": [
      "272\n"
     ]
    },
    {
     "name": "stderr",
     "output_type": "stream",
     "text": [
      "/var/folders/32/6tv1kbfx7jn9vst5h14cqq4r0000gn/T/ipykernel_83888/1344092893.py:33: FutureWarning: The frame.append method is deprecated and will be removed from pandas in a future version. Use pandas.concat instead.\n",
      "  storage = storage.append({\"k\":k, \"z\":z, \"w\":w, \"h\":h,\n"
     ]
    },
    {
     "name": "stdout",
     "output_type": "stream",
     "text": [
      "273\n"
     ]
    },
    {
     "name": "stderr",
     "output_type": "stream",
     "text": [
      "/var/folders/32/6tv1kbfx7jn9vst5h14cqq4r0000gn/T/ipykernel_83888/1344092893.py:33: FutureWarning: The frame.append method is deprecated and will be removed from pandas in a future version. Use pandas.concat instead.\n",
      "  storage = storage.append({\"k\":k, \"z\":z, \"w\":w, \"h\":h,\n"
     ]
    },
    {
     "name": "stdout",
     "output_type": "stream",
     "text": [
      "274\n"
     ]
    },
    {
     "name": "stderr",
     "output_type": "stream",
     "text": [
      "/var/folders/32/6tv1kbfx7jn9vst5h14cqq4r0000gn/T/ipykernel_83888/1344092893.py:33: FutureWarning: The frame.append method is deprecated and will be removed from pandas in a future version. Use pandas.concat instead.\n",
      "  storage = storage.append({\"k\":k, \"z\":z, \"w\":w, \"h\":h,\n"
     ]
    },
    {
     "name": "stdout",
     "output_type": "stream",
     "text": [
      "275\n"
     ]
    },
    {
     "name": "stderr",
     "output_type": "stream",
     "text": [
      "/var/folders/32/6tv1kbfx7jn9vst5h14cqq4r0000gn/T/ipykernel_83888/1344092893.py:33: FutureWarning: The frame.append method is deprecated and will be removed from pandas in a future version. Use pandas.concat instead.\n",
      "  storage = storage.append({\"k\":k, \"z\":z, \"w\":w, \"h\":h,\n"
     ]
    },
    {
     "name": "stdout",
     "output_type": "stream",
     "text": [
      "276\n"
     ]
    },
    {
     "name": "stderr",
     "output_type": "stream",
     "text": [
      "/var/folders/32/6tv1kbfx7jn9vst5h14cqq4r0000gn/T/ipykernel_83888/1344092893.py:33: FutureWarning: The frame.append method is deprecated and will be removed from pandas in a future version. Use pandas.concat instead.\n",
      "  storage = storage.append({\"k\":k, \"z\":z, \"w\":w, \"h\":h,\n"
     ]
    },
    {
     "name": "stdout",
     "output_type": "stream",
     "text": [
      "277\n"
     ]
    },
    {
     "name": "stderr",
     "output_type": "stream",
     "text": [
      "/var/folders/32/6tv1kbfx7jn9vst5h14cqq4r0000gn/T/ipykernel_83888/1344092893.py:33: FutureWarning: The frame.append method is deprecated and will be removed from pandas in a future version. Use pandas.concat instead.\n",
      "  storage = storage.append({\"k\":k, \"z\":z, \"w\":w, \"h\":h,\n"
     ]
    },
    {
     "name": "stdout",
     "output_type": "stream",
     "text": [
      "278\n"
     ]
    },
    {
     "name": "stderr",
     "output_type": "stream",
     "text": [
      "/var/folders/32/6tv1kbfx7jn9vst5h14cqq4r0000gn/T/ipykernel_83888/1344092893.py:33: FutureWarning: The frame.append method is deprecated and will be removed from pandas in a future version. Use pandas.concat instead.\n",
      "  storage = storage.append({\"k\":k, \"z\":z, \"w\":w, \"h\":h,\n"
     ]
    },
    {
     "name": "stdout",
     "output_type": "stream",
     "text": [
      "279\n"
     ]
    },
    {
     "name": "stderr",
     "output_type": "stream",
     "text": [
      "/var/folders/32/6tv1kbfx7jn9vst5h14cqq4r0000gn/T/ipykernel_83888/1344092893.py:33: FutureWarning: The frame.append method is deprecated and will be removed from pandas in a future version. Use pandas.concat instead.\n",
      "  storage = storage.append({\"k\":k, \"z\":z, \"w\":w, \"h\":h,\n"
     ]
    },
    {
     "name": "stdout",
     "output_type": "stream",
     "text": [
      "280\n"
     ]
    },
    {
     "name": "stderr",
     "output_type": "stream",
     "text": [
      "/var/folders/32/6tv1kbfx7jn9vst5h14cqq4r0000gn/T/ipykernel_83888/1344092893.py:33: FutureWarning: The frame.append method is deprecated and will be removed from pandas in a future version. Use pandas.concat instead.\n",
      "  storage = storage.append({\"k\":k, \"z\":z, \"w\":w, \"h\":h,\n"
     ]
    },
    {
     "name": "stdout",
     "output_type": "stream",
     "text": [
      "281\n"
     ]
    },
    {
     "name": "stderr",
     "output_type": "stream",
     "text": [
      "/var/folders/32/6tv1kbfx7jn9vst5h14cqq4r0000gn/T/ipykernel_83888/1344092893.py:33: FutureWarning: The frame.append method is deprecated and will be removed from pandas in a future version. Use pandas.concat instead.\n",
      "  storage = storage.append({\"k\":k, \"z\":z, \"w\":w, \"h\":h,\n"
     ]
    },
    {
     "name": "stdout",
     "output_type": "stream",
     "text": [
      "282\n"
     ]
    },
    {
     "name": "stderr",
     "output_type": "stream",
     "text": [
      "/var/folders/32/6tv1kbfx7jn9vst5h14cqq4r0000gn/T/ipykernel_83888/1344092893.py:33: FutureWarning: The frame.append method is deprecated and will be removed from pandas in a future version. Use pandas.concat instead.\n",
      "  storage = storage.append({\"k\":k, \"z\":z, \"w\":w, \"h\":h,\n"
     ]
    },
    {
     "name": "stdout",
     "output_type": "stream",
     "text": [
      "283\n"
     ]
    },
    {
     "name": "stderr",
     "output_type": "stream",
     "text": [
      "/var/folders/32/6tv1kbfx7jn9vst5h14cqq4r0000gn/T/ipykernel_83888/1344092893.py:33: FutureWarning: The frame.append method is deprecated and will be removed from pandas in a future version. Use pandas.concat instead.\n",
      "  storage = storage.append({\"k\":k, \"z\":z, \"w\":w, \"h\":h,\n"
     ]
    },
    {
     "name": "stdout",
     "output_type": "stream",
     "text": [
      "284\n"
     ]
    },
    {
     "name": "stderr",
     "output_type": "stream",
     "text": [
      "/var/folders/32/6tv1kbfx7jn9vst5h14cqq4r0000gn/T/ipykernel_83888/1344092893.py:33: FutureWarning: The frame.append method is deprecated and will be removed from pandas in a future version. Use pandas.concat instead.\n",
      "  storage = storage.append({\"k\":k, \"z\":z, \"w\":w, \"h\":h,\n"
     ]
    },
    {
     "name": "stdout",
     "output_type": "stream",
     "text": [
      "285\n"
     ]
    },
    {
     "name": "stderr",
     "output_type": "stream",
     "text": [
      "/var/folders/32/6tv1kbfx7jn9vst5h14cqq4r0000gn/T/ipykernel_83888/1344092893.py:33: FutureWarning: The frame.append method is deprecated and will be removed from pandas in a future version. Use pandas.concat instead.\n",
      "  storage = storage.append({\"k\":k, \"z\":z, \"w\":w, \"h\":h,\n"
     ]
    },
    {
     "name": "stdout",
     "output_type": "stream",
     "text": [
      "286\n"
     ]
    },
    {
     "name": "stderr",
     "output_type": "stream",
     "text": [
      "/var/folders/32/6tv1kbfx7jn9vst5h14cqq4r0000gn/T/ipykernel_83888/1344092893.py:33: FutureWarning: The frame.append method is deprecated and will be removed from pandas in a future version. Use pandas.concat instead.\n",
      "  storage = storage.append({\"k\":k, \"z\":z, \"w\":w, \"h\":h,\n"
     ]
    },
    {
     "name": "stdout",
     "output_type": "stream",
     "text": [
      "287\n"
     ]
    },
    {
     "name": "stderr",
     "output_type": "stream",
     "text": [
      "/var/folders/32/6tv1kbfx7jn9vst5h14cqq4r0000gn/T/ipykernel_83888/1344092893.py:33: FutureWarning: The frame.append method is deprecated and will be removed from pandas in a future version. Use pandas.concat instead.\n",
      "  storage = storage.append({\"k\":k, \"z\":z, \"w\":w, \"h\":h,\n"
     ]
    },
    {
     "name": "stdout",
     "output_type": "stream",
     "text": [
      "288\n"
     ]
    },
    {
     "name": "stderr",
     "output_type": "stream",
     "text": [
      "/var/folders/32/6tv1kbfx7jn9vst5h14cqq4r0000gn/T/ipykernel_83888/1344092893.py:33: FutureWarning: The frame.append method is deprecated and will be removed from pandas in a future version. Use pandas.concat instead.\n",
      "  storage = storage.append({\"k\":k, \"z\":z, \"w\":w, \"h\":h,\n"
     ]
    },
    {
     "name": "stdout",
     "output_type": "stream",
     "text": [
      "289\n"
     ]
    },
    {
     "name": "stderr",
     "output_type": "stream",
     "text": [
      "/var/folders/32/6tv1kbfx7jn9vst5h14cqq4r0000gn/T/ipykernel_83888/1344092893.py:33: FutureWarning: The frame.append method is deprecated and will be removed from pandas in a future version. Use pandas.concat instead.\n",
      "  storage = storage.append({\"k\":k, \"z\":z, \"w\":w, \"h\":h,\n"
     ]
    },
    {
     "name": "stdout",
     "output_type": "stream",
     "text": [
      "290\n"
     ]
    },
    {
     "name": "stderr",
     "output_type": "stream",
     "text": [
      "/var/folders/32/6tv1kbfx7jn9vst5h14cqq4r0000gn/T/ipykernel_83888/1344092893.py:33: FutureWarning: The frame.append method is deprecated and will be removed from pandas in a future version. Use pandas.concat instead.\n",
      "  storage = storage.append({\"k\":k, \"z\":z, \"w\":w, \"h\":h,\n"
     ]
    },
    {
     "name": "stdout",
     "output_type": "stream",
     "text": [
      "291\n"
     ]
    },
    {
     "name": "stderr",
     "output_type": "stream",
     "text": [
      "/var/folders/32/6tv1kbfx7jn9vst5h14cqq4r0000gn/T/ipykernel_83888/1344092893.py:33: FutureWarning: The frame.append method is deprecated and will be removed from pandas in a future version. Use pandas.concat instead.\n",
      "  storage = storage.append({\"k\":k, \"z\":z, \"w\":w, \"h\":h,\n"
     ]
    },
    {
     "name": "stdout",
     "output_type": "stream",
     "text": [
      "292\n"
     ]
    },
    {
     "name": "stderr",
     "output_type": "stream",
     "text": [
      "/var/folders/32/6tv1kbfx7jn9vst5h14cqq4r0000gn/T/ipykernel_83888/1344092893.py:33: FutureWarning: The frame.append method is deprecated and will be removed from pandas in a future version. Use pandas.concat instead.\n",
      "  storage = storage.append({\"k\":k, \"z\":z, \"w\":w, \"h\":h,\n"
     ]
    },
    {
     "name": "stdout",
     "output_type": "stream",
     "text": [
      "293\n"
     ]
    },
    {
     "name": "stderr",
     "output_type": "stream",
     "text": [
      "/var/folders/32/6tv1kbfx7jn9vst5h14cqq4r0000gn/T/ipykernel_83888/1344092893.py:33: FutureWarning: The frame.append method is deprecated and will be removed from pandas in a future version. Use pandas.concat instead.\n",
      "  storage = storage.append({\"k\":k, \"z\":z, \"w\":w, \"h\":h,\n"
     ]
    },
    {
     "name": "stdout",
     "output_type": "stream",
     "text": [
      "294\n"
     ]
    },
    {
     "name": "stderr",
     "output_type": "stream",
     "text": [
      "/var/folders/32/6tv1kbfx7jn9vst5h14cqq4r0000gn/T/ipykernel_83888/1344092893.py:33: FutureWarning: The frame.append method is deprecated and will be removed from pandas in a future version. Use pandas.concat instead.\n",
      "  storage = storage.append({\"k\":k, \"z\":z, \"w\":w, \"h\":h,\n"
     ]
    },
    {
     "name": "stdout",
     "output_type": "stream",
     "text": [
      "295\n"
     ]
    },
    {
     "name": "stderr",
     "output_type": "stream",
     "text": [
      "/var/folders/32/6tv1kbfx7jn9vst5h14cqq4r0000gn/T/ipykernel_83888/1344092893.py:33: FutureWarning: The frame.append method is deprecated and will be removed from pandas in a future version. Use pandas.concat instead.\n",
      "  storage = storage.append({\"k\":k, \"z\":z, \"w\":w, \"h\":h,\n"
     ]
    },
    {
     "name": "stdout",
     "output_type": "stream",
     "text": [
      "296\n"
     ]
    },
    {
     "name": "stderr",
     "output_type": "stream",
     "text": [
      "/var/folders/32/6tv1kbfx7jn9vst5h14cqq4r0000gn/T/ipykernel_83888/1344092893.py:33: FutureWarning: The frame.append method is deprecated and will be removed from pandas in a future version. Use pandas.concat instead.\n",
      "  storage = storage.append({\"k\":k, \"z\":z, \"w\":w, \"h\":h,\n"
     ]
    },
    {
     "name": "stdout",
     "output_type": "stream",
     "text": [
      "297\n"
     ]
    },
    {
     "name": "stderr",
     "output_type": "stream",
     "text": [
      "/var/folders/32/6tv1kbfx7jn9vst5h14cqq4r0000gn/T/ipykernel_83888/1344092893.py:33: FutureWarning: The frame.append method is deprecated and will be removed from pandas in a future version. Use pandas.concat instead.\n",
      "  storage = storage.append({\"k\":k, \"z\":z, \"w\":w, \"h\":h,\n"
     ]
    },
    {
     "name": "stdout",
     "output_type": "stream",
     "text": [
      "298\n"
     ]
    },
    {
     "name": "stderr",
     "output_type": "stream",
     "text": [
      "/var/folders/32/6tv1kbfx7jn9vst5h14cqq4r0000gn/T/ipykernel_83888/1344092893.py:33: FutureWarning: The frame.append method is deprecated and will be removed from pandas in a future version. Use pandas.concat instead.\n",
      "  storage = storage.append({\"k\":k, \"z\":z, \"w\":w, \"h\":h,\n"
     ]
    },
    {
     "name": "stdout",
     "output_type": "stream",
     "text": [
      "299\n"
     ]
    },
    {
     "name": "stderr",
     "output_type": "stream",
     "text": [
      "/var/folders/32/6tv1kbfx7jn9vst5h14cqq4r0000gn/T/ipykernel_83888/1344092893.py:33: FutureWarning: The frame.append method is deprecated and will be removed from pandas in a future version. Use pandas.concat instead.\n",
      "  storage = storage.append({\"k\":k, \"z\":z, \"w\":w, \"h\":h,\n"
     ]
    },
    {
     "name": "stdout",
     "output_type": "stream",
     "text": [
      "300\n"
     ]
    },
    {
     "name": "stderr",
     "output_type": "stream",
     "text": [
      "/var/folders/32/6tv1kbfx7jn9vst5h14cqq4r0000gn/T/ipykernel_83888/1344092893.py:33: FutureWarning: The frame.append method is deprecated and will be removed from pandas in a future version. Use pandas.concat instead.\n",
      "  storage = storage.append({\"k\":k, \"z\":z, \"w\":w, \"h\":h,\n"
     ]
    },
    {
     "name": "stdout",
     "output_type": "stream",
     "text": [
      "301\n"
     ]
    },
    {
     "name": "stderr",
     "output_type": "stream",
     "text": [
      "/var/folders/32/6tv1kbfx7jn9vst5h14cqq4r0000gn/T/ipykernel_83888/1344092893.py:33: FutureWarning: The frame.append method is deprecated and will be removed from pandas in a future version. Use pandas.concat instead.\n",
      "  storage = storage.append({\"k\":k, \"z\":z, \"w\":w, \"h\":h,\n"
     ]
    },
    {
     "name": "stdout",
     "output_type": "stream",
     "text": [
      "302\n"
     ]
    },
    {
     "name": "stderr",
     "output_type": "stream",
     "text": [
      "/var/folders/32/6tv1kbfx7jn9vst5h14cqq4r0000gn/T/ipykernel_83888/1344092893.py:33: FutureWarning: The frame.append method is deprecated and will be removed from pandas in a future version. Use pandas.concat instead.\n",
      "  storage = storage.append({\"k\":k, \"z\":z, \"w\":w, \"h\":h,\n"
     ]
    },
    {
     "name": "stdout",
     "output_type": "stream",
     "text": [
      "303\n"
     ]
    },
    {
     "name": "stderr",
     "output_type": "stream",
     "text": [
      "/var/folders/32/6tv1kbfx7jn9vst5h14cqq4r0000gn/T/ipykernel_83888/1344092893.py:33: FutureWarning: The frame.append method is deprecated and will be removed from pandas in a future version. Use pandas.concat instead.\n",
      "  storage = storage.append({\"k\":k, \"z\":z, \"w\":w, \"h\":h,\n"
     ]
    },
    {
     "name": "stdout",
     "output_type": "stream",
     "text": [
      "304\n"
     ]
    },
    {
     "name": "stderr",
     "output_type": "stream",
     "text": [
      "/var/folders/32/6tv1kbfx7jn9vst5h14cqq4r0000gn/T/ipykernel_83888/1344092893.py:33: FutureWarning: The frame.append method is deprecated and will be removed from pandas in a future version. Use pandas.concat instead.\n",
      "  storage = storage.append({\"k\":k, \"z\":z, \"w\":w, \"h\":h,\n"
     ]
    },
    {
     "name": "stdout",
     "output_type": "stream",
     "text": [
      "305\n"
     ]
    },
    {
     "name": "stderr",
     "output_type": "stream",
     "text": [
      "/var/folders/32/6tv1kbfx7jn9vst5h14cqq4r0000gn/T/ipykernel_83888/1344092893.py:33: FutureWarning: The frame.append method is deprecated and will be removed from pandas in a future version. Use pandas.concat instead.\n",
      "  storage = storage.append({\"k\":k, \"z\":z, \"w\":w, \"h\":h,\n"
     ]
    },
    {
     "name": "stdout",
     "output_type": "stream",
     "text": [
      "306\n"
     ]
    },
    {
     "name": "stderr",
     "output_type": "stream",
     "text": [
      "/var/folders/32/6tv1kbfx7jn9vst5h14cqq4r0000gn/T/ipykernel_83888/1344092893.py:33: FutureWarning: The frame.append method is deprecated and will be removed from pandas in a future version. Use pandas.concat instead.\n",
      "  storage = storage.append({\"k\":k, \"z\":z, \"w\":w, \"h\":h,\n"
     ]
    },
    {
     "name": "stdout",
     "output_type": "stream",
     "text": [
      "307\n"
     ]
    },
    {
     "name": "stderr",
     "output_type": "stream",
     "text": [
      "/var/folders/32/6tv1kbfx7jn9vst5h14cqq4r0000gn/T/ipykernel_83888/1344092893.py:33: FutureWarning: The frame.append method is deprecated and will be removed from pandas in a future version. Use pandas.concat instead.\n",
      "  storage = storage.append({\"k\":k, \"z\":z, \"w\":w, \"h\":h,\n"
     ]
    },
    {
     "name": "stdout",
     "output_type": "stream",
     "text": [
      "308\n"
     ]
    },
    {
     "name": "stderr",
     "output_type": "stream",
     "text": [
      "/var/folders/32/6tv1kbfx7jn9vst5h14cqq4r0000gn/T/ipykernel_83888/1344092893.py:33: FutureWarning: The frame.append method is deprecated and will be removed from pandas in a future version. Use pandas.concat instead.\n",
      "  storage = storage.append({\"k\":k, \"z\":z, \"w\":w, \"h\":h,\n"
     ]
    },
    {
     "name": "stdout",
     "output_type": "stream",
     "text": [
      "309\n"
     ]
    },
    {
     "name": "stderr",
     "output_type": "stream",
     "text": [
      "/var/folders/32/6tv1kbfx7jn9vst5h14cqq4r0000gn/T/ipykernel_83888/1344092893.py:33: FutureWarning: The frame.append method is deprecated and will be removed from pandas in a future version. Use pandas.concat instead.\n",
      "  storage = storage.append({\"k\":k, \"z\":z, \"w\":w, \"h\":h,\n"
     ]
    },
    {
     "name": "stdout",
     "output_type": "stream",
     "text": [
      "310\n"
     ]
    },
    {
     "name": "stderr",
     "output_type": "stream",
     "text": [
      "/var/folders/32/6tv1kbfx7jn9vst5h14cqq4r0000gn/T/ipykernel_83888/1344092893.py:33: FutureWarning: The frame.append method is deprecated and will be removed from pandas in a future version. Use pandas.concat instead.\n",
      "  storage = storage.append({\"k\":k, \"z\":z, \"w\":w, \"h\":h,\n"
     ]
    },
    {
     "name": "stdout",
     "output_type": "stream",
     "text": [
      "311\n"
     ]
    },
    {
     "name": "stderr",
     "output_type": "stream",
     "text": [
      "/var/folders/32/6tv1kbfx7jn9vst5h14cqq4r0000gn/T/ipykernel_83888/1344092893.py:33: FutureWarning: The frame.append method is deprecated and will be removed from pandas in a future version. Use pandas.concat instead.\n",
      "  storage = storage.append({\"k\":k, \"z\":z, \"w\":w, \"h\":h,\n"
     ]
    },
    {
     "name": "stdout",
     "output_type": "stream",
     "text": [
      "312\n"
     ]
    },
    {
     "name": "stderr",
     "output_type": "stream",
     "text": [
      "/var/folders/32/6tv1kbfx7jn9vst5h14cqq4r0000gn/T/ipykernel_83888/1344092893.py:33: FutureWarning: The frame.append method is deprecated and will be removed from pandas in a future version. Use pandas.concat instead.\n",
      "  storage = storage.append({\"k\":k, \"z\":z, \"w\":w, \"h\":h,\n"
     ]
    },
    {
     "name": "stdout",
     "output_type": "stream",
     "text": [
      "313\n"
     ]
    },
    {
     "name": "stderr",
     "output_type": "stream",
     "text": [
      "/var/folders/32/6tv1kbfx7jn9vst5h14cqq4r0000gn/T/ipykernel_83888/1344092893.py:33: FutureWarning: The frame.append method is deprecated and will be removed from pandas in a future version. Use pandas.concat instead.\n",
      "  storage = storage.append({\"k\":k, \"z\":z, \"w\":w, \"h\":h,\n"
     ]
    },
    {
     "name": "stdout",
     "output_type": "stream",
     "text": [
      "314\n"
     ]
    },
    {
     "name": "stderr",
     "output_type": "stream",
     "text": [
      "/var/folders/32/6tv1kbfx7jn9vst5h14cqq4r0000gn/T/ipykernel_83888/1344092893.py:33: FutureWarning: The frame.append method is deprecated and will be removed from pandas in a future version. Use pandas.concat instead.\n",
      "  storage = storage.append({\"k\":k, \"z\":z, \"w\":w, \"h\":h,\n"
     ]
    },
    {
     "name": "stdout",
     "output_type": "stream",
     "text": [
      "315\n"
     ]
    },
    {
     "name": "stderr",
     "output_type": "stream",
     "text": [
      "/var/folders/32/6tv1kbfx7jn9vst5h14cqq4r0000gn/T/ipykernel_83888/1344092893.py:33: FutureWarning: The frame.append method is deprecated and will be removed from pandas in a future version. Use pandas.concat instead.\n",
      "  storage = storage.append({\"k\":k, \"z\":z, \"w\":w, \"h\":h,\n"
     ]
    },
    {
     "name": "stdout",
     "output_type": "stream",
     "text": [
      "316\n"
     ]
    },
    {
     "name": "stderr",
     "output_type": "stream",
     "text": [
      "/var/folders/32/6tv1kbfx7jn9vst5h14cqq4r0000gn/T/ipykernel_83888/1344092893.py:33: FutureWarning: The frame.append method is deprecated and will be removed from pandas in a future version. Use pandas.concat instead.\n",
      "  storage = storage.append({\"k\":k, \"z\":z, \"w\":w, \"h\":h,\n"
     ]
    },
    {
     "name": "stdout",
     "output_type": "stream",
     "text": [
      "317\n"
     ]
    },
    {
     "name": "stderr",
     "output_type": "stream",
     "text": [
      "/var/folders/32/6tv1kbfx7jn9vst5h14cqq4r0000gn/T/ipykernel_83888/1344092893.py:33: FutureWarning: The frame.append method is deprecated and will be removed from pandas in a future version. Use pandas.concat instead.\n",
      "  storage = storage.append({\"k\":k, \"z\":z, \"w\":w, \"h\":h,\n"
     ]
    },
    {
     "name": "stdout",
     "output_type": "stream",
     "text": [
      "318\n"
     ]
    },
    {
     "name": "stderr",
     "output_type": "stream",
     "text": [
      "/var/folders/32/6tv1kbfx7jn9vst5h14cqq4r0000gn/T/ipykernel_83888/1344092893.py:33: FutureWarning: The frame.append method is deprecated and will be removed from pandas in a future version. Use pandas.concat instead.\n",
      "  storage = storage.append({\"k\":k, \"z\":z, \"w\":w, \"h\":h,\n"
     ]
    },
    {
     "name": "stdout",
     "output_type": "stream",
     "text": [
      "319\n"
     ]
    },
    {
     "name": "stderr",
     "output_type": "stream",
     "text": [
      "/var/folders/32/6tv1kbfx7jn9vst5h14cqq4r0000gn/T/ipykernel_83888/1344092893.py:33: FutureWarning: The frame.append method is deprecated and will be removed from pandas in a future version. Use pandas.concat instead.\n",
      "  storage = storage.append({\"k\":k, \"z\":z, \"w\":w, \"h\":h,\n"
     ]
    },
    {
     "name": "stdout",
     "output_type": "stream",
     "text": [
      "320\n"
     ]
    },
    {
     "name": "stderr",
     "output_type": "stream",
     "text": [
      "/var/folders/32/6tv1kbfx7jn9vst5h14cqq4r0000gn/T/ipykernel_83888/1344092893.py:33: FutureWarning: The frame.append method is deprecated and will be removed from pandas in a future version. Use pandas.concat instead.\n",
      "  storage = storage.append({\"k\":k, \"z\":z, \"w\":w, \"h\":h,\n"
     ]
    },
    {
     "name": "stdout",
     "output_type": "stream",
     "text": [
      "321\n"
     ]
    },
    {
     "name": "stderr",
     "output_type": "stream",
     "text": [
      "/var/folders/32/6tv1kbfx7jn9vst5h14cqq4r0000gn/T/ipykernel_83888/1344092893.py:33: FutureWarning: The frame.append method is deprecated and will be removed from pandas in a future version. Use pandas.concat instead.\n",
      "  storage = storage.append({\"k\":k, \"z\":z, \"w\":w, \"h\":h,\n"
     ]
    },
    {
     "name": "stdout",
     "output_type": "stream",
     "text": [
      "322\n"
     ]
    },
    {
     "name": "stderr",
     "output_type": "stream",
     "text": [
      "/var/folders/32/6tv1kbfx7jn9vst5h14cqq4r0000gn/T/ipykernel_83888/1344092893.py:33: FutureWarning: The frame.append method is deprecated and will be removed from pandas in a future version. Use pandas.concat instead.\n",
      "  storage = storage.append({\"k\":k, \"z\":z, \"w\":w, \"h\":h,\n"
     ]
    },
    {
     "name": "stdout",
     "output_type": "stream",
     "text": [
      "323\n"
     ]
    },
    {
     "name": "stderr",
     "output_type": "stream",
     "text": [
      "/var/folders/32/6tv1kbfx7jn9vst5h14cqq4r0000gn/T/ipykernel_83888/1344092893.py:33: FutureWarning: The frame.append method is deprecated and will be removed from pandas in a future version. Use pandas.concat instead.\n",
      "  storage = storage.append({\"k\":k, \"z\":z, \"w\":w, \"h\":h,\n"
     ]
    },
    {
     "name": "stdout",
     "output_type": "stream",
     "text": [
      "324\n"
     ]
    },
    {
     "name": "stderr",
     "output_type": "stream",
     "text": [
      "/var/folders/32/6tv1kbfx7jn9vst5h14cqq4r0000gn/T/ipykernel_83888/1344092893.py:33: FutureWarning: The frame.append method is deprecated and will be removed from pandas in a future version. Use pandas.concat instead.\n",
      "  storage = storage.append({\"k\":k, \"z\":z, \"w\":w, \"h\":h,\n"
     ]
    },
    {
     "name": "stdout",
     "output_type": "stream",
     "text": [
      "325\n"
     ]
    },
    {
     "name": "stderr",
     "output_type": "stream",
     "text": [
      "/var/folders/32/6tv1kbfx7jn9vst5h14cqq4r0000gn/T/ipykernel_83888/1344092893.py:33: FutureWarning: The frame.append method is deprecated and will be removed from pandas in a future version. Use pandas.concat instead.\n",
      "  storage = storage.append({\"k\":k, \"z\":z, \"w\":w, \"h\":h,\n"
     ]
    },
    {
     "name": "stdout",
     "output_type": "stream",
     "text": [
      "326\n"
     ]
    },
    {
     "name": "stderr",
     "output_type": "stream",
     "text": [
      "/var/folders/32/6tv1kbfx7jn9vst5h14cqq4r0000gn/T/ipykernel_83888/1344092893.py:33: FutureWarning: The frame.append method is deprecated and will be removed from pandas in a future version. Use pandas.concat instead.\n",
      "  storage = storage.append({\"k\":k, \"z\":z, \"w\":w, \"h\":h,\n"
     ]
    },
    {
     "name": "stdout",
     "output_type": "stream",
     "text": [
      "327\n"
     ]
    },
    {
     "name": "stderr",
     "output_type": "stream",
     "text": [
      "/var/folders/32/6tv1kbfx7jn9vst5h14cqq4r0000gn/T/ipykernel_83888/1344092893.py:33: FutureWarning: The frame.append method is deprecated and will be removed from pandas in a future version. Use pandas.concat instead.\n",
      "  storage = storage.append({\"k\":k, \"z\":z, \"w\":w, \"h\":h,\n"
     ]
    },
    {
     "name": "stdout",
     "output_type": "stream",
     "text": [
      "328\n"
     ]
    },
    {
     "name": "stderr",
     "output_type": "stream",
     "text": [
      "/var/folders/32/6tv1kbfx7jn9vst5h14cqq4r0000gn/T/ipykernel_83888/1344092893.py:33: FutureWarning: The frame.append method is deprecated and will be removed from pandas in a future version. Use pandas.concat instead.\n",
      "  storage = storage.append({\"k\":k, \"z\":z, \"w\":w, \"h\":h,\n"
     ]
    },
    {
     "name": "stdout",
     "output_type": "stream",
     "text": [
      "329\n"
     ]
    },
    {
     "name": "stderr",
     "output_type": "stream",
     "text": [
      "/var/folders/32/6tv1kbfx7jn9vst5h14cqq4r0000gn/T/ipykernel_83888/1344092893.py:33: FutureWarning: The frame.append method is deprecated and will be removed from pandas in a future version. Use pandas.concat instead.\n",
      "  storage = storage.append({\"k\":k, \"z\":z, \"w\":w, \"h\":h,\n"
     ]
    },
    {
     "name": "stdout",
     "output_type": "stream",
     "text": [
      "330\n"
     ]
    },
    {
     "name": "stderr",
     "output_type": "stream",
     "text": [
      "/var/folders/32/6tv1kbfx7jn9vst5h14cqq4r0000gn/T/ipykernel_83888/1344092893.py:33: FutureWarning: The frame.append method is deprecated and will be removed from pandas in a future version. Use pandas.concat instead.\n",
      "  storage = storage.append({\"k\":k, \"z\":z, \"w\":w, \"h\":h,\n"
     ]
    },
    {
     "name": "stdout",
     "output_type": "stream",
     "text": [
      "331\n"
     ]
    },
    {
     "name": "stderr",
     "output_type": "stream",
     "text": [
      "/var/folders/32/6tv1kbfx7jn9vst5h14cqq4r0000gn/T/ipykernel_83888/1344092893.py:33: FutureWarning: The frame.append method is deprecated and will be removed from pandas in a future version. Use pandas.concat instead.\n",
      "  storage = storage.append({\"k\":k, \"z\":z, \"w\":w, \"h\":h,\n"
     ]
    },
    {
     "name": "stdout",
     "output_type": "stream",
     "text": [
      "332\n"
     ]
    },
    {
     "name": "stderr",
     "output_type": "stream",
     "text": [
      "/var/folders/32/6tv1kbfx7jn9vst5h14cqq4r0000gn/T/ipykernel_83888/1344092893.py:33: FutureWarning: The frame.append method is deprecated and will be removed from pandas in a future version. Use pandas.concat instead.\n",
      "  storage = storage.append({\"k\":k, \"z\":z, \"w\":w, \"h\":h,\n"
     ]
    },
    {
     "name": "stdout",
     "output_type": "stream",
     "text": [
      "333\n"
     ]
    },
    {
     "name": "stderr",
     "output_type": "stream",
     "text": [
      "/var/folders/32/6tv1kbfx7jn9vst5h14cqq4r0000gn/T/ipykernel_83888/1344092893.py:33: FutureWarning: The frame.append method is deprecated and will be removed from pandas in a future version. Use pandas.concat instead.\n",
      "  storage = storage.append({\"k\":k, \"z\":z, \"w\":w, \"h\":h,\n"
     ]
    },
    {
     "name": "stdout",
     "output_type": "stream",
     "text": [
      "334\n"
     ]
    },
    {
     "name": "stderr",
     "output_type": "stream",
     "text": [
      "/var/folders/32/6tv1kbfx7jn9vst5h14cqq4r0000gn/T/ipykernel_83888/1344092893.py:33: FutureWarning: The frame.append method is deprecated and will be removed from pandas in a future version. Use pandas.concat instead.\n",
      "  storage = storage.append({\"k\":k, \"z\":z, \"w\":w, \"h\":h,\n"
     ]
    },
    {
     "name": "stdout",
     "output_type": "stream",
     "text": [
      "335\n"
     ]
    },
    {
     "name": "stderr",
     "output_type": "stream",
     "text": [
      "/var/folders/32/6tv1kbfx7jn9vst5h14cqq4r0000gn/T/ipykernel_83888/1344092893.py:33: FutureWarning: The frame.append method is deprecated and will be removed from pandas in a future version. Use pandas.concat instead.\n",
      "  storage = storage.append({\"k\":k, \"z\":z, \"w\":w, \"h\":h,\n"
     ]
    },
    {
     "name": "stdout",
     "output_type": "stream",
     "text": [
      "336\n"
     ]
    },
    {
     "name": "stderr",
     "output_type": "stream",
     "text": [
      "/var/folders/32/6tv1kbfx7jn9vst5h14cqq4r0000gn/T/ipykernel_83888/1344092893.py:33: FutureWarning: The frame.append method is deprecated and will be removed from pandas in a future version. Use pandas.concat instead.\n",
      "  storage = storage.append({\"k\":k, \"z\":z, \"w\":w, \"h\":h,\n"
     ]
    },
    {
     "name": "stdout",
     "output_type": "stream",
     "text": [
      "337\n"
     ]
    },
    {
     "name": "stderr",
     "output_type": "stream",
     "text": [
      "/var/folders/32/6tv1kbfx7jn9vst5h14cqq4r0000gn/T/ipykernel_83888/1344092893.py:33: FutureWarning: The frame.append method is deprecated and will be removed from pandas in a future version. Use pandas.concat instead.\n",
      "  storage = storage.append({\"k\":k, \"z\":z, \"w\":w, \"h\":h,\n"
     ]
    },
    {
     "name": "stdout",
     "output_type": "stream",
     "text": [
      "338\n"
     ]
    },
    {
     "name": "stderr",
     "output_type": "stream",
     "text": [
      "/var/folders/32/6tv1kbfx7jn9vst5h14cqq4r0000gn/T/ipykernel_83888/1344092893.py:33: FutureWarning: The frame.append method is deprecated and will be removed from pandas in a future version. Use pandas.concat instead.\n",
      "  storage = storage.append({\"k\":k, \"z\":z, \"w\":w, \"h\":h,\n"
     ]
    },
    {
     "name": "stdout",
     "output_type": "stream",
     "text": [
      "339\n"
     ]
    },
    {
     "name": "stderr",
     "output_type": "stream",
     "text": [
      "/var/folders/32/6tv1kbfx7jn9vst5h14cqq4r0000gn/T/ipykernel_83888/1344092893.py:33: FutureWarning: The frame.append method is deprecated and will be removed from pandas in a future version. Use pandas.concat instead.\n",
      "  storage = storage.append({\"k\":k, \"z\":z, \"w\":w, \"h\":h,\n"
     ]
    },
    {
     "name": "stdout",
     "output_type": "stream",
     "text": [
      "340\n"
     ]
    },
    {
     "name": "stderr",
     "output_type": "stream",
     "text": [
      "/var/folders/32/6tv1kbfx7jn9vst5h14cqq4r0000gn/T/ipykernel_83888/1344092893.py:33: FutureWarning: The frame.append method is deprecated and will be removed from pandas in a future version. Use pandas.concat instead.\n",
      "  storage = storage.append({\"k\":k, \"z\":z, \"w\":w, \"h\":h,\n"
     ]
    },
    {
     "name": "stdout",
     "output_type": "stream",
     "text": [
      "341\n"
     ]
    },
    {
     "name": "stderr",
     "output_type": "stream",
     "text": [
      "/var/folders/32/6tv1kbfx7jn9vst5h14cqq4r0000gn/T/ipykernel_83888/1344092893.py:33: FutureWarning: The frame.append method is deprecated and will be removed from pandas in a future version. Use pandas.concat instead.\n",
      "  storage = storage.append({\"k\":k, \"z\":z, \"w\":w, \"h\":h,\n"
     ]
    },
    {
     "name": "stdout",
     "output_type": "stream",
     "text": [
      "342\n"
     ]
    },
    {
     "name": "stderr",
     "output_type": "stream",
     "text": [
      "/var/folders/32/6tv1kbfx7jn9vst5h14cqq4r0000gn/T/ipykernel_83888/1344092893.py:33: FutureWarning: The frame.append method is deprecated and will be removed from pandas in a future version. Use pandas.concat instead.\n",
      "  storage = storage.append({\"k\":k, \"z\":z, \"w\":w, \"h\":h,\n"
     ]
    },
    {
     "name": "stdout",
     "output_type": "stream",
     "text": [
      "343\n"
     ]
    },
    {
     "name": "stderr",
     "output_type": "stream",
     "text": [
      "/var/folders/32/6tv1kbfx7jn9vst5h14cqq4r0000gn/T/ipykernel_83888/1344092893.py:33: FutureWarning: The frame.append method is deprecated and will be removed from pandas in a future version. Use pandas.concat instead.\n",
      "  storage = storage.append({\"k\":k, \"z\":z, \"w\":w, \"h\":h,\n"
     ]
    },
    {
     "name": "stdout",
     "output_type": "stream",
     "text": [
      "344\n"
     ]
    },
    {
     "name": "stderr",
     "output_type": "stream",
     "text": [
      "/var/folders/32/6tv1kbfx7jn9vst5h14cqq4r0000gn/T/ipykernel_83888/1344092893.py:33: FutureWarning: The frame.append method is deprecated and will be removed from pandas in a future version. Use pandas.concat instead.\n",
      "  storage = storage.append({\"k\":k, \"z\":z, \"w\":w, \"h\":h,\n"
     ]
    },
    {
     "name": "stdout",
     "output_type": "stream",
     "text": [
      "345\n"
     ]
    },
    {
     "name": "stderr",
     "output_type": "stream",
     "text": [
      "/var/folders/32/6tv1kbfx7jn9vst5h14cqq4r0000gn/T/ipykernel_83888/1344092893.py:33: FutureWarning: The frame.append method is deprecated and will be removed from pandas in a future version. Use pandas.concat instead.\n",
      "  storage = storage.append({\"k\":k, \"z\":z, \"w\":w, \"h\":h,\n"
     ]
    },
    {
     "name": "stdout",
     "output_type": "stream",
     "text": [
      "346\n"
     ]
    },
    {
     "name": "stderr",
     "output_type": "stream",
     "text": [
      "/var/folders/32/6tv1kbfx7jn9vst5h14cqq4r0000gn/T/ipykernel_83888/1344092893.py:33: FutureWarning: The frame.append method is deprecated and will be removed from pandas in a future version. Use pandas.concat instead.\n",
      "  storage = storage.append({\"k\":k, \"z\":z, \"w\":w, \"h\":h,\n"
     ]
    },
    {
     "name": "stdout",
     "output_type": "stream",
     "text": [
      "347\n"
     ]
    },
    {
     "name": "stderr",
     "output_type": "stream",
     "text": [
      "/var/folders/32/6tv1kbfx7jn9vst5h14cqq4r0000gn/T/ipykernel_83888/1344092893.py:33: FutureWarning: The frame.append method is deprecated and will be removed from pandas in a future version. Use pandas.concat instead.\n",
      "  storage = storage.append({\"k\":k, \"z\":z, \"w\":w, \"h\":h,\n"
     ]
    },
    {
     "name": "stdout",
     "output_type": "stream",
     "text": [
      "348\n"
     ]
    },
    {
     "name": "stderr",
     "output_type": "stream",
     "text": [
      "/var/folders/32/6tv1kbfx7jn9vst5h14cqq4r0000gn/T/ipykernel_83888/1344092893.py:33: FutureWarning: The frame.append method is deprecated and will be removed from pandas in a future version. Use pandas.concat instead.\n",
      "  storage = storage.append({\"k\":k, \"z\":z, \"w\":w, \"h\":h,\n"
     ]
    },
    {
     "name": "stdout",
     "output_type": "stream",
     "text": [
      "349\n"
     ]
    },
    {
     "name": "stderr",
     "output_type": "stream",
     "text": [
      "/var/folders/32/6tv1kbfx7jn9vst5h14cqq4r0000gn/T/ipykernel_83888/1344092893.py:33: FutureWarning: The frame.append method is deprecated and will be removed from pandas in a future version. Use pandas.concat instead.\n",
      "  storage = storage.append({\"k\":k, \"z\":z, \"w\":w, \"h\":h,\n"
     ]
    },
    {
     "name": "stdout",
     "output_type": "stream",
     "text": [
      "350\n"
     ]
    },
    {
     "name": "stderr",
     "output_type": "stream",
     "text": [
      "/var/folders/32/6tv1kbfx7jn9vst5h14cqq4r0000gn/T/ipykernel_83888/1344092893.py:33: FutureWarning: The frame.append method is deprecated and will be removed from pandas in a future version. Use pandas.concat instead.\n",
      "  storage = storage.append({\"k\":k, \"z\":z, \"w\":w, \"h\":h,\n"
     ]
    },
    {
     "name": "stdout",
     "output_type": "stream",
     "text": [
      "351\n"
     ]
    },
    {
     "name": "stderr",
     "output_type": "stream",
     "text": [
      "/var/folders/32/6tv1kbfx7jn9vst5h14cqq4r0000gn/T/ipykernel_83888/1344092893.py:33: FutureWarning: The frame.append method is deprecated and will be removed from pandas in a future version. Use pandas.concat instead.\n",
      "  storage = storage.append({\"k\":k, \"z\":z, \"w\":w, \"h\":h,\n"
     ]
    },
    {
     "name": "stdout",
     "output_type": "stream",
     "text": [
      "352\n"
     ]
    },
    {
     "name": "stderr",
     "output_type": "stream",
     "text": [
      "/var/folders/32/6tv1kbfx7jn9vst5h14cqq4r0000gn/T/ipykernel_83888/1344092893.py:33: FutureWarning: The frame.append method is deprecated and will be removed from pandas in a future version. Use pandas.concat instead.\n",
      "  storage = storage.append({\"k\":k, \"z\":z, \"w\":w, \"h\":h,\n"
     ]
    },
    {
     "name": "stdout",
     "output_type": "stream",
     "text": [
      "353\n"
     ]
    },
    {
     "name": "stderr",
     "output_type": "stream",
     "text": [
      "/var/folders/32/6tv1kbfx7jn9vst5h14cqq4r0000gn/T/ipykernel_83888/1344092893.py:33: FutureWarning: The frame.append method is deprecated and will be removed from pandas in a future version. Use pandas.concat instead.\n",
      "  storage = storage.append({\"k\":k, \"z\":z, \"w\":w, \"h\":h,\n"
     ]
    },
    {
     "name": "stdout",
     "output_type": "stream",
     "text": [
      "354\n"
     ]
    },
    {
     "name": "stderr",
     "output_type": "stream",
     "text": [
      "/var/folders/32/6tv1kbfx7jn9vst5h14cqq4r0000gn/T/ipykernel_83888/1344092893.py:33: FutureWarning: The frame.append method is deprecated and will be removed from pandas in a future version. Use pandas.concat instead.\n",
      "  storage = storage.append({\"k\":k, \"z\":z, \"w\":w, \"h\":h,\n"
     ]
    },
    {
     "name": "stdout",
     "output_type": "stream",
     "text": [
      "355\n"
     ]
    },
    {
     "name": "stderr",
     "output_type": "stream",
     "text": [
      "/var/folders/32/6tv1kbfx7jn9vst5h14cqq4r0000gn/T/ipykernel_83888/1344092893.py:33: FutureWarning: The frame.append method is deprecated and will be removed from pandas in a future version. Use pandas.concat instead.\n",
      "  storage = storage.append({\"k\":k, \"z\":z, \"w\":w, \"h\":h,\n"
     ]
    },
    {
     "name": "stdout",
     "output_type": "stream",
     "text": [
      "356\n"
     ]
    },
    {
     "name": "stderr",
     "output_type": "stream",
     "text": [
      "/var/folders/32/6tv1kbfx7jn9vst5h14cqq4r0000gn/T/ipykernel_83888/1344092893.py:33: FutureWarning: The frame.append method is deprecated and will be removed from pandas in a future version. Use pandas.concat instead.\n",
      "  storage = storage.append({\"k\":k, \"z\":z, \"w\":w, \"h\":h,\n"
     ]
    },
    {
     "name": "stdout",
     "output_type": "stream",
     "text": [
      "357\n"
     ]
    },
    {
     "name": "stderr",
     "output_type": "stream",
     "text": [
      "/var/folders/32/6tv1kbfx7jn9vst5h14cqq4r0000gn/T/ipykernel_83888/1344092893.py:33: FutureWarning: The frame.append method is deprecated and will be removed from pandas in a future version. Use pandas.concat instead.\n",
      "  storage = storage.append({\"k\":k, \"z\":z, \"w\":w, \"h\":h,\n"
     ]
    },
    {
     "name": "stdout",
     "output_type": "stream",
     "text": [
      "358\n"
     ]
    },
    {
     "name": "stderr",
     "output_type": "stream",
     "text": [
      "/var/folders/32/6tv1kbfx7jn9vst5h14cqq4r0000gn/T/ipykernel_83888/1344092893.py:33: FutureWarning: The frame.append method is deprecated and will be removed from pandas in a future version. Use pandas.concat instead.\n",
      "  storage = storage.append({\"k\":k, \"z\":z, \"w\":w, \"h\":h,\n"
     ]
    },
    {
     "name": "stdout",
     "output_type": "stream",
     "text": [
      "359\n"
     ]
    },
    {
     "name": "stderr",
     "output_type": "stream",
     "text": [
      "/var/folders/32/6tv1kbfx7jn9vst5h14cqq4r0000gn/T/ipykernel_83888/1344092893.py:33: FutureWarning: The frame.append method is deprecated and will be removed from pandas in a future version. Use pandas.concat instead.\n",
      "  storage = storage.append({\"k\":k, \"z\":z, \"w\":w, \"h\":h,\n"
     ]
    },
    {
     "name": "stdout",
     "output_type": "stream",
     "text": [
      "360\n"
     ]
    },
    {
     "name": "stderr",
     "output_type": "stream",
     "text": [
      "/var/folders/32/6tv1kbfx7jn9vst5h14cqq4r0000gn/T/ipykernel_83888/1344092893.py:33: FutureWarning: The frame.append method is deprecated and will be removed from pandas in a future version. Use pandas.concat instead.\n",
      "  storage = storage.append({\"k\":k, \"z\":z, \"w\":w, \"h\":h,\n"
     ]
    },
    {
     "name": "stdout",
     "output_type": "stream",
     "text": [
      "361\n"
     ]
    },
    {
     "name": "stderr",
     "output_type": "stream",
     "text": [
      "/var/folders/32/6tv1kbfx7jn9vst5h14cqq4r0000gn/T/ipykernel_83888/1344092893.py:33: FutureWarning: The frame.append method is deprecated and will be removed from pandas in a future version. Use pandas.concat instead.\n",
      "  storage = storage.append({\"k\":k, \"z\":z, \"w\":w, \"h\":h,\n"
     ]
    },
    {
     "name": "stdout",
     "output_type": "stream",
     "text": [
      "362\n"
     ]
    },
    {
     "name": "stderr",
     "output_type": "stream",
     "text": [
      "/var/folders/32/6tv1kbfx7jn9vst5h14cqq4r0000gn/T/ipykernel_83888/1344092893.py:33: FutureWarning: The frame.append method is deprecated and will be removed from pandas in a future version. Use pandas.concat instead.\n",
      "  storage = storage.append({\"k\":k, \"z\":z, \"w\":w, \"h\":h,\n"
     ]
    },
    {
     "name": "stdout",
     "output_type": "stream",
     "text": [
      "363\n"
     ]
    },
    {
     "name": "stderr",
     "output_type": "stream",
     "text": [
      "/var/folders/32/6tv1kbfx7jn9vst5h14cqq4r0000gn/T/ipykernel_83888/1344092893.py:33: FutureWarning: The frame.append method is deprecated and will be removed from pandas in a future version. Use pandas.concat instead.\n",
      "  storage = storage.append({\"k\":k, \"z\":z, \"w\":w, \"h\":h,\n"
     ]
    },
    {
     "name": "stdout",
     "output_type": "stream",
     "text": [
      "364\n"
     ]
    },
    {
     "name": "stderr",
     "output_type": "stream",
     "text": [
      "/var/folders/32/6tv1kbfx7jn9vst5h14cqq4r0000gn/T/ipykernel_83888/1344092893.py:33: FutureWarning: The frame.append method is deprecated and will be removed from pandas in a future version. Use pandas.concat instead.\n",
      "  storage = storage.append({\"k\":k, \"z\":z, \"w\":w, \"h\":h,\n"
     ]
    },
    {
     "name": "stdout",
     "output_type": "stream",
     "text": [
      "365\n"
     ]
    },
    {
     "name": "stderr",
     "output_type": "stream",
     "text": [
      "/var/folders/32/6tv1kbfx7jn9vst5h14cqq4r0000gn/T/ipykernel_83888/1344092893.py:33: FutureWarning: The frame.append method is deprecated and will be removed from pandas in a future version. Use pandas.concat instead.\n",
      "  storage = storage.append({\"k\":k, \"z\":z, \"w\":w, \"h\":h,\n"
     ]
    },
    {
     "name": "stdout",
     "output_type": "stream",
     "text": [
      "366\n"
     ]
    },
    {
     "name": "stderr",
     "output_type": "stream",
     "text": [
      "/var/folders/32/6tv1kbfx7jn9vst5h14cqq4r0000gn/T/ipykernel_83888/1344092893.py:33: FutureWarning: The frame.append method is deprecated and will be removed from pandas in a future version. Use pandas.concat instead.\n",
      "  storage = storage.append({\"k\":k, \"z\":z, \"w\":w, \"h\":h,\n"
     ]
    },
    {
     "name": "stdout",
     "output_type": "stream",
     "text": [
      "367\n"
     ]
    },
    {
     "name": "stderr",
     "output_type": "stream",
     "text": [
      "/var/folders/32/6tv1kbfx7jn9vst5h14cqq4r0000gn/T/ipykernel_83888/1344092893.py:33: FutureWarning: The frame.append method is deprecated and will be removed from pandas in a future version. Use pandas.concat instead.\n",
      "  storage = storage.append({\"k\":k, \"z\":z, \"w\":w, \"h\":h,\n"
     ]
    },
    {
     "name": "stdout",
     "output_type": "stream",
     "text": [
      "368\n"
     ]
    },
    {
     "name": "stderr",
     "output_type": "stream",
     "text": [
      "/var/folders/32/6tv1kbfx7jn9vst5h14cqq4r0000gn/T/ipykernel_83888/1344092893.py:33: FutureWarning: The frame.append method is deprecated and will be removed from pandas in a future version. Use pandas.concat instead.\n",
      "  storage = storage.append({\"k\":k, \"z\":z, \"w\":w, \"h\":h,\n"
     ]
    },
    {
     "name": "stdout",
     "output_type": "stream",
     "text": [
      "369\n"
     ]
    },
    {
     "name": "stderr",
     "output_type": "stream",
     "text": [
      "/var/folders/32/6tv1kbfx7jn9vst5h14cqq4r0000gn/T/ipykernel_83888/1344092893.py:33: FutureWarning: The frame.append method is deprecated and will be removed from pandas in a future version. Use pandas.concat instead.\n",
      "  storage = storage.append({\"k\":k, \"z\":z, \"w\":w, \"h\":h,\n"
     ]
    },
    {
     "name": "stdout",
     "output_type": "stream",
     "text": [
      "370\n"
     ]
    },
    {
     "name": "stderr",
     "output_type": "stream",
     "text": [
      "/var/folders/32/6tv1kbfx7jn9vst5h14cqq4r0000gn/T/ipykernel_83888/1344092893.py:33: FutureWarning: The frame.append method is deprecated and will be removed from pandas in a future version. Use pandas.concat instead.\n",
      "  storage = storage.append({\"k\":k, \"z\":z, \"w\":w, \"h\":h,\n"
     ]
    },
    {
     "name": "stdout",
     "output_type": "stream",
     "text": [
      "371\n"
     ]
    },
    {
     "name": "stderr",
     "output_type": "stream",
     "text": [
      "/var/folders/32/6tv1kbfx7jn9vst5h14cqq4r0000gn/T/ipykernel_83888/1344092893.py:33: FutureWarning: The frame.append method is deprecated and will be removed from pandas in a future version. Use pandas.concat instead.\n",
      "  storage = storage.append({\"k\":k, \"z\":z, \"w\":w, \"h\":h,\n"
     ]
    },
    {
     "name": "stdout",
     "output_type": "stream",
     "text": [
      "372\n"
     ]
    },
    {
     "name": "stderr",
     "output_type": "stream",
     "text": [
      "/var/folders/32/6tv1kbfx7jn9vst5h14cqq4r0000gn/T/ipykernel_83888/1344092893.py:33: FutureWarning: The frame.append method is deprecated and will be removed from pandas in a future version. Use pandas.concat instead.\n",
      "  storage = storage.append({\"k\":k, \"z\":z, \"w\":w, \"h\":h,\n"
     ]
    },
    {
     "name": "stdout",
     "output_type": "stream",
     "text": [
      "373\n"
     ]
    },
    {
     "name": "stderr",
     "output_type": "stream",
     "text": [
      "/var/folders/32/6tv1kbfx7jn9vst5h14cqq4r0000gn/T/ipykernel_83888/1344092893.py:33: FutureWarning: The frame.append method is deprecated and will be removed from pandas in a future version. Use pandas.concat instead.\n",
      "  storage = storage.append({\"k\":k, \"z\":z, \"w\":w, \"h\":h,\n"
     ]
    },
    {
     "name": "stdout",
     "output_type": "stream",
     "text": [
      "374\n"
     ]
    },
    {
     "name": "stderr",
     "output_type": "stream",
     "text": [
      "/var/folders/32/6tv1kbfx7jn9vst5h14cqq4r0000gn/T/ipykernel_83888/1344092893.py:33: FutureWarning: The frame.append method is deprecated and will be removed from pandas in a future version. Use pandas.concat instead.\n",
      "  storage = storage.append({\"k\":k, \"z\":z, \"w\":w, \"h\":h,\n"
     ]
    },
    {
     "name": "stdout",
     "output_type": "stream",
     "text": [
      "375\n"
     ]
    },
    {
     "name": "stderr",
     "output_type": "stream",
     "text": [
      "/var/folders/32/6tv1kbfx7jn9vst5h14cqq4r0000gn/T/ipykernel_83888/1344092893.py:33: FutureWarning: The frame.append method is deprecated and will be removed from pandas in a future version. Use pandas.concat instead.\n",
      "  storage = storage.append({\"k\":k, \"z\":z, \"w\":w, \"h\":h,\n"
     ]
    },
    {
     "name": "stdout",
     "output_type": "stream",
     "text": [
      "376\n"
     ]
    },
    {
     "name": "stderr",
     "output_type": "stream",
     "text": [
      "/var/folders/32/6tv1kbfx7jn9vst5h14cqq4r0000gn/T/ipykernel_83888/1344092893.py:33: FutureWarning: The frame.append method is deprecated and will be removed from pandas in a future version. Use pandas.concat instead.\n",
      "  storage = storage.append({\"k\":k, \"z\":z, \"w\":w, \"h\":h,\n"
     ]
    },
    {
     "name": "stdout",
     "output_type": "stream",
     "text": [
      "377\n"
     ]
    },
    {
     "name": "stderr",
     "output_type": "stream",
     "text": [
      "/var/folders/32/6tv1kbfx7jn9vst5h14cqq4r0000gn/T/ipykernel_83888/1344092893.py:33: FutureWarning: The frame.append method is deprecated and will be removed from pandas in a future version. Use pandas.concat instead.\n",
      "  storage = storage.append({\"k\":k, \"z\":z, \"w\":w, \"h\":h,\n"
     ]
    },
    {
     "name": "stdout",
     "output_type": "stream",
     "text": [
      "378\n"
     ]
    },
    {
     "name": "stderr",
     "output_type": "stream",
     "text": [
      "/var/folders/32/6tv1kbfx7jn9vst5h14cqq4r0000gn/T/ipykernel_83888/1344092893.py:33: FutureWarning: The frame.append method is deprecated and will be removed from pandas in a future version. Use pandas.concat instead.\n",
      "  storage = storage.append({\"k\":k, \"z\":z, \"w\":w, \"h\":h,\n"
     ]
    },
    {
     "name": "stdout",
     "output_type": "stream",
     "text": [
      "379\n"
     ]
    },
    {
     "name": "stderr",
     "output_type": "stream",
     "text": [
      "/var/folders/32/6tv1kbfx7jn9vst5h14cqq4r0000gn/T/ipykernel_83888/1344092893.py:33: FutureWarning: The frame.append method is deprecated and will be removed from pandas in a future version. Use pandas.concat instead.\n",
      "  storage = storage.append({\"k\":k, \"z\":z, \"w\":w, \"h\":h,\n"
     ]
    },
    {
     "name": "stdout",
     "output_type": "stream",
     "text": [
      "380\n"
     ]
    },
    {
     "name": "stderr",
     "output_type": "stream",
     "text": [
      "/var/folders/32/6tv1kbfx7jn9vst5h14cqq4r0000gn/T/ipykernel_83888/1344092893.py:33: FutureWarning: The frame.append method is deprecated and will be removed from pandas in a future version. Use pandas.concat instead.\n",
      "  storage = storage.append({\"k\":k, \"z\":z, \"w\":w, \"h\":h,\n"
     ]
    },
    {
     "name": "stdout",
     "output_type": "stream",
     "text": [
      "381\n"
     ]
    },
    {
     "name": "stderr",
     "output_type": "stream",
     "text": [
      "/var/folders/32/6tv1kbfx7jn9vst5h14cqq4r0000gn/T/ipykernel_83888/1344092893.py:33: FutureWarning: The frame.append method is deprecated and will be removed from pandas in a future version. Use pandas.concat instead.\n",
      "  storage = storage.append({\"k\":k, \"z\":z, \"w\":w, \"h\":h,\n"
     ]
    },
    {
     "name": "stdout",
     "output_type": "stream",
     "text": [
      "382\n"
     ]
    },
    {
     "name": "stderr",
     "output_type": "stream",
     "text": [
      "/var/folders/32/6tv1kbfx7jn9vst5h14cqq4r0000gn/T/ipykernel_83888/1344092893.py:33: FutureWarning: The frame.append method is deprecated and will be removed from pandas in a future version. Use pandas.concat instead.\n",
      "  storage = storage.append({\"k\":k, \"z\":z, \"w\":w, \"h\":h,\n"
     ]
    },
    {
     "name": "stdout",
     "output_type": "stream",
     "text": [
      "383\n"
     ]
    },
    {
     "name": "stderr",
     "output_type": "stream",
     "text": [
      "/var/folders/32/6tv1kbfx7jn9vst5h14cqq4r0000gn/T/ipykernel_83888/1344092893.py:33: FutureWarning: The frame.append method is deprecated and will be removed from pandas in a future version. Use pandas.concat instead.\n",
      "  storage = storage.append({\"k\":k, \"z\":z, \"w\":w, \"h\":h,\n"
     ]
    },
    {
     "name": "stdout",
     "output_type": "stream",
     "text": [
      "384\n"
     ]
    },
    {
     "name": "stderr",
     "output_type": "stream",
     "text": [
      "/var/folders/32/6tv1kbfx7jn9vst5h14cqq4r0000gn/T/ipykernel_83888/1344092893.py:33: FutureWarning: The frame.append method is deprecated and will be removed from pandas in a future version. Use pandas.concat instead.\n",
      "  storage = storage.append({\"k\":k, \"z\":z, \"w\":w, \"h\":h,\n"
     ]
    },
    {
     "name": "stdout",
     "output_type": "stream",
     "text": [
      "385\n"
     ]
    },
    {
     "name": "stderr",
     "output_type": "stream",
     "text": [
      "/var/folders/32/6tv1kbfx7jn9vst5h14cqq4r0000gn/T/ipykernel_83888/1344092893.py:33: FutureWarning: The frame.append method is deprecated and will be removed from pandas in a future version. Use pandas.concat instead.\n",
      "  storage = storage.append({\"k\":k, \"z\":z, \"w\":w, \"h\":h,\n"
     ]
    },
    {
     "name": "stdout",
     "output_type": "stream",
     "text": [
      "386\n"
     ]
    },
    {
     "name": "stderr",
     "output_type": "stream",
     "text": [
      "/var/folders/32/6tv1kbfx7jn9vst5h14cqq4r0000gn/T/ipykernel_83888/1344092893.py:33: FutureWarning: The frame.append method is deprecated and will be removed from pandas in a future version. Use pandas.concat instead.\n",
      "  storage = storage.append({\"k\":k, \"z\":z, \"w\":w, \"h\":h,\n"
     ]
    },
    {
     "name": "stdout",
     "output_type": "stream",
     "text": [
      "387\n"
     ]
    },
    {
     "name": "stderr",
     "output_type": "stream",
     "text": [
      "/var/folders/32/6tv1kbfx7jn9vst5h14cqq4r0000gn/T/ipykernel_83888/1344092893.py:33: FutureWarning: The frame.append method is deprecated and will be removed from pandas in a future version. Use pandas.concat instead.\n",
      "  storage = storage.append({\"k\":k, \"z\":z, \"w\":w, \"h\":h,\n"
     ]
    },
    {
     "name": "stdout",
     "output_type": "stream",
     "text": [
      "388\n"
     ]
    },
    {
     "name": "stderr",
     "output_type": "stream",
     "text": [
      "/var/folders/32/6tv1kbfx7jn9vst5h14cqq4r0000gn/T/ipykernel_83888/1344092893.py:33: FutureWarning: The frame.append method is deprecated and will be removed from pandas in a future version. Use pandas.concat instead.\n",
      "  storage = storage.append({\"k\":k, \"z\":z, \"w\":w, \"h\":h,\n"
     ]
    },
    {
     "name": "stdout",
     "output_type": "stream",
     "text": [
      "389\n"
     ]
    },
    {
     "name": "stderr",
     "output_type": "stream",
     "text": [
      "/var/folders/32/6tv1kbfx7jn9vst5h14cqq4r0000gn/T/ipykernel_83888/1344092893.py:33: FutureWarning: The frame.append method is deprecated and will be removed from pandas in a future version. Use pandas.concat instead.\n",
      "  storage = storage.append({\"k\":k, \"z\":z, \"w\":w, \"h\":h,\n"
     ]
    },
    {
     "name": "stdout",
     "output_type": "stream",
     "text": [
      "390\n"
     ]
    },
    {
     "name": "stderr",
     "output_type": "stream",
     "text": [
      "/var/folders/32/6tv1kbfx7jn9vst5h14cqq4r0000gn/T/ipykernel_83888/1344092893.py:33: FutureWarning: The frame.append method is deprecated and will be removed from pandas in a future version. Use pandas.concat instead.\n",
      "  storage = storage.append({\"k\":k, \"z\":z, \"w\":w, \"h\":h,\n"
     ]
    },
    {
     "name": "stdout",
     "output_type": "stream",
     "text": [
      "391\n"
     ]
    },
    {
     "name": "stderr",
     "output_type": "stream",
     "text": [
      "/var/folders/32/6tv1kbfx7jn9vst5h14cqq4r0000gn/T/ipykernel_83888/1344092893.py:33: FutureWarning: The frame.append method is deprecated and will be removed from pandas in a future version. Use pandas.concat instead.\n",
      "  storage = storage.append({\"k\":k, \"z\":z, \"w\":w, \"h\":h,\n"
     ]
    },
    {
     "name": "stdout",
     "output_type": "stream",
     "text": [
      "392\n"
     ]
    },
    {
     "name": "stderr",
     "output_type": "stream",
     "text": [
      "/var/folders/32/6tv1kbfx7jn9vst5h14cqq4r0000gn/T/ipykernel_83888/1344092893.py:33: FutureWarning: The frame.append method is deprecated and will be removed from pandas in a future version. Use pandas.concat instead.\n",
      "  storage = storage.append({\"k\":k, \"z\":z, \"w\":w, \"h\":h,\n"
     ]
    },
    {
     "name": "stdout",
     "output_type": "stream",
     "text": [
      "393\n"
     ]
    },
    {
     "name": "stderr",
     "output_type": "stream",
     "text": [
      "/var/folders/32/6tv1kbfx7jn9vst5h14cqq4r0000gn/T/ipykernel_83888/1344092893.py:33: FutureWarning: The frame.append method is deprecated and will be removed from pandas in a future version. Use pandas.concat instead.\n",
      "  storage = storage.append({\"k\":k, \"z\":z, \"w\":w, \"h\":h,\n"
     ]
    },
    {
     "name": "stdout",
     "output_type": "stream",
     "text": [
      "394\n"
     ]
    },
    {
     "name": "stderr",
     "output_type": "stream",
     "text": [
      "/var/folders/32/6tv1kbfx7jn9vst5h14cqq4r0000gn/T/ipykernel_83888/1344092893.py:33: FutureWarning: The frame.append method is deprecated and will be removed from pandas in a future version. Use pandas.concat instead.\n",
      "  storage = storage.append({\"k\":k, \"z\":z, \"w\":w, \"h\":h,\n"
     ]
    },
    {
     "name": "stdout",
     "output_type": "stream",
     "text": [
      "395\n"
     ]
    },
    {
     "name": "stderr",
     "output_type": "stream",
     "text": [
      "/var/folders/32/6tv1kbfx7jn9vst5h14cqq4r0000gn/T/ipykernel_83888/1344092893.py:33: FutureWarning: The frame.append method is deprecated and will be removed from pandas in a future version. Use pandas.concat instead.\n",
      "  storage = storage.append({\"k\":k, \"z\":z, \"w\":w, \"h\":h,\n"
     ]
    },
    {
     "name": "stdout",
     "output_type": "stream",
     "text": [
      "396\n"
     ]
    },
    {
     "name": "stderr",
     "output_type": "stream",
     "text": [
      "/var/folders/32/6tv1kbfx7jn9vst5h14cqq4r0000gn/T/ipykernel_83888/1344092893.py:33: FutureWarning: The frame.append method is deprecated and will be removed from pandas in a future version. Use pandas.concat instead.\n",
      "  storage = storage.append({\"k\":k, \"z\":z, \"w\":w, \"h\":h,\n"
     ]
    },
    {
     "name": "stdout",
     "output_type": "stream",
     "text": [
      "397\n"
     ]
    },
    {
     "name": "stderr",
     "output_type": "stream",
     "text": [
      "/var/folders/32/6tv1kbfx7jn9vst5h14cqq4r0000gn/T/ipykernel_83888/1344092893.py:33: FutureWarning: The frame.append method is deprecated and will be removed from pandas in a future version. Use pandas.concat instead.\n",
      "  storage = storage.append({\"k\":k, \"z\":z, \"w\":w, \"h\":h,\n"
     ]
    },
    {
     "name": "stdout",
     "output_type": "stream",
     "text": [
      "398\n"
     ]
    },
    {
     "name": "stderr",
     "output_type": "stream",
     "text": [
      "/var/folders/32/6tv1kbfx7jn9vst5h14cqq4r0000gn/T/ipykernel_83888/1344092893.py:33: FutureWarning: The frame.append method is deprecated and will be removed from pandas in a future version. Use pandas.concat instead.\n",
      "  storage = storage.append({\"k\":k, \"z\":z, \"w\":w, \"h\":h,\n"
     ]
    },
    {
     "name": "stdout",
     "output_type": "stream",
     "text": [
      "399\n"
     ]
    },
    {
     "name": "stderr",
     "output_type": "stream",
     "text": [
      "/var/folders/32/6tv1kbfx7jn9vst5h14cqq4r0000gn/T/ipykernel_83888/1344092893.py:33: FutureWarning: The frame.append method is deprecated and will be removed from pandas in a future version. Use pandas.concat instead.\n",
      "  storage = storage.append({\"k\":k, \"z\":z, \"w\":w, \"h\":h,\n"
     ]
    },
    {
     "name": "stdout",
     "output_type": "stream",
     "text": [
      "400\n"
     ]
    },
    {
     "name": "stderr",
     "output_type": "stream",
     "text": [
      "/var/folders/32/6tv1kbfx7jn9vst5h14cqq4r0000gn/T/ipykernel_83888/1344092893.py:33: FutureWarning: The frame.append method is deprecated and will be removed from pandas in a future version. Use pandas.concat instead.\n",
      "  storage = storage.append({\"k\":k, \"z\":z, \"w\":w, \"h\":h,\n"
     ]
    },
    {
     "name": "stdout",
     "output_type": "stream",
     "text": [
      "401\n"
     ]
    },
    {
     "name": "stderr",
     "output_type": "stream",
     "text": [
      "/var/folders/32/6tv1kbfx7jn9vst5h14cqq4r0000gn/T/ipykernel_83888/1344092893.py:33: FutureWarning: The frame.append method is deprecated and will be removed from pandas in a future version. Use pandas.concat instead.\n",
      "  storage = storage.append({\"k\":k, \"z\":z, \"w\":w, \"h\":h,\n"
     ]
    },
    {
     "name": "stdout",
     "output_type": "stream",
     "text": [
      "402\n"
     ]
    },
    {
     "name": "stderr",
     "output_type": "stream",
     "text": [
      "/var/folders/32/6tv1kbfx7jn9vst5h14cqq4r0000gn/T/ipykernel_83888/1344092893.py:33: FutureWarning: The frame.append method is deprecated and will be removed from pandas in a future version. Use pandas.concat instead.\n",
      "  storage = storage.append({\"k\":k, \"z\":z, \"w\":w, \"h\":h,\n"
     ]
    },
    {
     "name": "stdout",
     "output_type": "stream",
     "text": [
      "403\n"
     ]
    },
    {
     "name": "stderr",
     "output_type": "stream",
     "text": [
      "/var/folders/32/6tv1kbfx7jn9vst5h14cqq4r0000gn/T/ipykernel_83888/1344092893.py:33: FutureWarning: The frame.append method is deprecated and will be removed from pandas in a future version. Use pandas.concat instead.\n",
      "  storage = storage.append({\"k\":k, \"z\":z, \"w\":w, \"h\":h,\n"
     ]
    },
    {
     "name": "stdout",
     "output_type": "stream",
     "text": [
      "404\n"
     ]
    },
    {
     "name": "stderr",
     "output_type": "stream",
     "text": [
      "/var/folders/32/6tv1kbfx7jn9vst5h14cqq4r0000gn/T/ipykernel_83888/1344092893.py:33: FutureWarning: The frame.append method is deprecated and will be removed from pandas in a future version. Use pandas.concat instead.\n",
      "  storage = storage.append({\"k\":k, \"z\":z, \"w\":w, \"h\":h,\n"
     ]
    },
    {
     "name": "stdout",
     "output_type": "stream",
     "text": [
      "405\n"
     ]
    },
    {
     "name": "stderr",
     "output_type": "stream",
     "text": [
      "/var/folders/32/6tv1kbfx7jn9vst5h14cqq4r0000gn/T/ipykernel_83888/1344092893.py:33: FutureWarning: The frame.append method is deprecated and will be removed from pandas in a future version. Use pandas.concat instead.\n",
      "  storage = storage.append({\"k\":k, \"z\":z, \"w\":w, \"h\":h,\n"
     ]
    },
    {
     "name": "stdout",
     "output_type": "stream",
     "text": [
      "406\n"
     ]
    },
    {
     "name": "stderr",
     "output_type": "stream",
     "text": [
      "/var/folders/32/6tv1kbfx7jn9vst5h14cqq4r0000gn/T/ipykernel_83888/1344092893.py:33: FutureWarning: The frame.append method is deprecated and will be removed from pandas in a future version. Use pandas.concat instead.\n",
      "  storage = storage.append({\"k\":k, \"z\":z, \"w\":w, \"h\":h,\n"
     ]
    },
    {
     "name": "stdout",
     "output_type": "stream",
     "text": [
      "407\n"
     ]
    },
    {
     "name": "stderr",
     "output_type": "stream",
     "text": [
      "/var/folders/32/6tv1kbfx7jn9vst5h14cqq4r0000gn/T/ipykernel_83888/1344092893.py:33: FutureWarning: The frame.append method is deprecated and will be removed from pandas in a future version. Use pandas.concat instead.\n",
      "  storage = storage.append({\"k\":k, \"z\":z, \"w\":w, \"h\":h,\n"
     ]
    },
    {
     "name": "stdout",
     "output_type": "stream",
     "text": [
      "408\n"
     ]
    },
    {
     "name": "stderr",
     "output_type": "stream",
     "text": [
      "/var/folders/32/6tv1kbfx7jn9vst5h14cqq4r0000gn/T/ipykernel_83888/1344092893.py:33: FutureWarning: The frame.append method is deprecated and will be removed from pandas in a future version. Use pandas.concat instead.\n",
      "  storage = storage.append({\"k\":k, \"z\":z, \"w\":w, \"h\":h,\n"
     ]
    },
    {
     "name": "stdout",
     "output_type": "stream",
     "text": [
      "409\n"
     ]
    },
    {
     "name": "stderr",
     "output_type": "stream",
     "text": [
      "/var/folders/32/6tv1kbfx7jn9vst5h14cqq4r0000gn/T/ipykernel_83888/1344092893.py:33: FutureWarning: The frame.append method is deprecated and will be removed from pandas in a future version. Use pandas.concat instead.\n",
      "  storage = storage.append({\"k\":k, \"z\":z, \"w\":w, \"h\":h,\n"
     ]
    },
    {
     "name": "stdout",
     "output_type": "stream",
     "text": [
      "410\n"
     ]
    },
    {
     "name": "stderr",
     "output_type": "stream",
     "text": [
      "/var/folders/32/6tv1kbfx7jn9vst5h14cqq4r0000gn/T/ipykernel_83888/1344092893.py:33: FutureWarning: The frame.append method is deprecated and will be removed from pandas in a future version. Use pandas.concat instead.\n",
      "  storage = storage.append({\"k\":k, \"z\":z, \"w\":w, \"h\":h,\n"
     ]
    },
    {
     "name": "stdout",
     "output_type": "stream",
     "text": [
      "411\n"
     ]
    },
    {
     "name": "stderr",
     "output_type": "stream",
     "text": [
      "/var/folders/32/6tv1kbfx7jn9vst5h14cqq4r0000gn/T/ipykernel_83888/1344092893.py:33: FutureWarning: The frame.append method is deprecated and will be removed from pandas in a future version. Use pandas.concat instead.\n",
      "  storage = storage.append({\"k\":k, \"z\":z, \"w\":w, \"h\":h,\n"
     ]
    },
    {
     "name": "stdout",
     "output_type": "stream",
     "text": [
      "412\n"
     ]
    },
    {
     "name": "stderr",
     "output_type": "stream",
     "text": [
      "/var/folders/32/6tv1kbfx7jn9vst5h14cqq4r0000gn/T/ipykernel_83888/1344092893.py:33: FutureWarning: The frame.append method is deprecated and will be removed from pandas in a future version. Use pandas.concat instead.\n",
      "  storage = storage.append({\"k\":k, \"z\":z, \"w\":w, \"h\":h,\n"
     ]
    },
    {
     "name": "stdout",
     "output_type": "stream",
     "text": [
      "413\n"
     ]
    },
    {
     "name": "stderr",
     "output_type": "stream",
     "text": [
      "/var/folders/32/6tv1kbfx7jn9vst5h14cqq4r0000gn/T/ipykernel_83888/1344092893.py:33: FutureWarning: The frame.append method is deprecated and will be removed from pandas in a future version. Use pandas.concat instead.\n",
      "  storage = storage.append({\"k\":k, \"z\":z, \"w\":w, \"h\":h,\n"
     ]
    },
    {
     "name": "stdout",
     "output_type": "stream",
     "text": [
      "414\n"
     ]
    },
    {
     "name": "stderr",
     "output_type": "stream",
     "text": [
      "/var/folders/32/6tv1kbfx7jn9vst5h14cqq4r0000gn/T/ipykernel_83888/1344092893.py:33: FutureWarning: The frame.append method is deprecated and will be removed from pandas in a future version. Use pandas.concat instead.\n",
      "  storage = storage.append({\"k\":k, \"z\":z, \"w\":w, \"h\":h,\n"
     ]
    },
    {
     "name": "stdout",
     "output_type": "stream",
     "text": [
      "415\n"
     ]
    },
    {
     "name": "stderr",
     "output_type": "stream",
     "text": [
      "/var/folders/32/6tv1kbfx7jn9vst5h14cqq4r0000gn/T/ipykernel_83888/1344092893.py:33: FutureWarning: The frame.append method is deprecated and will be removed from pandas in a future version. Use pandas.concat instead.\n",
      "  storage = storage.append({\"k\":k, \"z\":z, \"w\":w, \"h\":h,\n"
     ]
    },
    {
     "name": "stdout",
     "output_type": "stream",
     "text": [
      "416\n"
     ]
    },
    {
     "name": "stderr",
     "output_type": "stream",
     "text": [
      "/var/folders/32/6tv1kbfx7jn9vst5h14cqq4r0000gn/T/ipykernel_83888/1344092893.py:33: FutureWarning: The frame.append method is deprecated and will be removed from pandas in a future version. Use pandas.concat instead.\n",
      "  storage = storage.append({\"k\":k, \"z\":z, \"w\":w, \"h\":h,\n"
     ]
    },
    {
     "name": "stdout",
     "output_type": "stream",
     "text": [
      "417\n"
     ]
    },
    {
     "name": "stderr",
     "output_type": "stream",
     "text": [
      "/var/folders/32/6tv1kbfx7jn9vst5h14cqq4r0000gn/T/ipykernel_83888/1344092893.py:33: FutureWarning: The frame.append method is deprecated and will be removed from pandas in a future version. Use pandas.concat instead.\n",
      "  storage = storage.append({\"k\":k, \"z\":z, \"w\":w, \"h\":h,\n"
     ]
    },
    {
     "name": "stdout",
     "output_type": "stream",
     "text": [
      "418\n"
     ]
    },
    {
     "name": "stderr",
     "output_type": "stream",
     "text": [
      "/var/folders/32/6tv1kbfx7jn9vst5h14cqq4r0000gn/T/ipykernel_83888/1344092893.py:33: FutureWarning: The frame.append method is deprecated and will be removed from pandas in a future version. Use pandas.concat instead.\n",
      "  storage = storage.append({\"k\":k, \"z\":z, \"w\":w, \"h\":h,\n"
     ]
    },
    {
     "name": "stdout",
     "output_type": "stream",
     "text": [
      "419\n"
     ]
    },
    {
     "name": "stderr",
     "output_type": "stream",
     "text": [
      "/var/folders/32/6tv1kbfx7jn9vst5h14cqq4r0000gn/T/ipykernel_83888/1344092893.py:33: FutureWarning: The frame.append method is deprecated and will be removed from pandas in a future version. Use pandas.concat instead.\n",
      "  storage = storage.append({\"k\":k, \"z\":z, \"w\":w, \"h\":h,\n"
     ]
    },
    {
     "name": "stdout",
     "output_type": "stream",
     "text": [
      "420\n"
     ]
    },
    {
     "name": "stderr",
     "output_type": "stream",
     "text": [
      "/var/folders/32/6tv1kbfx7jn9vst5h14cqq4r0000gn/T/ipykernel_83888/1344092893.py:33: FutureWarning: The frame.append method is deprecated and will be removed from pandas in a future version. Use pandas.concat instead.\n",
      "  storage = storage.append({\"k\":k, \"z\":z, \"w\":w, \"h\":h,\n"
     ]
    },
    {
     "name": "stdout",
     "output_type": "stream",
     "text": [
      "421\n"
     ]
    },
    {
     "name": "stderr",
     "output_type": "stream",
     "text": [
      "/var/folders/32/6tv1kbfx7jn9vst5h14cqq4r0000gn/T/ipykernel_83888/1344092893.py:33: FutureWarning: The frame.append method is deprecated and will be removed from pandas in a future version. Use pandas.concat instead.\n",
      "  storage = storage.append({\"k\":k, \"z\":z, \"w\":w, \"h\":h,\n"
     ]
    },
    {
     "name": "stdout",
     "output_type": "stream",
     "text": [
      "422\n"
     ]
    },
    {
     "name": "stderr",
     "output_type": "stream",
     "text": [
      "/var/folders/32/6tv1kbfx7jn9vst5h14cqq4r0000gn/T/ipykernel_83888/1344092893.py:33: FutureWarning: The frame.append method is deprecated and will be removed from pandas in a future version. Use pandas.concat instead.\n",
      "  storage = storage.append({\"k\":k, \"z\":z, \"w\":w, \"h\":h,\n"
     ]
    },
    {
     "name": "stdout",
     "output_type": "stream",
     "text": [
      "423\n"
     ]
    },
    {
     "name": "stderr",
     "output_type": "stream",
     "text": [
      "/var/folders/32/6tv1kbfx7jn9vst5h14cqq4r0000gn/T/ipykernel_83888/1344092893.py:33: FutureWarning: The frame.append method is deprecated and will be removed from pandas in a future version. Use pandas.concat instead.\n",
      "  storage = storage.append({\"k\":k, \"z\":z, \"w\":w, \"h\":h,\n"
     ]
    },
    {
     "name": "stdout",
     "output_type": "stream",
     "text": [
      "424\n"
     ]
    },
    {
     "name": "stderr",
     "output_type": "stream",
     "text": [
      "/var/folders/32/6tv1kbfx7jn9vst5h14cqq4r0000gn/T/ipykernel_83888/1344092893.py:33: FutureWarning: The frame.append method is deprecated and will be removed from pandas in a future version. Use pandas.concat instead.\n",
      "  storage = storage.append({\"k\":k, \"z\":z, \"w\":w, \"h\":h,\n"
     ]
    },
    {
     "name": "stdout",
     "output_type": "stream",
     "text": [
      "425\n"
     ]
    },
    {
     "name": "stderr",
     "output_type": "stream",
     "text": [
      "/var/folders/32/6tv1kbfx7jn9vst5h14cqq4r0000gn/T/ipykernel_83888/1344092893.py:33: FutureWarning: The frame.append method is deprecated and will be removed from pandas in a future version. Use pandas.concat instead.\n",
      "  storage = storage.append({\"k\":k, \"z\":z, \"w\":w, \"h\":h,\n"
     ]
    },
    {
     "name": "stdout",
     "output_type": "stream",
     "text": [
      "426\n"
     ]
    },
    {
     "name": "stderr",
     "output_type": "stream",
     "text": [
      "/var/folders/32/6tv1kbfx7jn9vst5h14cqq4r0000gn/T/ipykernel_83888/1344092893.py:33: FutureWarning: The frame.append method is deprecated and will be removed from pandas in a future version. Use pandas.concat instead.\n",
      "  storage = storage.append({\"k\":k, \"z\":z, \"w\":w, \"h\":h,\n"
     ]
    },
    {
     "name": "stdout",
     "output_type": "stream",
     "text": [
      "427\n"
     ]
    },
    {
     "name": "stderr",
     "output_type": "stream",
     "text": [
      "/var/folders/32/6tv1kbfx7jn9vst5h14cqq4r0000gn/T/ipykernel_83888/1344092893.py:33: FutureWarning: The frame.append method is deprecated and will be removed from pandas in a future version. Use pandas.concat instead.\n",
      "  storage = storage.append({\"k\":k, \"z\":z, \"w\":w, \"h\":h,\n"
     ]
    },
    {
     "name": "stdout",
     "output_type": "stream",
     "text": [
      "428\n"
     ]
    },
    {
     "name": "stderr",
     "output_type": "stream",
     "text": [
      "/var/folders/32/6tv1kbfx7jn9vst5h14cqq4r0000gn/T/ipykernel_83888/1344092893.py:33: FutureWarning: The frame.append method is deprecated and will be removed from pandas in a future version. Use pandas.concat instead.\n",
      "  storage = storage.append({\"k\":k, \"z\":z, \"w\":w, \"h\":h,\n"
     ]
    },
    {
     "name": "stdout",
     "output_type": "stream",
     "text": [
      "429\n"
     ]
    },
    {
     "name": "stderr",
     "output_type": "stream",
     "text": [
      "/var/folders/32/6tv1kbfx7jn9vst5h14cqq4r0000gn/T/ipykernel_83888/1344092893.py:33: FutureWarning: The frame.append method is deprecated and will be removed from pandas in a future version. Use pandas.concat instead.\n",
      "  storage = storage.append({\"k\":k, \"z\":z, \"w\":w, \"h\":h,\n"
     ]
    },
    {
     "name": "stdout",
     "output_type": "stream",
     "text": [
      "430\n"
     ]
    },
    {
     "name": "stderr",
     "output_type": "stream",
     "text": [
      "/var/folders/32/6tv1kbfx7jn9vst5h14cqq4r0000gn/T/ipykernel_83888/1344092893.py:33: FutureWarning: The frame.append method is deprecated and will be removed from pandas in a future version. Use pandas.concat instead.\n",
      "  storage = storage.append({\"k\":k, \"z\":z, \"w\":w, \"h\":h,\n"
     ]
    },
    {
     "name": "stdout",
     "output_type": "stream",
     "text": [
      "431\n"
     ]
    },
    {
     "name": "stderr",
     "output_type": "stream",
     "text": [
      "/var/folders/32/6tv1kbfx7jn9vst5h14cqq4r0000gn/T/ipykernel_83888/1344092893.py:33: FutureWarning: The frame.append method is deprecated and will be removed from pandas in a future version. Use pandas.concat instead.\n",
      "  storage = storage.append({\"k\":k, \"z\":z, \"w\":w, \"h\":h,\n"
     ]
    },
    {
     "name": "stdout",
     "output_type": "stream",
     "text": [
      "432\n"
     ]
    },
    {
     "name": "stderr",
     "output_type": "stream",
     "text": [
      "/var/folders/32/6tv1kbfx7jn9vst5h14cqq4r0000gn/T/ipykernel_83888/1344092893.py:33: FutureWarning: The frame.append method is deprecated and will be removed from pandas in a future version. Use pandas.concat instead.\n",
      "  storage = storage.append({\"k\":k, \"z\":z, \"w\":w, \"h\":h,\n"
     ]
    },
    {
     "name": "stdout",
     "output_type": "stream",
     "text": [
      "433\n"
     ]
    },
    {
     "name": "stderr",
     "output_type": "stream",
     "text": [
      "/var/folders/32/6tv1kbfx7jn9vst5h14cqq4r0000gn/T/ipykernel_83888/1344092893.py:33: FutureWarning: The frame.append method is deprecated and will be removed from pandas in a future version. Use pandas.concat instead.\n",
      "  storage = storage.append({\"k\":k, \"z\":z, \"w\":w, \"h\":h,\n"
     ]
    },
    {
     "name": "stdout",
     "output_type": "stream",
     "text": [
      "434\n"
     ]
    },
    {
     "name": "stderr",
     "output_type": "stream",
     "text": [
      "/var/folders/32/6tv1kbfx7jn9vst5h14cqq4r0000gn/T/ipykernel_83888/1344092893.py:33: FutureWarning: The frame.append method is deprecated and will be removed from pandas in a future version. Use pandas.concat instead.\n",
      "  storage = storage.append({\"k\":k, \"z\":z, \"w\":w, \"h\":h,\n"
     ]
    },
    {
     "name": "stdout",
     "output_type": "stream",
     "text": [
      "435\n"
     ]
    },
    {
     "name": "stderr",
     "output_type": "stream",
     "text": [
      "/var/folders/32/6tv1kbfx7jn9vst5h14cqq4r0000gn/T/ipykernel_83888/1344092893.py:33: FutureWarning: The frame.append method is deprecated and will be removed from pandas in a future version. Use pandas.concat instead.\n",
      "  storage = storage.append({\"k\":k, \"z\":z, \"w\":w, \"h\":h,\n"
     ]
    },
    {
     "name": "stdout",
     "output_type": "stream",
     "text": [
      "436\n"
     ]
    },
    {
     "name": "stderr",
     "output_type": "stream",
     "text": [
      "/var/folders/32/6tv1kbfx7jn9vst5h14cqq4r0000gn/T/ipykernel_83888/1344092893.py:33: FutureWarning: The frame.append method is deprecated and will be removed from pandas in a future version. Use pandas.concat instead.\n",
      "  storage = storage.append({\"k\":k, \"z\":z, \"w\":w, \"h\":h,\n"
     ]
    },
    {
     "name": "stdout",
     "output_type": "stream",
     "text": [
      "437\n"
     ]
    },
    {
     "name": "stderr",
     "output_type": "stream",
     "text": [
      "/var/folders/32/6tv1kbfx7jn9vst5h14cqq4r0000gn/T/ipykernel_83888/1344092893.py:33: FutureWarning: The frame.append method is deprecated and will be removed from pandas in a future version. Use pandas.concat instead.\n",
      "  storage = storage.append({\"k\":k, \"z\":z, \"w\":w, \"h\":h,\n"
     ]
    },
    {
     "name": "stdout",
     "output_type": "stream",
     "text": [
      "438\n"
     ]
    },
    {
     "name": "stderr",
     "output_type": "stream",
     "text": [
      "/var/folders/32/6tv1kbfx7jn9vst5h14cqq4r0000gn/T/ipykernel_83888/1344092893.py:33: FutureWarning: The frame.append method is deprecated and will be removed from pandas in a future version. Use pandas.concat instead.\n",
      "  storage = storage.append({\"k\":k, \"z\":z, \"w\":w, \"h\":h,\n"
     ]
    },
    {
     "name": "stdout",
     "output_type": "stream",
     "text": [
      "439\n"
     ]
    },
    {
     "name": "stderr",
     "output_type": "stream",
     "text": [
      "/var/folders/32/6tv1kbfx7jn9vst5h14cqq4r0000gn/T/ipykernel_83888/1344092893.py:33: FutureWarning: The frame.append method is deprecated and will be removed from pandas in a future version. Use pandas.concat instead.\n",
      "  storage = storage.append({\"k\":k, \"z\":z, \"w\":w, \"h\":h,\n"
     ]
    },
    {
     "name": "stdout",
     "output_type": "stream",
     "text": [
      "440\n"
     ]
    },
    {
     "name": "stderr",
     "output_type": "stream",
     "text": [
      "/var/folders/32/6tv1kbfx7jn9vst5h14cqq4r0000gn/T/ipykernel_83888/1344092893.py:33: FutureWarning: The frame.append method is deprecated and will be removed from pandas in a future version. Use pandas.concat instead.\n",
      "  storage = storage.append({\"k\":k, \"z\":z, \"w\":w, \"h\":h,\n"
     ]
    },
    {
     "name": "stdout",
     "output_type": "stream",
     "text": [
      "441\n"
     ]
    },
    {
     "name": "stderr",
     "output_type": "stream",
     "text": [
      "/var/folders/32/6tv1kbfx7jn9vst5h14cqq4r0000gn/T/ipykernel_83888/1344092893.py:33: FutureWarning: The frame.append method is deprecated and will be removed from pandas in a future version. Use pandas.concat instead.\n",
      "  storage = storage.append({\"k\":k, \"z\":z, \"w\":w, \"h\":h,\n"
     ]
    },
    {
     "name": "stdout",
     "output_type": "stream",
     "text": [
      "442\n"
     ]
    },
    {
     "name": "stderr",
     "output_type": "stream",
     "text": [
      "/var/folders/32/6tv1kbfx7jn9vst5h14cqq4r0000gn/T/ipykernel_83888/1344092893.py:33: FutureWarning: The frame.append method is deprecated and will be removed from pandas in a future version. Use pandas.concat instead.\n",
      "  storage = storage.append({\"k\":k, \"z\":z, \"w\":w, \"h\":h,\n"
     ]
    },
    {
     "name": "stdout",
     "output_type": "stream",
     "text": [
      "443\n"
     ]
    },
    {
     "name": "stderr",
     "output_type": "stream",
     "text": [
      "/var/folders/32/6tv1kbfx7jn9vst5h14cqq4r0000gn/T/ipykernel_83888/1344092893.py:33: FutureWarning: The frame.append method is deprecated and will be removed from pandas in a future version. Use pandas.concat instead.\n",
      "  storage = storage.append({\"k\":k, \"z\":z, \"w\":w, \"h\":h,\n"
     ]
    },
    {
     "name": "stdout",
     "output_type": "stream",
     "text": [
      "444\n"
     ]
    },
    {
     "name": "stderr",
     "output_type": "stream",
     "text": [
      "/var/folders/32/6tv1kbfx7jn9vst5h14cqq4r0000gn/T/ipykernel_83888/1344092893.py:33: FutureWarning: The frame.append method is deprecated and will be removed from pandas in a future version. Use pandas.concat instead.\n",
      "  storage = storage.append({\"k\":k, \"z\":z, \"w\":w, \"h\":h,\n"
     ]
    },
    {
     "name": "stdout",
     "output_type": "stream",
     "text": [
      "445\n"
     ]
    },
    {
     "name": "stderr",
     "output_type": "stream",
     "text": [
      "/var/folders/32/6tv1kbfx7jn9vst5h14cqq4r0000gn/T/ipykernel_83888/1344092893.py:33: FutureWarning: The frame.append method is deprecated and will be removed from pandas in a future version. Use pandas.concat instead.\n",
      "  storage = storage.append({\"k\":k, \"z\":z, \"w\":w, \"h\":h,\n"
     ]
    },
    {
     "name": "stdout",
     "output_type": "stream",
     "text": [
      "446\n"
     ]
    },
    {
     "name": "stderr",
     "output_type": "stream",
     "text": [
      "/var/folders/32/6tv1kbfx7jn9vst5h14cqq4r0000gn/T/ipykernel_83888/1344092893.py:33: FutureWarning: The frame.append method is deprecated and will be removed from pandas in a future version. Use pandas.concat instead.\n",
      "  storage = storage.append({\"k\":k, \"z\":z, \"w\":w, \"h\":h,\n"
     ]
    },
    {
     "name": "stdout",
     "output_type": "stream",
     "text": [
      "447\n"
     ]
    },
    {
     "name": "stderr",
     "output_type": "stream",
     "text": [
      "/var/folders/32/6tv1kbfx7jn9vst5h14cqq4r0000gn/T/ipykernel_83888/1344092893.py:33: FutureWarning: The frame.append method is deprecated and will be removed from pandas in a future version. Use pandas.concat instead.\n",
      "  storage = storage.append({\"k\":k, \"z\":z, \"w\":w, \"h\":h,\n"
     ]
    },
    {
     "name": "stdout",
     "output_type": "stream",
     "text": [
      "448\n"
     ]
    },
    {
     "name": "stderr",
     "output_type": "stream",
     "text": [
      "/var/folders/32/6tv1kbfx7jn9vst5h14cqq4r0000gn/T/ipykernel_83888/1344092893.py:33: FutureWarning: The frame.append method is deprecated and will be removed from pandas in a future version. Use pandas.concat instead.\n",
      "  storage = storage.append({\"k\":k, \"z\":z, \"w\":w, \"h\":h,\n"
     ]
    },
    {
     "name": "stdout",
     "output_type": "stream",
     "text": [
      "449\n"
     ]
    },
    {
     "name": "stderr",
     "output_type": "stream",
     "text": [
      "/var/folders/32/6tv1kbfx7jn9vst5h14cqq4r0000gn/T/ipykernel_83888/1344092893.py:33: FutureWarning: The frame.append method is deprecated and will be removed from pandas in a future version. Use pandas.concat instead.\n",
      "  storage = storage.append({\"k\":k, \"z\":z, \"w\":w, \"h\":h,\n"
     ]
    },
    {
     "name": "stdout",
     "output_type": "stream",
     "text": [
      "450\n"
     ]
    },
    {
     "name": "stderr",
     "output_type": "stream",
     "text": [
      "/var/folders/32/6tv1kbfx7jn9vst5h14cqq4r0000gn/T/ipykernel_83888/1344092893.py:33: FutureWarning: The frame.append method is deprecated and will be removed from pandas in a future version. Use pandas.concat instead.\n",
      "  storage = storage.append({\"k\":k, \"z\":z, \"w\":w, \"h\":h,\n"
     ]
    },
    {
     "name": "stdout",
     "output_type": "stream",
     "text": [
      "451\n"
     ]
    },
    {
     "name": "stderr",
     "output_type": "stream",
     "text": [
      "/var/folders/32/6tv1kbfx7jn9vst5h14cqq4r0000gn/T/ipykernel_83888/1344092893.py:33: FutureWarning: The frame.append method is deprecated and will be removed from pandas in a future version. Use pandas.concat instead.\n",
      "  storage = storage.append({\"k\":k, \"z\":z, \"w\":w, \"h\":h,\n"
     ]
    },
    {
     "name": "stdout",
     "output_type": "stream",
     "text": [
      "452\n"
     ]
    },
    {
     "name": "stderr",
     "output_type": "stream",
     "text": [
      "/var/folders/32/6tv1kbfx7jn9vst5h14cqq4r0000gn/T/ipykernel_83888/1344092893.py:33: FutureWarning: The frame.append method is deprecated and will be removed from pandas in a future version. Use pandas.concat instead.\n",
      "  storage = storage.append({\"k\":k, \"z\":z, \"w\":w, \"h\":h,\n"
     ]
    },
    {
     "name": "stdout",
     "output_type": "stream",
     "text": [
      "453\n"
     ]
    },
    {
     "name": "stderr",
     "output_type": "stream",
     "text": [
      "/var/folders/32/6tv1kbfx7jn9vst5h14cqq4r0000gn/T/ipykernel_83888/1344092893.py:33: FutureWarning: The frame.append method is deprecated and will be removed from pandas in a future version. Use pandas.concat instead.\n",
      "  storage = storage.append({\"k\":k, \"z\":z, \"w\":w, \"h\":h,\n"
     ]
    },
    {
     "name": "stdout",
     "output_type": "stream",
     "text": [
      "454\n"
     ]
    },
    {
     "name": "stderr",
     "output_type": "stream",
     "text": [
      "/var/folders/32/6tv1kbfx7jn9vst5h14cqq4r0000gn/T/ipykernel_83888/1344092893.py:33: FutureWarning: The frame.append method is deprecated and will be removed from pandas in a future version. Use pandas.concat instead.\n",
      "  storage = storage.append({\"k\":k, \"z\":z, \"w\":w, \"h\":h,\n"
     ]
    },
    {
     "name": "stdout",
     "output_type": "stream",
     "text": [
      "455\n"
     ]
    },
    {
     "name": "stderr",
     "output_type": "stream",
     "text": [
      "/var/folders/32/6tv1kbfx7jn9vst5h14cqq4r0000gn/T/ipykernel_83888/1344092893.py:33: FutureWarning: The frame.append method is deprecated and will be removed from pandas in a future version. Use pandas.concat instead.\n",
      "  storage = storage.append({\"k\":k, \"z\":z, \"w\":w, \"h\":h,\n"
     ]
    },
    {
     "name": "stdout",
     "output_type": "stream",
     "text": [
      "456\n"
     ]
    },
    {
     "name": "stderr",
     "output_type": "stream",
     "text": [
      "/var/folders/32/6tv1kbfx7jn9vst5h14cqq4r0000gn/T/ipykernel_83888/1344092893.py:33: FutureWarning: The frame.append method is deprecated and will be removed from pandas in a future version. Use pandas.concat instead.\n",
      "  storage = storage.append({\"k\":k, \"z\":z, \"w\":w, \"h\":h,\n"
     ]
    },
    {
     "name": "stdout",
     "output_type": "stream",
     "text": [
      "457\n"
     ]
    },
    {
     "name": "stderr",
     "output_type": "stream",
     "text": [
      "/var/folders/32/6tv1kbfx7jn9vst5h14cqq4r0000gn/T/ipykernel_83888/1344092893.py:33: FutureWarning: The frame.append method is deprecated and will be removed from pandas in a future version. Use pandas.concat instead.\n",
      "  storage = storage.append({\"k\":k, \"z\":z, \"w\":w, \"h\":h,\n"
     ]
    },
    {
     "name": "stdout",
     "output_type": "stream",
     "text": [
      "458\n"
     ]
    },
    {
     "name": "stderr",
     "output_type": "stream",
     "text": [
      "/var/folders/32/6tv1kbfx7jn9vst5h14cqq4r0000gn/T/ipykernel_83888/1344092893.py:33: FutureWarning: The frame.append method is deprecated and will be removed from pandas in a future version. Use pandas.concat instead.\n",
      "  storage = storage.append({\"k\":k, \"z\":z, \"w\":w, \"h\":h,\n"
     ]
    },
    {
     "name": "stdout",
     "output_type": "stream",
     "text": [
      "459\n"
     ]
    },
    {
     "name": "stderr",
     "output_type": "stream",
     "text": [
      "/var/folders/32/6tv1kbfx7jn9vst5h14cqq4r0000gn/T/ipykernel_83888/1344092893.py:33: FutureWarning: The frame.append method is deprecated and will be removed from pandas in a future version. Use pandas.concat instead.\n",
      "  storage = storage.append({\"k\":k, \"z\":z, \"w\":w, \"h\":h,\n"
     ]
    },
    {
     "name": "stdout",
     "output_type": "stream",
     "text": [
      "460\n"
     ]
    },
    {
     "name": "stderr",
     "output_type": "stream",
     "text": [
      "/var/folders/32/6tv1kbfx7jn9vst5h14cqq4r0000gn/T/ipykernel_83888/1344092893.py:33: FutureWarning: The frame.append method is deprecated and will be removed from pandas in a future version. Use pandas.concat instead.\n",
      "  storage = storage.append({\"k\":k, \"z\":z, \"w\":w, \"h\":h,\n"
     ]
    },
    {
     "name": "stdout",
     "output_type": "stream",
     "text": [
      "461\n"
     ]
    },
    {
     "name": "stderr",
     "output_type": "stream",
     "text": [
      "/var/folders/32/6tv1kbfx7jn9vst5h14cqq4r0000gn/T/ipykernel_83888/1344092893.py:33: FutureWarning: The frame.append method is deprecated and will be removed from pandas in a future version. Use pandas.concat instead.\n",
      "  storage = storage.append({\"k\":k, \"z\":z, \"w\":w, \"h\":h,\n"
     ]
    },
    {
     "name": "stdout",
     "output_type": "stream",
     "text": [
      "462\n"
     ]
    },
    {
     "name": "stderr",
     "output_type": "stream",
     "text": [
      "/var/folders/32/6tv1kbfx7jn9vst5h14cqq4r0000gn/T/ipykernel_83888/1344092893.py:33: FutureWarning: The frame.append method is deprecated and will be removed from pandas in a future version. Use pandas.concat instead.\n",
      "  storage = storage.append({\"k\":k, \"z\":z, \"w\":w, \"h\":h,\n"
     ]
    },
    {
     "name": "stdout",
     "output_type": "stream",
     "text": [
      "463\n"
     ]
    },
    {
     "name": "stderr",
     "output_type": "stream",
     "text": [
      "/var/folders/32/6tv1kbfx7jn9vst5h14cqq4r0000gn/T/ipykernel_83888/1344092893.py:33: FutureWarning: The frame.append method is deprecated and will be removed from pandas in a future version. Use pandas.concat instead.\n",
      "  storage = storage.append({\"k\":k, \"z\":z, \"w\":w, \"h\":h,\n"
     ]
    },
    {
     "name": "stdout",
     "output_type": "stream",
     "text": [
      "464\n"
     ]
    },
    {
     "name": "stderr",
     "output_type": "stream",
     "text": [
      "/var/folders/32/6tv1kbfx7jn9vst5h14cqq4r0000gn/T/ipykernel_83888/1344092893.py:33: FutureWarning: The frame.append method is deprecated and will be removed from pandas in a future version. Use pandas.concat instead.\n",
      "  storage = storage.append({\"k\":k, \"z\":z, \"w\":w, \"h\":h,\n"
     ]
    },
    {
     "name": "stdout",
     "output_type": "stream",
     "text": [
      "465\n"
     ]
    },
    {
     "name": "stderr",
     "output_type": "stream",
     "text": [
      "/var/folders/32/6tv1kbfx7jn9vst5h14cqq4r0000gn/T/ipykernel_83888/1344092893.py:33: FutureWarning: The frame.append method is deprecated and will be removed from pandas in a future version. Use pandas.concat instead.\n",
      "  storage = storage.append({\"k\":k, \"z\":z, \"w\":w, \"h\":h,\n"
     ]
    },
    {
     "name": "stdout",
     "output_type": "stream",
     "text": [
      "466\n"
     ]
    },
    {
     "name": "stderr",
     "output_type": "stream",
     "text": [
      "/var/folders/32/6tv1kbfx7jn9vst5h14cqq4r0000gn/T/ipykernel_83888/1344092893.py:33: FutureWarning: The frame.append method is deprecated and will be removed from pandas in a future version. Use pandas.concat instead.\n",
      "  storage = storage.append({\"k\":k, \"z\":z, \"w\":w, \"h\":h,\n"
     ]
    },
    {
     "name": "stdout",
     "output_type": "stream",
     "text": [
      "467\n"
     ]
    },
    {
     "name": "stderr",
     "output_type": "stream",
     "text": [
      "/var/folders/32/6tv1kbfx7jn9vst5h14cqq4r0000gn/T/ipykernel_83888/1344092893.py:33: FutureWarning: The frame.append method is deprecated and will be removed from pandas in a future version. Use pandas.concat instead.\n",
      "  storage = storage.append({\"k\":k, \"z\":z, \"w\":w, \"h\":h,\n"
     ]
    },
    {
     "name": "stdout",
     "output_type": "stream",
     "text": [
      "468\n"
     ]
    },
    {
     "name": "stderr",
     "output_type": "stream",
     "text": [
      "/var/folders/32/6tv1kbfx7jn9vst5h14cqq4r0000gn/T/ipykernel_83888/1344092893.py:33: FutureWarning: The frame.append method is deprecated and will be removed from pandas in a future version. Use pandas.concat instead.\n",
      "  storage = storage.append({\"k\":k, \"z\":z, \"w\":w, \"h\":h,\n"
     ]
    },
    {
     "name": "stdout",
     "output_type": "stream",
     "text": [
      "469\n"
     ]
    },
    {
     "name": "stderr",
     "output_type": "stream",
     "text": [
      "/var/folders/32/6tv1kbfx7jn9vst5h14cqq4r0000gn/T/ipykernel_83888/1344092893.py:33: FutureWarning: The frame.append method is deprecated and will be removed from pandas in a future version. Use pandas.concat instead.\n",
      "  storage = storage.append({\"k\":k, \"z\":z, \"w\":w, \"h\":h,\n"
     ]
    },
    {
     "name": "stdout",
     "output_type": "stream",
     "text": [
      "470\n"
     ]
    },
    {
     "name": "stderr",
     "output_type": "stream",
     "text": [
      "/var/folders/32/6tv1kbfx7jn9vst5h14cqq4r0000gn/T/ipykernel_83888/1344092893.py:33: FutureWarning: The frame.append method is deprecated and will be removed from pandas in a future version. Use pandas.concat instead.\n",
      "  storage = storage.append({\"k\":k, \"z\":z, \"w\":w, \"h\":h,\n"
     ]
    },
    {
     "name": "stdout",
     "output_type": "stream",
     "text": [
      "471\n"
     ]
    },
    {
     "name": "stderr",
     "output_type": "stream",
     "text": [
      "/var/folders/32/6tv1kbfx7jn9vst5h14cqq4r0000gn/T/ipykernel_83888/1344092893.py:33: FutureWarning: The frame.append method is deprecated and will be removed from pandas in a future version. Use pandas.concat instead.\n",
      "  storage = storage.append({\"k\":k, \"z\":z, \"w\":w, \"h\":h,\n"
     ]
    },
    {
     "name": "stdout",
     "output_type": "stream",
     "text": [
      "472\n"
     ]
    },
    {
     "name": "stderr",
     "output_type": "stream",
     "text": [
      "/var/folders/32/6tv1kbfx7jn9vst5h14cqq4r0000gn/T/ipykernel_83888/1344092893.py:33: FutureWarning: The frame.append method is deprecated and will be removed from pandas in a future version. Use pandas.concat instead.\n",
      "  storage = storage.append({\"k\":k, \"z\":z, \"w\":w, \"h\":h,\n"
     ]
    },
    {
     "name": "stdout",
     "output_type": "stream",
     "text": [
      "473\n"
     ]
    },
    {
     "name": "stderr",
     "output_type": "stream",
     "text": [
      "/var/folders/32/6tv1kbfx7jn9vst5h14cqq4r0000gn/T/ipykernel_83888/1344092893.py:33: FutureWarning: The frame.append method is deprecated and will be removed from pandas in a future version. Use pandas.concat instead.\n",
      "  storage = storage.append({\"k\":k, \"z\":z, \"w\":w, \"h\":h,\n"
     ]
    },
    {
     "name": "stdout",
     "output_type": "stream",
     "text": [
      "474\n"
     ]
    },
    {
     "name": "stderr",
     "output_type": "stream",
     "text": [
      "/var/folders/32/6tv1kbfx7jn9vst5h14cqq4r0000gn/T/ipykernel_83888/1344092893.py:33: FutureWarning: The frame.append method is deprecated and will be removed from pandas in a future version. Use pandas.concat instead.\n",
      "  storage = storage.append({\"k\":k, \"z\":z, \"w\":w, \"h\":h,\n"
     ]
    },
    {
     "name": "stdout",
     "output_type": "stream",
     "text": [
      "475\n"
     ]
    },
    {
     "name": "stderr",
     "output_type": "stream",
     "text": [
      "/var/folders/32/6tv1kbfx7jn9vst5h14cqq4r0000gn/T/ipykernel_83888/1344092893.py:33: FutureWarning: The frame.append method is deprecated and will be removed from pandas in a future version. Use pandas.concat instead.\n",
      "  storage = storage.append({\"k\":k, \"z\":z, \"w\":w, \"h\":h,\n"
     ]
    },
    {
     "name": "stdout",
     "output_type": "stream",
     "text": [
      "476\n"
     ]
    },
    {
     "name": "stderr",
     "output_type": "stream",
     "text": [
      "/var/folders/32/6tv1kbfx7jn9vst5h14cqq4r0000gn/T/ipykernel_83888/1344092893.py:33: FutureWarning: The frame.append method is deprecated and will be removed from pandas in a future version. Use pandas.concat instead.\n",
      "  storage = storage.append({\"k\":k, \"z\":z, \"w\":w, \"h\":h,\n"
     ]
    },
    {
     "name": "stdout",
     "output_type": "stream",
     "text": [
      "477\n"
     ]
    },
    {
     "name": "stderr",
     "output_type": "stream",
     "text": [
      "/var/folders/32/6tv1kbfx7jn9vst5h14cqq4r0000gn/T/ipykernel_83888/1344092893.py:33: FutureWarning: The frame.append method is deprecated and will be removed from pandas in a future version. Use pandas.concat instead.\n",
      "  storage = storage.append({\"k\":k, \"z\":z, \"w\":w, \"h\":h,\n"
     ]
    },
    {
     "name": "stdout",
     "output_type": "stream",
     "text": [
      "478\n"
     ]
    },
    {
     "name": "stderr",
     "output_type": "stream",
     "text": [
      "/var/folders/32/6tv1kbfx7jn9vst5h14cqq4r0000gn/T/ipykernel_83888/1344092893.py:33: FutureWarning: The frame.append method is deprecated and will be removed from pandas in a future version. Use pandas.concat instead.\n",
      "  storage = storage.append({\"k\":k, \"z\":z, \"w\":w, \"h\":h,\n"
     ]
    },
    {
     "name": "stdout",
     "output_type": "stream",
     "text": [
      "479\n"
     ]
    },
    {
     "name": "stderr",
     "output_type": "stream",
     "text": [
      "/var/folders/32/6tv1kbfx7jn9vst5h14cqq4r0000gn/T/ipykernel_83888/1344092893.py:33: FutureWarning: The frame.append method is deprecated and will be removed from pandas in a future version. Use pandas.concat instead.\n",
      "  storage = storage.append({\"k\":k, \"z\":z, \"w\":w, \"h\":h,\n"
     ]
    },
    {
     "name": "stdout",
     "output_type": "stream",
     "text": [
      "480\n"
     ]
    },
    {
     "name": "stderr",
     "output_type": "stream",
     "text": [
      "/var/folders/32/6tv1kbfx7jn9vst5h14cqq4r0000gn/T/ipykernel_83888/1344092893.py:33: FutureWarning: The frame.append method is deprecated and will be removed from pandas in a future version. Use pandas.concat instead.\n",
      "  storage = storage.append({\"k\":k, \"z\":z, \"w\":w, \"h\":h,\n"
     ]
    },
    {
     "name": "stdout",
     "output_type": "stream",
     "text": [
      "481\n"
     ]
    },
    {
     "name": "stderr",
     "output_type": "stream",
     "text": [
      "/var/folders/32/6tv1kbfx7jn9vst5h14cqq4r0000gn/T/ipykernel_83888/1344092893.py:33: FutureWarning: The frame.append method is deprecated and will be removed from pandas in a future version. Use pandas.concat instead.\n",
      "  storage = storage.append({\"k\":k, \"z\":z, \"w\":w, \"h\":h,\n"
     ]
    },
    {
     "name": "stdout",
     "output_type": "stream",
     "text": [
      "482\n"
     ]
    },
    {
     "name": "stderr",
     "output_type": "stream",
     "text": [
      "/var/folders/32/6tv1kbfx7jn9vst5h14cqq4r0000gn/T/ipykernel_83888/1344092893.py:33: FutureWarning: The frame.append method is deprecated and will be removed from pandas in a future version. Use pandas.concat instead.\n",
      "  storage = storage.append({\"k\":k, \"z\":z, \"w\":w, \"h\":h,\n"
     ]
    },
    {
     "name": "stdout",
     "output_type": "stream",
     "text": [
      "483\n"
     ]
    },
    {
     "name": "stderr",
     "output_type": "stream",
     "text": [
      "/var/folders/32/6tv1kbfx7jn9vst5h14cqq4r0000gn/T/ipykernel_83888/1344092893.py:33: FutureWarning: The frame.append method is deprecated and will be removed from pandas in a future version. Use pandas.concat instead.\n",
      "  storage = storage.append({\"k\":k, \"z\":z, \"w\":w, \"h\":h,\n"
     ]
    },
    {
     "name": "stdout",
     "output_type": "stream",
     "text": [
      "484\n"
     ]
    },
    {
     "name": "stderr",
     "output_type": "stream",
     "text": [
      "/var/folders/32/6tv1kbfx7jn9vst5h14cqq4r0000gn/T/ipykernel_83888/1344092893.py:33: FutureWarning: The frame.append method is deprecated and will be removed from pandas in a future version. Use pandas.concat instead.\n",
      "  storage = storage.append({\"k\":k, \"z\":z, \"w\":w, \"h\":h,\n"
     ]
    },
    {
     "name": "stdout",
     "output_type": "stream",
     "text": [
      "485\n"
     ]
    },
    {
     "name": "stderr",
     "output_type": "stream",
     "text": [
      "/var/folders/32/6tv1kbfx7jn9vst5h14cqq4r0000gn/T/ipykernel_83888/1344092893.py:33: FutureWarning: The frame.append method is deprecated and will be removed from pandas in a future version. Use pandas.concat instead.\n",
      "  storage = storage.append({\"k\":k, \"z\":z, \"w\":w, \"h\":h,\n"
     ]
    },
    {
     "name": "stdout",
     "output_type": "stream",
     "text": [
      "486\n"
     ]
    },
    {
     "name": "stderr",
     "output_type": "stream",
     "text": [
      "/var/folders/32/6tv1kbfx7jn9vst5h14cqq4r0000gn/T/ipykernel_83888/1344092893.py:33: FutureWarning: The frame.append method is deprecated and will be removed from pandas in a future version. Use pandas.concat instead.\n",
      "  storage = storage.append({\"k\":k, \"z\":z, \"w\":w, \"h\":h,\n"
     ]
    },
    {
     "name": "stdout",
     "output_type": "stream",
     "text": [
      "487\n"
     ]
    },
    {
     "name": "stderr",
     "output_type": "stream",
     "text": [
      "/var/folders/32/6tv1kbfx7jn9vst5h14cqq4r0000gn/T/ipykernel_83888/1344092893.py:33: FutureWarning: The frame.append method is deprecated and will be removed from pandas in a future version. Use pandas.concat instead.\n",
      "  storage = storage.append({\"k\":k, \"z\":z, \"w\":w, \"h\":h,\n"
     ]
    },
    {
     "name": "stdout",
     "output_type": "stream",
     "text": [
      "488\n"
     ]
    },
    {
     "name": "stderr",
     "output_type": "stream",
     "text": [
      "/var/folders/32/6tv1kbfx7jn9vst5h14cqq4r0000gn/T/ipykernel_83888/1344092893.py:33: FutureWarning: The frame.append method is deprecated and will be removed from pandas in a future version. Use pandas.concat instead.\n",
      "  storage = storage.append({\"k\":k, \"z\":z, \"w\":w, \"h\":h,\n"
     ]
    },
    {
     "name": "stdout",
     "output_type": "stream",
     "text": [
      "489\n"
     ]
    },
    {
     "name": "stderr",
     "output_type": "stream",
     "text": [
      "/var/folders/32/6tv1kbfx7jn9vst5h14cqq4r0000gn/T/ipykernel_83888/1344092893.py:33: FutureWarning: The frame.append method is deprecated and will be removed from pandas in a future version. Use pandas.concat instead.\n",
      "  storage = storage.append({\"k\":k, \"z\":z, \"w\":w, \"h\":h,\n"
     ]
    },
    {
     "name": "stdout",
     "output_type": "stream",
     "text": [
      "490\n"
     ]
    },
    {
     "name": "stderr",
     "output_type": "stream",
     "text": [
      "/var/folders/32/6tv1kbfx7jn9vst5h14cqq4r0000gn/T/ipykernel_83888/1344092893.py:33: FutureWarning: The frame.append method is deprecated and will be removed from pandas in a future version. Use pandas.concat instead.\n",
      "  storage = storage.append({\"k\":k, \"z\":z, \"w\":w, \"h\":h,\n"
     ]
    },
    {
     "name": "stdout",
     "output_type": "stream",
     "text": [
      "491\n"
     ]
    },
    {
     "name": "stderr",
     "output_type": "stream",
     "text": [
      "/var/folders/32/6tv1kbfx7jn9vst5h14cqq4r0000gn/T/ipykernel_83888/1344092893.py:33: FutureWarning: The frame.append method is deprecated and will be removed from pandas in a future version. Use pandas.concat instead.\n",
      "  storage = storage.append({\"k\":k, \"z\":z, \"w\":w, \"h\":h,\n"
     ]
    },
    {
     "name": "stdout",
     "output_type": "stream",
     "text": [
      "492\n"
     ]
    },
    {
     "name": "stderr",
     "output_type": "stream",
     "text": [
      "/var/folders/32/6tv1kbfx7jn9vst5h14cqq4r0000gn/T/ipykernel_83888/1344092893.py:33: FutureWarning: The frame.append method is deprecated and will be removed from pandas in a future version. Use pandas.concat instead.\n",
      "  storage = storage.append({\"k\":k, \"z\":z, \"w\":w, \"h\":h,\n"
     ]
    },
    {
     "name": "stdout",
     "output_type": "stream",
     "text": [
      "493\n"
     ]
    },
    {
     "name": "stderr",
     "output_type": "stream",
     "text": [
      "/var/folders/32/6tv1kbfx7jn9vst5h14cqq4r0000gn/T/ipykernel_83888/1344092893.py:33: FutureWarning: The frame.append method is deprecated and will be removed from pandas in a future version. Use pandas.concat instead.\n",
      "  storage = storage.append({\"k\":k, \"z\":z, \"w\":w, \"h\":h,\n"
     ]
    },
    {
     "name": "stdout",
     "output_type": "stream",
     "text": [
      "494\n"
     ]
    },
    {
     "name": "stderr",
     "output_type": "stream",
     "text": [
      "/var/folders/32/6tv1kbfx7jn9vst5h14cqq4r0000gn/T/ipykernel_83888/1344092893.py:33: FutureWarning: The frame.append method is deprecated and will be removed from pandas in a future version. Use pandas.concat instead.\n",
      "  storage = storage.append({\"k\":k, \"z\":z, \"w\":w, \"h\":h,\n"
     ]
    },
    {
     "name": "stdout",
     "output_type": "stream",
     "text": [
      "495\n"
     ]
    },
    {
     "name": "stderr",
     "output_type": "stream",
     "text": [
      "/var/folders/32/6tv1kbfx7jn9vst5h14cqq4r0000gn/T/ipykernel_83888/1344092893.py:33: FutureWarning: The frame.append method is deprecated and will be removed from pandas in a future version. Use pandas.concat instead.\n",
      "  storage = storage.append({\"k\":k, \"z\":z, \"w\":w, \"h\":h,\n"
     ]
    },
    {
     "name": "stdout",
     "output_type": "stream",
     "text": [
      "496\n"
     ]
    },
    {
     "name": "stderr",
     "output_type": "stream",
     "text": [
      "/var/folders/32/6tv1kbfx7jn9vst5h14cqq4r0000gn/T/ipykernel_83888/1344092893.py:33: FutureWarning: The frame.append method is deprecated and will be removed from pandas in a future version. Use pandas.concat instead.\n",
      "  storage = storage.append({\"k\":k, \"z\":z, \"w\":w, \"h\":h,\n"
     ]
    },
    {
     "name": "stdout",
     "output_type": "stream",
     "text": [
      "497\n"
     ]
    },
    {
     "name": "stderr",
     "output_type": "stream",
     "text": [
      "/var/folders/32/6tv1kbfx7jn9vst5h14cqq4r0000gn/T/ipykernel_83888/1344092893.py:33: FutureWarning: The frame.append method is deprecated and will be removed from pandas in a future version. Use pandas.concat instead.\n",
      "  storage = storage.append({\"k\":k, \"z\":z, \"w\":w, \"h\":h,\n"
     ]
    },
    {
     "name": "stdout",
     "output_type": "stream",
     "text": [
      "498\n",
      "499\n"
     ]
    },
    {
     "name": "stderr",
     "output_type": "stream",
     "text": [
      "/var/folders/32/6tv1kbfx7jn9vst5h14cqq4r0000gn/T/ipykernel_83888/1344092893.py:33: FutureWarning: The frame.append method is deprecated and will be removed from pandas in a future version. Use pandas.concat instead.\n",
      "  storage = storage.append({\"k\":k, \"z\":z, \"w\":w, \"h\":h,\n"
     ]
    }
   ],
   "source": [
    "storage = pd.DataFrame(columns = [\"k\", \"z\", \"w\", \"h\", \"profits\"])\n",
    "df_copy = interest.copy()\n",
    "\n",
    "for n in range(len(grid)):\n",
    "    # Each loop we pull out the values for a new set of hyperparamters from the grid\n",
    "    k,z,w,h= grid[n]\n",
    "    \n",
    "    # We fit a filter and CI using the next set of parameters\n",
    "    df_copy[\"Filter\"] = df_copy[\"ir_diff\"].ewm(alpha = k, adjust = False).mean()\n",
    "    df_copy[\"Filter Error\"] = df_copy[\"ir_diff\"] -df_copy[\"Filter\"]\n",
    "    df_copy[\"std\"] = df_copy[\"Filter Error\"].rolling(int(w)).std()\n",
    "    df_copy[\"Upper\"] = df_copy[\"Filter\"] + z*df_copy[\"std\"]\n",
    "    df_copy[\"Lower\"] = df_copy[\"Filter\"] - z*df_copy[\"std\"]\n",
    "    df_copy[\"test\"] = np.where(df_copy[\"Filter Error\"].abs()>z*df_copy[\"std\"], 1, 0)*np.sign(df_copy[\"Filter Error\"])\n",
    "    \n",
    "    # create vectors where we can store information on signals and when the change is first signalled\n",
    "    df_copy[\"test2\"] = 0\n",
    "    df_copy[\"signal\"] = 0\n",
    "    \n",
    "    for j in df_copy.index:\n",
    "        # if there is a change in the signal, we want to take a position for teh next h periods\n",
    "        if (df_copy.loc[j, \"test\"] == 1) &  (df_copy.shift().loc[j, \"test\"] != 1):\n",
    "            df_copy.loc[j:j+datetime.timedelta(h), \"signal\"] = 1\n",
    "            df_copy.loc[j, \"test2\"] = 1\n",
    "        elif (df_copy.loc[j, \"test\"] == -1) &  (df_copy.shift().loc[j, \"test\"] != -1):\n",
    "            df_copy.loc[j:j+datetime.timedelta(h), \"signal\"] =  -1\n",
    "            df_copy.loc[j, \"test2\"] = -1\n",
    "    \n",
    "    # calculate metric\n",
    "    df_copy[\"cumulative_returns\"] = np.exp((df_copy[\"signal\"].shift()*df_copy.Returns).cumsum())-1\n",
    "    \n",
    "    # store the results\n",
    "    storage = storage.append({\"k\":k, \"z\":z, \"w\":w, \"h\":h,\n",
    "                \"profits\":df_copy[\"cumulative_returns\"][-1]}, ignore_index = True)\n",
    "    # print so I can track progress of loop (can take a few minutes)\n",
    "    print(n)"
   ]
  },
  {
   "cell_type": "code",
   "execution_count": 8,
   "id": "d041168a",
   "metadata": {},
   "outputs": [
    {
     "data": {
      "text/html": [
       "<div>\n",
       "<style scoped>\n",
       "    .dataframe tbody tr th:only-of-type {\n",
       "        vertical-align: middle;\n",
       "    }\n",
       "\n",
       "    .dataframe tbody tr th {\n",
       "        vertical-align: top;\n",
       "    }\n",
       "\n",
       "    .dataframe thead th {\n",
       "        text-align: right;\n",
       "    }\n",
       "</style>\n",
       "<table border=\"1\" class=\"dataframe\">\n",
       "  <thead>\n",
       "    <tr style=\"text-align: right;\">\n",
       "      <th></th>\n",
       "      <th>k</th>\n",
       "      <th>z</th>\n",
       "      <th>w</th>\n",
       "      <th>h</th>\n",
       "      <th>profits</th>\n",
       "    </tr>\n",
       "  </thead>\n",
       "  <tbody>\n",
       "    <tr>\n",
       "      <th>0</th>\n",
       "      <td>0.99</td>\n",
       "      <td>0.342222</td>\n",
       "      <td>5.0</td>\n",
       "      <td>6.0</td>\n",
       "      <td>-0.503098</td>\n",
       "    </tr>\n",
       "    <tr>\n",
       "      <th>1</th>\n",
       "      <td>0.99</td>\n",
       "      <td>0.342222</td>\n",
       "      <td>20.0</td>\n",
       "      <td>6.0</td>\n",
       "      <td>-0.469625</td>\n",
       "    </tr>\n",
       "    <tr>\n",
       "      <th>2</th>\n",
       "      <td>0.336667</td>\n",
       "      <td>1.338889</td>\n",
       "      <td>5.0</td>\n",
       "      <td>6.0</td>\n",
       "      <td>-0.453509</td>\n",
       "    </tr>\n",
       "    <tr>\n",
       "      <th>3</th>\n",
       "      <td>0.663333</td>\n",
       "      <td>0.01</td>\n",
       "      <td>20.0</td>\n",
       "      <td>6.0</td>\n",
       "      <td>-0.443715</td>\n",
       "    </tr>\n",
       "    <tr>\n",
       "      <th>4</th>\n",
       "      <td>0.336667</td>\n",
       "      <td>1.006667</td>\n",
       "      <td>20.0</td>\n",
       "      <td>6.0</td>\n",
       "      <td>-0.434341</td>\n",
       "    </tr>\n",
       "    <tr>\n",
       "      <th>...</th>\n",
       "      <td>...</td>\n",
       "      <td>...</td>\n",
       "      <td>...</td>\n",
       "      <td>...</td>\n",
       "      <td>...</td>\n",
       "    </tr>\n",
       "    <tr>\n",
       "      <th>495</th>\n",
       "      <td>0.118889</td>\n",
       "      <td>0.342222</td>\n",
       "      <td>10.0</td>\n",
       "      <td>6.0</td>\n",
       "      <td>0.496489</td>\n",
       "    </tr>\n",
       "    <tr>\n",
       "      <th>496</th>\n",
       "      <td>0.336667</td>\n",
       "      <td>2.335556</td>\n",
       "      <td>5.0</td>\n",
       "      <td>6.0</td>\n",
       "      <td>0.553348</td>\n",
       "    </tr>\n",
       "    <tr>\n",
       "      <th>497</th>\n",
       "      <td>0.118889</td>\n",
       "      <td>1.338889</td>\n",
       "      <td>5.0</td>\n",
       "      <td>6.0</td>\n",
       "      <td>0.575329</td>\n",
       "    </tr>\n",
       "    <tr>\n",
       "      <th>498</th>\n",
       "      <td>0.118889</td>\n",
       "      <td>0.342222</td>\n",
       "      <td>20.0</td>\n",
       "      <td>6.0</td>\n",
       "      <td>0.601305</td>\n",
       "    </tr>\n",
       "    <tr>\n",
       "      <th>499</th>\n",
       "      <td>0.118889</td>\n",
       "      <td>0.342222</td>\n",
       "      <td>25.0</td>\n",
       "      <td>6.0</td>\n",
       "      <td>0.626185</td>\n",
       "    </tr>\n",
       "  </tbody>\n",
       "</table>\n",
       "<p>500 rows × 5 columns</p>\n",
       "</div>"
      ],
      "text/plain": [
       "            k         z     w    h   profits\n",
       "0        0.99  0.342222   5.0  6.0 -0.503098\n",
       "1        0.99  0.342222  20.0  6.0 -0.469625\n",
       "2    0.336667  1.338889   5.0  6.0 -0.453509\n",
       "3    0.663333      0.01  20.0  6.0 -0.443715\n",
       "4    0.336667  1.006667  20.0  6.0 -0.434341\n",
       "..        ...       ...   ...  ...       ...\n",
       "495  0.118889  0.342222  10.0  6.0  0.496489\n",
       "496  0.336667  2.335556   5.0  6.0  0.553348\n",
       "497  0.118889  1.338889   5.0  6.0  0.575329\n",
       "498  0.118889  0.342222  20.0  6.0  0.601305\n",
       "499  0.118889  0.342222  25.0  6.0  0.626185\n",
       "\n",
       "[500 rows x 5 columns]"
      ]
     },
     "execution_count": 8,
     "metadata": {},
     "output_type": "execute_result"
    }
   ],
   "source": [
    "storage = storage.sort_values(by = \"proMallikafits\").reset_index(drop = True)\n",
    "storage"
   ]
  },
  {
   "cell_type": "code",
   "execution_count": 9,
   "id": "758fa26c",
   "metadata": {},
   "outputs": [],
   "source": [
    "import seaborn as sns\n",
    "def heatmap(x, y, metric, values):\n",
    "    \n",
    "    # specify the columns I will be pulling from the results\n",
    "    p2p = values[[x, y, metric]]\n",
    "    \n",
    "    # If p > 2, we need to group \n",
    "    heat = np.round(p2p.groupby([x,y]).max(),1)\n",
    "    heat = heat.unstack()[metric]\n",
    "\n",
    "    # round labels\n",
    "    heat.index = np.round(heat.index,2)\n",
    "    heat.columns = np.round(heat.columns,2)\n",
    "\n",
    "    # make plot\n",
    "    f, ax = plt.subplots(figsize=(25, 12))\n",
    "    ax = sns.heatmap(heat, fmt='.1g')\n",
    "    ax.set_title(\"Heat map of \"+ metric,size = 18)\n",
    "    ax.tick_params(axis='both', which='major', labelsize=20)\n",
    "    ax.set_xlabel(y, size = 18)\n",
    "    ax.set_ylabel(x, size = 18)\n",
    "    ax.collections[0].colorbar.set_label(metric, size = 18)\n",
    "    sns.set(font_scale=1)\n",
    "    plt.show()"
   ]
  },
  {
   "cell_type": "code",
   "execution_count": 10,
   "id": "c3ef8d4a",
   "metadata": {},
   "outputs": [
    {
     "data": {
      "image/png": "[encoded data removed]",
      "text/plain": [
       "<Figure size 1800x864 with 2 Axes>"
      ]
     },
     "metadata": {
      "needs_background": "light"
     },
     "output_type": "display_data"
    }
   ],
   "source": [
    "heatmap(\"k\", \"z\",\"profits\", storage)"
   ]
  },
  {
   "cell_type": "markdown",
   "id": "85a9e425",
   "metadata": {},
   "source": [
    "According to this heatmap, the hyperparamters which are sustainably optimal are k = 0.34 and z = 2.34"
   ]
  },
  {
   "cell_type": "code",
   "execution_count": 14,
   "id": "41843425",
   "metadata": {},
   "outputs": [
    {
     "data": {
      "image/png": "[encoded data removed]",
      "text/plain": [
       "<Figure size 1800x864 with 2 Axes>"
      ]
     },
     "metadata": {},
     "output_type": "display_data"
    }
   ],
   "source": [
    "heatmap(\"z\", \"w\",\"profits\", storage)"
   ]
  },
  {
   "cell_type": "markdown",
   "id": "9aa43495",
   "metadata": {},
   "source": [
    "According to this heatmap, the hyperparamters which are sustainably optimal are w = 5.0 and z = 2.34"
   ]
  },
  {
   "cell_type": "code",
   "execution_count": 122,
   "id": "8c0fca42",
   "metadata": {},
   "outputs": [
    {
     "data": {
      "image/png": "[encoded data removed]",
      "text/plain": [
       "<Figure size 1800x864 with 2 Axes>"
      ]
     },
     "metadata": {},
     "output_type": "display_data"
    }
   ],
   "source": [
    "heatmap(\"z\", \"h\",\"profits\", storage)"
   ]
  },
  {
   "cell_type": "markdown",
   "id": "ae228a5c",
   "metadata": {},
   "source": [
    "According to this heatmap, the hyperparamters which are sustainably optimal are h = 6.0 and z = 2.34"
   ]
  },
  {
   "cell_type": "markdown",
   "id": "9aeaf887",
   "metadata": {},
   "source": [
    "Hence we can conclude that our optimal parameters are k = 0.34, z = 2.34, w = 5.0 and h = 6.0 "
   ]
  },
  {
   "cell_type": "code",
   "execution_count": 188,
   "id": "b16c53c5",
   "metadata": {},
   "outputs": [],
   "source": [
    "k = 0.34\n",
    "z = 2.34\n",
    "w = 5.0\n",
    "h = 6.0 "
   ]
  },
  {
   "cell_type": "code",
   "execution_count": 189,
   "id": "a55825a0",
   "metadata": {},
   "outputs": [],
   "source": [
    "df_copy = interest.copy()"
   ]
  },
  {
   "cell_type": "code",
   "execution_count": 190,
   "id": "4fbf55ba",
   "metadata": {},
   "outputs": [],
   "source": [
    "df_copy[\"Filter\"] = df_copy[\"ir_diff\"].ewm(alpha = k, adjust = False).mean()\n",
    "df_copy[\"Filter Error\"] = df_copy[\"ir_diff\"] -df_copy[\"Filter\"]\n",
    "df_copy[\"std\"] = df_copy[\"Filter Error\"].rolling(int(w)).std()\n",
    "df_copy[\"Upper\"] = df_copy[\"Filter\"] + z*df_copy[\"std\"]\n",
    "df_copy[\"Lower\"] = df_copy[\"Filter\"] - z*df_copy[\"std\"]\n",
    "df_copy[\"test\"] = np.where(df_copy[\"Filter Error\"].abs()>z*df_copy[\"std\"], 1, 0)*np.sign(df_copy[\"Filter Error\"])\n",
    "\n",
    "# create vectors where we can store information on signals and when the change is first signalled\n",
    "df_copy[\"test2\"] = 0\n",
    "df_copy[\"signal\"] = 0\n",
    "\n",
    "for j in df_copy.index:\n",
    "    # if there is a change in the signal, we want to take a position for teh next h periods\n",
    "    if (df_copy.loc[j, \"test\"] == 1) &  (df_copy.shift().loc[j, \"test\"] != 1):\n",
    "        df_copy.loc[j:j+datetime.timedelta(h), \"signal\"] = 1\n",
    "        df_copy.loc[j, \"test2\"] = 1\n",
    "    elif (df_copy.loc[j, \"test\"] == -1) &  (df_copy.shift().loc[j, \"test\"] != -1):\n",
    "        df_copy.loc[j:j+datetime.timedelta(h), \"signal\"] =  -1\n",
    "        df_copy.loc[j, \"test2\"] = -1\n",
    "\n",
    "# calculate metric\n",
    "df_copy[\"cumulative_returns\"] = np.exp((df_copy[\"signal\"].shift()*df_copy.Returns).cumsum())-1\n",
    "df_copy[\"strat_returns\"] = df_copy[\"signal\"].shift()*df_copy.Returns\n"
   ]
  },
  {
   "cell_type": "code",
   "execution_count": 191,
   "id": "b4ee5919",
   "metadata": {},
   "outputs": [
    {
     "data": {
      "text/html": [
       "<div>\n",
       "<style scoped>\n",
       "    .dataframe tbody tr th:only-of-type {\n",
       "        vertical-align: middle;\n",
       "    }\n",
       "\n",
       "    .dataframe tbody tr th {\n",
       "        vertical-align: top;\n",
       "    }\n",
       "\n",
       "    .dataframe thead th {\n",
       "        text-align: right;\n",
       "    }\n",
       "</style>\n",
       "<table border=\"1\" class=\"dataframe\">\n",
       "  <thead>\n",
       "    <tr style=\"text-align: right;\">\n",
       "      <th></th>\n",
       "      <th>I_US</th>\n",
       "      <th>I_AU</th>\n",
       "      <th>AUD</th>\n",
       "      <th>ir_diff</th>\n",
       "      <th>Returns</th>\n",
       "      <th>Filter</th>\n",
       "      <th>Filter Error</th>\n",
       "      <th>std</th>\n",
       "      <th>Upper</th>\n",
       "      <th>Lower</th>\n",
       "      <th>test</th>\n",
       "      <th>test2</th>\n",
       "      <th>signal</th>\n",
       "      <th>cumulative_returns</th>\n",
       "      <th>strat_returns</th>\n",
       "    </tr>\n",
       "    <tr>\n",
       "      <th>Date</th>\n",
       "      <th></th>\n",
       "      <th></th>\n",
       "      <th></th>\n",
       "      <th></th>\n",
       "      <th></th>\n",
       "      <th></th>\n",
       "      <th></th>\n",
       "      <th></th>\n",
       "      <th></th>\n",
       "      <th></th>\n",
       "      <th></th>\n",
       "      <th></th>\n",
       "      <th></th>\n",
       "      <th></th>\n",
       "      <th></th>\n",
       "    </tr>\n",
       "  </thead>\n",
       "  <tbody>\n",
       "    <tr>\n",
       "      <th>1980-01-01</th>\n",
       "      <td>13.39</td>\n",
       "      <td>10.03</td>\n",
       "      <td>1.1067</td>\n",
       "      <td>0.247933</td>\n",
       "      <td>NaN</td>\n",
       "      <td>0.247933</td>\n",
       "      <td>0.000000</td>\n",
       "      <td>NaN</td>\n",
       "      <td>NaN</td>\n",
       "      <td>NaN</td>\n",
       "      <td>0.0</td>\n",
       "      <td>0</td>\n",
       "      <td>0</td>\n",
       "      <td>NaN</td>\n",
       "      <td>NaN</td>\n",
       "    </tr>\n",
       "    <tr>\n",
       "      <th>1980-02-01</th>\n",
       "      <td>14.30</td>\n",
       "      <td>10.06</td>\n",
       "      <td>1.0970</td>\n",
       "      <td>0.295560</td>\n",
       "      <td>-0.008803</td>\n",
       "      <td>0.264126</td>\n",
       "      <td>0.031434</td>\n",
       "      <td>NaN</td>\n",
       "      <td>NaN</td>\n",
       "      <td>NaN</td>\n",
       "      <td>0.0</td>\n",
       "      <td>0</td>\n",
       "      <td>0</td>\n",
       "      <td>0.000000</td>\n",
       "      <td>-0.000000</td>\n",
       "    </tr>\n",
       "    <tr>\n",
       "      <th>1980-03-01</th>\n",
       "      <td>17.57</td>\n",
       "      <td>11.47</td>\n",
       "      <td>1.0818</td>\n",
       "      <td>0.405795</td>\n",
       "      <td>-0.013953</td>\n",
       "      <td>0.312293</td>\n",
       "      <td>0.093502</td>\n",
       "      <td>NaN</td>\n",
       "      <td>NaN</td>\n",
       "      <td>NaN</td>\n",
       "      <td>0.0</td>\n",
       "      <td>0</td>\n",
       "      <td>0</td>\n",
       "      <td>0.000000</td>\n",
       "      <td>-0.000000</td>\n",
       "    </tr>\n",
       "    <tr>\n",
       "      <th>1980-04-01</th>\n",
       "      <td>16.14</td>\n",
       "      <td>13.28</td>\n",
       "      <td>1.1150</td>\n",
       "      <td>0.244089</td>\n",
       "      <td>0.030228</td>\n",
       "      <td>0.289104</td>\n",
       "      <td>-0.045015</td>\n",
       "      <td>NaN</td>\n",
       "      <td>NaN</td>\n",
       "      <td>NaN</td>\n",
       "      <td>-0.0</td>\n",
       "      <td>0</td>\n",
       "      <td>0</td>\n",
       "      <td>0.000000</td>\n",
       "      <td>0.000000</td>\n",
       "    </tr>\n",
       "    <tr>\n",
       "      <th>1980-05-01</th>\n",
       "      <td>9.79</td>\n",
       "      <td>13.83</td>\n",
       "      <td>1.1428</td>\n",
       "      <td>-0.123769</td>\n",
       "      <td>0.024627</td>\n",
       "      <td>0.148727</td>\n",
       "      <td>-0.272496</td>\n",
       "      <td>0.140173</td>\n",
       "      <td>0.476733</td>\n",
       "      <td>-0.179278</td>\n",
       "      <td>-0.0</td>\n",
       "      <td>0</td>\n",
       "      <td>0</td>\n",
       "      <td>0.000000</td>\n",
       "      <td>0.000000</td>\n",
       "    </tr>\n",
       "    <tr>\n",
       "      <th>...</th>\n",
       "      <td>...</td>\n",
       "      <td>...</td>\n",
       "      <td>...</td>\n",
       "      <td>...</td>\n",
       "      <td>...</td>\n",
       "      <td>...</td>\n",
       "      <td>...</td>\n",
       "      <td>...</td>\n",
       "      <td>...</td>\n",
       "      <td>...</td>\n",
       "      <td>...</td>\n",
       "      <td>...</td>\n",
       "      <td>...</td>\n",
       "      <td>...</td>\n",
       "      <td>...</td>\n",
       "    </tr>\n",
       "    <tr>\n",
       "      <th>2022-08-01</th>\n",
       "      <td>2.76</td>\n",
       "      <td>2.31</td>\n",
       "      <td>0.6866</td>\n",
       "      <td>0.036281</td>\n",
       "      <td>-0.017183</td>\n",
       "      <td>0.028313</td>\n",
       "      <td>0.007968</td>\n",
       "      <td>0.003519</td>\n",
       "      <td>0.036548</td>\n",
       "      <td>0.020078</td>\n",
       "      <td>0.0</td>\n",
       "      <td>0</td>\n",
       "      <td>0</td>\n",
       "      <td>0.478653</td>\n",
       "      <td>-0.000000</td>\n",
       "    </tr>\n",
       "    <tr>\n",
       "      <th>2022-09-01</th>\n",
       "      <td>3.21</td>\n",
       "      <td>2.76</td>\n",
       "      <td>0.6437</td>\n",
       "      <td>0.039479</td>\n",
       "      <td>-0.064519</td>\n",
       "      <td>0.032109</td>\n",
       "      <td>0.007369</td>\n",
       "      <td>0.003395</td>\n",
       "      <td>0.040053</td>\n",
       "      <td>0.024166</td>\n",
       "      <td>0.0</td>\n",
       "      <td>0</td>\n",
       "      <td>0</td>\n",
       "      <td>0.478653</td>\n",
       "      <td>-0.000000</td>\n",
       "    </tr>\n",
       "    <tr>\n",
       "      <th>2022-10-01</th>\n",
       "      <td>3.85</td>\n",
       "      <td>2.95</td>\n",
       "      <td>0.6394</td>\n",
       "      <td>0.065075</td>\n",
       "      <td>-0.006703</td>\n",
       "      <td>0.043317</td>\n",
       "      <td>0.021757</td>\n",
       "      <td>0.007272</td>\n",
       "      <td>0.060334</td>\n",
       "      <td>0.026301</td>\n",
       "      <td>1.0</td>\n",
       "      <td>1</td>\n",
       "      <td>1</td>\n",
       "      <td>0.478653</td>\n",
       "      <td>-0.000000</td>\n",
       "    </tr>\n",
       "    <tr>\n",
       "      <th>2022-11-01</th>\n",
       "      <td>4.46</td>\n",
       "      <td>3.06</td>\n",
       "      <td>0.6717</td>\n",
       "      <td>0.092796</td>\n",
       "      <td>0.049282</td>\n",
       "      <td>0.060140</td>\n",
       "      <td>0.032656</td>\n",
       "      <td>0.011118</td>\n",
       "      <td>0.086156</td>\n",
       "      <td>0.034125</td>\n",
       "      <td>1.0</td>\n",
       "      <td>0</td>\n",
       "      <td>0</td>\n",
       "      <td>0.553348</td>\n",
       "      <td>0.049282</td>\n",
       "    </tr>\n",
       "    <tr>\n",
       "      <th>2022-12-01</th>\n",
       "      <td>4.51</td>\n",
       "      <td>3.17</td>\n",
       "      <td>0.6805</td>\n",
       "      <td>0.090345</td>\n",
       "      <td>0.013016</td>\n",
       "      <td>0.070410</td>\n",
       "      <td>0.019935</td>\n",
       "      <td>0.010563</td>\n",
       "      <td>0.095127</td>\n",
       "      <td>0.045693</td>\n",
       "      <td>0.0</td>\n",
       "      <td>0</td>\n",
       "      <td>0</td>\n",
       "      <td>0.553348</td>\n",
       "      <td>0.000000</td>\n",
       "    </tr>\n",
       "  </tbody>\n",
       "</table>\n",
       "<p>515 rows × 15 columns</p>\n",
       "</div>"
      ],
      "text/plain": [
       "             I_US   I_AU     AUD   ir_diff   Returns    Filter  Filter Error  \\\n",
       "Date                                                                           \n",
       "1980-01-01  13.39  10.03  1.1067  0.247933       NaN  0.247933      0.000000   \n",
       "1980-02-01  14.30  10.06  1.0970  0.295560 -0.008803  0.264126      0.031434   \n",
       "1980-03-01  17.57  11.47  1.0818  0.405795 -0.013953  0.312293      0.093502   \n",
       "1980-04-01  16.14  13.28  1.1150  0.244089  0.030228  0.289104     -0.045015   \n",
       "1980-05-01   9.79  13.83  1.1428 -0.123769  0.024627  0.148727     -0.272496   \n",
       "...           ...    ...     ...       ...       ...       ...           ...   \n",
       "2022-08-01   2.76   2.31  0.6866  0.036281 -0.017183  0.028313      0.007968   \n",
       "2022-09-01   3.21   2.76  0.6437  0.039479 -0.064519  0.032109      0.007369   \n",
       "2022-10-01   3.85   2.95  0.6394  0.065075 -0.006703  0.043317      0.021757   \n",
       "2022-11-01   4.46   3.06  0.6717  0.092796  0.049282  0.060140      0.032656   \n",
       "2022-12-01   4.51   3.17  0.6805  0.090345  0.013016  0.070410      0.019935   \n",
       "\n",
       "                 std     Upper     Lower  test  test2  signal  \\\n",
       "Date                                                            \n",
       "1980-01-01       NaN       NaN       NaN   0.0      0       0   \n",
       "1980-02-01       NaN       NaN       NaN   0.0      0       0   \n",
       "1980-03-01       NaN       NaN       NaN   0.0      0       0   \n",
       "1980-04-01       NaN       NaN       NaN  -0.0      0       0   \n",
       "1980-05-01  0.140173  0.476733 -0.179278  -0.0      0       0   \n",
       "...              ...       ...       ...   ...    ...     ...   \n",
       "2022-08-01  0.003519  0.036548  0.020078   0.0      0       0   \n",
       "2022-09-01  0.003395  0.040053  0.024166   0.0      0       0   \n",
       "2022-10-01  0.007272  0.060334  0.026301   1.0      1       1   \n",
       "2022-11-01  0.011118  0.086156  0.034125   1.0      0       0   \n",
       "2022-12-01  0.010563  0.095127  0.045693   0.0      0       0   \n",
       "\n",
       "            cumulative_returns  strat_returns  \n",
       "Date                                           \n",
       "1980-01-01                 NaN            NaN  \n",
       "1980-02-01            0.000000      -0.000000  \n",
       "1980-03-01            0.000000      -0.000000  \n",
       "1980-04-01            0.000000       0.000000  \n",
       "1980-05-01            0.000000       0.000000  \n",
       "...                        ...            ...  \n",
       "2022-08-01            0.478653      -0.000000  \n",
       "2022-09-01            0.478653      -0.000000  \n",
       "2022-10-01            0.478653      -0.000000  \n",
       "2022-11-01            0.553348       0.049282  \n",
       "2022-12-01            0.553348       0.000000  \n",
       "\n",
       "[515 rows x 15 columns]"
      ]
     },
     "execution_count": 191,
     "metadata": {},
     "output_type": "execute_result"
    }
   ],
   "source": [
    "df_copy"
   ]
  },
  {
   "cell_type": "code",
   "execution_count": 192,
   "id": "94d96026",
   "metadata": {},
   "outputs": [
    {
     "data": {
      "image/png": "[encoded data removed]",
      "text/plain": [
       "<Figure size 1080x360 with 1 Axes>"
      ]
     },
     "metadata": {},
     "output_type": "display_data"
    }
   ],
   "source": [
    "sns.set_style(\"white\")\n",
    "fig, ax = plt.subplots(figsize = (15, 5))\n",
    "ax.set_title(\"Kalman Filter vs Actual Values \" + \"Z=\"+str(z) + \" w=\" + str(w)+ \" k=\" + str(k))\n",
    "\n",
    "ax.set_ylabel(\"Scaled Interest Rate Differential\")\n",
    "ax.plot(df_copy[\"ir_diff\"])\n",
    "ax.plot(df_copy[\"Filter\"])\n",
    "\n",
    "\n",
    "ax.fill_between(df_copy.index, df_copy.Lower, df_copy.Upper, color='b', alpha=.2)\n",
    "ax.scatter(df_copy[df_copy.test2 == 1].index, df_copy[df_copy.test2 == 1][\"ir_diff\"], color = \"blue\")\n",
    "ax.scatter(df_copy[df_copy.test2 == -1].index, df_copy[df_copy.test2 == -1][\"ir_diff\"], color = \"red\")\n",
    "\n",
    "#ax.axvline(df_copy.index[-5], color = \"red\", linestyle = '--')\n",
    "ax.legend([\"Interest Rate Difference\", \"Kalman CI\", \"Long Position\", \"Short Position\"])\n",
    "\n",
    "\n",
    "#plt.xlim([datetime.date(2000, 1, 1), datetime.date(2004, 1, 1)])\n",
    "ax.grid()"
   ]
  },
  {
   "cell_type": "code",
   "execution_count": 193,
   "id": "583dc75d",
   "metadata": {},
   "outputs": [],
   "source": [
    "df_copy[\"success\"] = ((df_copy[df_copy.test2 != 0][\"cumulative_returns\"].diff()>0)*1).shift(-1)"
   ]
  },
  {
   "cell_type": "code",
   "execution_count": 194,
   "id": "01176119",
   "metadata": {},
   "outputs": [
    {
     "data": {
      "image/png": "[encoded data removed]",
      "text/plain": [
       "<Figure size 1080x360 with 1 Axes>"
      ]
     },
     "metadata": {},
     "output_type": "display_data"
    }
   ],
   "source": [
    "plt.figure(figsize = (15, 5))\n",
    "\n",
    "plt.title(\"Exchange Rates and Trading Positions\"+ \", Z = \"+str(z) + \", w = \" + str(w)+ \", k = \" + str(k))\n",
    "plt.ylabel(\"AUDUSD\")\n",
    "plt.plot(df_copy[\"AUD\"])\n",
    "\n",
    "longsuccess = df_copy[(df_copy[\"success\"] == 1) & (df_copy[\"test2\"] == 1)]\n",
    "longfail = df_copy[(df_copy[\"success\"] == 0) & (df_copy[\"test2\"] == 1)] \n",
    "shortsuccess = df_copy[(df_copy[\"success\"] == 1) & (df_copy[\"test2\"] == -1)]\n",
    "shortfail = df_copy[(df_copy[\"success\"] == 0) & (df_copy[\"test2\"] == -1)]\n",
    "\n",
    "plt.scatter(longsuccess.index, longsuccess[\"AUD\"], color = 'blue', s = 50)\n",
    "plt.scatter(longfail.index, longfail[\"AUD\"], color = 'blue', s = 50, marker = \"x\")\n",
    "\n",
    "plt.scatter(shortsuccess.index, shortsuccess[\"AUD\"], color = 'red', s = 50)\n",
    "plt.scatter(shortfail.index, shortfail[\"AUD\"], color = 'red', s = 50, marker = \"x\")\n",
    "\n",
    "plt.legend([\"Index\", \"Long Success\", \"Long Fail\", \"Short Success\", \"Short Fail\"])\n",
    "plt.grid()"
   ]
  },
  {
   "cell_type": "code",
   "execution_count": 196,
   "id": "b46950d8",
   "metadata": {},
   "outputs": [
    {
     "data": {
      "image/png": "[encoded data removed]",
      "text/plain": [
       "<Figure size 1080x360 with 1 Axes>"
      ]
     },
     "metadata": {},
     "output_type": "display_data"
    }
   ],
   "source": [
    "plt.figure(figsize = (15, 5))\n",
    "(df_copy[\"cumulative_returns\"]).plot()\n",
    "\n",
    "plt.title(\"Interest Rate Differential Strategy:\"+ \", Z = \"+str(z) + \", w = \" + str(w)+ \", k = \" + str(k))\n",
    "\n",
    "plt.legend([\"Equity Curve\"])\n",
    "\n",
    "plt.grid()"
   ]
  },
  {
   "cell_type": "markdown",
   "id": "5fd44fa7",
   "metadata": {},
   "source": [
    "### Binomial Test"
   ]
  },
  {
   "cell_type": "code",
   "execution_count": 197,
   "id": "c2c6c3ea",
   "metadata": {},
   "outputs": [],
   "source": [
    "df = df_copy[df_copy.test2 != 0][[\"signal\", \"AUD\"]].copy()\n",
    "df['D'] = df[\"signal\"]"
   ]
  },
  {
   "cell_type": "code",
   "execution_count": 198,
   "id": "01878957",
   "metadata": {},
   "outputs": [],
   "source": [
    "df2 = df[:-1].copy()"
   ]
  },
  {
   "cell_type": "code",
   "execution_count": 199,
   "id": "fe8eca1a",
   "metadata": {},
   "outputs": [
    {
     "data": {
      "text/html": [
       "<div>\n",
       "<style scoped>\n",
       "    .dataframe tbody tr th:only-of-type {\n",
       "        vertical-align: middle;\n",
       "    }\n",
       "\n",
       "    .dataframe tbody tr th {\n",
       "        vertical-align: top;\n",
       "    }\n",
       "\n",
       "    .dataframe thead th {\n",
       "        text-align: right;\n",
       "    }\n",
       "</style>\n",
       "<table border=\"1\" class=\"dataframe\">\n",
       "  <thead>\n",
       "    <tr style=\"text-align: right;\">\n",
       "      <th></th>\n",
       "      <th>signal</th>\n",
       "      <th>AUD</th>\n",
       "      <th>D</th>\n",
       "    </tr>\n",
       "    <tr>\n",
       "      <th>Date</th>\n",
       "      <th></th>\n",
       "      <th></th>\n",
       "      <th></th>\n",
       "    </tr>\n",
       "  </thead>\n",
       "  <tbody>\n",
       "    <tr>\n",
       "      <th>1982-04-01</th>\n",
       "      <td>-1</td>\n",
       "      <td>1.0614</td>\n",
       "      <td>-1</td>\n",
       "    </tr>\n",
       "    <tr>\n",
       "      <th>1983-11-01</th>\n",
       "      <td>1</td>\n",
       "      <td>0.9147</td>\n",
       "      <td>1</td>\n",
       "    </tr>\n",
       "    <tr>\n",
       "      <th>1984-09-01</th>\n",
       "      <td>1</td>\n",
       "      <td>0.8290</td>\n",
       "      <td>1</td>\n",
       "    </tr>\n",
       "    <tr>\n",
       "      <th>1985-03-01</th>\n",
       "      <td>-1</td>\n",
       "      <td>0.7000</td>\n",
       "      <td>-1</td>\n",
       "    </tr>\n",
       "    <tr>\n",
       "      <th>1985-11-01</th>\n",
       "      <td>-1</td>\n",
       "      <td>0.6859</td>\n",
       "      <td>-1</td>\n",
       "    </tr>\n",
       "    <tr>\n",
       "      <th>1987-08-01</th>\n",
       "      <td>1</td>\n",
       "      <td>0.7145</td>\n",
       "      <td>1</td>\n",
       "    </tr>\n",
       "    <tr>\n",
       "      <th>1989-01-01</th>\n",
       "      <td>-1</td>\n",
       "      <td>0.8874</td>\n",
       "      <td>-1</td>\n",
       "    </tr>\n",
       "    <tr>\n",
       "      <th>1990-09-01</th>\n",
       "      <td>1</td>\n",
       "      <td>0.8254</td>\n",
       "      <td>1</td>\n",
       "    </tr>\n",
       "    <tr>\n",
       "      <th>1991-10-01</th>\n",
       "      <td>1</td>\n",
       "      <td>0.7791</td>\n",
       "      <td>1</td>\n",
       "    </tr>\n",
       "    <tr>\n",
       "      <th>1992-05-01</th>\n",
       "      <td>1</td>\n",
       "      <td>0.7568</td>\n",
       "      <td>1</td>\n",
       "    </tr>\n",
       "    <tr>\n",
       "      <th>1993-07-01</th>\n",
       "      <td>1</td>\n",
       "      <td>0.6880</td>\n",
       "      <td>1</td>\n",
       "    </tr>\n",
       "    <tr>\n",
       "      <th>1993-10-01</th>\n",
       "      <td>1</td>\n",
       "      <td>0.6655</td>\n",
       "      <td>1</td>\n",
       "    </tr>\n",
       "    <tr>\n",
       "      <th>1994-05-01</th>\n",
       "      <td>1</td>\n",
       "      <td>0.7385</td>\n",
       "      <td>1</td>\n",
       "    </tr>\n",
       "    <tr>\n",
       "      <th>1995-01-01</th>\n",
       "      <td>-1</td>\n",
       "      <td>0.7575</td>\n",
       "      <td>-1</td>\n",
       "    </tr>\n",
       "    <tr>\n",
       "      <th>1996-11-01</th>\n",
       "      <td>1</td>\n",
       "      <td>0.8137</td>\n",
       "      <td>1</td>\n",
       "    </tr>\n",
       "    <tr>\n",
       "      <th>1997-06-01</th>\n",
       "      <td>1</td>\n",
       "      <td>0.7550</td>\n",
       "      <td>1</td>\n",
       "    </tr>\n",
       "    <tr>\n",
       "      <th>1998-11-01</th>\n",
       "      <td>-1</td>\n",
       "      <td>0.6280</td>\n",
       "      <td>-1</td>\n",
       "    </tr>\n",
       "    <tr>\n",
       "      <th>1999-10-01</th>\n",
       "      <td>1</td>\n",
       "      <td>0.6376</td>\n",
       "      <td>1</td>\n",
       "    </tr>\n",
       "    <tr>\n",
       "      <th>2001-05-01</th>\n",
       "      <td>-1</td>\n",
       "      <td>0.5068</td>\n",
       "      <td>-1</td>\n",
       "    </tr>\n",
       "    <tr>\n",
       "      <th>2002-05-01</th>\n",
       "      <td>-1</td>\n",
       "      <td>0.5660</td>\n",
       "      <td>-1</td>\n",
       "    </tr>\n",
       "    <tr>\n",
       "      <th>2002-11-01</th>\n",
       "      <td>-1</td>\n",
       "      <td>0.5601</td>\n",
       "      <td>-1</td>\n",
       "    </tr>\n",
       "    <tr>\n",
       "      <th>2003-06-01</th>\n",
       "      <td>-1</td>\n",
       "      <td>0.6713</td>\n",
       "      <td>-1</td>\n",
       "    </tr>\n",
       "    <tr>\n",
       "      <th>2004-09-01</th>\n",
       "      <td>1</td>\n",
       "      <td>0.7244</td>\n",
       "      <td>1</td>\n",
       "    </tr>\n",
       "    <tr>\n",
       "      <th>2005-04-01</th>\n",
       "      <td>1</td>\n",
       "      <td>0.7834</td>\n",
       "      <td>1</td>\n",
       "    </tr>\n",
       "    <tr>\n",
       "      <th>2006-06-01</th>\n",
       "      <td>1</td>\n",
       "      <td>0.7423</td>\n",
       "      <td>1</td>\n",
       "    </tr>\n",
       "    <tr>\n",
       "      <th>2006-12-01</th>\n",
       "      <td>-1</td>\n",
       "      <td>0.7884</td>\n",
       "      <td>-1</td>\n",
       "    </tr>\n",
       "    <tr>\n",
       "      <th>2007-04-01</th>\n",
       "      <td>-1</td>\n",
       "      <td>0.8326</td>\n",
       "      <td>-1</td>\n",
       "    </tr>\n",
       "    <tr>\n",
       "      <th>2007-10-01</th>\n",
       "      <td>-1</td>\n",
       "      <td>0.9271</td>\n",
       "      <td>-1</td>\n",
       "    </tr>\n",
       "    <tr>\n",
       "      <th>2008-01-01</th>\n",
       "      <td>-1</td>\n",
       "      <td>0.8968</td>\n",
       "      <td>-1</td>\n",
       "    </tr>\n",
       "    <tr>\n",
       "      <th>2009-09-01</th>\n",
       "      <td>-1</td>\n",
       "      <td>0.8824</td>\n",
       "      <td>-1</td>\n",
       "    </tr>\n",
       "    <tr>\n",
       "      <th>2010-04-01</th>\n",
       "      <td>-1</td>\n",
       "      <td>0.9306</td>\n",
       "      <td>-1</td>\n",
       "    </tr>\n",
       "    <tr>\n",
       "      <th>2010-09-01</th>\n",
       "      <td>-1</td>\n",
       "      <td>0.9640</td>\n",
       "      <td>-1</td>\n",
       "    </tr>\n",
       "    <tr>\n",
       "      <th>2011-05-01</th>\n",
       "      <td>-1</td>\n",
       "      <td>1.0660</td>\n",
       "      <td>-1</td>\n",
       "    </tr>\n",
       "    <tr>\n",
       "      <th>2011-11-01</th>\n",
       "      <td>1</td>\n",
       "      <td>1.0244</td>\n",
       "      <td>1</td>\n",
       "    </tr>\n",
       "    <tr>\n",
       "      <th>2012-05-01</th>\n",
       "      <td>1</td>\n",
       "      <td>0.9711</td>\n",
       "      <td>1</td>\n",
       "    </tr>\n",
       "    <tr>\n",
       "      <th>2013-01-01</th>\n",
       "      <td>1</td>\n",
       "      <td>1.0433</td>\n",
       "      <td>1</td>\n",
       "    </tr>\n",
       "    <tr>\n",
       "      <th>2013-08-01</th>\n",
       "      <td>1</td>\n",
       "      <td>0.8901</td>\n",
       "      <td>1</td>\n",
       "    </tr>\n",
       "    <tr>\n",
       "      <th>2014-05-01</th>\n",
       "      <td>-1</td>\n",
       "      <td>0.9298</td>\n",
       "      <td>-1</td>\n",
       "    </tr>\n",
       "    <tr>\n",
       "      <th>2015-05-01</th>\n",
       "      <td>1</td>\n",
       "      <td>0.7659</td>\n",
       "      <td>1</td>\n",
       "    </tr>\n",
       "    <tr>\n",
       "      <th>2015-12-01</th>\n",
       "      <td>1</td>\n",
       "      <td>0.7286</td>\n",
       "      <td>1</td>\n",
       "    </tr>\n",
       "    <tr>\n",
       "      <th>2016-05-01</th>\n",
       "      <td>1</td>\n",
       "      <td>0.7242</td>\n",
       "      <td>1</td>\n",
       "    </tr>\n",
       "    <tr>\n",
       "      <th>2016-08-01</th>\n",
       "      <td>1</td>\n",
       "      <td>0.7519</td>\n",
       "      <td>1</td>\n",
       "    </tr>\n",
       "    <tr>\n",
       "      <th>2017-03-01</th>\n",
       "      <td>1</td>\n",
       "      <td>0.7638</td>\n",
       "      <td>1</td>\n",
       "    </tr>\n",
       "    <tr>\n",
       "      <th>2017-12-01</th>\n",
       "      <td>1</td>\n",
       "      <td>0.7815</td>\n",
       "      <td>1</td>\n",
       "    </tr>\n",
       "    <tr>\n",
       "      <th>2018-09-01</th>\n",
       "      <td>1</td>\n",
       "      <td>0.7238</td>\n",
       "      <td>1</td>\n",
       "    </tr>\n",
       "    <tr>\n",
       "      <th>2019-05-01</th>\n",
       "      <td>1</td>\n",
       "      <td>0.6930</td>\n",
       "      <td>1</td>\n",
       "    </tr>\n",
       "    <tr>\n",
       "      <th>2020-02-01</th>\n",
       "      <td>-1</td>\n",
       "      <td>0.6495</td>\n",
       "      <td>-1</td>\n",
       "    </tr>\n",
       "    <tr>\n",
       "      <th>2020-05-01</th>\n",
       "      <td>-1</td>\n",
       "      <td>0.6642</td>\n",
       "      <td>-1</td>\n",
       "    </tr>\n",
       "    <tr>\n",
       "      <th>2022-02-01</th>\n",
       "      <td>1</td>\n",
       "      <td>0.7261</td>\n",
       "      <td>1</td>\n",
       "    </tr>\n",
       "  </tbody>\n",
       "</table>\n",
       "</div>"
      ],
      "text/plain": [
       "            signal     AUD  D\n",
       "Date                         \n",
       "1982-04-01      -1  1.0614 -1\n",
       "1983-11-01       1  0.9147  1\n",
       "1984-09-01       1  0.8290  1\n",
       "1985-03-01      -1  0.7000 -1\n",
       "1985-11-01      -1  0.6859 -1\n",
       "1987-08-01       1  0.7145  1\n",
       "1989-01-01      -1  0.8874 -1\n",
       "1990-09-01       1  0.8254  1\n",
       "1991-10-01       1  0.7791  1\n",
       "1992-05-01       1  0.7568  1\n",
       "1993-07-01       1  0.6880  1\n",
       "1993-10-01       1  0.6655  1\n",
       "1994-05-01       1  0.7385  1\n",
       "1995-01-01      -1  0.7575 -1\n",
       "1996-11-01       1  0.8137  1\n",
       "1997-06-01       1  0.7550  1\n",
       "1998-11-01      -1  0.6280 -1\n",
       "1999-10-01       1  0.6376  1\n",
       "2001-05-01      -1  0.5068 -1\n",
       "2002-05-01      -1  0.5660 -1\n",
       "2002-11-01      -1  0.5601 -1\n",
       "2003-06-01      -1  0.6713 -1\n",
       "2004-09-01       1  0.7244  1\n",
       "2005-04-01       1  0.7834  1\n",
       "2006-06-01       1  0.7423  1\n",
       "2006-12-01      -1  0.7884 -1\n",
       "2007-04-01      -1  0.8326 -1\n",
       "2007-10-01      -1  0.9271 -1\n",
       "2008-01-01      -1  0.8968 -1\n",
       "2009-09-01      -1  0.8824 -1\n",
       "2010-04-01      -1  0.9306 -1\n",
       "2010-09-01      -1  0.9640 -1\n",
       "2011-05-01      -1  1.0660 -1\n",
       "2011-11-01       1  1.0244  1\n",
       "2012-05-01       1  0.9711  1\n",
       "2013-01-01       1  1.0433  1\n",
       "2013-08-01       1  0.8901  1\n",
       "2014-05-01      -1  0.9298 -1\n",
       "2015-05-01       1  0.7659  1\n",
       "2015-12-01       1  0.7286  1\n",
       "2016-05-01       1  0.7242  1\n",
       "2016-08-01       1  0.7519  1\n",
       "2017-03-01       1  0.7638  1\n",
       "2017-12-01       1  0.7815  1\n",
       "2018-09-01       1  0.7238  1\n",
       "2019-05-01       1  0.6930  1\n",
       "2020-02-01      -1  0.6495 -1\n",
       "2020-05-01      -1  0.6642 -1\n",
       "2022-02-01       1  0.7261  1"
      ]
     },
     "execution_count": 199,
     "metadata": {},
     "output_type": "execute_result"
    }
   ],
   "source": [
    "df2"
   ]
  },
  {
   "cell_type": "code",
   "execution_count": 200,
   "id": "5beb9f20",
   "metadata": {},
   "outputs": [],
   "source": [
    "df2.index = df2.index + pd.DateOffset(months=6)"
   ]
  },
  {
   "cell_type": "code",
   "execution_count": 51,
   "id": "ec3fa4ac",
   "metadata": {},
   "outputs": [],
   "source": [
    "dy = df2['W'] - np.mean(df2['W'])\n",
    "gamma_0 = sum((dy)**2)/len(df2)\n",
    "gamma_1 = np.mean((dy*dy.shift(-1))[:len(df2)-1])\n",
    "LRV = gamma_0 + 2*(1-1/2)*gamma_1"
   ]
  },
  {
   "cell_type": "code",
   "execution_count": 52,
   "id": "c55fabf8",
   "metadata": {},
   "outputs": [
    {
     "name": "stdout",
     "output_type": "stream",
     "text": [
      "Test statistic :  nan , 5 % critical value :  1.64\n"
     ]
    },
    {
     "name": "stderr",
     "output_type": "stream",
     "text": [
      "/var/folders/32/6tv1kbfx7jn9vst5h14cqq4r0000gn/T/ipykernel_83888/78748941.py:3: RuntimeWarning: invalid value encountered in double_scalars\n",
      "  statistic = T_B/np.sqrt(LRV/df.shape[0])\n"
     ]
    }
   ],
   "source": [
    "from scipy.stats import norm\n",
    "\n",
    "statistic = T_B/np.sqrt(LRV/df.shape[0])\n",
    "print('Test statistic : ', statistic, ', 5 % critical value : ', round(norm.ppf(0.95),2))"
   ]
  },
  {
   "cell_type": "code",
   "execution_count": null,
   "id": "b1a7bffd",
   "metadata": {},
   "outputs": [],
   "source": [
    "#since statistics is close to 0 => fail to reject H0 => forecasts couldn't really capture the actual changes"
   ]
  },
  {
   "cell_type": "markdown",
   "id": "74868724",
   "metadata": {},
   "source": [
    "The sample covariance is pretty close to zero, so unlikely to reject."
   ]
  },
  {
   "cell_type": "markdown",
   "id": "d4491346",
   "metadata": {},
   "source": [
    "# Metrics"
   ]
  },
  {
   "cell_type": "markdown",
   "id": "4886f625",
   "metadata": {},
   "source": [
    "## 1. Geometric Average Monthly"
   ]
  },
  {
   "cell_type": "markdown",
   "id": "70995f3c",
   "metadata": {},
   "source": [
    "The geometric average return formula (also known as geometric mean return) is a way to calculate the average rate of return on an investment that is compounded over multiple periods."
   ]
  },
  {
   "cell_type": "markdown",
   "id": "3d324391",
   "metadata": {},
   "source": [
    "\\begin{equation*}\n",
    "Geometric Avg. = \\sqrt[m]({1+r_1} \\times (1 + r_2) \\times \\ldots \\times (1 + r_m) - 1)\n",
    "\\end{equation*}"
   ]
  },
  {
   "cell_type": "code",
   "execution_count": 71,
   "id": "9ea623c0",
   "metadata": {},
   "outputs": [
    {
     "data": {
      "text/html": [
       "<div>\n",
       "<style scoped>\n",
       "    .dataframe tbody tr th:only-of-type {\n",
       "        vertical-align: middle;\n",
       "    }\n",
       "\n",
       "    .dataframe tbody tr th {\n",
       "        vertical-align: top;\n",
       "    }\n",
       "\n",
       "    .dataframe thead th {\n",
       "        text-align: right;\n",
       "    }\n",
       "</style>\n",
       "<table border=\"1\" class=\"dataframe\">\n",
       "  <thead>\n",
       "    <tr style=\"text-align: right;\">\n",
       "      <th></th>\n",
       "      <th>I_US</th>\n",
       "      <th>I_AU</th>\n",
       "      <th>AUD</th>\n",
       "      <th>ir_diff</th>\n",
       "      <th>Returns</th>\n",
       "      <th>Filter</th>\n",
       "      <th>Filter Error</th>\n",
       "      <th>std</th>\n",
       "      <th>Upper</th>\n",
       "      <th>Lower</th>\n",
       "      <th>test</th>\n",
       "      <th>test2</th>\n",
       "      <th>signal</th>\n",
       "      <th>cumulative_returns</th>\n",
       "      <th>strat_returns</th>\n",
       "      <th>success</th>\n",
       "    </tr>\n",
       "    <tr>\n",
       "      <th>Date</th>\n",
       "      <th></th>\n",
       "      <th></th>\n",
       "      <th></th>\n",
       "      <th></th>\n",
       "      <th></th>\n",
       "      <th></th>\n",
       "      <th></th>\n",
       "      <th></th>\n",
       "      <th></th>\n",
       "      <th></th>\n",
       "      <th></th>\n",
       "      <th></th>\n",
       "      <th></th>\n",
       "      <th></th>\n",
       "      <th></th>\n",
       "      <th></th>\n",
       "    </tr>\n",
       "  </thead>\n",
       "  <tbody>\n",
       "    <tr>\n",
       "      <th>1980-01-01</th>\n",
       "      <td>13.39</td>\n",
       "      <td>10.03</td>\n",
       "      <td>1.1067</td>\n",
       "      <td>0.247933</td>\n",
       "      <td>NaN</td>\n",
       "      <td>0.247933</td>\n",
       "      <td>0.000000</td>\n",
       "      <td>NaN</td>\n",
       "      <td>NaN</td>\n",
       "      <td>NaN</td>\n",
       "      <td>0.0</td>\n",
       "      <td>0</td>\n",
       "      <td>0</td>\n",
       "      <td>NaN</td>\n",
       "      <td>NaN</td>\n",
       "      <td>NaN</td>\n",
       "    </tr>\n",
       "    <tr>\n",
       "      <th>1980-02-01</th>\n",
       "      <td>14.30</td>\n",
       "      <td>10.06</td>\n",
       "      <td>1.0970</td>\n",
       "      <td>0.295560</td>\n",
       "      <td>-0.008803</td>\n",
       "      <td>0.264126</td>\n",
       "      <td>0.031434</td>\n",
       "      <td>NaN</td>\n",
       "      <td>NaN</td>\n",
       "      <td>NaN</td>\n",
       "      <td>0.0</td>\n",
       "      <td>0</td>\n",
       "      <td>0</td>\n",
       "      <td>0.000000</td>\n",
       "      <td>-0.000000</td>\n",
       "      <td>NaN</td>\n",
       "    </tr>\n",
       "    <tr>\n",
       "      <th>1980-03-01</th>\n",
       "      <td>17.57</td>\n",
       "      <td>11.47</td>\n",
       "      <td>1.0818</td>\n",
       "      <td>0.405795</td>\n",
       "      <td>-0.013953</td>\n",
       "      <td>0.312293</td>\n",
       "      <td>0.093502</td>\n",
       "      <td>NaN</td>\n",
       "      <td>NaN</td>\n",
       "      <td>NaN</td>\n",
       "      <td>0.0</td>\n",
       "      <td>0</td>\n",
       "      <td>0</td>\n",
       "      <td>0.000000</td>\n",
       "      <td>-0.000000</td>\n",
       "      <td>NaN</td>\n",
       "    </tr>\n",
       "    <tr>\n",
       "      <th>1980-04-01</th>\n",
       "      <td>16.14</td>\n",
       "      <td>13.28</td>\n",
       "      <td>1.1150</td>\n",
       "      <td>0.244089</td>\n",
       "      <td>0.030228</td>\n",
       "      <td>0.289104</td>\n",
       "      <td>-0.045015</td>\n",
       "      <td>NaN</td>\n",
       "      <td>NaN</td>\n",
       "      <td>NaN</td>\n",
       "      <td>-0.0</td>\n",
       "      <td>0</td>\n",
       "      <td>0</td>\n",
       "      <td>0.000000</td>\n",
       "      <td>0.000000</td>\n",
       "      <td>NaN</td>\n",
       "    </tr>\n",
       "    <tr>\n",
       "      <th>1980-05-01</th>\n",
       "      <td>9.79</td>\n",
       "      <td>13.83</td>\n",
       "      <td>1.1428</td>\n",
       "      <td>-0.123769</td>\n",
       "      <td>0.024627</td>\n",
       "      <td>0.148727</td>\n",
       "      <td>-0.272496</td>\n",
       "      <td>0.140173</td>\n",
       "      <td>0.476733</td>\n",
       "      <td>-0.179278</td>\n",
       "      <td>-0.0</td>\n",
       "      <td>0</td>\n",
       "      <td>0</td>\n",
       "      <td>0.000000</td>\n",
       "      <td>0.000000</td>\n",
       "      <td>NaN</td>\n",
       "    </tr>\n",
       "    <tr>\n",
       "      <th>...</th>\n",
       "      <td>...</td>\n",
       "      <td>...</td>\n",
       "      <td>...</td>\n",
       "      <td>...</td>\n",
       "      <td>...</td>\n",
       "      <td>...</td>\n",
       "      <td>...</td>\n",
       "      <td>...</td>\n",
       "      <td>...</td>\n",
       "      <td>...</td>\n",
       "      <td>...</td>\n",
       "      <td>...</td>\n",
       "      <td>...</td>\n",
       "      <td>...</td>\n",
       "      <td>...</td>\n",
       "      <td>...</td>\n",
       "    </tr>\n",
       "    <tr>\n",
       "      <th>2022-08-01</th>\n",
       "      <td>2.76</td>\n",
       "      <td>2.31</td>\n",
       "      <td>0.6866</td>\n",
       "      <td>0.036281</td>\n",
       "      <td>-0.017183</td>\n",
       "      <td>0.028313</td>\n",
       "      <td>0.007968</td>\n",
       "      <td>0.003519</td>\n",
       "      <td>0.036548</td>\n",
       "      <td>0.020078</td>\n",
       "      <td>0.0</td>\n",
       "      <td>0</td>\n",
       "      <td>0</td>\n",
       "      <td>0.478653</td>\n",
       "      <td>-0.000000</td>\n",
       "      <td>NaN</td>\n",
       "    </tr>\n",
       "    <tr>\n",
       "      <th>2022-09-01</th>\n",
       "      <td>3.21</td>\n",
       "      <td>2.76</td>\n",
       "      <td>0.6437</td>\n",
       "      <td>0.039479</td>\n",
       "      <td>-0.064519</td>\n",
       "      <td>0.032109</td>\n",
       "      <td>0.007369</td>\n",
       "      <td>0.003395</td>\n",
       "      <td>0.040053</td>\n",
       "      <td>0.024166</td>\n",
       "      <td>0.0</td>\n",
       "      <td>0</td>\n",
       "      <td>0</td>\n",
       "      <td>0.478653</td>\n",
       "      <td>-0.000000</td>\n",
       "      <td>NaN</td>\n",
       "    </tr>\n",
       "    <tr>\n",
       "      <th>2022-10-01</th>\n",
       "      <td>3.85</td>\n",
       "      <td>2.95</td>\n",
       "      <td>0.6394</td>\n",
       "      <td>0.065075</td>\n",
       "      <td>-0.006703</td>\n",
       "      <td>0.043317</td>\n",
       "      <td>0.021757</td>\n",
       "      <td>0.007272</td>\n",
       "      <td>0.060334</td>\n",
       "      <td>0.026301</td>\n",
       "      <td>1.0</td>\n",
       "      <td>1</td>\n",
       "      <td>1</td>\n",
       "      <td>0.478653</td>\n",
       "      <td>-0.000000</td>\n",
       "      <td>NaN</td>\n",
       "    </tr>\n",
       "    <tr>\n",
       "      <th>2022-11-01</th>\n",
       "      <td>4.46</td>\n",
       "      <td>3.06</td>\n",
       "      <td>0.6717</td>\n",
       "      <td>0.092796</td>\n",
       "      <td>0.049282</td>\n",
       "      <td>0.060140</td>\n",
       "      <td>0.032656</td>\n",
       "      <td>0.011118</td>\n",
       "      <td>0.086156</td>\n",
       "      <td>0.034125</td>\n",
       "      <td>1.0</td>\n",
       "      <td>0</td>\n",
       "      <td>0</td>\n",
       "      <td>0.553348</td>\n",
       "      <td>0.049282</td>\n",
       "      <td>NaN</td>\n",
       "    </tr>\n",
       "    <tr>\n",
       "      <th>2022-12-01</th>\n",
       "      <td>4.51</td>\n",
       "      <td>3.17</td>\n",
       "      <td>0.6805</td>\n",
       "      <td>0.090345</td>\n",
       "      <td>0.013016</td>\n",
       "      <td>0.070410</td>\n",
       "      <td>0.019935</td>\n",
       "      <td>0.010563</td>\n",
       "      <td>0.095127</td>\n",
       "      <td>0.045693</td>\n",
       "      <td>0.0</td>\n",
       "      <td>0</td>\n",
       "      <td>0</td>\n",
       "      <td>0.553348</td>\n",
       "      <td>0.000000</td>\n",
       "      <td>NaN</td>\n",
       "    </tr>\n",
       "  </tbody>\n",
       "</table>\n",
       "<p>515 rows × 16 columns</p>\n",
       "</div>"
      ],
      "text/plain": [
       "             I_US   I_AU     AUD   ir_diff   Returns    Filter  Filter Error  \\\n",
       "Date                                                                           \n",
       "1980-01-01  13.39  10.03  1.1067  0.247933       NaN  0.247933      0.000000   \n",
       "1980-02-01  14.30  10.06  1.0970  0.295560 -0.008803  0.264126      0.031434   \n",
       "1980-03-01  17.57  11.47  1.0818  0.405795 -0.013953  0.312293      0.093502   \n",
       "1980-04-01  16.14  13.28  1.1150  0.244089  0.030228  0.289104     -0.045015   \n",
       "1980-05-01   9.79  13.83  1.1428 -0.123769  0.024627  0.148727     -0.272496   \n",
       "...           ...    ...     ...       ...       ...       ...           ...   \n",
       "2022-08-01   2.76   2.31  0.6866  0.036281 -0.017183  0.028313      0.007968   \n",
       "2022-09-01   3.21   2.76  0.6437  0.039479 -0.064519  0.032109      0.007369   \n",
       "2022-10-01   3.85   2.95  0.6394  0.065075 -0.006703  0.043317      0.021757   \n",
       "2022-11-01   4.46   3.06  0.6717  0.092796  0.049282  0.060140      0.032656   \n",
       "2022-12-01   4.51   3.17  0.6805  0.090345  0.013016  0.070410      0.019935   \n",
       "\n",
       "                 std     Upper     Lower  test  test2  signal  \\\n",
       "Date                                                            \n",
       "1980-01-01       NaN       NaN       NaN   0.0      0       0   \n",
       "1980-02-01       NaN       NaN       NaN   0.0      0       0   \n",
       "1980-03-01       NaN       NaN       NaN   0.0      0       0   \n",
       "1980-04-01       NaN       NaN       NaN  -0.0      0       0   \n",
       "1980-05-01  0.140173  0.476733 -0.179278  -0.0      0       0   \n",
       "...              ...       ...       ...   ...    ...     ...   \n",
       "2022-08-01  0.003519  0.036548  0.020078   0.0      0       0   \n",
       "2022-09-01  0.003395  0.040053  0.024166   0.0      0       0   \n",
       "2022-10-01  0.007272  0.060334  0.026301   1.0      1       1   \n",
       "2022-11-01  0.011118  0.086156  0.034125   1.0      0       0   \n",
       "2022-12-01  0.010563  0.095127  0.045693   0.0      0       0   \n",
       "\n",
       "            cumulative_returns  strat_returns  success  \n",
       "Date                                                    \n",
       "1980-01-01                 NaN            NaN      NaN  \n",
       "1980-02-01            0.000000      -0.000000      NaN  \n",
       "1980-03-01            0.000000      -0.000000      NaN  \n",
       "1980-04-01            0.000000       0.000000      NaN  \n",
       "1980-05-01            0.000000       0.000000      NaN  \n",
       "...                        ...            ...      ...  \n",
       "2022-08-01            0.478653      -0.000000      NaN  \n",
       "2022-09-01            0.478653      -0.000000      NaN  \n",
       "2022-10-01            0.478653      -0.000000      NaN  \n",
       "2022-11-01            0.553348       0.049282      NaN  \n",
       "2022-12-01            0.553348       0.000000      NaN  \n",
       "\n",
       "[515 rows x 16 columns]"
      ]
     },
     "execution_count": 71,
     "metadata": {},
     "output_type": "execute_result"
    }
   ],
   "source": [
    "df_copy"
   ]
  },
  {
   "cell_type": "code",
   "execution_count": 79,
   "id": "17dc6d08",
   "metadata": {},
   "outputs": [
    {
     "name": "stdout",
     "output_type": "stream",
     "text": [
      "Geometric average monthly return: 0.0008000140776092124\n"
     ]
    }
   ],
   "source": [
    "import math\n",
    "multipliers = [x + 1 for x in df_copy.strat_returns[1:]]\n",
    "geometric_return = (math.prod(multipliers) ** (1/len(df_copy.strat_returns[1:]))) - 1\n",
    "\n",
    "print(\"Geometric average monthly return:\", geometric_return)\n"
   ]
  },
  {
   "cell_type": "markdown",
   "id": "5c496190",
   "metadata": {},
   "source": [
    "## 2. Standard Deviation"
   ]
  },
  {
   "cell_type": "code",
   "execution_count": 82,
   "id": "687aa958",
   "metadata": {},
   "outputs": [
    {
     "name": "stdout",
     "output_type": "stream",
     "text": [
      "Standard Deviation: 0.010824536025228695\n"
     ]
    }
   ],
   "source": [
    "standard_dev = np.std(df_copy.strat_returns[1:])\n",
    "print(\"Standard Deviation:\", standard_dev)"
   ]
  },
  {
   "cell_type": "markdown",
   "id": "37307a74",
   "metadata": {},
   "source": [
    "## 3. High Month"
   ]
  },
  {
   "cell_type": "code",
   "execution_count": 92,
   "id": "d657a17a",
   "metadata": {},
   "outputs": [
    {
     "name": "stdout",
     "output_type": "stream",
     "text": [
      "High Month: 0.10518523740314897\n",
      "Index of High Month: 1989-02-01 00:00:00\n"
     ]
    }
   ],
   "source": [
    "high_month = df_copy.strat_returns[1:].max()\n",
    "high_month_index = df_copy[df_copy['strat_returns'] == high_month].index[0]\n",
    "print(\"High Month:\", high_month)\n",
    "print(\"Index of High Month:\", high_month_index)"
   ]
  },
  {
   "cell_type": "markdown",
   "id": "20753f92",
   "metadata": {},
   "source": [
    "## 4. Low Month"
   ]
  },
  {
   "cell_type": "code",
   "execution_count": 98,
   "id": "9cd35e8e",
   "metadata": {},
   "outputs": [
    {
     "name": "stdout",
     "output_type": "stream",
     "text": [
      "Low Month: -0.05043920906732807\n",
      "Index of Low Month: 1990-10-01 00:00:00\n"
     ]
    }
   ],
   "source": [
    "low_month = df_copy.strat_returns[1:].min()\n",
    "low_month_index = df_copy[df_copy['strat_returns'] == low_month].index[0]\n",
    "print(\"Low Month:\", low_month)\n",
    "print(\"Index of Low Month:\", low_month_index)"
   ]
  },
  {
   "cell_type": "markdown",
   "id": "f89cd3c6",
   "metadata": {},
   "source": [
    "## 5. Annualized Return"
   ]
  },
  {
   "cell_type": "code",
   "execution_count": 99,
   "id": "1b8b4362",
   "metadata": {},
   "outputs": [],
   "source": [
    "P = 1000\n",
    "A = (1+df_copy.cumulative_returns[-1])*P\n",
    "T = len(df_copy)/12"
   ]
  },
  {
   "cell_type": "code",
   "execution_count": 101,
   "id": "653c5f24",
   "metadata": {},
   "outputs": [
    {
     "name": "stdout",
     "output_type": "stream",
     "text": [
      "Annualized Return: 1.0314881182441393\n"
     ]
    }
   ],
   "source": [
    "arr = ((A/P)**(1/T)-1)*100\n",
    "print(\"Annualized Return:\", arr)"
   ]
  },
  {
   "cell_type": "markdown",
   "id": "286c7714",
   "metadata": {},
   "source": [
    "## 7. Annualized Standard Deviation"
   ]
  },
  {
   "cell_type": "code",
   "execution_count": 102,
   "id": "619300a4",
   "metadata": {},
   "outputs": [],
   "source": [
    "P = 1000\n",
    "A = (1+df_copy.strat_returns[-1])*P\n",
    "T = len(df_copy)/12"
   ]
  },
  {
   "cell_type": "code",
   "execution_count": 104,
   "id": "dee79db0",
   "metadata": {},
   "outputs": [
    {
     "name": "stdout",
     "output_type": "stream",
     "text": [
      "Annualized Standard Deviation: 0.8999115547136031\n"
     ]
    }
   ],
   "source": [
    "astd = np.std(df_copy.strat_returns[1:])**(1/T)\n",
    "\n",
    "print(\"Annualized Standard Deviation:\", astd)"
   ]
  },
  {
   "cell_type": "markdown",
   "id": "36f74c0e",
   "metadata": {},
   "source": [
    "## 8. Risk Free Rate"
   ]
  },
  {
   "cell_type": "code",
   "execution_count": 202,
   "id": "5abf718b",
   "metadata": {},
   "outputs": [],
   "source": [
    "risk_free = pd.read_csv('1-year-treasury-rate-yield-chart.csv', index_col=0, parse_dates = True)"
   ]
  },
  {
   "cell_type": "code",
   "execution_count": 203,
   "id": "bc5829bd",
   "metadata": {},
   "outputs": [],
   "source": [
    "df_copy = pd.merge_asof(df_copy, risk_free, left_index = True, right_index = True)"
   ]
  },
  {
   "cell_type": "code",
   "execution_count": 204,
   "id": "041f595a",
   "metadata": {},
   "outputs": [
    {
     "data": {
      "text/html": [
       "<div>\n",
       "<style scoped>\n",
       "    .dataframe tbody tr th:only-of-type {\n",
       "        vertical-align: middle;\n",
       "    }\n",
       "\n",
       "    .dataframe tbody tr th {\n",
       "        vertical-align: top;\n",
       "    }\n",
       "\n",
       "    .dataframe thead th {\n",
       "        text-align: right;\n",
       "    }\n",
       "</style>\n",
       "<table border=\"1\" class=\"dataframe\">\n",
       "  <thead>\n",
       "    <tr style=\"text-align: right;\">\n",
       "      <th></th>\n",
       "      <th>I_US</th>\n",
       "      <th>I_AU</th>\n",
       "      <th>AUD</th>\n",
       "      <th>ir_diff</th>\n",
       "      <th>Returns</th>\n",
       "      <th>Filter</th>\n",
       "      <th>Filter Error</th>\n",
       "      <th>std</th>\n",
       "      <th>Upper</th>\n",
       "      <th>Lower</th>\n",
       "      <th>test</th>\n",
       "      <th>test2</th>\n",
       "      <th>signal</th>\n",
       "      <th>cumulative_returns</th>\n",
       "      <th>strat_returns</th>\n",
       "      <th>success</th>\n",
       "      <th>value</th>\n",
       "    </tr>\n",
       "    <tr>\n",
       "      <th>Date</th>\n",
       "      <th></th>\n",
       "      <th></th>\n",
       "      <th></th>\n",
       "      <th></th>\n",
       "      <th></th>\n",
       "      <th></th>\n",
       "      <th></th>\n",
       "      <th></th>\n",
       "      <th></th>\n",
       "      <th></th>\n",
       "      <th></th>\n",
       "      <th></th>\n",
       "      <th></th>\n",
       "      <th></th>\n",
       "      <th></th>\n",
       "      <th></th>\n",
       "      <th></th>\n",
       "    </tr>\n",
       "  </thead>\n",
       "  <tbody>\n",
       "    <tr>\n",
       "      <th>1980-01-01</th>\n",
       "      <td>13.39</td>\n",
       "      <td>10.03</td>\n",
       "      <td>1.1067</td>\n",
       "      <td>0.247933</td>\n",
       "      <td>NaN</td>\n",
       "      <td>0.247933</td>\n",
       "      <td>0.000000</td>\n",
       "      <td>NaN</td>\n",
       "      <td>NaN</td>\n",
       "      <td>NaN</td>\n",
       "      <td>0.0</td>\n",
       "      <td>0</td>\n",
       "      <td>0</td>\n",
       "      <td>NaN</td>\n",
       "      <td>NaN</td>\n",
       "      <td>NaN</td>\n",
       "      <td>11.70</td>\n",
       "    </tr>\n",
       "    <tr>\n",
       "      <th>1980-02-01</th>\n",
       "      <td>14.30</td>\n",
       "      <td>10.06</td>\n",
       "      <td>1.0970</td>\n",
       "      <td>0.295560</td>\n",
       "      <td>-0.008803</td>\n",
       "      <td>0.264126</td>\n",
       "      <td>0.031434</td>\n",
       "      <td>NaN</td>\n",
       "      <td>NaN</td>\n",
       "      <td>NaN</td>\n",
       "      <td>0.0</td>\n",
       "      <td>0</td>\n",
       "      <td>0</td>\n",
       "      <td>0.000000</td>\n",
       "      <td>-0.000000</td>\n",
       "      <td>NaN</td>\n",
       "      <td>12.62</td>\n",
       "    </tr>\n",
       "    <tr>\n",
       "      <th>1980-03-01</th>\n",
       "      <td>17.57</td>\n",
       "      <td>11.47</td>\n",
       "      <td>1.0818</td>\n",
       "      <td>0.405795</td>\n",
       "      <td>-0.013953</td>\n",
       "      <td>0.312293</td>\n",
       "      <td>0.093502</td>\n",
       "      <td>NaN</td>\n",
       "      <td>NaN</td>\n",
       "      <td>NaN</td>\n",
       "      <td>0.0</td>\n",
       "      <td>0</td>\n",
       "      <td>0</td>\n",
       "      <td>0.000000</td>\n",
       "      <td>-0.000000</td>\n",
       "      <td>NaN</td>\n",
       "      <td>15.45</td>\n",
       "    </tr>\n",
       "    <tr>\n",
       "      <th>1980-04-01</th>\n",
       "      <td>16.14</td>\n",
       "      <td>13.28</td>\n",
       "      <td>1.1150</td>\n",
       "      <td>0.244089</td>\n",
       "      <td>0.030228</td>\n",
       "      <td>0.289104</td>\n",
       "      <td>-0.045015</td>\n",
       "      <td>NaN</td>\n",
       "      <td>NaN</td>\n",
       "      <td>NaN</td>\n",
       "      <td>-0.0</td>\n",
       "      <td>0</td>\n",
       "      <td>0</td>\n",
       "      <td>0.000000</td>\n",
       "      <td>0.000000</td>\n",
       "      <td>NaN</td>\n",
       "      <td>15.85</td>\n",
       "    </tr>\n",
       "    <tr>\n",
       "      <th>1980-05-01</th>\n",
       "      <td>9.79</td>\n",
       "      <td>13.83</td>\n",
       "      <td>1.1428</td>\n",
       "      <td>-0.123769</td>\n",
       "      <td>0.024627</td>\n",
       "      <td>0.148727</td>\n",
       "      <td>-0.272496</td>\n",
       "      <td>0.140173</td>\n",
       "      <td>0.476733</td>\n",
       "      <td>-0.179278</td>\n",
       "      <td>-0.0</td>\n",
       "      <td>0</td>\n",
       "      <td>0</td>\n",
       "      <td>0.000000</td>\n",
       "      <td>0.000000</td>\n",
       "      <td>NaN</td>\n",
       "      <td>11.11</td>\n",
       "    </tr>\n",
       "    <tr>\n",
       "      <th>...</th>\n",
       "      <td>...</td>\n",
       "      <td>...</td>\n",
       "      <td>...</td>\n",
       "      <td>...</td>\n",
       "      <td>...</td>\n",
       "      <td>...</td>\n",
       "      <td>...</td>\n",
       "      <td>...</td>\n",
       "      <td>...</td>\n",
       "      <td>...</td>\n",
       "      <td>...</td>\n",
       "      <td>...</td>\n",
       "      <td>...</td>\n",
       "      <td>...</td>\n",
       "      <td>...</td>\n",
       "      <td>...</td>\n",
       "      <td>...</td>\n",
       "    </tr>\n",
       "    <tr>\n",
       "      <th>2022-08-01</th>\n",
       "      <td>2.76</td>\n",
       "      <td>2.31</td>\n",
       "      <td>0.6866</td>\n",
       "      <td>0.036281</td>\n",
       "      <td>-0.017183</td>\n",
       "      <td>0.028313</td>\n",
       "      <td>0.007968</td>\n",
       "      <td>0.003519</td>\n",
       "      <td>0.036548</td>\n",
       "      <td>0.020078</td>\n",
       "      <td>0.0</td>\n",
       "      <td>0</td>\n",
       "      <td>0</td>\n",
       "      <td>0.478653</td>\n",
       "      <td>-0.000000</td>\n",
       "      <td>NaN</td>\n",
       "      <td>2.98</td>\n",
       "    </tr>\n",
       "    <tr>\n",
       "      <th>2022-09-01</th>\n",
       "      <td>3.21</td>\n",
       "      <td>2.76</td>\n",
       "      <td>0.6437</td>\n",
       "      <td>0.039479</td>\n",
       "      <td>-0.064519</td>\n",
       "      <td>0.032109</td>\n",
       "      <td>0.007369</td>\n",
       "      <td>0.003395</td>\n",
       "      <td>0.040053</td>\n",
       "      <td>0.024166</td>\n",
       "      <td>0.0</td>\n",
       "      <td>0</td>\n",
       "      <td>0</td>\n",
       "      <td>0.478653</td>\n",
       "      <td>-0.000000</td>\n",
       "      <td>NaN</td>\n",
       "      <td>3.51</td>\n",
       "    </tr>\n",
       "    <tr>\n",
       "      <th>2022-10-01</th>\n",
       "      <td>3.85</td>\n",
       "      <td>2.95</td>\n",
       "      <td>0.6394</td>\n",
       "      <td>0.065075</td>\n",
       "      <td>-0.006703</td>\n",
       "      <td>0.043317</td>\n",
       "      <td>0.021757</td>\n",
       "      <td>0.007272</td>\n",
       "      <td>0.060334</td>\n",
       "      <td>0.026301</td>\n",
       "      <td>1.0</td>\n",
       "      <td>1</td>\n",
       "      <td>1</td>\n",
       "      <td>0.478653</td>\n",
       "      <td>-0.000000</td>\n",
       "      <td>NaN</td>\n",
       "      <td>4.05</td>\n",
       "    </tr>\n",
       "    <tr>\n",
       "      <th>2022-11-01</th>\n",
       "      <td>4.46</td>\n",
       "      <td>3.06</td>\n",
       "      <td>0.6717</td>\n",
       "      <td>0.092796</td>\n",
       "      <td>0.049282</td>\n",
       "      <td>0.060140</td>\n",
       "      <td>0.032656</td>\n",
       "      <td>0.011118</td>\n",
       "      <td>0.086156</td>\n",
       "      <td>0.034125</td>\n",
       "      <td>1.0</td>\n",
       "      <td>0</td>\n",
       "      <td>0</td>\n",
       "      <td>0.553348</td>\n",
       "      <td>0.049282</td>\n",
       "      <td>NaN</td>\n",
       "      <td>4.75</td>\n",
       "    </tr>\n",
       "    <tr>\n",
       "      <th>2022-12-01</th>\n",
       "      <td>4.51</td>\n",
       "      <td>3.17</td>\n",
       "      <td>0.6805</td>\n",
       "      <td>0.090345</td>\n",
       "      <td>0.013016</td>\n",
       "      <td>0.070410</td>\n",
       "      <td>0.019935</td>\n",
       "      <td>0.010563</td>\n",
       "      <td>0.095127</td>\n",
       "      <td>0.045693</td>\n",
       "      <td>0.0</td>\n",
       "      <td>0</td>\n",
       "      <td>0</td>\n",
       "      <td>0.553348</td>\n",
       "      <td>0.000000</td>\n",
       "      <td>NaN</td>\n",
       "      <td>4.66</td>\n",
       "    </tr>\n",
       "  </tbody>\n",
       "</table>\n",
       "<p>515 rows × 17 columns</p>\n",
       "</div>"
      ],
      "text/plain": [
       "             I_US   I_AU     AUD   ir_diff   Returns    Filter  Filter Error  \\\n",
       "Date                                                                           \n",
       "1980-01-01  13.39  10.03  1.1067  0.247933       NaN  0.247933      0.000000   \n",
       "1980-02-01  14.30  10.06  1.0970  0.295560 -0.008803  0.264126      0.031434   \n",
       "1980-03-01  17.57  11.47  1.0818  0.405795 -0.013953  0.312293      0.093502   \n",
       "1980-04-01  16.14  13.28  1.1150  0.244089  0.030228  0.289104     -0.045015   \n",
       "1980-05-01   9.79  13.83  1.1428 -0.123769  0.024627  0.148727     -0.272496   \n",
       "...           ...    ...     ...       ...       ...       ...           ...   \n",
       "2022-08-01   2.76   2.31  0.6866  0.036281 -0.017183  0.028313      0.007968   \n",
       "2022-09-01   3.21   2.76  0.6437  0.039479 -0.064519  0.032109      0.007369   \n",
       "2022-10-01   3.85   2.95  0.6394  0.065075 -0.006703  0.043317      0.021757   \n",
       "2022-11-01   4.46   3.06  0.6717  0.092796  0.049282  0.060140      0.032656   \n",
       "2022-12-01   4.51   3.17  0.6805  0.090345  0.013016  0.070410      0.019935   \n",
       "\n",
       "                 std     Upper     Lower  test  test2  signal  \\\n",
       "Date                                                            \n",
       "1980-01-01       NaN       NaN       NaN   0.0      0       0   \n",
       "1980-02-01       NaN       NaN       NaN   0.0      0       0   \n",
       "1980-03-01       NaN       NaN       NaN   0.0      0       0   \n",
       "1980-04-01       NaN       NaN       NaN  -0.0      0       0   \n",
       "1980-05-01  0.140173  0.476733 -0.179278  -0.0      0       0   \n",
       "...              ...       ...       ...   ...    ...     ...   \n",
       "2022-08-01  0.003519  0.036548  0.020078   0.0      0       0   \n",
       "2022-09-01  0.003395  0.040053  0.024166   0.0      0       0   \n",
       "2022-10-01  0.007272  0.060334  0.026301   1.0      1       1   \n",
       "2022-11-01  0.011118  0.086156  0.034125   1.0      0       0   \n",
       "2022-12-01  0.010563  0.095127  0.045693   0.0      0       0   \n",
       "\n",
       "            cumulative_returns  strat_returns  success   value  \n",
       "Date                                                            \n",
       "1980-01-01                 NaN            NaN      NaN   11.70  \n",
       "1980-02-01            0.000000      -0.000000      NaN   12.62  \n",
       "1980-03-01            0.000000      -0.000000      NaN   15.45  \n",
       "1980-04-01            0.000000       0.000000      NaN   15.85  \n",
       "1980-05-01            0.000000       0.000000      NaN   11.11  \n",
       "...                        ...            ...      ...     ...  \n",
       "2022-08-01            0.478653      -0.000000      NaN    2.98  \n",
       "2022-09-01            0.478653      -0.000000      NaN    3.51  \n",
       "2022-10-01            0.478653      -0.000000      NaN    4.05  \n",
       "2022-11-01            0.553348       0.049282      NaN    4.75  \n",
       "2022-12-01            0.553348       0.000000      NaN    4.66  \n",
       "\n",
       "[515 rows x 17 columns]"
      ]
     },
     "execution_count": 204,
     "metadata": {},
     "output_type": "execute_result"
    }
   ],
   "source": [
    "df_copy"
   ]
  },
  {
   "cell_type": "markdown",
   "id": "22b16b16",
   "metadata": {},
   "source": [
    "## 9. Sharpe Ratio"
   ]
  },
  {
   "cell_type": "code",
   "execution_count": 124,
   "id": "272805a6",
   "metadata": {},
   "outputs": [],
   "source": [
    "sharpe = df_copy.copy()"
   ]
  },
  {
   "cell_type": "code",
   "execution_count": 126,
   "id": "8ed3ebce",
   "metadata": {},
   "outputs": [
    {
     "data": {
      "text/plain": [
       "Index(['I_US', 'I_AU', 'AUD', 'ir_diff', 'Returns', 'Filter', 'Filter Error',\n",
       "       'std', 'Upper', 'Lower', 'test', 'test2', 'signal',\n",
       "       'cumulative_returns', 'strat_returns', 'success', ' value'],\n",
       "      dtype='object')"
      ]
     },
     "execution_count": 126,
     "metadata": {},
     "output_type": "execute_result"
    }
   ],
   "source": [
    "sharpe.columns"
   ]
  },
  {
   "cell_type": "code",
   "execution_count": 115,
   "id": "a4d8b0e9",
   "metadata": {},
   "outputs": [],
   "source": [
    "return_df = sharpe[[\"strat_returns\"]].dropna().copy()"
   ]
  },
  {
   "cell_type": "code",
   "execution_count": 127,
   "id": "5bc15b96",
   "metadata": {},
   "outputs": [],
   "source": [
    "return_df[\"rfr\"] = (sharpe[[' value']].dropna()/100+1)**(1/12)-1"
   ]
  },
  {
   "cell_type": "code",
   "execution_count": 129,
   "id": "7bbf5da0",
   "metadata": {},
   "outputs": [],
   "source": [
    "return_df[\"excess_return\"] = return_df[\"strat_returns\"] - return_df[\"rfr\"]"
   ]
  },
  {
   "cell_type": "code",
   "execution_count": 130,
   "id": "e23006eb",
   "metadata": {},
   "outputs": [],
   "source": [
    "sharpe_ratio = (return_df['excess_return'].mean())/(return_df['excess_return'].std())"
   ]
  },
  {
   "cell_type": "code",
   "execution_count": 131,
   "id": "7f20f72a",
   "metadata": {},
   "outputs": [
    {
     "data": {
      "text/plain": [
       "-0.24420226494556938"
      ]
     },
     "execution_count": 131,
     "metadata": {},
     "output_type": "execute_result"
    }
   ],
   "source": [
    "sharpe_ratio"
   ]
  },
  {
   "cell_type": "markdown",
   "id": "5b8d2e9c",
   "metadata": {},
   "source": [
    "## 10. Number of Winning Months"
   ]
  },
  {
   "cell_type": "code",
   "execution_count": 147,
   "id": "f0479686",
   "metadata": {},
   "outputs": [
    {
     "data": {
      "text/plain": [
       "5.242718446601942"
      ]
     },
     "execution_count": 147,
     "metadata": {},
     "output_type": "execute_result"
    }
   ],
   "source": [
    "wins = len(df_copy[df_copy['strat_returns'] > 0])\n",
    "(wins/515)*100"
   ]
  },
  {
   "cell_type": "markdown",
   "id": "7a74c3e2",
   "metadata": {},
   "source": [
    "## 11. Max. Drawdown"
   ]
  },
  {
   "cell_type": "code",
   "execution_count": 228,
   "id": "1070b6a8",
   "metadata": {},
   "outputs": [
    {
     "data": {
      "text/plain": [
       "-1.9026057871581066"
      ]
     },
     "execution_count": 228,
     "metadata": {},
     "output_type": "execute_result"
    }
   ],
   "source": [
    "(((df_copy.cumulative_returns) - (df_copy.cumulative_returns).cummax())/(df_copy.cumulative_returns).cummax()).min()"
   ]
  },
  {
   "cell_type": "markdown",
   "id": "68d203d5",
   "metadata": {},
   "source": [
    "## 12. Alpha and Beta"
   ]
  },
  {
   "cell_type": "code",
   "execution_count": 205,
   "id": "2cae2550",
   "metadata": {},
   "outputs": [
    {
     "data": {
      "text/html": [
       "<div>\n",
       "<style scoped>\n",
       "    .dataframe tbody tr th:only-of-type {\n",
       "        vertical-align: middle;\n",
       "    }\n",
       "\n",
       "    .dataframe tbody tr th {\n",
       "        vertical-align: top;\n",
       "    }\n",
       "\n",
       "    .dataframe thead th {\n",
       "        text-align: right;\n",
       "    }\n",
       "</style>\n",
       "<table border=\"1\" class=\"dataframe\">\n",
       "  <thead>\n",
       "    <tr style=\"text-align: right;\">\n",
       "      <th></th>\n",
       "      <th>value</th>\n",
       "    </tr>\n",
       "    <tr>\n",
       "      <th>date</th>\n",
       "      <th></th>\n",
       "    </tr>\n",
       "  </thead>\n",
       "  <tbody>\n",
       "    <tr>\n",
       "      <th>1962-01-31</th>\n",
       "      <td>3.22</td>\n",
       "    </tr>\n",
       "    <tr>\n",
       "      <th>1962-02-28</th>\n",
       "      <td>3.30</td>\n",
       "    </tr>\n",
       "    <tr>\n",
       "      <th>1962-03-31</th>\n",
       "      <td>3.15</td>\n",
       "    </tr>\n",
       "    <tr>\n",
       "      <th>1962-04-30</th>\n",
       "      <td>2.95</td>\n",
       "    </tr>\n",
       "    <tr>\n",
       "      <th>1962-05-31</th>\n",
       "      <td>3.06</td>\n",
       "    </tr>\n",
       "    <tr>\n",
       "      <th>...</th>\n",
       "      <td>...</td>\n",
       "    </tr>\n",
       "    <tr>\n",
       "      <th>2022-09-30</th>\n",
       "      <td>3.51</td>\n",
       "    </tr>\n",
       "    <tr>\n",
       "      <th>2022-10-31</th>\n",
       "      <td>4.01</td>\n",
       "    </tr>\n",
       "    <tr>\n",
       "      <th>2022-11-30</th>\n",
       "      <td>4.75</td>\n",
       "    </tr>\n",
       "    <tr>\n",
       "      <th>2022-12-31</th>\n",
       "      <td>4.66</td>\n",
       "    </tr>\n",
       "    <tr>\n",
       "      <th>2023-01-31</th>\n",
       "      <td>NaN</td>\n",
       "    </tr>\n",
       "  </tbody>\n",
       "</table>\n",
       "<p>733 rows × 1 columns</p>\n",
       "</div>"
      ],
      "text/plain": [
       "             value\n",
       "date              \n",
       "1962-01-31    3.22\n",
       "1962-02-28    3.30\n",
       "1962-03-31    3.15\n",
       "1962-04-30    2.95\n",
       "1962-05-31    3.06\n",
       "...            ...\n",
       "2022-09-30    3.51\n",
       "2022-10-31    4.01\n",
       "2022-11-30    4.75\n",
       "2022-12-31    4.66\n",
       "2023-01-31     NaN\n",
       "\n",
       "[733 rows x 1 columns]"
      ]
     },
     "execution_count": 205,
     "metadata": {},
     "output_type": "execute_result"
    }
   ],
   "source": [
    "risk_free = risk_free.resample('M').first()\n",
    "risk_free"
   ]
  },
  {
   "cell_type": "code",
   "execution_count": 206,
   "id": "531f674f",
   "metadata": {},
   "outputs": [
    {
     "name": "stdout",
     "output_type": "stream",
     "text": [
      "[*********************100%***********************]  1 of 1 completed\n"
     ]
    }
   ],
   "source": [
    "sp500 = yf.download(\"^GSPC\")"
   ]
  },
  {
   "cell_type": "code",
   "execution_count": 207,
   "id": "99a41d89",
   "metadata": {},
   "outputs": [],
   "source": [
    "sp500['pct_change'] = sp500['Adj Close'].diff()/sp500['Adj Close']+1"
   ]
  },
  {
   "cell_type": "code",
   "execution_count": 208,
   "id": "3de8bed3",
   "metadata": {},
   "outputs": [],
   "source": [
    "sp500['difference'] = sp500['Adj Close'].diff()"
   ]
  },
  {
   "cell_type": "code",
   "execution_count": 209,
   "id": "08997dee",
   "metadata": {},
   "outputs": [],
   "source": [
    "sp500 = pd.DataFrame(sp500['pct_change'])"
   ]
  },
  {
   "cell_type": "code",
   "execution_count": 210,
   "id": "18037ea9",
   "metadata": {},
   "outputs": [],
   "source": [
    "sp500 = sp500.resample('M').prod()-1"
   ]
  },
  {
   "cell_type": "code",
   "execution_count": 211,
   "id": "998078e4",
   "metadata": {},
   "outputs": [
    {
     "data": {
      "text/html": [
       "<div>\n",
       "<style scoped>\n",
       "    .dataframe tbody tr th:only-of-type {\n",
       "        vertical-align: middle;\n",
       "    }\n",
       "\n",
       "    .dataframe tbody tr th {\n",
       "        vertical-align: top;\n",
       "    }\n",
       "\n",
       "    .dataframe thead th {\n",
       "        text-align: right;\n",
       "    }\n",
       "</style>\n",
       "<table border=\"1\" class=\"dataframe\">\n",
       "  <thead>\n",
       "    <tr style=\"text-align: right;\">\n",
       "      <th></th>\n",
       "      <th>I_US</th>\n",
       "      <th>I_AU</th>\n",
       "      <th>AUD</th>\n",
       "      <th>ir_diff</th>\n",
       "      <th>Returns</th>\n",
       "      <th>Filter</th>\n",
       "      <th>Filter Error</th>\n",
       "      <th>std</th>\n",
       "      <th>Upper</th>\n",
       "      <th>Lower</th>\n",
       "      <th>test</th>\n",
       "      <th>test2</th>\n",
       "      <th>signal</th>\n",
       "      <th>cumulative_returns</th>\n",
       "      <th>strat_returns</th>\n",
       "      <th>success</th>\n",
       "      <th>value</th>\n",
       "      <th>risk_monthly</th>\n",
       "    </tr>\n",
       "    <tr>\n",
       "      <th>Date</th>\n",
       "      <th></th>\n",
       "      <th></th>\n",
       "      <th></th>\n",
       "      <th></th>\n",
       "      <th></th>\n",
       "      <th></th>\n",
       "      <th></th>\n",
       "      <th></th>\n",
       "      <th></th>\n",
       "      <th></th>\n",
       "      <th></th>\n",
       "      <th></th>\n",
       "      <th></th>\n",
       "      <th></th>\n",
       "      <th></th>\n",
       "      <th></th>\n",
       "      <th></th>\n",
       "      <th></th>\n",
       "    </tr>\n",
       "  </thead>\n",
       "  <tbody>\n",
       "    <tr>\n",
       "      <th>1980-01-01</th>\n",
       "      <td>13.39</td>\n",
       "      <td>10.03</td>\n",
       "      <td>1.1067</td>\n",
       "      <td>0.247933</td>\n",
       "      <td>NaN</td>\n",
       "      <td>0.247933</td>\n",
       "      <td>0.000000</td>\n",
       "      <td>NaN</td>\n",
       "      <td>NaN</td>\n",
       "      <td>NaN</td>\n",
       "      <td>0.0</td>\n",
       "      <td>0</td>\n",
       "      <td>0</td>\n",
       "      <td>NaN</td>\n",
       "      <td>NaN</td>\n",
       "      <td>NaN</td>\n",
       "      <td>11.70</td>\n",
       "      <td>0.009263</td>\n",
       "    </tr>\n",
       "    <tr>\n",
       "      <th>1980-02-01</th>\n",
       "      <td>14.30</td>\n",
       "      <td>10.06</td>\n",
       "      <td>1.0970</td>\n",
       "      <td>0.295560</td>\n",
       "      <td>-0.008803</td>\n",
       "      <td>0.264126</td>\n",
       "      <td>0.031434</td>\n",
       "      <td>NaN</td>\n",
       "      <td>NaN</td>\n",
       "      <td>NaN</td>\n",
       "      <td>0.0</td>\n",
       "      <td>0</td>\n",
       "      <td>0</td>\n",
       "      <td>0.000000</td>\n",
       "      <td>-0.000000</td>\n",
       "      <td>NaN</td>\n",
       "      <td>12.62</td>\n",
       "      <td>0.009953</td>\n",
       "    </tr>\n",
       "    <tr>\n",
       "      <th>1980-03-01</th>\n",
       "      <td>17.57</td>\n",
       "      <td>11.47</td>\n",
       "      <td>1.0818</td>\n",
       "      <td>0.405795</td>\n",
       "      <td>-0.013953</td>\n",
       "      <td>0.312293</td>\n",
       "      <td>0.093502</td>\n",
       "      <td>NaN</td>\n",
       "      <td>NaN</td>\n",
       "      <td>NaN</td>\n",
       "      <td>0.0</td>\n",
       "      <td>0</td>\n",
       "      <td>0</td>\n",
       "      <td>0.000000</td>\n",
       "      <td>-0.000000</td>\n",
       "      <td>NaN</td>\n",
       "      <td>15.45</td>\n",
       "      <td>0.012044</td>\n",
       "    </tr>\n",
       "    <tr>\n",
       "      <th>1980-04-01</th>\n",
       "      <td>16.14</td>\n",
       "      <td>13.28</td>\n",
       "      <td>1.1150</td>\n",
       "      <td>0.244089</td>\n",
       "      <td>0.030228</td>\n",
       "      <td>0.289104</td>\n",
       "      <td>-0.045015</td>\n",
       "      <td>NaN</td>\n",
       "      <td>NaN</td>\n",
       "      <td>NaN</td>\n",
       "      <td>-0.0</td>\n",
       "      <td>0</td>\n",
       "      <td>0</td>\n",
       "      <td>0.000000</td>\n",
       "      <td>0.000000</td>\n",
       "      <td>NaN</td>\n",
       "      <td>15.85</td>\n",
       "      <td>0.012336</td>\n",
       "    </tr>\n",
       "    <tr>\n",
       "      <th>1980-05-01</th>\n",
       "      <td>9.79</td>\n",
       "      <td>13.83</td>\n",
       "      <td>1.1428</td>\n",
       "      <td>-0.123769</td>\n",
       "      <td>0.024627</td>\n",
       "      <td>0.148727</td>\n",
       "      <td>-0.272496</td>\n",
       "      <td>0.140173</td>\n",
       "      <td>0.476733</td>\n",
       "      <td>-0.179278</td>\n",
       "      <td>-0.0</td>\n",
       "      <td>0</td>\n",
       "      <td>0</td>\n",
       "      <td>0.000000</td>\n",
       "      <td>0.000000</td>\n",
       "      <td>NaN</td>\n",
       "      <td>11.11</td>\n",
       "      <td>0.008818</td>\n",
       "    </tr>\n",
       "    <tr>\n",
       "      <th>...</th>\n",
       "      <td>...</td>\n",
       "      <td>...</td>\n",
       "      <td>...</td>\n",
       "      <td>...</td>\n",
       "      <td>...</td>\n",
       "      <td>...</td>\n",
       "      <td>...</td>\n",
       "      <td>...</td>\n",
       "      <td>...</td>\n",
       "      <td>...</td>\n",
       "      <td>...</td>\n",
       "      <td>...</td>\n",
       "      <td>...</td>\n",
       "      <td>...</td>\n",
       "      <td>...</td>\n",
       "      <td>...</td>\n",
       "      <td>...</td>\n",
       "      <td>...</td>\n",
       "    </tr>\n",
       "    <tr>\n",
       "      <th>2022-08-01</th>\n",
       "      <td>2.76</td>\n",
       "      <td>2.31</td>\n",
       "      <td>0.6866</td>\n",
       "      <td>0.036281</td>\n",
       "      <td>-0.017183</td>\n",
       "      <td>0.028313</td>\n",
       "      <td>0.007968</td>\n",
       "      <td>0.003519</td>\n",
       "      <td>0.036548</td>\n",
       "      <td>0.020078</td>\n",
       "      <td>0.0</td>\n",
       "      <td>0</td>\n",
       "      <td>0</td>\n",
       "      <td>0.478653</td>\n",
       "      <td>-0.000000</td>\n",
       "      <td>NaN</td>\n",
       "      <td>2.98</td>\n",
       "      <td>0.002450</td>\n",
       "    </tr>\n",
       "    <tr>\n",
       "      <th>2022-09-01</th>\n",
       "      <td>3.21</td>\n",
       "      <td>2.76</td>\n",
       "      <td>0.6437</td>\n",
       "      <td>0.039479</td>\n",
       "      <td>-0.064519</td>\n",
       "      <td>0.032109</td>\n",
       "      <td>0.007369</td>\n",
       "      <td>0.003395</td>\n",
       "      <td>0.040053</td>\n",
       "      <td>0.024166</td>\n",
       "      <td>0.0</td>\n",
       "      <td>0</td>\n",
       "      <td>0</td>\n",
       "      <td>0.478653</td>\n",
       "      <td>-0.000000</td>\n",
       "      <td>NaN</td>\n",
       "      <td>3.51</td>\n",
       "      <td>0.002879</td>\n",
       "    </tr>\n",
       "    <tr>\n",
       "      <th>2022-10-01</th>\n",
       "      <td>3.85</td>\n",
       "      <td>2.95</td>\n",
       "      <td>0.6394</td>\n",
       "      <td>0.065075</td>\n",
       "      <td>-0.006703</td>\n",
       "      <td>0.043317</td>\n",
       "      <td>0.021757</td>\n",
       "      <td>0.007272</td>\n",
       "      <td>0.060334</td>\n",
       "      <td>0.026301</td>\n",
       "      <td>1.0</td>\n",
       "      <td>1</td>\n",
       "      <td>1</td>\n",
       "      <td>0.478653</td>\n",
       "      <td>-0.000000</td>\n",
       "      <td>NaN</td>\n",
       "      <td>4.05</td>\n",
       "      <td>0.003314</td>\n",
       "    </tr>\n",
       "    <tr>\n",
       "      <th>2022-11-01</th>\n",
       "      <td>4.46</td>\n",
       "      <td>3.06</td>\n",
       "      <td>0.6717</td>\n",
       "      <td>0.092796</td>\n",
       "      <td>0.049282</td>\n",
       "      <td>0.060140</td>\n",
       "      <td>0.032656</td>\n",
       "      <td>0.011118</td>\n",
       "      <td>0.086156</td>\n",
       "      <td>0.034125</td>\n",
       "      <td>1.0</td>\n",
       "      <td>0</td>\n",
       "      <td>0</td>\n",
       "      <td>0.553348</td>\n",
       "      <td>0.049282</td>\n",
       "      <td>NaN</td>\n",
       "      <td>4.75</td>\n",
       "      <td>0.003875</td>\n",
       "    </tr>\n",
       "    <tr>\n",
       "      <th>2022-12-01</th>\n",
       "      <td>4.51</td>\n",
       "      <td>3.17</td>\n",
       "      <td>0.6805</td>\n",
       "      <td>0.090345</td>\n",
       "      <td>0.013016</td>\n",
       "      <td>0.070410</td>\n",
       "      <td>0.019935</td>\n",
       "      <td>0.010563</td>\n",
       "      <td>0.095127</td>\n",
       "      <td>0.045693</td>\n",
       "      <td>0.0</td>\n",
       "      <td>0</td>\n",
       "      <td>0</td>\n",
       "      <td>0.553348</td>\n",
       "      <td>0.000000</td>\n",
       "      <td>NaN</td>\n",
       "      <td>4.66</td>\n",
       "      <td>0.003803</td>\n",
       "    </tr>\n",
       "  </tbody>\n",
       "</table>\n",
       "<p>515 rows × 18 columns</p>\n",
       "</div>"
      ],
      "text/plain": [
       "             I_US   I_AU     AUD   ir_diff   Returns    Filter  Filter Error  \\\n",
       "Date                                                                           \n",
       "1980-01-01  13.39  10.03  1.1067  0.247933       NaN  0.247933      0.000000   \n",
       "1980-02-01  14.30  10.06  1.0970  0.295560 -0.008803  0.264126      0.031434   \n",
       "1980-03-01  17.57  11.47  1.0818  0.405795 -0.013953  0.312293      0.093502   \n",
       "1980-04-01  16.14  13.28  1.1150  0.244089  0.030228  0.289104     -0.045015   \n",
       "1980-05-01   9.79  13.83  1.1428 -0.123769  0.024627  0.148727     -0.272496   \n",
       "...           ...    ...     ...       ...       ...       ...           ...   \n",
       "2022-08-01   2.76   2.31  0.6866  0.036281 -0.017183  0.028313      0.007968   \n",
       "2022-09-01   3.21   2.76  0.6437  0.039479 -0.064519  0.032109      0.007369   \n",
       "2022-10-01   3.85   2.95  0.6394  0.065075 -0.006703  0.043317      0.021757   \n",
       "2022-11-01   4.46   3.06  0.6717  0.092796  0.049282  0.060140      0.032656   \n",
       "2022-12-01   4.51   3.17  0.6805  0.090345  0.013016  0.070410      0.019935   \n",
       "\n",
       "                 std     Upper     Lower  test  test2  signal  \\\n",
       "Date                                                            \n",
       "1980-01-01       NaN       NaN       NaN   0.0      0       0   \n",
       "1980-02-01       NaN       NaN       NaN   0.0      0       0   \n",
       "1980-03-01       NaN       NaN       NaN   0.0      0       0   \n",
       "1980-04-01       NaN       NaN       NaN  -0.0      0       0   \n",
       "1980-05-01  0.140173  0.476733 -0.179278  -0.0      0       0   \n",
       "...              ...       ...       ...   ...    ...     ...   \n",
       "2022-08-01  0.003519  0.036548  0.020078   0.0      0       0   \n",
       "2022-09-01  0.003395  0.040053  0.024166   0.0      0       0   \n",
       "2022-10-01  0.007272  0.060334  0.026301   1.0      1       1   \n",
       "2022-11-01  0.011118  0.086156  0.034125   1.0      0       0   \n",
       "2022-12-01  0.010563  0.095127  0.045693   0.0      0       0   \n",
       "\n",
       "            cumulative_returns  strat_returns  success   value  risk_monthly  \n",
       "Date                                                                          \n",
       "1980-01-01                 NaN            NaN      NaN   11.70      0.009263  \n",
       "1980-02-01            0.000000      -0.000000      NaN   12.62      0.009953  \n",
       "1980-03-01            0.000000      -0.000000      NaN   15.45      0.012044  \n",
       "1980-04-01            0.000000       0.000000      NaN   15.85      0.012336  \n",
       "1980-05-01            0.000000       0.000000      NaN   11.11      0.008818  \n",
       "...                        ...            ...      ...     ...           ...  \n",
       "2022-08-01            0.478653      -0.000000      NaN    2.98      0.002450  \n",
       "2022-09-01            0.478653      -0.000000      NaN    3.51      0.002879  \n",
       "2022-10-01            0.478653      -0.000000      NaN    4.05      0.003314  \n",
       "2022-11-01            0.553348       0.049282      NaN    4.75      0.003875  \n",
       "2022-12-01            0.553348       0.000000      NaN    4.66      0.003803  \n",
       "\n",
       "[515 rows x 18 columns]"
      ]
     },
     "execution_count": 211,
     "metadata": {},
     "output_type": "execute_result"
    }
   ],
   "source": [
    "df_copy['risk_monthly'] = (df_copy[' value']*0.01+1)**(1/12)-1\n",
    "df_copy"
   ]
  },
  {
   "cell_type": "code",
   "execution_count": 212,
   "id": "f495a96b",
   "metadata": {},
   "outputs": [],
   "source": [
    "df_copy = pd.merge_asof(df_copy, sp500, left_index = True, right_index = True, direction = \"backward\")"
   ]
  },
  {
   "cell_type": "code",
   "execution_count": 213,
   "id": "5219e82c",
   "metadata": {},
   "outputs": [],
   "source": [
    "df_copy['Profits_pct_change'] = df_copy[\"strat_returns\"].pct_change()"
   ]
  },
  {
   "cell_type": "code",
   "execution_count": 236,
   "id": "52946b82",
   "metadata": {},
   "outputs": [],
   "source": [
    "df_copy['profit_excess'] = df_copy['strat_returns'] - df_copy['risk_monthly']\n",
    "df_copy['market_excess'] = df_copy['pct_change']- df_copy['risk_monthly']"
   ]
  },
  {
   "cell_type": "code",
   "execution_count": 237,
   "id": "82533672",
   "metadata": {},
   "outputs": [],
   "source": [
    "df3 = df_copy.copy()"
   ]
  },
  {
   "cell_type": "code",
   "execution_count": 238,
   "id": "2e926cb3",
   "metadata": {},
   "outputs": [
    {
     "data": {
      "text/html": [
       "<div>\n",
       "<style scoped>\n",
       "    .dataframe tbody tr th:only-of-type {\n",
       "        vertical-align: middle;\n",
       "    }\n",
       "\n",
       "    .dataframe tbody tr th {\n",
       "        vertical-align: top;\n",
       "    }\n",
       "\n",
       "    .dataframe thead th {\n",
       "        text-align: right;\n",
       "    }\n",
       "</style>\n",
       "<table border=\"1\" class=\"dataframe\">\n",
       "  <thead>\n",
       "    <tr style=\"text-align: right;\">\n",
       "      <th></th>\n",
       "      <th>I_US</th>\n",
       "      <th>I_AU</th>\n",
       "      <th>AUD</th>\n",
       "      <th>ir_diff</th>\n",
       "      <th>Returns</th>\n",
       "      <th>Filter</th>\n",
       "      <th>Filter Error</th>\n",
       "      <th>std</th>\n",
       "      <th>Upper</th>\n",
       "      <th>Lower</th>\n",
       "      <th>...</th>\n",
       "      <th>signal</th>\n",
       "      <th>cumulative_returns</th>\n",
       "      <th>strat_returns</th>\n",
       "      <th>success</th>\n",
       "      <th>value</th>\n",
       "      <th>risk_monthly</th>\n",
       "      <th>pct_change</th>\n",
       "      <th>Profits_pct_change</th>\n",
       "      <th>profit_excess</th>\n",
       "      <th>market_excess</th>\n",
       "    </tr>\n",
       "    <tr>\n",
       "      <th>Date</th>\n",
       "      <th></th>\n",
       "      <th></th>\n",
       "      <th></th>\n",
       "      <th></th>\n",
       "      <th></th>\n",
       "      <th></th>\n",
       "      <th></th>\n",
       "      <th></th>\n",
       "      <th></th>\n",
       "      <th></th>\n",
       "      <th></th>\n",
       "      <th></th>\n",
       "      <th></th>\n",
       "      <th></th>\n",
       "      <th></th>\n",
       "      <th></th>\n",
       "      <th></th>\n",
       "      <th></th>\n",
       "      <th></th>\n",
       "      <th></th>\n",
       "      <th></th>\n",
       "    </tr>\n",
       "  </thead>\n",
       "  <tbody>\n",
       "    <tr>\n",
       "      <th>1980-01-01</th>\n",
       "      <td>13.39</td>\n",
       "      <td>10.03</td>\n",
       "      <td>1.1067</td>\n",
       "      <td>0.247933</td>\n",
       "      <td>NaN</td>\n",
       "      <td>0.247933</td>\n",
       "      <td>0.000000</td>\n",
       "      <td>NaN</td>\n",
       "      <td>NaN</td>\n",
       "      <td>NaN</td>\n",
       "      <td>...</td>\n",
       "      <td>0</td>\n",
       "      <td>NaN</td>\n",
       "      <td>NaN</td>\n",
       "      <td>NaN</td>\n",
       "      <td>11.70</td>\n",
       "      <td>0.009263</td>\n",
       "      <td>0.016293</td>\n",
       "      <td>NaN</td>\n",
       "      <td>NaN</td>\n",
       "      <td>0.007030</td>\n",
       "    </tr>\n",
       "    <tr>\n",
       "      <th>1980-02-01</th>\n",
       "      <td>14.30</td>\n",
       "      <td>10.06</td>\n",
       "      <td>1.0970</td>\n",
       "      <td>0.295560</td>\n",
       "      <td>-0.008803</td>\n",
       "      <td>0.264126</td>\n",
       "      <td>0.031434</td>\n",
       "      <td>NaN</td>\n",
       "      <td>NaN</td>\n",
       "      <td>NaN</td>\n",
       "      <td>...</td>\n",
       "      <td>0</td>\n",
       "      <td>0.000000</td>\n",
       "      <td>-0.000000</td>\n",
       "      <td>NaN</td>\n",
       "      <td>12.62</td>\n",
       "      <td>0.009953</td>\n",
       "      <td>0.055629</td>\n",
       "      <td>NaN</td>\n",
       "      <td>-0.009953</td>\n",
       "      <td>0.045675</td>\n",
       "    </tr>\n",
       "    <tr>\n",
       "      <th>1980-03-01</th>\n",
       "      <td>17.57</td>\n",
       "      <td>11.47</td>\n",
       "      <td>1.0818</td>\n",
       "      <td>0.405795</td>\n",
       "      <td>-0.013953</td>\n",
       "      <td>0.312293</td>\n",
       "      <td>0.093502</td>\n",
       "      <td>NaN</td>\n",
       "      <td>NaN</td>\n",
       "      <td>NaN</td>\n",
       "      <td>...</td>\n",
       "      <td>0</td>\n",
       "      <td>0.000000</td>\n",
       "      <td>-0.000000</td>\n",
       "      <td>NaN</td>\n",
       "      <td>15.45</td>\n",
       "      <td>0.012044</td>\n",
       "      <td>-0.006272</td>\n",
       "      <td>NaN</td>\n",
       "      <td>-0.012044</td>\n",
       "      <td>-0.018316</td>\n",
       "    </tr>\n",
       "    <tr>\n",
       "      <th>1980-04-01</th>\n",
       "      <td>16.14</td>\n",
       "      <td>13.28</td>\n",
       "      <td>1.1150</td>\n",
       "      <td>0.244089</td>\n",
       "      <td>0.030228</td>\n",
       "      <td>0.289104</td>\n",
       "      <td>-0.045015</td>\n",
       "      <td>NaN</td>\n",
       "      <td>NaN</td>\n",
       "      <td>NaN</td>\n",
       "      <td>...</td>\n",
       "      <td>0</td>\n",
       "      <td>0.000000</td>\n",
       "      <td>0.000000</td>\n",
       "      <td>NaN</td>\n",
       "      <td>15.85</td>\n",
       "      <td>0.012336</td>\n",
       "      <td>-0.106036</td>\n",
       "      <td>NaN</td>\n",
       "      <td>-0.012336</td>\n",
       "      <td>-0.118372</td>\n",
       "    </tr>\n",
       "    <tr>\n",
       "      <th>1980-05-01</th>\n",
       "      <td>9.79</td>\n",
       "      <td>13.83</td>\n",
       "      <td>1.1428</td>\n",
       "      <td>-0.123769</td>\n",
       "      <td>0.024627</td>\n",
       "      <td>0.148727</td>\n",
       "      <td>-0.272496</td>\n",
       "      <td>0.140173</td>\n",
       "      <td>0.476733</td>\n",
       "      <td>-0.179278</td>\n",
       "      <td>...</td>\n",
       "      <td>0</td>\n",
       "      <td>0.000000</td>\n",
       "      <td>0.000000</td>\n",
       "      <td>NaN</td>\n",
       "      <td>11.11</td>\n",
       "      <td>0.008818</td>\n",
       "      <td>0.038378</td>\n",
       "      <td>NaN</td>\n",
       "      <td>-0.008818</td>\n",
       "      <td>0.029560</td>\n",
       "    </tr>\n",
       "    <tr>\n",
       "      <th>...</th>\n",
       "      <td>...</td>\n",
       "      <td>...</td>\n",
       "      <td>...</td>\n",
       "      <td>...</td>\n",
       "      <td>...</td>\n",
       "      <td>...</td>\n",
       "      <td>...</td>\n",
       "      <td>...</td>\n",
       "      <td>...</td>\n",
       "      <td>...</td>\n",
       "      <td>...</td>\n",
       "      <td>...</td>\n",
       "      <td>...</td>\n",
       "      <td>...</td>\n",
       "      <td>...</td>\n",
       "      <td>...</td>\n",
       "      <td>...</td>\n",
       "      <td>...</td>\n",
       "      <td>...</td>\n",
       "      <td>...</td>\n",
       "      <td>...</td>\n",
       "    </tr>\n",
       "    <tr>\n",
       "      <th>2022-08-01</th>\n",
       "      <td>2.76</td>\n",
       "      <td>2.31</td>\n",
       "      <td>0.6866</td>\n",
       "      <td>0.036281</td>\n",
       "      <td>-0.017183</td>\n",
       "      <td>0.028313</td>\n",
       "      <td>0.007968</td>\n",
       "      <td>0.003519</td>\n",
       "      <td>0.036548</td>\n",
       "      <td>0.020078</td>\n",
       "      <td>...</td>\n",
       "      <td>0</td>\n",
       "      <td>0.478653</td>\n",
       "      <td>-0.000000</td>\n",
       "      <td>NaN</td>\n",
       "      <td>2.98</td>\n",
       "      <td>0.002450</td>\n",
       "      <td>0.087750</td>\n",
       "      <td>NaN</td>\n",
       "      <td>-0.002450</td>\n",
       "      <td>0.085300</td>\n",
       "    </tr>\n",
       "    <tr>\n",
       "      <th>2022-09-01</th>\n",
       "      <td>3.21</td>\n",
       "      <td>2.76</td>\n",
       "      <td>0.6437</td>\n",
       "      <td>0.039479</td>\n",
       "      <td>-0.064519</td>\n",
       "      <td>0.032109</td>\n",
       "      <td>0.007369</td>\n",
       "      <td>0.003395</td>\n",
       "      <td>0.040053</td>\n",
       "      <td>0.024166</td>\n",
       "      <td>...</td>\n",
       "      <td>0</td>\n",
       "      <td>0.478653</td>\n",
       "      <td>-0.000000</td>\n",
       "      <td>NaN</td>\n",
       "      <td>3.51</td>\n",
       "      <td>0.002879</td>\n",
       "      <td>-0.045708</td>\n",
       "      <td>NaN</td>\n",
       "      <td>-0.002879</td>\n",
       "      <td>-0.048587</td>\n",
       "    </tr>\n",
       "    <tr>\n",
       "      <th>2022-10-01</th>\n",
       "      <td>3.85</td>\n",
       "      <td>2.95</td>\n",
       "      <td>0.6394</td>\n",
       "      <td>0.065075</td>\n",
       "      <td>-0.006703</td>\n",
       "      <td>0.043317</td>\n",
       "      <td>0.021757</td>\n",
       "      <td>0.007272</td>\n",
       "      <td>0.060334</td>\n",
       "      <td>0.026301</td>\n",
       "      <td>...</td>\n",
       "      <td>1</td>\n",
       "      <td>0.478653</td>\n",
       "      <td>-0.000000</td>\n",
       "      <td>NaN</td>\n",
       "      <td>4.05</td>\n",
       "      <td>0.003314</td>\n",
       "      <td>-0.098036</td>\n",
       "      <td>NaN</td>\n",
       "      <td>-0.003314</td>\n",
       "      <td>-0.101350</td>\n",
       "    </tr>\n",
       "    <tr>\n",
       "      <th>2022-11-01</th>\n",
       "      <td>4.46</td>\n",
       "      <td>3.06</td>\n",
       "      <td>0.6717</td>\n",
       "      <td>0.092796</td>\n",
       "      <td>0.049282</td>\n",
       "      <td>0.060140</td>\n",
       "      <td>0.032656</td>\n",
       "      <td>0.011118</td>\n",
       "      <td>0.086156</td>\n",
       "      <td>0.034125</td>\n",
       "      <td>...</td>\n",
       "      <td>0</td>\n",
       "      <td>0.553348</td>\n",
       "      <td>0.049282</td>\n",
       "      <td>NaN</td>\n",
       "      <td>4.75</td>\n",
       "      <td>0.003875</td>\n",
       "      <td>0.073017</td>\n",
       "      <td>-inf</td>\n",
       "      <td>0.045407</td>\n",
       "      <td>0.069143</td>\n",
       "    </tr>\n",
       "    <tr>\n",
       "      <th>2022-12-01</th>\n",
       "      <td>4.51</td>\n",
       "      <td>3.17</td>\n",
       "      <td>0.6805</td>\n",
       "      <td>0.090345</td>\n",
       "      <td>0.013016</td>\n",
       "      <td>0.070410</td>\n",
       "      <td>0.019935</td>\n",
       "      <td>0.010563</td>\n",
       "      <td>0.095127</td>\n",
       "      <td>0.045693</td>\n",
       "      <td>...</td>\n",
       "      <td>0</td>\n",
       "      <td>0.553348</td>\n",
       "      <td>0.000000</td>\n",
       "      <td>NaN</td>\n",
       "      <td>4.66</td>\n",
       "      <td>0.003803</td>\n",
       "      <td>0.047423</td>\n",
       "      <td>-1.0</td>\n",
       "      <td>-0.003803</td>\n",
       "      <td>0.043621</td>\n",
       "    </tr>\n",
       "  </tbody>\n",
       "</table>\n",
       "<p>515 rows × 22 columns</p>\n",
       "</div>"
      ],
      "text/plain": [
       "             I_US   I_AU     AUD   ir_diff   Returns    Filter  Filter Error  \\\n",
       "Date                                                                           \n",
       "1980-01-01  13.39  10.03  1.1067  0.247933       NaN  0.247933      0.000000   \n",
       "1980-02-01  14.30  10.06  1.0970  0.295560 -0.008803  0.264126      0.031434   \n",
       "1980-03-01  17.57  11.47  1.0818  0.405795 -0.013953  0.312293      0.093502   \n",
       "1980-04-01  16.14  13.28  1.1150  0.244089  0.030228  0.289104     -0.045015   \n",
       "1980-05-01   9.79  13.83  1.1428 -0.123769  0.024627  0.148727     -0.272496   \n",
       "...           ...    ...     ...       ...       ...       ...           ...   \n",
       "2022-08-01   2.76   2.31  0.6866  0.036281 -0.017183  0.028313      0.007968   \n",
       "2022-09-01   3.21   2.76  0.6437  0.039479 -0.064519  0.032109      0.007369   \n",
       "2022-10-01   3.85   2.95  0.6394  0.065075 -0.006703  0.043317      0.021757   \n",
       "2022-11-01   4.46   3.06  0.6717  0.092796  0.049282  0.060140      0.032656   \n",
       "2022-12-01   4.51   3.17  0.6805  0.090345  0.013016  0.070410      0.019935   \n",
       "\n",
       "                 std     Upper     Lower  ...  signal  cumulative_returns  \\\n",
       "Date                                      ...                               \n",
       "1980-01-01       NaN       NaN       NaN  ...       0                 NaN   \n",
       "1980-02-01       NaN       NaN       NaN  ...       0            0.000000   \n",
       "1980-03-01       NaN       NaN       NaN  ...       0            0.000000   \n",
       "1980-04-01       NaN       NaN       NaN  ...       0            0.000000   \n",
       "1980-05-01  0.140173  0.476733 -0.179278  ...       0            0.000000   \n",
       "...              ...       ...       ...  ...     ...                 ...   \n",
       "2022-08-01  0.003519  0.036548  0.020078  ...       0            0.478653   \n",
       "2022-09-01  0.003395  0.040053  0.024166  ...       0            0.478653   \n",
       "2022-10-01  0.007272  0.060334  0.026301  ...       1            0.478653   \n",
       "2022-11-01  0.011118  0.086156  0.034125  ...       0            0.553348   \n",
       "2022-12-01  0.010563  0.095127  0.045693  ...       0            0.553348   \n",
       "\n",
       "            strat_returns  success   value  risk_monthly  pct_change  \\\n",
       "Date                                                                   \n",
       "1980-01-01            NaN      NaN   11.70      0.009263    0.016293   \n",
       "1980-02-01      -0.000000      NaN   12.62      0.009953    0.055629   \n",
       "1980-03-01      -0.000000      NaN   15.45      0.012044   -0.006272   \n",
       "1980-04-01       0.000000      NaN   15.85      0.012336   -0.106036   \n",
       "1980-05-01       0.000000      NaN   11.11      0.008818    0.038378   \n",
       "...                   ...      ...     ...           ...         ...   \n",
       "2022-08-01      -0.000000      NaN    2.98      0.002450    0.087750   \n",
       "2022-09-01      -0.000000      NaN    3.51      0.002879   -0.045708   \n",
       "2022-10-01      -0.000000      NaN    4.05      0.003314   -0.098036   \n",
       "2022-11-01       0.049282      NaN    4.75      0.003875    0.073017   \n",
       "2022-12-01       0.000000      NaN    4.66      0.003803    0.047423   \n",
       "\n",
       "            Profits_pct_change  profit_excess  market_excess  \n",
       "Date                                                          \n",
       "1980-01-01                 NaN            NaN       0.007030  \n",
       "1980-02-01                 NaN      -0.009953       0.045675  \n",
       "1980-03-01                 NaN      -0.012044      -0.018316  \n",
       "1980-04-01                 NaN      -0.012336      -0.118372  \n",
       "1980-05-01                 NaN      -0.008818       0.029560  \n",
       "...                        ...            ...            ...  \n",
       "2022-08-01                 NaN      -0.002450       0.085300  \n",
       "2022-09-01                 NaN      -0.002879      -0.048587  \n",
       "2022-10-01                 NaN      -0.003314      -0.101350  \n",
       "2022-11-01                -inf       0.045407       0.069143  \n",
       "2022-12-01                -1.0      -0.003803       0.043621  \n",
       "\n",
       "[515 rows x 22 columns]"
      ]
     },
     "execution_count": 238,
     "metadata": {},
     "output_type": "execute_result"
    }
   ],
   "source": [
    "df3"
   ]
  },
  {
   "cell_type": "code",
   "execution_count": 239,
   "id": "527186fd",
   "metadata": {},
   "outputs": [],
   "source": [
    "df3 = df3[[\"profit_excess\", \"market_excess\"]].dropna()"
   ]
  },
  {
   "cell_type": "code",
   "execution_count": 240,
   "id": "e983feb1",
   "metadata": {},
   "outputs": [],
   "source": [
    "df3 = df3.replace([np.inf, -np.inf], np.nan).dropna() "
   ]
  },
  {
   "cell_type": "code",
   "execution_count": 241,
   "id": "4205b867",
   "metadata": {},
   "outputs": [
    {
     "data": {
      "text/html": [
       "<table class=\"simpletable\">\n",
       "<caption>OLS Regression Results</caption>\n",
       "<tr>\n",
       "  <th>Dep. Variable:</th>      <td>profit_excess</td>  <th>  R-squared:         </th> <td>   0.001</td>\n",
       "</tr>\n",
       "<tr>\n",
       "  <th>Model:</th>                   <td>OLS</td>       <th>  Adj. R-squared:    </th> <td>  -0.001</td>\n",
       "</tr>\n",
       "<tr>\n",
       "  <th>Method:</th>             <td>Least Squares</td>  <th>  F-statistic:       </th> <td>  0.2758</td>\n",
       "</tr>\n",
       "<tr>\n",
       "  <th>Date:</th>             <td>Thu, 23 Mar 2023</td> <th>  Prob (F-statistic):</th>  <td> 0.600</td> \n",
       "</tr>\n",
       "<tr>\n",
       "  <th>Time:</th>                 <td>19:29:07</td>     <th>  Log-Likelihood:    </th> <td>  1579.3</td>\n",
       "</tr>\n",
       "<tr>\n",
       "  <th>No. Observations:</th>      <td>   514</td>      <th>  AIC:               </th> <td>  -3155.</td>\n",
       "</tr>\n",
       "<tr>\n",
       "  <th>Df Residuals:</th>          <td>   512</td>      <th>  BIC:               </th> <td>  -3146.</td>\n",
       "</tr>\n",
       "<tr>\n",
       "  <th>Df Model:</th>              <td>     1</td>      <th>                     </th>     <td> </td>   \n",
       "</tr>\n",
       "<tr>\n",
       "  <th>Covariance Type:</th>      <td>nonrobust</td>    <th>                     </th>     <td> </td>   \n",
       "</tr>\n",
       "</table>\n",
       "<table class=\"simpletable\">\n",
       "<tr>\n",
       "        <td></td>           <th>coef</th>     <th>std err</th>      <th>t</th>      <th>P>|t|</th>  <th>[0.025</th>    <th>0.975]</th>  \n",
       "</tr>\n",
       "<tr>\n",
       "  <th>Intercept</th>     <td>   -0.0028</td> <td>    0.000</td> <td>   -5.551</td> <td> 0.000</td> <td>   -0.004</td> <td>   -0.002</td>\n",
       "</tr>\n",
       "<tr>\n",
       "  <th>market_excess</th> <td>    0.0057</td> <td>    0.011</td> <td>    0.525</td> <td> 0.600</td> <td>   -0.016</td> <td>    0.027</td>\n",
       "</tr>\n",
       "</table>\n",
       "<table class=\"simpletable\">\n",
       "<tr>\n",
       "  <th>Omnibus:</th>       <td>482.409</td> <th>  Durbin-Watson:     </th> <td>   1.880</td> \n",
       "</tr>\n",
       "<tr>\n",
       "  <th>Prob(Omnibus):</th> <td> 0.000</td>  <th>  Jarque-Bera (JB):  </th> <td>22579.362</td>\n",
       "</tr>\n",
       "<tr>\n",
       "  <th>Skew:</th>          <td> 3.951</td>  <th>  Prob(JB):          </th> <td>    0.00</td> \n",
       "</tr>\n",
       "<tr>\n",
       "  <th>Kurtosis:</th>      <td>34.494</td>  <th>  Cond. No.          </th> <td>    22.0</td> \n",
       "</tr>\n",
       "</table><br/><br/>Notes:<br/>[1] Standard Errors assume that the covariance matrix of the errors is correctly specified."
      ],
      "text/plain": [
       "<class 'statsmodels.iolib.summary.Summary'>\n",
       "\"\"\"\n",
       "                            OLS Regression Results                            \n",
       "==============================================================================\n",
       "Dep. Variable:          profit_excess   R-squared:                       0.001\n",
       "Model:                            OLS   Adj. R-squared:                 -0.001\n",
       "Method:                 Least Squares   F-statistic:                    0.2758\n",
       "Date:                Thu, 23 Mar 2023   Prob (F-statistic):              0.600\n",
       "Time:                        19:29:07   Log-Likelihood:                 1579.3\n",
       "No. Observations:                 514   AIC:                            -3155.\n",
       "Df Residuals:                     512   BIC:                            -3146.\n",
       "Df Model:                           1                                         \n",
       "Covariance Type:            nonrobust                                         \n",
       "=================================================================================\n",
       "                    coef    std err          t      P>|t|      [0.025      0.975]\n",
       "---------------------------------------------------------------------------------\n",
       "Intercept        -0.0028      0.000     -5.551      0.000      -0.004      -0.002\n",
       "market_excess     0.0057      0.011      0.525      0.600      -0.016       0.027\n",
       "==============================================================================\n",
       "Omnibus:                      482.409   Durbin-Watson:                   1.880\n",
       "Prob(Omnibus):                  0.000   Jarque-Bera (JB):            22579.362\n",
       "Skew:                           3.951   Prob(JB):                         0.00\n",
       "Kurtosis:                      34.494   Cond. No.                         22.0\n",
       "==============================================================================\n",
       "\n",
       "Notes:\n",
       "[1] Standard Errors assume that the covariance matrix of the errors is correctly specified.\n",
       "\"\"\""
      ]
     },
     "execution_count": 241,
     "metadata": {},
     "output_type": "execute_result"
    }
   ],
   "source": [
    "ols = smf.ols(formula = 'profit_excess ~ market_excess', data = df3).fit()\n",
    "ols.summary()"
   ]
  },
  {
   "cell_type": "markdown",
   "id": "8b0840b1",
   "metadata": {},
   "source": [
    "So alpha is -0.0028 and beta is 0.0057"
   ]
  },
  {
   "cell_type": "markdown",
   "id": "00eb5905",
   "metadata": {},
   "source": [
    "## 13. Monthly R-Sqaured"
   ]
  },
  {
   "cell_type": "markdown",
   "id": "e0bbc111",
   "metadata": {},
   "source": [
    "= 0.001"
   ]
  },
  {
   "cell_type": "markdown",
   "id": "08f1084d",
   "metadata": {},
   "source": [
    "## 14. Correlation"
   ]
  },
  {
   "cell_type": "code",
   "execution_count": 243,
   "id": "63bf0b50",
   "metadata": {},
   "outputs": [
    {
     "data": {
      "text/html": [
       "<div>\n",
       "<style scoped>\n",
       "    .dataframe tbody tr th:only-of-type {\n",
       "        vertical-align: middle;\n",
       "    }\n",
       "\n",
       "    .dataframe tbody tr th {\n",
       "        vertical-align: top;\n",
       "    }\n",
       "\n",
       "    .dataframe thead th {\n",
       "        text-align: right;\n",
       "    }\n",
       "</style>\n",
       "<table border=\"1\" class=\"dataframe\">\n",
       "  <thead>\n",
       "    <tr style=\"text-align: right;\">\n",
       "      <th></th>\n",
       "      <th>profit_excess</th>\n",
       "      <th>market_excess</th>\n",
       "    </tr>\n",
       "  </thead>\n",
       "  <tbody>\n",
       "    <tr>\n",
       "      <th>profit_excess</th>\n",
       "      <td>1.000000</td>\n",
       "      <td>0.023205</td>\n",
       "    </tr>\n",
       "    <tr>\n",
       "      <th>market_excess</th>\n",
       "      <td>0.023205</td>\n",
       "      <td>1.000000</td>\n",
       "    </tr>\n",
       "  </tbody>\n",
       "</table>\n",
       "</div>"
      ],
      "text/plain": [
       "               profit_excess  market_excess\n",
       "profit_excess       1.000000       0.023205\n",
       "market_excess       0.023205       1.000000"
      ]
     },
     "execution_count": 243,
     "metadata": {},
     "output_type": "execute_result"
    }
   ],
   "source": [
    "df3.corr()"
   ]
  },
  {
   "cell_type": "markdown",
   "id": "b1918d9c",
   "metadata": {},
   "source": [
    "## 15. Up Alpha and Up Beta"
   ]
  },
  {
   "cell_type": "markdown",
   "id": "46cfb55e",
   "metadata": {},
   "source": [
    "### for Snehil: \n",
    "In the context of the HFRI index, \"up alpha\" generally refers to a hedge fund's ability to generate positive returns above and beyond the market return or benchmark index. It indicates that the hedge fund has outperformed its expected returns, based on its level of risk, and has added value to its investors' portfolios.\n",
    "\n",
    "Alpha is a measure of a hedge fund's risk-adjusted performance, and it is calculated by subtracting the fund's expected return based on its level of risk (as measured by beta) from its actual return. A positive alpha indicates that the hedge fund has outperformed its expected return, while a negative alpha indicates that it has underperformed.\n",
    "\n",
    "So when the HFRI index reports \"up alpha,\" it means that the hedge funds in the index have, on average, generated positive returns that exceed their expected returns based on their level of risk, and have therefore added value to their investors' portfolios."
   ]
  },
  {
   "cell_type": "code",
   "execution_count": 244,
   "id": "26da12fd",
   "metadata": {},
   "outputs": [],
   "source": [
    "up = df3[df3[\"profit_excess\"] > 0]"
   ]
  },
  {
   "cell_type": "code",
   "execution_count": 246,
   "id": "1d78183e",
   "metadata": {},
   "outputs": [
    {
     "data": {
      "text/html": [
       "<table class=\"simpletable\">\n",
       "<caption>OLS Regression Results</caption>\n",
       "<tr>\n",
       "  <th>Dep. Variable:</th>      <td>profit_excess</td>  <th>  R-squared:         </th> <td>   0.004</td>\n",
       "</tr>\n",
       "<tr>\n",
       "  <th>Model:</th>                   <td>OLS</td>       <th>  Adj. R-squared:    </th> <td>  -0.039</td>\n",
       "</tr>\n",
       "<tr>\n",
       "  <th>Method:</th>             <td>Least Squares</td>  <th>  F-statistic:       </th> <td> 0.09879</td>\n",
       "</tr>\n",
       "<tr>\n",
       "  <th>Date:</th>             <td>Thu, 23 Mar 2023</td> <th>  Prob (F-statistic):</th>  <td> 0.756</td> \n",
       "</tr>\n",
       "<tr>\n",
       "  <th>Time:</th>                 <td>19:30:13</td>     <th>  Log-Likelihood:    </th> <td>  55.716</td>\n",
       "</tr>\n",
       "<tr>\n",
       "  <th>No. Observations:</th>      <td>    25</td>      <th>  AIC:               </th> <td>  -107.4</td>\n",
       "</tr>\n",
       "<tr>\n",
       "  <th>Df Residuals:</th>          <td>    23</td>      <th>  BIC:               </th> <td>  -105.0</td>\n",
       "</tr>\n",
       "<tr>\n",
       "  <th>Df Model:</th>              <td>     1</td>      <th>                     </th>     <td> </td>   \n",
       "</tr>\n",
       "<tr>\n",
       "  <th>Covariance Type:</th>      <td>nonrobust</td>    <th>                     </th>     <td> </td>   \n",
       "</tr>\n",
       "</table>\n",
       "<table class=\"simpletable\">\n",
       "<tr>\n",
       "        <td></td>           <th>coef</th>     <th>std err</th>      <th>t</th>      <th>P>|t|</th>  <th>[0.025</th>    <th>0.975]</th>  \n",
       "</tr>\n",
       "<tr>\n",
       "  <th>Intercept</th>     <td>    0.0322</td> <td>    0.005</td> <td>    5.933</td> <td> 0.000</td> <td>    0.021</td> <td>    0.043</td>\n",
       "</tr>\n",
       "<tr>\n",
       "  <th>market_excess</th> <td>    0.0461</td> <td>    0.147</td> <td>    0.314</td> <td> 0.756</td> <td>   -0.258</td> <td>    0.350</td>\n",
       "</tr>\n",
       "</table>\n",
       "<table class=\"simpletable\">\n",
       "<tr>\n",
       "  <th>Omnibus:</th>       <td> 4.942</td> <th>  Durbin-Watson:     </th> <td>   2.072</td>\n",
       "</tr>\n",
       "<tr>\n",
       "  <th>Prob(Omnibus):</th> <td> 0.085</td> <th>  Jarque-Bera (JB):  </th> <td>   3.711</td>\n",
       "</tr>\n",
       "<tr>\n",
       "  <th>Skew:</th>          <td> 0.942</td> <th>  Prob(JB):          </th> <td>   0.156</td>\n",
       "</tr>\n",
       "<tr>\n",
       "  <th>Kurtosis:</th>      <td> 3.126</td> <th>  Cond. No.          </th> <td>    27.0</td>\n",
       "</tr>\n",
       "</table><br/><br/>Notes:<br/>[1] Standard Errors assume that the covariance matrix of the errors is correctly specified."
      ],
      "text/plain": [
       "<class 'statsmodels.iolib.summary.Summary'>\n",
       "\"\"\"\n",
       "                            OLS Regression Results                            \n",
       "==============================================================================\n",
       "Dep. Variable:          profit_excess   R-squared:                       0.004\n",
       "Model:                            OLS   Adj. R-squared:                 -0.039\n",
       "Method:                 Least Squares   F-statistic:                   0.09879\n",
       "Date:                Thu, 23 Mar 2023   Prob (F-statistic):              0.756\n",
       "Time:                        19:30:13   Log-Likelihood:                 55.716\n",
       "No. Observations:                  25   AIC:                            -107.4\n",
       "Df Residuals:                      23   BIC:                            -105.0\n",
       "Df Model:                           1                                         \n",
       "Covariance Type:            nonrobust                                         \n",
       "=================================================================================\n",
       "                    coef    std err          t      P>|t|      [0.025      0.975]\n",
       "---------------------------------------------------------------------------------\n",
       "Intercept         0.0322      0.005      5.933      0.000       0.021       0.043\n",
       "market_excess     0.0461      0.147      0.314      0.756      -0.258       0.350\n",
       "==============================================================================\n",
       "Omnibus:                        4.942   Durbin-Watson:                   2.072\n",
       "Prob(Omnibus):                  0.085   Jarque-Bera (JB):                3.711\n",
       "Skew:                           0.942   Prob(JB):                        0.156\n",
       "Kurtosis:                       3.126   Cond. No.                         27.0\n",
       "==============================================================================\n",
       "\n",
       "Notes:\n",
       "[1] Standard Errors assume that the covariance matrix of the errors is correctly specified.\n",
       "\"\"\""
      ]
     },
     "execution_count": 246,
     "metadata": {},
     "output_type": "execute_result"
    }
   ],
   "source": [
    "ols = smf.ols(formula = 'profit_excess ~ market_excess', data = up).fit()\n",
    "ols.summary()"
   ]
  },
  {
   "cell_type": "markdown",
   "id": "4cbef351",
   "metadata": {},
   "source": [
    "--interprettttt"
   ]
  },
  {
   "cell_type": "markdown",
   "id": "46694ec7",
   "metadata": {},
   "source": [
    "## 16. Up R Squared"
   ]
  },
  {
   "cell_type": "markdown",
   "id": "3adf8f20",
   "metadata": {},
   "source": [
    "0.004"
   ]
  },
  {
   "cell_type": "markdown",
   "id": "80a1372e",
   "metadata": {},
   "source": [
    "## 17. Down Alpha and Down Beta"
   ]
  },
  {
   "cell_type": "code",
   "execution_count": 247,
   "id": "85a8dd70",
   "metadata": {},
   "outputs": [],
   "source": [
    "down = df3[df3[\"profit_excess\"] < 0]"
   ]
  },
  {
   "cell_type": "code",
   "execution_count": 248,
   "id": "a56bc721",
   "metadata": {},
   "outputs": [
    {
     "data": {
      "text/html": [
       "<table class=\"simpletable\">\n",
       "<caption>OLS Regression Results</caption>\n",
       "<tr>\n",
       "  <th>Dep. Variable:</th>      <td>profit_excess</td>  <th>  R-squared:         </th> <td>   0.003</td>\n",
       "</tr>\n",
       "<tr>\n",
       "  <th>Model:</th>                   <td>OLS</td>       <th>  Adj. R-squared:    </th> <td>   0.001</td>\n",
       "</tr>\n",
       "<tr>\n",
       "  <th>Method:</th>             <td>Least Squares</td>  <th>  F-statistic:       </th> <td>   1.698</td>\n",
       "</tr>\n",
       "<tr>\n",
       "  <th>Date:</th>             <td>Thu, 23 Mar 2023</td> <th>  Prob (F-statistic):</th>  <td> 0.193</td> \n",
       "</tr>\n",
       "<tr>\n",
       "  <th>Time:</th>                 <td>19:32:03</td>     <th>  Log-Likelihood:    </th> <td>  1841.0</td>\n",
       "</tr>\n",
       "<tr>\n",
       "  <th>No. Observations:</th>      <td>   489</td>      <th>  AIC:               </th> <td>  -3678.</td>\n",
       "</tr>\n",
       "<tr>\n",
       "  <th>Df Residuals:</th>          <td>   487</td>      <th>  BIC:               </th> <td>  -3670.</td>\n",
       "</tr>\n",
       "<tr>\n",
       "  <th>Df Model:</th>              <td>     1</td>      <th>                     </th>     <td> </td>   \n",
       "</tr>\n",
       "<tr>\n",
       "  <th>Covariance Type:</th>      <td>nonrobust</td>    <th>                     </th>     <td> </td>   \n",
       "</tr>\n",
       "</table>\n",
       "<table class=\"simpletable\">\n",
       "<tr>\n",
       "        <td></td>           <th>coef</th>     <th>std err</th>      <th>t</th>      <th>P>|t|</th>  <th>[0.025</th>    <th>0.975]</th>  \n",
       "</tr>\n",
       "<tr>\n",
       "  <th>Intercept</th>     <td>   -0.0045</td> <td>    0.000</td> <td>  -17.853</td> <td> 0.000</td> <td>   -0.005</td> <td>   -0.004</td>\n",
       "</tr>\n",
       "<tr>\n",
       "  <th>market_excess</th> <td>    0.0072</td> <td>    0.006</td> <td>    1.303</td> <td> 0.193</td> <td>   -0.004</td> <td>    0.018</td>\n",
       "</tr>\n",
       "</table>\n",
       "<table class=\"simpletable\">\n",
       "<tr>\n",
       "  <th>Omnibus:</th>       <td>459.122</td> <th>  Durbin-Watson:     </th> <td>   1.632</td> \n",
       "</tr>\n",
       "<tr>\n",
       "  <th>Prob(Omnibus):</th> <td> 0.000</td>  <th>  Jarque-Bera (JB):  </th> <td>14627.325</td>\n",
       "</tr>\n",
       "<tr>\n",
       "  <th>Skew:</th>          <td>-4.105</td>  <th>  Prob(JB):          </th> <td>    0.00</td> \n",
       "</tr>\n",
       "<tr>\n",
       "  <th>Kurtosis:</th>      <td>28.505</td>  <th>  Cond. No.          </th> <td>    21.8</td> \n",
       "</tr>\n",
       "</table><br/><br/>Notes:<br/>[1] Standard Errors assume that the covariance matrix of the errors is correctly specified."
      ],
      "text/plain": [
       "<class 'statsmodels.iolib.summary.Summary'>\n",
       "\"\"\"\n",
       "                            OLS Regression Results                            \n",
       "==============================================================================\n",
       "Dep. Variable:          profit_excess   R-squared:                       0.003\n",
       "Model:                            OLS   Adj. R-squared:                  0.001\n",
       "Method:                 Least Squares   F-statistic:                     1.698\n",
       "Date:                Thu, 23 Mar 2023   Prob (F-statistic):              0.193\n",
       "Time:                        19:32:03   Log-Likelihood:                 1841.0\n",
       "No. Observations:                 489   AIC:                            -3678.\n",
       "Df Residuals:                     487   BIC:                            -3670.\n",
       "Df Model:                           1                                         \n",
       "Covariance Type:            nonrobust                                         \n",
       "=================================================================================\n",
       "                    coef    std err          t      P>|t|      [0.025      0.975]\n",
       "---------------------------------------------------------------------------------\n",
       "Intercept        -0.0045      0.000    -17.853      0.000      -0.005      -0.004\n",
       "market_excess     0.0072      0.006      1.303      0.193      -0.004       0.018\n",
       "==============================================================================\n",
       "Omnibus:                      459.122   Durbin-Watson:                   1.632\n",
       "Prob(Omnibus):                  0.000   Jarque-Bera (JB):            14627.325\n",
       "Skew:                          -4.105   Prob(JB):                         0.00\n",
       "Kurtosis:                      28.505   Cond. No.                         21.8\n",
       "==============================================================================\n",
       "\n",
       "Notes:\n",
       "[1] Standard Errors assume that the covariance matrix of the errors is correctly specified.\n",
       "\"\"\""
      ]
     },
     "execution_count": 248,
     "metadata": {},
     "output_type": "execute_result"
    }
   ],
   "source": [
    "ols = smf.ols(formula = 'profit_excess ~ market_excess', data = down).fit()\n",
    "ols.summary()"
   ]
  },
  {
   "cell_type": "markdown",
   "id": "d0271351",
   "metadata": {},
   "source": [
    "## 18. Down R Squared"
   ]
  },
  {
   "cell_type": "markdown",
   "id": "30ac3a6b",
   "metadata": {},
   "source": [
    "= 0.003"
   ]
  },
  {
   "cell_type": "code",
   "execution_count": null,
   "id": "89bff36e",
   "metadata": {},
   "outputs": [],
   "source": []
  }
 ],
 "metadata": {
  "kernelspec": {
   "display_name": "Python 3 (ipykernel)",
   "language": "python",
   "name": "python3"
  },
  "language_info": {
   "codemirror_mode": {
    "name": "ipython",
    "version": 3
   },
   "file_extension": ".py",
   "mimetype": "text/x-python",
   "name": "python",
   "nbconvert_exporter": "python",
   "pygments_lexer": "ipython3",
   "version": "3.9.12"
  }
 },
 "nbformat": 4,
 "nbformat_minor": 5
}
